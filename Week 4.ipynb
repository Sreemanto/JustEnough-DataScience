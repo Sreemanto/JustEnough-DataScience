{
 "cells": [
  {
   "cell_type": "code",
   "execution_count": null,
   "metadata": {},
   "outputs": [],
   "source": [
    "https://raw.githubusercontent.com/justmarkham/pycon-2018-tutorial/master/police.csv"
   ]
  },
  {
   "cell_type": "code",
   "execution_count": 1,
   "metadata": {},
   "outputs": [],
   "source": [
    "import pandas as pd"
   ]
  },
  {
   "cell_type": "code",
   "execution_count": 8,
   "metadata": {},
   "outputs": [
    {
     "data": {
      "text/html": [
       "<div>\n",
       "<style scoped>\n",
       "    .dataframe tbody tr th:only-of-type {\n",
       "        vertical-align: middle;\n",
       "    }\n",
       "\n",
       "    .dataframe tbody tr th {\n",
       "        vertical-align: top;\n",
       "    }\n",
       "\n",
       "    .dataframe thead th {\n",
       "        text-align: right;\n",
       "    }\n",
       "</style>\n",
       "<table border=\"1\" class=\"dataframe\">\n",
       "  <thead>\n",
       "    <tr style=\"text-align: right;\">\n",
       "      <th></th>\n",
       "      <th>User Name</th>\n",
       "      <th>First Name</th>\n",
       "      <th>Last Name</th>\n",
       "      <th>User Lock Status</th>\n",
       "      <th>F-90</th>\n",
       "      <th>F-91</th>\n",
       "      <th>M-01</th>\n",
       "    </tr>\n",
       "  </thead>\n",
       "  <tbody>\n",
       "    <tr>\n",
       "      <th>0</th>\n",
       "      <td>RUREN</td>\n",
       "      <td>Ren</td>\n",
       "      <td>Ruoxin</td>\n",
       "      <td>0</td>\n",
       "      <td>3</td>\n",
       "      <td>1</td>\n",
       "      <td>1</td>\n",
       "    </tr>\n",
       "  </tbody>\n",
       "</table>\n",
       "</div>"
      ],
      "text/plain": [
       "  User Name First Name Last Name  User Lock Status  F-90  F-91  M-01\n",
       "0     RUREN        Ren    Ruoxin                 0     3     1     1"
      ]
     },
     "execution_count": 8,
     "metadata": {},
     "output_type": "execute_result"
    }
   ],
   "source": [
    "df = pd.read_excel('C:/Users/skesh/Downloads/sample_file.xlsx',sheet_name='Detail_Sheet_F001')\n",
    "df"
   ]
  },
  {
   "cell_type": "code",
   "execution_count": 9,
   "metadata": {},
   "outputs": [
    {
     "data": {
      "text/plain": [
       "Index(['User Name', 'First Name', 'Last Name', 'User Lock Status', 'F-90',\n",
       "       'F-91', 'M-01'],\n",
       "      dtype='object')"
      ]
     },
     "execution_count": 9,
     "metadata": {},
     "output_type": "execute_result"
    }
   ],
   "source": [
    "df.columns"
   ]
  },
  {
   "cell_type": "code",
   "execution_count": 11,
   "metadata": {
    "collapsed": true
   },
   "outputs": [
    {
     "data": {
      "text/html": [
       "<div>\n",
       "<style scoped>\n",
       "    .dataframe tbody tr th:only-of-type {\n",
       "        vertical-align: middle;\n",
       "    }\n",
       "\n",
       "    .dataframe tbody tr th {\n",
       "        vertical-align: top;\n",
       "    }\n",
       "\n",
       "    .dataframe thead th {\n",
       "        text-align: right;\n",
       "    }\n",
       "</style>\n",
       "<table border=\"1\" class=\"dataframe\">\n",
       "  <thead>\n",
       "    <tr style=\"text-align: right;\">\n",
       "      <th></th>\n",
       "      <th></th>\n",
       "      <th></th>\n",
       "      <th></th>\n",
       "      <th>F-90</th>\n",
       "      <th>F-91</th>\n",
       "      <th>M-01</th>\n",
       "    </tr>\n",
       "    <tr>\n",
       "      <th>User Name</th>\n",
       "      <th>First Name</th>\n",
       "      <th>Last Name</th>\n",
       "      <th>User Lock Status</th>\n",
       "      <th></th>\n",
       "      <th></th>\n",
       "      <th></th>\n",
       "    </tr>\n",
       "  </thead>\n",
       "  <tbody>\n",
       "    <tr>\n",
       "      <th>RUREN</th>\n",
       "      <th>Ren</th>\n",
       "      <th>Ruoxin</th>\n",
       "      <th>0</th>\n",
       "      <td>3</td>\n",
       "      <td>1</td>\n",
       "      <td>1</td>\n",
       "    </tr>\n",
       "  </tbody>\n",
       "</table>\n",
       "</div>"
      ],
      "text/plain": [
       "                                                 F-90  F-91  M-01\n",
       "User Name First Name Last Name User Lock Status                  \n",
       "RUREN     Ren        Ruoxin    0                    3     1     1"
      ]
     },
     "execution_count": 11,
     "metadata": {},
     "output_type": "execute_result"
    }
   ],
   "source": [
    "df = df.set_index(['User Name', 'First Name', 'Last Name', 'User Lock Status'])\n",
    "df"
   ]
  },
  {
   "cell_type": "code",
   "execution_count": 12,
   "metadata": {
    "collapsed": true
   },
   "outputs": [
    {
     "data": {
      "text/plain": [
       "User Name  First Name  Last Name  User Lock Status      \n",
       "RUREN      Ren         Ruoxin     0                 F-90    3\n",
       "                                                    F-91    1\n",
       "                                                    M-01    1\n",
       "dtype: int64"
      ]
     },
     "execution_count": 12,
     "metadata": {},
     "output_type": "execute_result"
    }
   ],
   "source": [
    "df.stack()"
   ]
  },
  {
   "cell_type": "code",
   "execution_count": 13,
   "metadata": {
    "collapsed": true
   },
   "outputs": [
    {
     "data": {
      "text/html": [
       "<div>\n",
       "<style scoped>\n",
       "    .dataframe tbody tr th:only-of-type {\n",
       "        vertical-align: middle;\n",
       "    }\n",
       "\n",
       "    .dataframe tbody tr th {\n",
       "        vertical-align: top;\n",
       "    }\n",
       "\n",
       "    .dataframe thead th {\n",
       "        text-align: right;\n",
       "    }\n",
       "</style>\n",
       "<table border=\"1\" class=\"dataframe\">\n",
       "  <thead>\n",
       "    <tr style=\"text-align: right;\">\n",
       "      <th></th>\n",
       "      <th>User Name</th>\n",
       "      <th>First Name</th>\n",
       "      <th>Last Name</th>\n",
       "      <th>User Lock Status</th>\n",
       "      <th>level_4</th>\n",
       "      <th>0</th>\n",
       "    </tr>\n",
       "  </thead>\n",
       "  <tbody>\n",
       "    <tr>\n",
       "      <th>0</th>\n",
       "      <td>RUREN</td>\n",
       "      <td>Ren</td>\n",
       "      <td>Ruoxin</td>\n",
       "      <td>0</td>\n",
       "      <td>F-90</td>\n",
       "      <td>3</td>\n",
       "    </tr>\n",
       "    <tr>\n",
       "      <th>1</th>\n",
       "      <td>RUREN</td>\n",
       "      <td>Ren</td>\n",
       "      <td>Ruoxin</td>\n",
       "      <td>0</td>\n",
       "      <td>F-91</td>\n",
       "      <td>1</td>\n",
       "    </tr>\n",
       "    <tr>\n",
       "      <th>2</th>\n",
       "      <td>RUREN</td>\n",
       "      <td>Ren</td>\n",
       "      <td>Ruoxin</td>\n",
       "      <td>0</td>\n",
       "      <td>M-01</td>\n",
       "      <td>1</td>\n",
       "    </tr>\n",
       "  </tbody>\n",
       "</table>\n",
       "</div>"
      ],
      "text/plain": [
       "  User Name First Name Last Name  User Lock Status level_4  0\n",
       "0     RUREN        Ren    Ruoxin                 0    F-90  3\n",
       "1     RUREN        Ren    Ruoxin                 0    F-91  1\n",
       "2     RUREN        Ren    Ruoxin                 0    M-01  1"
      ]
     },
     "execution_count": 13,
     "metadata": {},
     "output_type": "execute_result"
    }
   ],
   "source": [
    "df.stack().reset_index()"
   ]
  },
  {
   "cell_type": "code",
   "execution_count": 14,
   "metadata": {
    "collapsed": true
   },
   "outputs": [
    {
     "data": {
      "text/html": [
       "<div>\n",
       "<style scoped>\n",
       "    .dataframe tbody tr th:only-of-type {\n",
       "        vertical-align: middle;\n",
       "    }\n",
       "\n",
       "    .dataframe tbody tr th {\n",
       "        vertical-align: top;\n",
       "    }\n",
       "\n",
       "    .dataframe thead th {\n",
       "        text-align: right;\n",
       "    }\n",
       "</style>\n",
       "<table border=\"1\" class=\"dataframe\">\n",
       "  <thead>\n",
       "    <tr style=\"text-align: right;\">\n",
       "      <th></th>\n",
       "      <th>User Name</th>\n",
       "      <th>First Name</th>\n",
       "      <th>Last Name</th>\n",
       "      <th>User Lock Status</th>\n",
       "      <th>Category</th>\n",
       "      <th>Score</th>\n",
       "    </tr>\n",
       "  </thead>\n",
       "  <tbody>\n",
       "    <tr>\n",
       "      <th>0</th>\n",
       "      <td>RUREN</td>\n",
       "      <td>Ren</td>\n",
       "      <td>Ruoxin</td>\n",
       "      <td>0</td>\n",
       "      <td>F-90</td>\n",
       "      <td>3</td>\n",
       "    </tr>\n",
       "    <tr>\n",
       "      <th>1</th>\n",
       "      <td>RUREN</td>\n",
       "      <td>Ren</td>\n",
       "      <td>Ruoxin</td>\n",
       "      <td>0</td>\n",
       "      <td>F-91</td>\n",
       "      <td>1</td>\n",
       "    </tr>\n",
       "    <tr>\n",
       "      <th>2</th>\n",
       "      <td>RUREN</td>\n",
       "      <td>Ren</td>\n",
       "      <td>Ruoxin</td>\n",
       "      <td>0</td>\n",
       "      <td>M-01</td>\n",
       "      <td>1</td>\n",
       "    </tr>\n",
       "  </tbody>\n",
       "</table>\n",
       "</div>"
      ],
      "text/plain": [
       "  User Name First Name Last Name  User Lock Status Category  Score\n",
       "0     RUREN        Ren    Ruoxin                 0     F-90      3\n",
       "1     RUREN        Ren    Ruoxin                 0     F-91      1\n",
       "2     RUREN        Ren    Ruoxin                 0     M-01      1"
      ]
     },
     "execution_count": 14,
     "metadata": {},
     "output_type": "execute_result"
    }
   ],
   "source": [
    "df.stack().reset_index().rename(columns = {'level_4':'Category',0:'Score'})"
   ]
  },
  {
   "cell_type": "code",
   "execution_count": 15,
   "metadata": {},
   "outputs": [
    {
     "data": {
      "text/html": [
       "<div>\n",
       "<style scoped>\n",
       "    .dataframe tbody tr th:only-of-type {\n",
       "        vertical-align: middle;\n",
       "    }\n",
       "\n",
       "    .dataframe tbody tr th {\n",
       "        vertical-align: top;\n",
       "    }\n",
       "\n",
       "    .dataframe thead th {\n",
       "        text-align: right;\n",
       "    }\n",
       "</style>\n",
       "<table border=\"1\" class=\"dataframe\">\n",
       "  <thead>\n",
       "    <tr style=\"text-align: right;\">\n",
       "      <th></th>\n",
       "      <th>User Name</th>\n",
       "      <th>First Name</th>\n",
       "      <th>Last Name</th>\n",
       "      <th>User Lock Status</th>\n",
       "      <th>Category</th>\n",
       "      <th>Score</th>\n",
       "    </tr>\n",
       "  </thead>\n",
       "  <tbody>\n",
       "    <tr>\n",
       "      <th>0</th>\n",
       "      <td>RUREN</td>\n",
       "      <td>Ren</td>\n",
       "      <td>Ruoxin</td>\n",
       "      <td>0</td>\n",
       "      <td>F-90</td>\n",
       "      <td>3</td>\n",
       "    </tr>\n",
       "    <tr>\n",
       "      <th>1</th>\n",
       "      <td>RUREN</td>\n",
       "      <td>Ren</td>\n",
       "      <td>Ruoxin</td>\n",
       "      <td>0</td>\n",
       "      <td>F-91</td>\n",
       "      <td>1</td>\n",
       "    </tr>\n",
       "    <tr>\n",
       "      <th>2</th>\n",
       "      <td>RUREN</td>\n",
       "      <td>Ren</td>\n",
       "      <td>Ruoxin</td>\n",
       "      <td>0</td>\n",
       "      <td>M-01</td>\n",
       "      <td>1</td>\n",
       "    </tr>\n",
       "  </tbody>\n",
       "</table>\n",
       "</div>"
      ],
      "text/plain": [
       "  User Name First Name Last Name  User Lock Status Category  Score\n",
       "0     RUREN        Ren    Ruoxin                 0     F-90      3\n",
       "1     RUREN        Ren    Ruoxin                 0     F-91      1\n",
       "2     RUREN        Ren    Ruoxin                 0     M-01      1"
      ]
     },
     "execution_count": 15,
     "metadata": {},
     "output_type": "execute_result"
    }
   ],
   "source": [
    "df = pd.read_excel('C:/Users/skesh/Downloads/sample_file.xlsx',sheet_name='Detail_Sheet_F001')\n",
    "\n",
    "df.set_index(['User Name',\n",
    "              'First Name',\n",
    "              'Last Name',\n",
    "              'User Lock Status']).stack().reset_index().rename(columns = {'level_4':'Category',0:'Score'})"
   ]
  },
  {
   "cell_type": "code",
   "execution_count": null,
   "metadata": {},
   "outputs": [],
   "source": [
    "Either call the sheets by sheetname or by their index value"
   ]
  },
  {
   "cell_type": "code",
   "execution_count": 19,
   "metadata": {
    "collapsed": true
   },
   "outputs": [
    {
     "data": {
      "text/html": [
       "<div>\n",
       "<style scoped>\n",
       "    .dataframe tbody tr th:only-of-type {\n",
       "        vertical-align: middle;\n",
       "    }\n",
       "\n",
       "    .dataframe tbody tr th {\n",
       "        vertical-align: top;\n",
       "    }\n",
       "\n",
       "    .dataframe thead th {\n",
       "        text-align: right;\n",
       "    }\n",
       "</style>\n",
       "<table border=\"1\" class=\"dataframe\">\n",
       "  <thead>\n",
       "    <tr style=\"text-align: right;\">\n",
       "      <th></th>\n",
       "      <th>User Name</th>\n",
       "      <th>First Name</th>\n",
       "      <th>Last Name</th>\n",
       "      <th>User Lock Status</th>\n",
       "      <th>Category</th>\n",
       "      <th>Score</th>\n",
       "    </tr>\n",
       "  </thead>\n",
       "  <tbody>\n",
       "    <tr>\n",
       "      <th>0</th>\n",
       "      <td>RUREN</td>\n",
       "      <td>Ren</td>\n",
       "      <td>Ruoxin</td>\n",
       "      <td>0</td>\n",
       "      <td>F-90</td>\n",
       "      <td>3.0</td>\n",
       "    </tr>\n",
       "    <tr>\n",
       "      <th>1</th>\n",
       "      <td>RUREN</td>\n",
       "      <td>Ren</td>\n",
       "      <td>Ruoxin</td>\n",
       "      <td>0</td>\n",
       "      <td>F-91</td>\n",
       "      <td>1.0</td>\n",
       "    </tr>\n",
       "    <tr>\n",
       "      <th>2</th>\n",
       "      <td>RUREN</td>\n",
       "      <td>Ren</td>\n",
       "      <td>Ruoxin</td>\n",
       "      <td>0</td>\n",
       "      <td>M-01</td>\n",
       "      <td>1.0</td>\n",
       "    </tr>\n",
       "    <tr>\n",
       "      <th>0</th>\n",
       "      <td>RUREN</td>\n",
       "      <td>Ren</td>\n",
       "      <td>Ruoxin</td>\n",
       "      <td>0</td>\n",
       "      <td>F-90</td>\n",
       "      <td>3.0</td>\n",
       "    </tr>\n",
       "    <tr>\n",
       "      <th>1</th>\n",
       "      <td>RUREN</td>\n",
       "      <td>Ren</td>\n",
       "      <td>Ruoxin</td>\n",
       "      <td>0</td>\n",
       "      <td>F-91</td>\n",
       "      <td>1.0</td>\n",
       "    </tr>\n",
       "    <tr>\n",
       "      <th>...</th>\n",
       "      <td>...</td>\n",
       "      <td>...</td>\n",
       "      <td>...</td>\n",
       "      <td>...</td>\n",
       "      <td>...</td>\n",
       "      <td>...</td>\n",
       "    </tr>\n",
       "    <tr>\n",
       "      <th>12</th>\n",
       "      <td>MANJULAREDDY</td>\n",
       "      <td>Manjula</td>\n",
       "      <td>Neeloor Laxmana Reddy</td>\n",
       "      <td>0</td>\n",
       "      <td>F110S.1</td>\n",
       "      <td>1.0</td>\n",
       "    </tr>\n",
       "    <tr>\n",
       "      <th>13</th>\n",
       "      <td>MANJULAREDDY</td>\n",
       "      <td>Manjula</td>\n",
       "      <td>Neeloor Laxmana Reddy</td>\n",
       "      <td>0</td>\n",
       "      <td>F110</td>\n",
       "      <td>21.0</td>\n",
       "    </tr>\n",
       "    <tr>\n",
       "      <th>14</th>\n",
       "      <td>MCHOKSI</td>\n",
       "      <td>Munish</td>\n",
       "      <td>Choksi</td>\n",
       "      <td>0</td>\n",
       "      <td>F-02</td>\n",
       "      <td>1.0</td>\n",
       "    </tr>\n",
       "    <tr>\n",
       "      <th>15</th>\n",
       "      <td>MCHOKSI</td>\n",
       "      <td>Munish</td>\n",
       "      <td>Choksi</td>\n",
       "      <td>0</td>\n",
       "      <td>FB01</td>\n",
       "      <td>1.0</td>\n",
       "    </tr>\n",
       "    <tr>\n",
       "      <th>16</th>\n",
       "      <td>MCHOKSI</td>\n",
       "      <td>Munish</td>\n",
       "      <td>Choksi</td>\n",
       "      <td>0</td>\n",
       "      <td>F110</td>\n",
       "      <td>1.0</td>\n",
       "    </tr>\n",
       "  </tbody>\n",
       "</table>\n",
       "<p>155 rows × 6 columns</p>\n",
       "</div>"
      ],
      "text/plain": [
       "       User Name First Name              Last Name  User Lock Status Category  \\\n",
       "0          RUREN        Ren                 Ruoxin                 0     F-90   \n",
       "1          RUREN        Ren                 Ruoxin                 0     F-91   \n",
       "2          RUREN        Ren                 Ruoxin                 0     M-01   \n",
       "0          RUREN        Ren                 Ruoxin                 0     F-90   \n",
       "1          RUREN        Ren                 Ruoxin                 0     F-91   \n",
       "..           ...        ...                    ...               ...      ...   \n",
       "12  MANJULAREDDY    Manjula  Neeloor Laxmana Reddy                 0  F110S.1   \n",
       "13  MANJULAREDDY    Manjula  Neeloor Laxmana Reddy                 0     F110   \n",
       "14       MCHOKSI     Munish                 Choksi                 0     F-02   \n",
       "15       MCHOKSI     Munish                 Choksi                 0     FB01   \n",
       "16       MCHOKSI     Munish                 Choksi                 0     F110   \n",
       "\n",
       "    Score  \n",
       "0     3.0  \n",
       "1     1.0  \n",
       "2     1.0  \n",
       "0     3.0  \n",
       "1     1.0  \n",
       "..    ...  \n",
       "12    1.0  \n",
       "13   21.0  \n",
       "14    1.0  \n",
       "15    1.0  \n",
       "16    1.0  \n",
       "\n",
       "[155 rows x 6 columns]"
      ]
     },
     "execution_count": 19,
     "metadata": {},
     "output_type": "execute_result"
    }
   ],
   "source": [
    "df = pd.DataFrame()\n",
    "for i in range(0,11):\n",
    "    df1 = pd.read_excel('C:/Users/skesh/Downloads/sample_file.xlsx',sheet_name=i)\n",
    "    \n",
    "    \n",
    "    df1 = df1.set_index(['User Name',\n",
    "              'First Name',\n",
    "              'Last Name',\n",
    "              'User Lock Status']).stack().reset_index().rename(columns = {'level_4':'Category',0:'Score'})\n",
    "    \n",
    "    df = pd.concat([df,df1])\n",
    "df"
   ]
  },
  {
   "cell_type": "code",
   "execution_count": 21,
   "metadata": {},
   "outputs": [
    {
     "data": {
      "text/html": [
       "<div>\n",
       "<style scoped>\n",
       "    .dataframe tbody tr th:only-of-type {\n",
       "        vertical-align: middle;\n",
       "    }\n",
       "\n",
       "    .dataframe tbody tr th {\n",
       "        vertical-align: top;\n",
       "    }\n",
       "\n",
       "    .dataframe thead th {\n",
       "        text-align: right;\n",
       "    }\n",
       "</style>\n",
       "<table border=\"1\" class=\"dataframe\">\n",
       "  <thead>\n",
       "    <tr style=\"text-align: right;\">\n",
       "      <th></th>\n",
       "      <th>Name</th>\n",
       "      <th>Score</th>\n",
       "      <th>Subject</th>\n",
       "    </tr>\n",
       "  </thead>\n",
       "  <tbody>\n",
       "    <tr>\n",
       "      <th>0</th>\n",
       "      <td>Ali</td>\n",
       "      <td>56</td>\n",
       "      <td>Phy</td>\n",
       "    </tr>\n",
       "    <tr>\n",
       "      <th>1</th>\n",
       "      <td>Mohd</td>\n",
       "      <td>81</td>\n",
       "      <td>Chem</td>\n",
       "    </tr>\n",
       "    <tr>\n",
       "      <th>2</th>\n",
       "      <td>Kunal</td>\n",
       "      <td>62</td>\n",
       "      <td>Phy</td>\n",
       "    </tr>\n",
       "    <tr>\n",
       "      <th>3</th>\n",
       "      <td>Tej</td>\n",
       "      <td>51</td>\n",
       "      <td>Chem</td>\n",
       "    </tr>\n",
       "  </tbody>\n",
       "</table>\n",
       "</div>"
      ],
      "text/plain": [
       "    Name  Score Subject\n",
       "0    Ali     56     Phy\n",
       "1   Mohd     81    Chem\n",
       "2  Kunal     62     Phy\n",
       "3    Tej     51    Chem"
      ]
     },
     "execution_count": 21,
     "metadata": {},
     "output_type": "execute_result"
    }
   ],
   "source": [
    "df = pd.read_excel('C:/Users/skesh/Desktop/Interview Questions Data Engineer.xlsx',sheet_name=0)\n",
    "df"
   ]
  },
  {
   "cell_type": "markdown",
   "metadata": {},
   "source": [
    "#### Q1. fetch the name and score of top scorer of each subject"
   ]
  },
  {
   "cell_type": "code",
   "execution_count": 22,
   "metadata": {},
   "outputs": [],
   "source": [
    "grps = df.groupby('Subject')"
   ]
  },
  {
   "cell_type": "code",
   "execution_count": 23,
   "metadata": {},
   "outputs": [
    {
     "data": {
      "text/plain": [
       "2"
      ]
     },
     "execution_count": 23,
     "metadata": {},
     "output_type": "execute_result"
    }
   ],
   "source": [
    "grps.ngroups"
   ]
  },
  {
   "cell_type": "code",
   "execution_count": 26,
   "metadata": {
    "collapsed": true
   },
   "outputs": [
    {
     "name": "stdout",
     "output_type": "stream",
     "text": [
      "   Name  Score Subject\n",
      "1  Mohd     81    Chem\n",
      "    Name  Score Subject\n",
      "2  Kunal     62     Phy\n"
     ]
    }
   ],
   "source": [
    "for name,group in grps:\n",
    "    #print(name,'\\n',group)\n",
    "    print(group[group['Score']==group['Score'].max()])"
   ]
  },
  {
   "cell_type": "code",
   "execution_count": 30,
   "metadata": {
    "collapsed": true
   },
   "outputs": [
    {
     "name": "stdout",
     "output_type": "stream",
     "text": [
      "   Name  Score Subject\n",
      "0  Mohd     81    Chem\n",
      "1   Tej     51    Chem\n",
      "    Name  Score Subject\n",
      "0  Kunal     62     Phy\n",
      "1    Ali     56     Phy\n"
     ]
    }
   ],
   "source": [
    "for name,group in grps:\n",
    "    #print(name,'\\n',group)\n",
    "    print(group.sort_values(by='Score',ascending=False).reset_index(drop=True))"
   ]
  },
  {
   "cell_type": "code",
   "execution_count": null,
   "metadata": {},
   "outputs": [],
   "source": [
    "df = pd.read_csv('https://raw.githubusercontent.com/justmarkham/pycon-2018-tutorial/master/police.csv')\n",
    "df"
   ]
  },
  {
   "cell_type": "code",
   "execution_count": 33,
   "metadata": {
    "collapsed": true
   },
   "outputs": [
    {
     "data": {
      "text/html": [
       "<div>\n",
       "<style scoped>\n",
       "    .dataframe tbody tr th:only-of-type {\n",
       "        vertical-align: middle;\n",
       "    }\n",
       "\n",
       "    .dataframe tbody tr th {\n",
       "        vertical-align: top;\n",
       "    }\n",
       "\n",
       "    .dataframe thead th {\n",
       "        text-align: right;\n",
       "    }\n",
       "</style>\n",
       "<table border=\"1\" class=\"dataframe\">\n",
       "  <thead>\n",
       "    <tr style=\"text-align: right;\">\n",
       "      <th></th>\n",
       "      <th>stop_date</th>\n",
       "      <th>stop_time</th>\n",
       "      <th>county_name</th>\n",
       "      <th>driver_gender</th>\n",
       "      <th>driver_age_raw</th>\n",
       "      <th>driver_age</th>\n",
       "      <th>driver_race</th>\n",
       "      <th>violation_raw</th>\n",
       "      <th>violation</th>\n",
       "      <th>search_conducted</th>\n",
       "      <th>search_type</th>\n",
       "      <th>stop_outcome</th>\n",
       "      <th>is_arrested</th>\n",
       "      <th>stop_duration</th>\n",
       "      <th>drugs_related_stop</th>\n",
       "    </tr>\n",
       "  </thead>\n",
       "  <tbody>\n",
       "    <tr>\n",
       "      <th>0</th>\n",
       "      <td>2005-01-02</td>\n",
       "      <td>01:55</td>\n",
       "      <td>NaN</td>\n",
       "      <td>M</td>\n",
       "      <td>1985.0</td>\n",
       "      <td>20.0</td>\n",
       "      <td>White</td>\n",
       "      <td>Speeding</td>\n",
       "      <td>Speeding</td>\n",
       "      <td>False</td>\n",
       "      <td>NaN</td>\n",
       "      <td>Citation</td>\n",
       "      <td>False</td>\n",
       "      <td>0-15 Min</td>\n",
       "      <td>False</td>\n",
       "    </tr>\n",
       "    <tr>\n",
       "      <th>1</th>\n",
       "      <td>2005-01-18</td>\n",
       "      <td>08:15</td>\n",
       "      <td>NaN</td>\n",
       "      <td>M</td>\n",
       "      <td>1965.0</td>\n",
       "      <td>40.0</td>\n",
       "      <td>White</td>\n",
       "      <td>Speeding</td>\n",
       "      <td>Speeding</td>\n",
       "      <td>False</td>\n",
       "      <td>NaN</td>\n",
       "      <td>Citation</td>\n",
       "      <td>False</td>\n",
       "      <td>0-15 Min</td>\n",
       "      <td>False</td>\n",
       "    </tr>\n",
       "    <tr>\n",
       "      <th>2</th>\n",
       "      <td>2005-01-23</td>\n",
       "      <td>23:15</td>\n",
       "      <td>NaN</td>\n",
       "      <td>M</td>\n",
       "      <td>1972.0</td>\n",
       "      <td>33.0</td>\n",
       "      <td>White</td>\n",
       "      <td>Speeding</td>\n",
       "      <td>Speeding</td>\n",
       "      <td>False</td>\n",
       "      <td>NaN</td>\n",
       "      <td>Citation</td>\n",
       "      <td>False</td>\n",
       "      <td>0-15 Min</td>\n",
       "      <td>False</td>\n",
       "    </tr>\n",
       "    <tr>\n",
       "      <th>3</th>\n",
       "      <td>2005-02-20</td>\n",
       "      <td>17:15</td>\n",
       "      <td>NaN</td>\n",
       "      <td>M</td>\n",
       "      <td>1986.0</td>\n",
       "      <td>19.0</td>\n",
       "      <td>White</td>\n",
       "      <td>Call for Service</td>\n",
       "      <td>Other</td>\n",
       "      <td>False</td>\n",
       "      <td>NaN</td>\n",
       "      <td>Arrest Driver</td>\n",
       "      <td>True</td>\n",
       "      <td>16-30 Min</td>\n",
       "      <td>False</td>\n",
       "    </tr>\n",
       "    <tr>\n",
       "      <th>4</th>\n",
       "      <td>2005-03-14</td>\n",
       "      <td>10:00</td>\n",
       "      <td>NaN</td>\n",
       "      <td>F</td>\n",
       "      <td>1984.0</td>\n",
       "      <td>21.0</td>\n",
       "      <td>White</td>\n",
       "      <td>Speeding</td>\n",
       "      <td>Speeding</td>\n",
       "      <td>False</td>\n",
       "      <td>NaN</td>\n",
       "      <td>Citation</td>\n",
       "      <td>False</td>\n",
       "      <td>0-15 Min</td>\n",
       "      <td>False</td>\n",
       "    </tr>\n",
       "    <tr>\n",
       "      <th>...</th>\n",
       "      <td>...</td>\n",
       "      <td>...</td>\n",
       "      <td>...</td>\n",
       "      <td>...</td>\n",
       "      <td>...</td>\n",
       "      <td>...</td>\n",
       "      <td>...</td>\n",
       "      <td>...</td>\n",
       "      <td>...</td>\n",
       "      <td>...</td>\n",
       "      <td>...</td>\n",
       "      <td>...</td>\n",
       "      <td>...</td>\n",
       "      <td>...</td>\n",
       "      <td>...</td>\n",
       "    </tr>\n",
       "    <tr>\n",
       "      <th>91736</th>\n",
       "      <td>2015-12-31</td>\n",
       "      <td>20:27</td>\n",
       "      <td>NaN</td>\n",
       "      <td>M</td>\n",
       "      <td>1986.0</td>\n",
       "      <td>29.0</td>\n",
       "      <td>White</td>\n",
       "      <td>Speeding</td>\n",
       "      <td>Speeding</td>\n",
       "      <td>False</td>\n",
       "      <td>NaN</td>\n",
       "      <td>Warning</td>\n",
       "      <td>False</td>\n",
       "      <td>0-15 Min</td>\n",
       "      <td>False</td>\n",
       "    </tr>\n",
       "    <tr>\n",
       "      <th>91737</th>\n",
       "      <td>2015-12-31</td>\n",
       "      <td>20:35</td>\n",
       "      <td>NaN</td>\n",
       "      <td>F</td>\n",
       "      <td>1982.0</td>\n",
       "      <td>33.0</td>\n",
       "      <td>White</td>\n",
       "      <td>Equipment/Inspection Violation</td>\n",
       "      <td>Equipment</td>\n",
       "      <td>False</td>\n",
       "      <td>NaN</td>\n",
       "      <td>Warning</td>\n",
       "      <td>False</td>\n",
       "      <td>0-15 Min</td>\n",
       "      <td>False</td>\n",
       "    </tr>\n",
       "    <tr>\n",
       "      <th>91738</th>\n",
       "      <td>2015-12-31</td>\n",
       "      <td>20:45</td>\n",
       "      <td>NaN</td>\n",
       "      <td>M</td>\n",
       "      <td>1992.0</td>\n",
       "      <td>23.0</td>\n",
       "      <td>White</td>\n",
       "      <td>Other Traffic Violation</td>\n",
       "      <td>Moving violation</td>\n",
       "      <td>False</td>\n",
       "      <td>NaN</td>\n",
       "      <td>Warning</td>\n",
       "      <td>False</td>\n",
       "      <td>0-15 Min</td>\n",
       "      <td>False</td>\n",
       "    </tr>\n",
       "    <tr>\n",
       "      <th>91739</th>\n",
       "      <td>2015-12-31</td>\n",
       "      <td>21:42</td>\n",
       "      <td>NaN</td>\n",
       "      <td>M</td>\n",
       "      <td>1993.0</td>\n",
       "      <td>22.0</td>\n",
       "      <td>White</td>\n",
       "      <td>Speeding</td>\n",
       "      <td>Speeding</td>\n",
       "      <td>False</td>\n",
       "      <td>NaN</td>\n",
       "      <td>Citation</td>\n",
       "      <td>False</td>\n",
       "      <td>0-15 Min</td>\n",
       "      <td>False</td>\n",
       "    </tr>\n",
       "    <tr>\n",
       "      <th>91740</th>\n",
       "      <td>2015-12-31</td>\n",
       "      <td>22:46</td>\n",
       "      <td>NaN</td>\n",
       "      <td>M</td>\n",
       "      <td>1959.0</td>\n",
       "      <td>56.0</td>\n",
       "      <td>Hispanic</td>\n",
       "      <td>Speeding</td>\n",
       "      <td>Speeding</td>\n",
       "      <td>False</td>\n",
       "      <td>NaN</td>\n",
       "      <td>Citation</td>\n",
       "      <td>False</td>\n",
       "      <td>0-15 Min</td>\n",
       "      <td>False</td>\n",
       "    </tr>\n",
       "  </tbody>\n",
       "</table>\n",
       "<p>91741 rows × 15 columns</p>\n",
       "</div>"
      ],
      "text/plain": [
       "        stop_date stop_time  county_name driver_gender  driver_age_raw  \\\n",
       "0      2005-01-02     01:55          NaN             M          1985.0   \n",
       "1      2005-01-18     08:15          NaN             M          1965.0   \n",
       "2      2005-01-23     23:15          NaN             M          1972.0   \n",
       "3      2005-02-20     17:15          NaN             M          1986.0   \n",
       "4      2005-03-14     10:00          NaN             F          1984.0   \n",
       "...           ...       ...          ...           ...             ...   \n",
       "91736  2015-12-31     20:27          NaN             M          1986.0   \n",
       "91737  2015-12-31     20:35          NaN             F          1982.0   \n",
       "91738  2015-12-31     20:45          NaN             M          1992.0   \n",
       "91739  2015-12-31     21:42          NaN             M          1993.0   \n",
       "91740  2015-12-31     22:46          NaN             M          1959.0   \n",
       "\n",
       "       driver_age driver_race                   violation_raw  \\\n",
       "0            20.0       White                        Speeding   \n",
       "1            40.0       White                        Speeding   \n",
       "2            33.0       White                        Speeding   \n",
       "3            19.0       White                Call for Service   \n",
       "4            21.0       White                        Speeding   \n",
       "...           ...         ...                             ...   \n",
       "91736        29.0       White                        Speeding   \n",
       "91737        33.0       White  Equipment/Inspection Violation   \n",
       "91738        23.0       White         Other Traffic Violation   \n",
       "91739        22.0       White                        Speeding   \n",
       "91740        56.0    Hispanic                        Speeding   \n",
       "\n",
       "              violation  search_conducted search_type   stop_outcome  \\\n",
       "0              Speeding             False         NaN       Citation   \n",
       "1              Speeding             False         NaN       Citation   \n",
       "2              Speeding             False         NaN       Citation   \n",
       "3                 Other             False         NaN  Arrest Driver   \n",
       "4              Speeding             False         NaN       Citation   \n",
       "...                 ...               ...         ...            ...   \n",
       "91736          Speeding             False         NaN        Warning   \n",
       "91737         Equipment             False         NaN        Warning   \n",
       "91738  Moving violation             False         NaN        Warning   \n",
       "91739          Speeding             False         NaN       Citation   \n",
       "91740          Speeding             False         NaN       Citation   \n",
       "\n",
       "      is_arrested stop_duration  drugs_related_stop  \n",
       "0           False      0-15 Min               False  \n",
       "1           False      0-15 Min               False  \n",
       "2           False      0-15 Min               False  \n",
       "3            True     16-30 Min               False  \n",
       "4           False      0-15 Min               False  \n",
       "...           ...           ...                 ...  \n",
       "91736       False      0-15 Min               False  \n",
       "91737       False      0-15 Min               False  \n",
       "91738       False      0-15 Min               False  \n",
       "91739       False      0-15 Min               False  \n",
       "91740       False      0-15 Min               False  \n",
       "\n",
       "[91741 rows x 15 columns]"
      ]
     },
     "execution_count": 33,
     "metadata": {},
     "output_type": "execute_result"
    }
   ],
   "source": [
    "df = pd.read_csv('C:/Users/skesh/Downloads/new.csv')\n",
    "df"
   ]
  },
  {
   "cell_type": "markdown",
   "metadata": {},
   "source": [
    "#### 1. Remove columns containing missing values only"
   ]
  },
  {
   "cell_type": "code",
   "execution_count": 37,
   "metadata": {},
   "outputs": [
    {
     "data": {
      "text/plain": [
       "(91741, 15)"
      ]
     },
     "execution_count": 37,
     "metadata": {},
     "output_type": "execute_result"
    }
   ],
   "source": [
    "df.shape"
   ]
  },
  {
   "cell_type": "code",
   "execution_count": 36,
   "metadata": {
    "collapsed": true
   },
   "outputs": [
    {
     "data": {
      "text/plain": [
       "stop_date                 0\n",
       "stop_time                 0\n",
       "county_name           91741\n",
       "driver_gender          5335\n",
       "driver_age_raw         5327\n",
       "driver_age             5621\n",
       "driver_race            5333\n",
       "violation_raw          5333\n",
       "violation              5333\n",
       "search_conducted          0\n",
       "search_type           88545\n",
       "stop_outcome           5333\n",
       "is_arrested            5333\n",
       "stop_duration          5333\n",
       "drugs_related_stop        0\n",
       "dtype: int64"
      ]
     },
     "execution_count": 36,
     "metadata": {},
     "output_type": "execute_result"
    }
   ],
   "source": [
    "df.isnull().sum()"
   ]
  },
  {
   "cell_type": "code",
   "execution_count": 38,
   "metadata": {},
   "outputs": [],
   "source": [
    "df.drop(columns = 'county_name',inplace=True)"
   ]
  },
  {
   "cell_type": "code",
   "execution_count": 39,
   "metadata": {},
   "outputs": [
    {
     "data": {
      "text/plain": [
       "(91741, 14)"
      ]
     },
     "execution_count": 39,
     "metadata": {},
     "output_type": "execute_result"
    }
   ],
   "source": [
    "df.shape"
   ]
  },
  {
   "cell_type": "markdown",
   "metadata": {},
   "source": [
    "#### 2. Who overspeeds more men or women?"
   ]
  },
  {
   "cell_type": "code",
   "execution_count": 42,
   "metadata": {
    "collapsed": true
   },
   "outputs": [
    {
     "data": {
      "text/html": [
       "<div>\n",
       "<style scoped>\n",
       "    .dataframe tbody tr th:only-of-type {\n",
       "        vertical-align: middle;\n",
       "    }\n",
       "\n",
       "    .dataframe tbody tr th {\n",
       "        vertical-align: top;\n",
       "    }\n",
       "\n",
       "    .dataframe thead th {\n",
       "        text-align: right;\n",
       "    }\n",
       "</style>\n",
       "<table border=\"1\" class=\"dataframe\">\n",
       "  <thead>\n",
       "    <tr style=\"text-align: right;\">\n",
       "      <th></th>\n",
       "      <th>stop_date</th>\n",
       "      <th>stop_time</th>\n",
       "      <th>driver_gender</th>\n",
       "      <th>driver_age_raw</th>\n",
       "      <th>driver_age</th>\n",
       "      <th>driver_race</th>\n",
       "      <th>violation_raw</th>\n",
       "      <th>violation</th>\n",
       "      <th>search_conducted</th>\n",
       "      <th>search_type</th>\n",
       "      <th>stop_outcome</th>\n",
       "      <th>is_arrested</th>\n",
       "      <th>stop_duration</th>\n",
       "      <th>drugs_related_stop</th>\n",
       "    </tr>\n",
       "  </thead>\n",
       "  <tbody>\n",
       "    <tr>\n",
       "      <th>0</th>\n",
       "      <td>2005-01-02</td>\n",
       "      <td>01:55</td>\n",
       "      <td>M</td>\n",
       "      <td>1985.0</td>\n",
       "      <td>20.0</td>\n",
       "      <td>White</td>\n",
       "      <td>Speeding</td>\n",
       "      <td>Speeding</td>\n",
       "      <td>False</td>\n",
       "      <td>NaN</td>\n",
       "      <td>Citation</td>\n",
       "      <td>False</td>\n",
       "      <td>0-15 Min</td>\n",
       "      <td>False</td>\n",
       "    </tr>\n",
       "    <tr>\n",
       "      <th>1</th>\n",
       "      <td>2005-01-18</td>\n",
       "      <td>08:15</td>\n",
       "      <td>M</td>\n",
       "      <td>1965.0</td>\n",
       "      <td>40.0</td>\n",
       "      <td>White</td>\n",
       "      <td>Speeding</td>\n",
       "      <td>Speeding</td>\n",
       "      <td>False</td>\n",
       "      <td>NaN</td>\n",
       "      <td>Citation</td>\n",
       "      <td>False</td>\n",
       "      <td>0-15 Min</td>\n",
       "      <td>False</td>\n",
       "    </tr>\n",
       "    <tr>\n",
       "      <th>2</th>\n",
       "      <td>2005-01-23</td>\n",
       "      <td>23:15</td>\n",
       "      <td>M</td>\n",
       "      <td>1972.0</td>\n",
       "      <td>33.0</td>\n",
       "      <td>White</td>\n",
       "      <td>Speeding</td>\n",
       "      <td>Speeding</td>\n",
       "      <td>False</td>\n",
       "      <td>NaN</td>\n",
       "      <td>Citation</td>\n",
       "      <td>False</td>\n",
       "      <td>0-15 Min</td>\n",
       "      <td>False</td>\n",
       "    </tr>\n",
       "    <tr>\n",
       "      <th>4</th>\n",
       "      <td>2005-03-14</td>\n",
       "      <td>10:00</td>\n",
       "      <td>F</td>\n",
       "      <td>1984.0</td>\n",
       "      <td>21.0</td>\n",
       "      <td>White</td>\n",
       "      <td>Speeding</td>\n",
       "      <td>Speeding</td>\n",
       "      <td>False</td>\n",
       "      <td>NaN</td>\n",
       "      <td>Citation</td>\n",
       "      <td>False</td>\n",
       "      <td>0-15 Min</td>\n",
       "      <td>False</td>\n",
       "    </tr>\n",
       "    <tr>\n",
       "      <th>6</th>\n",
       "      <td>2005-04-01</td>\n",
       "      <td>17:30</td>\n",
       "      <td>M</td>\n",
       "      <td>1969.0</td>\n",
       "      <td>36.0</td>\n",
       "      <td>White</td>\n",
       "      <td>Speeding</td>\n",
       "      <td>Speeding</td>\n",
       "      <td>False</td>\n",
       "      <td>NaN</td>\n",
       "      <td>Citation</td>\n",
       "      <td>False</td>\n",
       "      <td>0-15 Min</td>\n",
       "      <td>False</td>\n",
       "    </tr>\n",
       "    <tr>\n",
       "      <th>...</th>\n",
       "      <td>...</td>\n",
       "      <td>...</td>\n",
       "      <td>...</td>\n",
       "      <td>...</td>\n",
       "      <td>...</td>\n",
       "      <td>...</td>\n",
       "      <td>...</td>\n",
       "      <td>...</td>\n",
       "      <td>...</td>\n",
       "      <td>...</td>\n",
       "      <td>...</td>\n",
       "      <td>...</td>\n",
       "      <td>...</td>\n",
       "      <td>...</td>\n",
       "    </tr>\n",
       "    <tr>\n",
       "      <th>91734</th>\n",
       "      <td>2015-12-31</td>\n",
       "      <td>20:20</td>\n",
       "      <td>M</td>\n",
       "      <td>1993.0</td>\n",
       "      <td>22.0</td>\n",
       "      <td>White</td>\n",
       "      <td>Speeding</td>\n",
       "      <td>Speeding</td>\n",
       "      <td>False</td>\n",
       "      <td>NaN</td>\n",
       "      <td>Citation</td>\n",
       "      <td>False</td>\n",
       "      <td>0-15 Min</td>\n",
       "      <td>False</td>\n",
       "    </tr>\n",
       "    <tr>\n",
       "      <th>91735</th>\n",
       "      <td>2015-12-31</td>\n",
       "      <td>20:25</td>\n",
       "      <td>M</td>\n",
       "      <td>1992.0</td>\n",
       "      <td>23.0</td>\n",
       "      <td>Hispanic</td>\n",
       "      <td>Speeding</td>\n",
       "      <td>Speeding</td>\n",
       "      <td>False</td>\n",
       "      <td>NaN</td>\n",
       "      <td>Citation</td>\n",
       "      <td>False</td>\n",
       "      <td>0-15 Min</td>\n",
       "      <td>False</td>\n",
       "    </tr>\n",
       "    <tr>\n",
       "      <th>91736</th>\n",
       "      <td>2015-12-31</td>\n",
       "      <td>20:27</td>\n",
       "      <td>M</td>\n",
       "      <td>1986.0</td>\n",
       "      <td>29.0</td>\n",
       "      <td>White</td>\n",
       "      <td>Speeding</td>\n",
       "      <td>Speeding</td>\n",
       "      <td>False</td>\n",
       "      <td>NaN</td>\n",
       "      <td>Warning</td>\n",
       "      <td>False</td>\n",
       "      <td>0-15 Min</td>\n",
       "      <td>False</td>\n",
       "    </tr>\n",
       "    <tr>\n",
       "      <th>91739</th>\n",
       "      <td>2015-12-31</td>\n",
       "      <td>21:42</td>\n",
       "      <td>M</td>\n",
       "      <td>1993.0</td>\n",
       "      <td>22.0</td>\n",
       "      <td>White</td>\n",
       "      <td>Speeding</td>\n",
       "      <td>Speeding</td>\n",
       "      <td>False</td>\n",
       "      <td>NaN</td>\n",
       "      <td>Citation</td>\n",
       "      <td>False</td>\n",
       "      <td>0-15 Min</td>\n",
       "      <td>False</td>\n",
       "    </tr>\n",
       "    <tr>\n",
       "      <th>91740</th>\n",
       "      <td>2015-12-31</td>\n",
       "      <td>22:46</td>\n",
       "      <td>M</td>\n",
       "      <td>1959.0</td>\n",
       "      <td>56.0</td>\n",
       "      <td>Hispanic</td>\n",
       "      <td>Speeding</td>\n",
       "      <td>Speeding</td>\n",
       "      <td>False</td>\n",
       "      <td>NaN</td>\n",
       "      <td>Citation</td>\n",
       "      <td>False</td>\n",
       "      <td>0-15 Min</td>\n",
       "      <td>False</td>\n",
       "    </tr>\n",
       "  </tbody>\n",
       "</table>\n",
       "<p>48463 rows × 14 columns</p>\n",
       "</div>"
      ],
      "text/plain": [
       "        stop_date stop_time driver_gender  driver_age_raw  driver_age  \\\n",
       "0      2005-01-02     01:55             M          1985.0        20.0   \n",
       "1      2005-01-18     08:15             M          1965.0        40.0   \n",
       "2      2005-01-23     23:15             M          1972.0        33.0   \n",
       "4      2005-03-14     10:00             F          1984.0        21.0   \n",
       "6      2005-04-01     17:30             M          1969.0        36.0   \n",
       "...           ...       ...           ...             ...         ...   \n",
       "91734  2015-12-31     20:20             M          1993.0        22.0   \n",
       "91735  2015-12-31     20:25             M          1992.0        23.0   \n",
       "91736  2015-12-31     20:27             M          1986.0        29.0   \n",
       "91739  2015-12-31     21:42             M          1993.0        22.0   \n",
       "91740  2015-12-31     22:46             M          1959.0        56.0   \n",
       "\n",
       "      driver_race violation_raw violation  search_conducted search_type  \\\n",
       "0           White      Speeding  Speeding             False         NaN   \n",
       "1           White      Speeding  Speeding             False         NaN   \n",
       "2           White      Speeding  Speeding             False         NaN   \n",
       "4           White      Speeding  Speeding             False         NaN   \n",
       "6           White      Speeding  Speeding             False         NaN   \n",
       "...           ...           ...       ...               ...         ...   \n",
       "91734       White      Speeding  Speeding             False         NaN   \n",
       "91735    Hispanic      Speeding  Speeding             False         NaN   \n",
       "91736       White      Speeding  Speeding             False         NaN   \n",
       "91739       White      Speeding  Speeding             False         NaN   \n",
       "91740    Hispanic      Speeding  Speeding             False         NaN   \n",
       "\n",
       "      stop_outcome is_arrested stop_duration  drugs_related_stop  \n",
       "0         Citation       False      0-15 Min               False  \n",
       "1         Citation       False      0-15 Min               False  \n",
       "2         Citation       False      0-15 Min               False  \n",
       "4         Citation       False      0-15 Min               False  \n",
       "6         Citation       False      0-15 Min               False  \n",
       "...            ...         ...           ...                 ...  \n",
       "91734     Citation       False      0-15 Min               False  \n",
       "91735     Citation       False      0-15 Min               False  \n",
       "91736      Warning       False      0-15 Min               False  \n",
       "91739     Citation       False      0-15 Min               False  \n",
       "91740     Citation       False      0-15 Min               False  \n",
       "\n",
       "[48463 rows x 14 columns]"
      ]
     },
     "execution_count": 42,
     "metadata": {},
     "output_type": "execute_result"
    }
   ],
   "source": [
    "df[df['violation']=='Speeding']"
   ]
  },
  {
   "cell_type": "code",
   "execution_count": 44,
   "metadata": {
    "collapsed": true
   },
   "outputs": [
    {
     "data": {
      "text/plain": [
       "M    32979\n",
       "F    15482\n",
       "Name: driver_gender, dtype: int64"
      ]
     },
     "execution_count": 44,
     "metadata": {},
     "output_type": "execute_result"
    }
   ],
   "source": [
    "df[df['violation']=='Speeding'].driver_gender.value_counts()"
   ]
  },
  {
   "cell_type": "markdown",
   "metadata": {},
   "source": [
    "#### when a man is pulled over how often is it for overspeeding?"
   ]
  },
  {
   "cell_type": "code",
   "execution_count": 46,
   "metadata": {
    "collapsed": true
   },
   "outputs": [
    {
     "data": {
      "text/plain": [
       "Speeding               32979\n",
       "Moving violation       13020\n",
       "Equipment               8533\n",
       "Other                   3627\n",
       "Registration/plates     2419\n",
       "Seat belt               2317\n",
       "Name: violation, dtype: int64"
      ]
     },
     "execution_count": 46,
     "metadata": {},
     "output_type": "execute_result"
    }
   ],
   "source": [
    "df[df.driver_gender == 'M'].violation.value_counts()"
   ]
  },
  {
   "cell_type": "code",
   "execution_count": 47,
   "metadata": {
    "collapsed": true
   },
   "outputs": [
    {
     "data": {
      "text/plain": [
       "Speeding               0.524350\n",
       "Moving violation       0.207012\n",
       "Equipment              0.135671\n",
       "Other                  0.057668\n",
       "Registration/plates    0.038461\n",
       "Seat belt              0.036839\n",
       "Name: violation, dtype: float64"
      ]
     },
     "execution_count": 47,
     "metadata": {},
     "output_type": "execute_result"
    }
   ],
   "source": [
    "df[df.driver_gender == 'M'].violation.value_counts(normalize=True)"
   ]
  },
  {
   "cell_type": "markdown",
   "metadata": {},
   "source": [
    "#### when a woman is pulled over how often is it for overspeeding?"
   ]
  },
  {
   "cell_type": "code",
   "execution_count": 50,
   "metadata": {
    "collapsed": true
   },
   "outputs": [
    {
     "data": {
      "text/plain": [
       "Speeding               0.658500\n",
       "Moving violation       0.136277\n",
       "Equipment              0.105780\n",
       "Registration/plates    0.043086\n",
       "Other                  0.029348\n",
       "Seat belt              0.027009\n",
       "Name: violation, dtype: float64"
      ]
     },
     "execution_count": 50,
     "metadata": {},
     "output_type": "execute_result"
    }
   ],
   "source": [
    "df[df.driver_gender == 'F'].violation.value_counts(normalize=True)"
   ]
  },
  {
   "cell_type": "code",
   "execution_count": 53,
   "metadata": {
    "collapsed": true
   },
   "outputs": [
    {
     "data": {
      "text/plain": [
       "driver_gender  violation          \n",
       "F              Speeding               0.658500\n",
       "               Moving violation       0.136277\n",
       "               Equipment              0.105780\n",
       "               Registration/plates    0.043086\n",
       "               Other                  0.029348\n",
       "               Seat belt              0.027009\n",
       "M              Speeding               0.524350\n",
       "               Moving violation       0.207012\n",
       "               Equipment              0.135671\n",
       "               Other                  0.057668\n",
       "               Registration/plates    0.038461\n",
       "               Seat belt              0.036839\n",
       "Name: violation, dtype: float64"
      ]
     },
     "execution_count": 53,
     "metadata": {},
     "output_type": "execute_result"
    }
   ],
   "source": [
    "#combining both above lines together\n",
    "df.groupby('driver_gender').violation.value_counts(normalize=True)"
   ]
  },
  {
   "cell_type": "markdown",
   "metadata": {},
   "source": [
    "#### Q3. Does gender affect who is getting searched?"
   ]
  },
  {
   "cell_type": "code",
   "execution_count": 56,
   "metadata": {},
   "outputs": [
    {
     "data": {
      "text/plain": [
       "array([False,  True])"
      ]
     },
     "execution_count": 56,
     "metadata": {},
     "output_type": "execute_result"
    }
   ],
   "source": [
    "df.search_conducted.unique()"
   ]
  },
  {
   "cell_type": "code",
   "execution_count": 57,
   "metadata": {},
   "outputs": [
    {
     "data": {
      "text/plain": [
       "False    88545\n",
       "True      3196\n",
       "Name: search_conducted, dtype: int64"
      ]
     },
     "execution_count": 57,
     "metadata": {},
     "output_type": "execute_result"
    }
   ],
   "source": [
    "df.search_conducted.value_counts()"
   ]
  },
  {
   "cell_type": "code",
   "execution_count": 58,
   "metadata": {},
   "outputs": [
    {
     "data": {
      "text/plain": [
       "False    0.965163\n",
       "True     0.034837\n",
       "Name: search_conducted, dtype: float64"
      ]
     },
     "execution_count": 58,
     "metadata": {},
     "output_type": "execute_result"
    }
   ],
   "source": [
    "df.search_conducted.value_counts(normalize=True)"
   ]
  },
  {
   "cell_type": "code",
   "execution_count": 59,
   "metadata": {},
   "outputs": [
    {
     "data": {
      "text/plain": [
       "0.03483720473942948"
      ]
     },
     "execution_count": 59,
     "metadata": {},
     "output_type": "execute_result"
    }
   ],
   "source": [
    "df.search_conducted.mean()"
   ]
  },
  {
   "cell_type": "code",
   "execution_count": 60,
   "metadata": {},
   "outputs": [
    {
     "data": {
      "text/plain": [
       "0.03483720473942948"
      ]
     },
     "execution_count": 60,
     "metadata": {},
     "output_type": "execute_result"
    }
   ],
   "source": [
    "3196/(3196 + 88545)"
   ]
  },
  {
   "cell_type": "code",
   "execution_count": 61,
   "metadata": {},
   "outputs": [
    {
     "data": {
      "text/plain": [
       "driver_gender\n",
       "F    0.020033\n",
       "M    0.043326\n",
       "Name: search_conducted, dtype: float64"
      ]
     },
     "execution_count": 61,
     "metadata": {},
     "output_type": "execute_result"
    }
   ],
   "source": [
    "df.groupby('driver_gender').search_conducted.mean()"
   ]
  },
  {
   "cell_type": "markdown",
   "metadata": {},
   "source": [
    "#### Males are searched twice as Females"
   ]
  },
  {
   "cell_type": "code",
   "execution_count": 64,
   "metadata": {
    "collapsed": true
   },
   "outputs": [
    {
     "data": {
      "text/plain": [
       "driver_gender  driver_race  violation          \n",
       "F              Asian        Equipment              0.040000\n",
       "                            Moving violation       0.017857\n",
       "                            Other                  0.166667\n",
       "                            Registration/plates    0.000000\n",
       "                            Seat belt              0.000000\n",
       "                            Speeding               0.005051\n",
       "               Black        Equipment              0.066937\n",
       "                            Moving violation       0.041096\n",
       "                            Other                  0.010526\n",
       "                            Registration/plates    0.080000\n",
       "                            Seat belt              0.012987\n",
       "                            Speeding               0.028754\n",
       "               Hispanic     Equipment              0.040921\n",
       "                            Moving violation       0.037135\n",
       "                            Other                  0.047059\n",
       "                            Registration/plates    0.069364\n",
       "                            Seat belt              0.009804\n",
       "                            Speeding               0.029610\n",
       "               Other        Equipment              0.000000\n",
       "                            Moving violation       0.000000\n",
       "                            Other                  0.000000\n",
       "                            Seat belt              0.000000\n",
       "                            Speeding               0.000000\n",
       "               White        Equipment              0.035556\n",
       "                            Moving violation       0.035607\n",
       "                            Other                  0.064386\n",
       "                            Registration/plates    0.061667\n",
       "                            Seat belt              0.013453\n",
       "                            Speeding               0.005737\n",
       "M              Asian        Equipment              0.073864\n",
       "                            Moving violation       0.046763\n",
       "                            Other                  0.000000\n",
       "                            Registration/plates    0.023256\n",
       "                            Seat belt              0.102041\n",
       "                            Speeding               0.011504\n",
       "               Black        Equipment              0.094792\n",
       "                            Moving violation       0.076892\n",
       "                            Other                  0.036616\n",
       "                            Registration/plates    0.125224\n",
       "                            Seat belt              0.058981\n",
       "                            Speeding               0.055996\n",
       "               Hispanic     Equipment              0.071795\n",
       "                            Moving violation       0.071393\n",
       "                            Other                  0.061024\n",
       "                            Registration/plates    0.130755\n",
       "                            Seat belt              0.046771\n",
       "                            Speeding               0.051489\n",
       "               Other        Equipment              0.000000\n",
       "                            Moving violation       0.020000\n",
       "                            Other                  0.000000\n",
       "                            Registration/plates    0.500000\n",
       "                            Seat belt              1.000000\n",
       "                            Speeding               0.000000\n",
       "               White        Equipment              0.060861\n",
       "                            Moving violation       0.052580\n",
       "                            Other                  0.049620\n",
       "                            Registration/plates    0.097484\n",
       "                            Seat belt              0.026990\n",
       "                            Speeding               0.018605\n",
       "Name: search_conducted, dtype: float64"
      ]
     },
     "execution_count": 64,
     "metadata": {},
     "output_type": "execute_result"
    }
   ],
   "source": [
    "df.groupby(['driver_gender','driver_race','violation']).search_conducted.mean()"
   ]
  },
  {
   "cell_type": "code",
   "execution_count": 63,
   "metadata": {
    "collapsed": true
   },
   "outputs": [
    {
     "data": {
      "text/plain": [
       "Index(['stop_date', 'stop_time', 'driver_gender', 'driver_age_raw',\n",
       "       'driver_age', 'driver_race', 'violation_raw', 'violation',\n",
       "       'search_conducted', 'search_type', 'stop_outcome', 'is_arrested',\n",
       "       'stop_duration', 'drugs_related_stop'],\n",
       "      dtype='object')"
      ]
     },
     "execution_count": 63,
     "metadata": {},
     "output_type": "execute_result"
    }
   ],
   "source": [
    "df.columns"
   ]
  },
  {
   "cell_type": "markdown",
   "metadata": {},
   "source": [
    "#### Q4. During a search how often was someone frisked?"
   ]
  },
  {
   "cell_type": "code",
   "execution_count": 66,
   "metadata": {},
   "outputs": [
    {
     "data": {
      "text/plain": [
       "array(['Speeding', 'Other', 'Equipment', 'Moving violation', nan,\n",
       "       'Registration/plates', 'Seat belt'], dtype=object)"
      ]
     },
     "execution_count": 66,
     "metadata": {},
     "output_type": "execute_result"
    }
   ],
   "source": [
    "df.violation.unique()"
   ]
  },
  {
   "cell_type": "code",
   "execution_count": 79,
   "metadata": {
    "collapsed": true
   },
   "outputs": [
    {
     "data": {
      "text/plain": [
       "Incident to Arrest                                          1219\n",
       "Probable Cause                                               891\n",
       "Inventory                                                    220\n",
       "Reasonable Suspicion                                         197\n",
       "Protective Frisk                                             161\n",
       "Incident to Arrest,Inventory                                 129\n",
       "Incident to Arrest,Probable Cause                            106\n",
       "Probable Cause,Reasonable Suspicion                           75\n",
       "Incident to Arrest,Inventory,Probable Cause                   34\n",
       "Probable Cause,Protective Frisk                               33\n",
       "Incident to Arrest,Protective Frisk                           33\n",
       "Inventory,Probable Cause                                      22\n",
       "Incident to Arrest,Reasonable Suspicion                       13\n",
       "Protective Frisk,Reasonable Suspicion                         11\n",
       "Incident to Arrest,Inventory,Protective Frisk                 11\n",
       "Inventory,Protective Frisk                                    11\n",
       "Incident to Arrest,Probable Cause,Protective Frisk            10\n",
       "Incident to Arrest,Probable Cause,Reasonable Suspicion         6\n",
       "Inventory,Reasonable Suspicion                                 4\n",
       "Incident to Arrest,Inventory,Reasonable Suspicion              4\n",
       "Inventory,Probable Cause,Reasonable Suspicion                  2\n",
       "Inventory,Probable Cause,Protective Frisk                      2\n",
       "Probable Cause,Protective Frisk,Reasonable Suspicion           1\n",
       "Incident to Arrest,Protective Frisk,Reasonable Suspicion       1\n",
       "Name: search_type, dtype: int64"
      ]
     },
     "execution_count": 79,
     "metadata": {},
     "output_type": "execute_result"
    }
   ],
   "source": [
    "df.search_type.value_counts() #value_counts by default hides the null values"
   ]
  },
  {
   "cell_type": "markdown",
   "metadata": {},
   "source": [
    "Use - I need to keep a count of all the stoppagges when someone is asked to frisk\n",
    "\n",
    "technically - everytime i see the word frisk in column search_type i should record that"
   ]
  },
  {
   "cell_type": "code",
   "execution_count": 73,
   "metadata": {},
   "outputs": [],
   "source": [
    "df['Frisk'] = df.search_type.str.contains('Frisk')"
   ]
  },
  {
   "cell_type": "code",
   "execution_count": 81,
   "metadata": {},
   "outputs": [
    {
     "data": {
      "text/plain": [
       "NaN      0.965163\n",
       "False    0.031851\n",
       "True     0.002987\n",
       "Name: Frisk, dtype: float64"
      ]
     },
     "execution_count": 81,
     "metadata": {},
     "output_type": "execute_result"
    }
   ],
   "source": [
    "df['Frisk'].value_counts(dropna=False,normalize=True)"
   ]
  },
  {
   "cell_type": "markdown",
   "metadata": {},
   "source": [
    "#### Q5. Which year had least/most no. of stops"
   ]
  },
  {
   "cell_type": "code",
   "execution_count": 96,
   "metadata": {
    "collapsed": true
   },
   "outputs": [
    {
     "data": {
      "text/plain": [
       "0        2005\n",
       "1        2005\n",
       "2        2005\n",
       "3        2005\n",
       "4        2005\n",
       "         ... \n",
       "91736    2015\n",
       "91737    2015\n",
       "91738    2015\n",
       "91739    2015\n",
       "91740    2015\n",
       "Name: stop_date, Length: 91741, dtype: object"
      ]
     },
     "execution_count": 96,
     "metadata": {},
     "output_type": "execute_result"
    }
   ],
   "source": [
    "#1st method\n",
    "df['year'] = df.stop_date.str.slice(0,4)"
   ]
  },
  {
   "cell_type": "code",
   "execution_count": 103,
   "metadata": {
    "collapsed": true
   },
   "outputs": [
    {
     "data": {
      "text/plain": [
       "2005    2558\n",
       "Name: stop_date, dtype: int64"
      ]
     },
     "execution_count": 103,
     "metadata": {},
     "output_type": "execute_result"
    }
   ],
   "source": [
    "df.stop_date.str.slice(0,4).value_counts().tail(1)"
   ]
  },
  {
   "cell_type": "code",
   "execution_count": 102,
   "metadata": {
    "collapsed": true
   },
   "outputs": [
    {
     "data": {
      "text/plain": [
       "2012    10970\n",
       "Name: stop_date, dtype: int64"
      ]
     },
     "execution_count": 102,
     "metadata": {},
     "output_type": "execute_result"
    }
   ],
   "source": [
    "df.stop_date.str.slice(0,4).value_counts().head(1)"
   ]
  },
  {
   "cell_type": "code",
   "execution_count": 136,
   "metadata": {},
   "outputs": [],
   "source": [
    "#2nd method\n",
    "combined = df.stop_date.str.cat(df.stop_time,sep=' ')"
   ]
  },
  {
   "cell_type": "code",
   "execution_count": 137,
   "metadata": {
    "collapsed": true
   },
   "outputs": [
    {
     "data": {
      "text/plain": [
       "0        2005-01-02 01:55\n",
       "1        2005-01-18 08:15\n",
       "2        2005-01-23 23:15\n",
       "3        2005-02-20 17:15\n",
       "4        2005-03-14 10:00\n",
       "               ...       \n",
       "91736    2015-12-31 20:27\n",
       "91737    2015-12-31 20:35\n",
       "91738    2015-12-31 20:45\n",
       "91739    2015-12-31 21:42\n",
       "91740    2015-12-31 22:46\n",
       "Name: stop_date, Length: 91741, dtype: object"
      ]
     },
     "execution_count": 137,
     "metadata": {},
     "output_type": "execute_result"
    }
   ],
   "source": [
    "combined"
   ]
  },
  {
   "cell_type": "code",
   "execution_count": 110,
   "metadata": {},
   "outputs": [],
   "source": [
    "df['DateTime'] = pd.to_datetime(combined)"
   ]
  },
  {
   "cell_type": "code",
   "execution_count": 130,
   "metadata": {
    "collapsed": true
   },
   "outputs": [
    {
     "data": {
      "text/plain": [
       "2012    10970\n",
       "2006    10639\n",
       "2007     9476\n",
       "2014     9228\n",
       "2008     8752\n",
       "2015     8599\n",
       "2011     8126\n",
       "2013     7924\n",
       "2009     7908\n",
       "2010     7561\n",
       "2005     2558\n",
       "Name: DateTime, dtype: int64"
      ]
     },
     "execution_count": 130,
     "metadata": {},
     "output_type": "execute_result"
    }
   ],
   "source": [
    "df['DateTime'].dt.year.value_counts()"
   ]
  },
  {
   "cell_type": "code",
   "execution_count": 131,
   "metadata": {},
   "outputs": [
    {
     "data": {
      "text/plain": [
       "Int64Index([2012, 2006, 2007, 2014, 2008, 2015, 2011, 2013, 2009, 2010, 2005], dtype='int64')"
      ]
     },
     "execution_count": 131,
     "metadata": {},
     "output_type": "execute_result"
    }
   ],
   "source": [
    "df['DateTime'].dt.year.value_counts().index"
   ]
  },
  {
   "cell_type": "code",
   "execution_count": 132,
   "metadata": {},
   "outputs": [
    {
     "data": {
      "text/plain": [
       "2012"
      ]
     },
     "execution_count": 132,
     "metadata": {},
     "output_type": "execute_result"
    }
   ],
   "source": [
    "df['DateTime'].dt.year.value_counts().index[0]"
   ]
  },
  {
   "cell_type": "markdown",
   "metadata": {},
   "source": [
    "#### Q6. How does drug activity change by time of the day?"
   ]
  },
  {
   "cell_type": "code",
   "execution_count": 140,
   "metadata": {
    "collapsed": true
   },
   "outputs": [
    {
     "data": {
      "text/plain": [
       "False    90926\n",
       "True       815\n",
       "Name: drugs_related_stop, dtype: int64"
      ]
     },
     "execution_count": 140,
     "metadata": {},
     "output_type": "execute_result"
    }
   ],
   "source": [
    "df.drugs_related_stop.value_counts(dropna=False)"
   ]
  },
  {
   "cell_type": "code",
   "execution_count": 141,
   "metadata": {},
   "outputs": [
    {
     "data": {
      "text/plain": [
       "0.008883705213590434"
      ]
     },
     "execution_count": 141,
     "metadata": {},
     "output_type": "execute_result"
    }
   ],
   "source": [
    "df.drugs_related_stop.mean()"
   ]
  },
  {
   "cell_type": "code",
   "execution_count": 143,
   "metadata": {
    "collapsed": true
   },
   "outputs": [
    {
     "data": {
      "text/plain": [
       "DateTime\n",
       "0     0.019728\n",
       "1     0.013507\n",
       "2     0.015462\n",
       "3     0.017065\n",
       "4     0.011811\n",
       "5     0.004762\n",
       "6     0.003040\n",
       "7     0.003281\n",
       "8     0.002687\n",
       "9     0.006288\n",
       "10    0.005714\n",
       "11    0.006976\n",
       "12    0.004467\n",
       "13    0.010326\n",
       "14    0.007810\n",
       "15    0.006416\n",
       "16    0.005723\n",
       "17    0.005517\n",
       "18    0.010148\n",
       "19    0.011596\n",
       "20    0.008084\n",
       "21    0.013342\n",
       "22    0.013533\n",
       "23    0.016344\n",
       "Name: drugs_related_stop, dtype: float64"
      ]
     },
     "execution_count": 143,
     "metadata": {},
     "output_type": "execute_result"
    }
   ],
   "source": [
    "df.groupby(df['DateTime'].dt.hour).drugs_related_stop.mean()"
   ]
  },
  {
   "cell_type": "code",
   "execution_count": 144,
   "metadata": {
    "collapsed": true
   },
   "outputs": [
    {
     "data": {
      "text/plain": [
       "<matplotlib.axes._subplots.AxesSubplot at 0x1b0c259fb88>"
      ]
     },
     "execution_count": 144,
     "metadata": {},
     "output_type": "execute_result"
    },
    {
     "data": {
      "image/png": "[encoded data removed]",
      "text/plain": [
       "<Figure size 432x288 with 1 Axes>"
      ]
     },
     "metadata": {
      "needs_background": "light"
     },
     "output_type": "display_data"
    }
   ],
   "source": [
    "df.groupby(df['DateTime'].dt.hour).drugs_related_stop.mean().plot()"
   ]
  },
  {
   "cell_type": "markdown",
   "metadata": {},
   "source": [
    "#### Q7. DO most stopages occur at night?"
   ]
  },
  {
   "cell_type": "code",
   "execution_count": 147,
   "metadata": {
    "collapsed": true
   },
   "outputs": [
    {
     "data": {
      "text/plain": [
       "10    7350\n",
       "9     6838\n",
       "11    5877\n",
       "14    5634\n",
       "23    5629\n",
       "0     5221\n",
       "8     5210\n",
       "13    4842\n",
       "15    4832\n",
       "7     4572\n",
       "1     4442\n",
       "16    3844\n",
       "12    3582\n",
       "22    3473\n",
       "20    3340\n",
       "6     3290\n",
       "2     2975\n",
       "17    2900\n",
       "19    2587\n",
       "18    2168\n",
       "21    1499\n",
       "3     1172\n",
       "4      254\n",
       "5      210\n",
       "Name: DateTime, dtype: int64"
      ]
     },
     "execution_count": 147,
     "metadata": {},
     "output_type": "execute_result"
    }
   ],
   "source": [
    "df['DateTime'].dt.hour.value_counts()"
   ]
  },
  {
   "cell_type": "code",
   "execution_count": 149,
   "metadata": {
    "collapsed": true
   },
   "outputs": [
    {
     "data": {
      "text/plain": [
       "0     5221\n",
       "1     4442\n",
       "2     2975\n",
       "3     1172\n",
       "4      254\n",
       "5      210\n",
       "6     3290\n",
       "7     4572\n",
       "8     5210\n",
       "9     6838\n",
       "10    7350\n",
       "11    5877\n",
       "12    3582\n",
       "13    4842\n",
       "14    5634\n",
       "15    4832\n",
       "16    3844\n",
       "17    2900\n",
       "18    2168\n",
       "19    2587\n",
       "20    3340\n",
       "21    1499\n",
       "22    3473\n",
       "23    5629\n",
       "Name: DateTime, dtype: int64"
      ]
     },
     "execution_count": 149,
     "metadata": {},
     "output_type": "execute_result"
    }
   ],
   "source": [
    "df['DateTime'].dt.hour.value_counts().sort_index()"
   ]
  },
  {
   "cell_type": "code",
   "execution_count": 152,
   "metadata": {
    "collapsed": true
   },
   "outputs": [
    {
     "data": {
      "text/plain": [
       "<matplotlib.axes._subplots.AxesSubplot at 0x1b0c3a4b948>"
      ]
     },
     "execution_count": 152,
     "metadata": {},
     "output_type": "execute_result"
    },
    {
     "data": {
      "image/png": "[encoded data removed]",
      "text/plain": [
       "<Figure size 432x288 with 1 Axes>"
      ]
     },
     "metadata": {
      "needs_background": "light"
     },
     "output_type": "display_data"
    }
   ],
   "source": [
    "df['DateTime'].dt.hour.value_counts().sort_index().plot()"
   ]
  },
  {
   "cell_type": "code",
   "execution_count": 151,
   "metadata": {
    "collapsed": true
   },
   "outputs": [
    {
     "data": {
      "text/plain": [
       "<matplotlib.axes._subplots.AxesSubplot at 0x1b0c37b6848>"
      ]
     },
     "execution_count": 151,
     "metadata": {},
     "output_type": "execute_result"
    },
    {
     "data": {
      "image/png": "[encoded data removed]",
      "text/plain": [
       "<Figure size 432x288 with 1 Axes>"
      ]
     },
     "metadata": {
      "needs_background": "light"
     },
     "output_type": "display_data"
    }
   ],
   "source": [
    "df['DateTime'].dt.hour.value_counts().sort_index().plot(kind = 'bar')"
   ]
  },
  {
   "cell_type": "code",
   "execution_count": 156,
   "metadata": {},
   "outputs": [],
   "source": [
    "df.driver_gender.replace('M','Male',inplace=True)"
   ]
  },
  {
   "cell_type": "code",
   "execution_count": 157,
   "metadata": {
    "collapsed": true
   },
   "outputs": [
    {
     "data": {
      "text/html": [
       "<div>\n",
       "<style scoped>\n",
       "    .dataframe tbody tr th:only-of-type {\n",
       "        vertical-align: middle;\n",
       "    }\n",
       "\n",
       "    .dataframe tbody tr th {\n",
       "        vertical-align: top;\n",
       "    }\n",
       "\n",
       "    .dataframe thead th {\n",
       "        text-align: right;\n",
       "    }\n",
       "</style>\n",
       "<table border=\"1\" class=\"dataframe\">\n",
       "  <thead>\n",
       "    <tr style=\"text-align: right;\">\n",
       "      <th></th>\n",
       "      <th>stop_date</th>\n",
       "      <th>stop_time</th>\n",
       "      <th>driver_gender</th>\n",
       "      <th>driver_age_raw</th>\n",
       "      <th>driver_age</th>\n",
       "      <th>driver_race</th>\n",
       "      <th>violation_raw</th>\n",
       "      <th>violation</th>\n",
       "      <th>search_conducted</th>\n",
       "      <th>search_type</th>\n",
       "      <th>stop_outcome</th>\n",
       "      <th>is_arrested</th>\n",
       "      <th>stop_duration</th>\n",
       "      <th>drugs_related_stop</th>\n",
       "      <th>Frisk</th>\n",
       "      <th>DateTime</th>\n",
       "    </tr>\n",
       "  </thead>\n",
       "  <tbody>\n",
       "    <tr>\n",
       "      <th>0</th>\n",
       "      <td>2005-01-02</td>\n",
       "      <td>01:55</td>\n",
       "      <td>Male</td>\n",
       "      <td>1985.0</td>\n",
       "      <td>20.0</td>\n",
       "      <td>White</td>\n",
       "      <td>Speeding</td>\n",
       "      <td>Speeding</td>\n",
       "      <td>False</td>\n",
       "      <td>NaN</td>\n",
       "      <td>Citation</td>\n",
       "      <td>False</td>\n",
       "      <td>0-15 Min</td>\n",
       "      <td>False</td>\n",
       "      <td>NaN</td>\n",
       "      <td>2005-01-02 01:55:00</td>\n",
       "    </tr>\n",
       "    <tr>\n",
       "      <th>1</th>\n",
       "      <td>2005-01-18</td>\n",
       "      <td>08:15</td>\n",
       "      <td>Male</td>\n",
       "      <td>1965.0</td>\n",
       "      <td>40.0</td>\n",
       "      <td>White</td>\n",
       "      <td>Speeding</td>\n",
       "      <td>Speeding</td>\n",
       "      <td>False</td>\n",
       "      <td>NaN</td>\n",
       "      <td>Citation</td>\n",
       "      <td>False</td>\n",
       "      <td>0-15 Min</td>\n",
       "      <td>False</td>\n",
       "      <td>NaN</td>\n",
       "      <td>2005-01-18 08:15:00</td>\n",
       "    </tr>\n",
       "    <tr>\n",
       "      <th>2</th>\n",
       "      <td>2005-01-23</td>\n",
       "      <td>23:15</td>\n",
       "      <td>Male</td>\n",
       "      <td>1972.0</td>\n",
       "      <td>33.0</td>\n",
       "      <td>White</td>\n",
       "      <td>Speeding</td>\n",
       "      <td>Speeding</td>\n",
       "      <td>False</td>\n",
       "      <td>NaN</td>\n",
       "      <td>Citation</td>\n",
       "      <td>False</td>\n",
       "      <td>0-15 Min</td>\n",
       "      <td>False</td>\n",
       "      <td>NaN</td>\n",
       "      <td>2005-01-23 23:15:00</td>\n",
       "    </tr>\n",
       "    <tr>\n",
       "      <th>3</th>\n",
       "      <td>2005-02-20</td>\n",
       "      <td>17:15</td>\n",
       "      <td>Male</td>\n",
       "      <td>1986.0</td>\n",
       "      <td>19.0</td>\n",
       "      <td>White</td>\n",
       "      <td>Call for Service</td>\n",
       "      <td>Other</td>\n",
       "      <td>False</td>\n",
       "      <td>NaN</td>\n",
       "      <td>Arrest Driver</td>\n",
       "      <td>True</td>\n",
       "      <td>16-30 Min</td>\n",
       "      <td>False</td>\n",
       "      <td>NaN</td>\n",
       "      <td>2005-02-20 17:15:00</td>\n",
       "    </tr>\n",
       "    <tr>\n",
       "      <th>4</th>\n",
       "      <td>2005-03-14</td>\n",
       "      <td>10:00</td>\n",
       "      <td>F</td>\n",
       "      <td>1984.0</td>\n",
       "      <td>21.0</td>\n",
       "      <td>White</td>\n",
       "      <td>Speeding</td>\n",
       "      <td>Speeding</td>\n",
       "      <td>False</td>\n",
       "      <td>NaN</td>\n",
       "      <td>Citation</td>\n",
       "      <td>False</td>\n",
       "      <td>0-15 Min</td>\n",
       "      <td>False</td>\n",
       "      <td>NaN</td>\n",
       "      <td>2005-03-14 10:00:00</td>\n",
       "    </tr>\n",
       "    <tr>\n",
       "      <th>...</th>\n",
       "      <td>...</td>\n",
       "      <td>...</td>\n",
       "      <td>...</td>\n",
       "      <td>...</td>\n",
       "      <td>...</td>\n",
       "      <td>...</td>\n",
       "      <td>...</td>\n",
       "      <td>...</td>\n",
       "      <td>...</td>\n",
       "      <td>...</td>\n",
       "      <td>...</td>\n",
       "      <td>...</td>\n",
       "      <td>...</td>\n",
       "      <td>...</td>\n",
       "      <td>...</td>\n",
       "      <td>...</td>\n",
       "    </tr>\n",
       "    <tr>\n",
       "      <th>91736</th>\n",
       "      <td>2015-12-31</td>\n",
       "      <td>20:27</td>\n",
       "      <td>Male</td>\n",
       "      <td>1986.0</td>\n",
       "      <td>29.0</td>\n",
       "      <td>White</td>\n",
       "      <td>Speeding</td>\n",
       "      <td>Speeding</td>\n",
       "      <td>False</td>\n",
       "      <td>NaN</td>\n",
       "      <td>Warning</td>\n",
       "      <td>False</td>\n",
       "      <td>0-15 Min</td>\n",
       "      <td>False</td>\n",
       "      <td>NaN</td>\n",
       "      <td>2015-12-31 20:27:00</td>\n",
       "    </tr>\n",
       "    <tr>\n",
       "      <th>91737</th>\n",
       "      <td>2015-12-31</td>\n",
       "      <td>20:35</td>\n",
       "      <td>F</td>\n",
       "      <td>1982.0</td>\n",
       "      <td>33.0</td>\n",
       "      <td>White</td>\n",
       "      <td>Equipment/Inspection Violation</td>\n",
       "      <td>Equipment</td>\n",
       "      <td>False</td>\n",
       "      <td>NaN</td>\n",
       "      <td>Warning</td>\n",
       "      <td>False</td>\n",
       "      <td>0-15 Min</td>\n",
       "      <td>False</td>\n",
       "      <td>NaN</td>\n",
       "      <td>2015-12-31 20:35:00</td>\n",
       "    </tr>\n",
       "    <tr>\n",
       "      <th>91738</th>\n",
       "      <td>2015-12-31</td>\n",
       "      <td>20:45</td>\n",
       "      <td>Male</td>\n",
       "      <td>1992.0</td>\n",
       "      <td>23.0</td>\n",
       "      <td>White</td>\n",
       "      <td>Other Traffic Violation</td>\n",
       "      <td>Moving violation</td>\n",
       "      <td>False</td>\n",
       "      <td>NaN</td>\n",
       "      <td>Warning</td>\n",
       "      <td>False</td>\n",
       "      <td>0-15 Min</td>\n",
       "      <td>False</td>\n",
       "      <td>NaN</td>\n",
       "      <td>2015-12-31 20:45:00</td>\n",
       "    </tr>\n",
       "    <tr>\n",
       "      <th>91739</th>\n",
       "      <td>2015-12-31</td>\n",
       "      <td>21:42</td>\n",
       "      <td>Male</td>\n",
       "      <td>1993.0</td>\n",
       "      <td>22.0</td>\n",
       "      <td>White</td>\n",
       "      <td>Speeding</td>\n",
       "      <td>Speeding</td>\n",
       "      <td>False</td>\n",
       "      <td>NaN</td>\n",
       "      <td>Citation</td>\n",
       "      <td>False</td>\n",
       "      <td>0-15 Min</td>\n",
       "      <td>False</td>\n",
       "      <td>NaN</td>\n",
       "      <td>2015-12-31 21:42:00</td>\n",
       "    </tr>\n",
       "    <tr>\n",
       "      <th>91740</th>\n",
       "      <td>2015-12-31</td>\n",
       "      <td>22:46</td>\n",
       "      <td>Male</td>\n",
       "      <td>1959.0</td>\n",
       "      <td>56.0</td>\n",
       "      <td>Hispanic</td>\n",
       "      <td>Speeding</td>\n",
       "      <td>Speeding</td>\n",
       "      <td>False</td>\n",
       "      <td>NaN</td>\n",
       "      <td>Citation</td>\n",
       "      <td>False</td>\n",
       "      <td>0-15 Min</td>\n",
       "      <td>False</td>\n",
       "      <td>NaN</td>\n",
       "      <td>2015-12-31 22:46:00</td>\n",
       "    </tr>\n",
       "  </tbody>\n",
       "</table>\n",
       "<p>91741 rows × 16 columns</p>\n",
       "</div>"
      ],
      "text/plain": [
       "        stop_date stop_time driver_gender  driver_age_raw  driver_age  \\\n",
       "0      2005-01-02     01:55          Male          1985.0        20.0   \n",
       "1      2005-01-18     08:15          Male          1965.0        40.0   \n",
       "2      2005-01-23     23:15          Male          1972.0        33.0   \n",
       "3      2005-02-20     17:15          Male          1986.0        19.0   \n",
       "4      2005-03-14     10:00             F          1984.0        21.0   \n",
       "...           ...       ...           ...             ...         ...   \n",
       "91736  2015-12-31     20:27          Male          1986.0        29.0   \n",
       "91737  2015-12-31     20:35             F          1982.0        33.0   \n",
       "91738  2015-12-31     20:45          Male          1992.0        23.0   \n",
       "91739  2015-12-31     21:42          Male          1993.0        22.0   \n",
       "91740  2015-12-31     22:46          Male          1959.0        56.0   \n",
       "\n",
       "      driver_race                   violation_raw         violation  \\\n",
       "0           White                        Speeding          Speeding   \n",
       "1           White                        Speeding          Speeding   \n",
       "2           White                        Speeding          Speeding   \n",
       "3           White                Call for Service             Other   \n",
       "4           White                        Speeding          Speeding   \n",
       "...           ...                             ...               ...   \n",
       "91736       White                        Speeding          Speeding   \n",
       "91737       White  Equipment/Inspection Violation         Equipment   \n",
       "91738       White         Other Traffic Violation  Moving violation   \n",
       "91739       White                        Speeding          Speeding   \n",
       "91740    Hispanic                        Speeding          Speeding   \n",
       "\n",
       "       search_conducted search_type   stop_outcome is_arrested stop_duration  \\\n",
       "0                 False         NaN       Citation       False      0-15 Min   \n",
       "1                 False         NaN       Citation       False      0-15 Min   \n",
       "2                 False         NaN       Citation       False      0-15 Min   \n",
       "3                 False         NaN  Arrest Driver        True     16-30 Min   \n",
       "4                 False         NaN       Citation       False      0-15 Min   \n",
       "...                 ...         ...            ...         ...           ...   \n",
       "91736             False         NaN        Warning       False      0-15 Min   \n",
       "91737             False         NaN        Warning       False      0-15 Min   \n",
       "91738             False         NaN        Warning       False      0-15 Min   \n",
       "91739             False         NaN       Citation       False      0-15 Min   \n",
       "91740             False         NaN       Citation       False      0-15 Min   \n",
       "\n",
       "       drugs_related_stop Frisk            DateTime  \n",
       "0                   False   NaN 2005-01-02 01:55:00  \n",
       "1                   False   NaN 2005-01-18 08:15:00  \n",
       "2                   False   NaN 2005-01-23 23:15:00  \n",
       "3                   False   NaN 2005-02-20 17:15:00  \n",
       "4                   False   NaN 2005-03-14 10:00:00  \n",
       "...                   ...   ...                 ...  \n",
       "91736               False   NaN 2015-12-31 20:27:00  \n",
       "91737               False   NaN 2015-12-31 20:35:00  \n",
       "91738               False   NaN 2015-12-31 20:45:00  \n",
       "91739               False   NaN 2015-12-31 21:42:00  \n",
       "91740               False   NaN 2015-12-31 22:46:00  \n",
       "\n",
       "[91741 rows x 16 columns]"
      ]
     },
     "execution_count": 157,
     "metadata": {},
     "output_type": "execute_result"
    }
   ],
   "source": [
    "df"
   ]
  },
  {
   "cell_type": "markdown",
   "metadata": {},
   "source": [
    "#### Webscrapping"
   ]
  },
  {
   "cell_type": "code",
   "execution_count": null,
   "metadata": {},
   "outputs": [],
   "source": [
    "https://www.nytimes.com/interactive/2017/06/23/opinion/trumps-lies.html"
   ]
  },
  {
   "cell_type": "markdown",
   "metadata": {},
   "source": [
    "1. HTML contains tags\n",
    "\n",
    "2. Tags can have attributes\n",
    "\n",
    "3. Tags can be nested"
   ]
  },
  {
   "cell_type": "code",
   "execution_count": null,
   "metadata": {},
   "outputs": [],
   "source": [
    "The code shoult have a pattern"
   ]
  },
  {
   "cell_type": "code",
   "execution_count": null,
   "metadata": {},
   "outputs": [],
   "source": [
    "<span class=\"short-desc\"><strong>Jan. 21&nbsp;</strong>“I wasn't a fan of Iraq. I didn't want to go into Iraq.” \n",
    "<span class=\"short-truth\">\n",
    "<a href=\"https://www.buzzfeed.com/andrewkaczynski/in-2002-donald-trump-said-he-supported-invading-iraq-on-the\" target=\"_blank\">\n",
    "(He was for an invasion before he was against it.)\n",
    "</a>\n",
    "</span>\n",
    "</span>\n",
    "\n",
    "&nbsp;&nbsp;\n",
    "<span class=\"short-desc\"><strong>Jan. 21&nbsp;</strong>“A reporter for Time magazine — and I have been on their cover 14 or 15 times. I think we have the all-time record in the history of Time magazine.” \n",
    "<span class=\"short-truth\"><a href=\"http://nation.time.com/2013/11/06/10-things-you-didnt-know-about-time/\" target=\"_blank\">\n",
    "(Trump was on the cover 11 times and Nixon appeared 55 times.)\n",
    "</a>\n",
    "</span>\n",
    "</span>"
   ]
  },
  {
   "cell_type": "code",
   "execution_count": 158,
   "metadata": {},
   "outputs": [],
   "source": [
    "import requests"
   ]
  },
  {
   "cell_type": "code",
   "execution_count": 159,
   "metadata": {},
   "outputs": [],
   "source": [
    "r = requests.get('https://www.nytimes.com/interactive/2017/06/23/opinion/trumps-lies.html')"
   ]
  },
  {
   "cell_type": "code",
   "execution_count": 161,
   "metadata": {
    "collapsed": true
   },
   "outputs": [
    {
     "data": {
      "text/plain": [
       "'<!DOCTYPE html>\\n<!--[if (gt IE 9)|!(IE)]> <!--><html lang=\"en\" class=\"no-js page-interactive section-opinion page-theme-standard tone-opinion page-interactive-default limit-small layout-xlarge app-interactive\" itemid=\"https://www.nytimes.com/interactive/2017/06/23/opinion/trumps-lies.html\" itemtype=\"http://schema.org/NewsArticle\" itemscope xmlns:og=\"http://opengraphprotocol.org/schema/\"><!--<![endif]-->\\n<!--[if IE 9]> <html lang=\"en\" class=\"no-js ie9 lt-ie10 page-interactive section-opinion page-theme-standard tone-opinion page-interactive-default limit-small layout-xlarge app-interactive\" xmlns:og=\"http://opengraphprotocol.org/schema/\"> <![endif]-->\\n<!--[if IE 8]> <html lang=\"en\" class=\"no-js ie8 lt-ie10 lt-ie9 page-interactive section-opinion page-theme-standard tone-opinion page-interactive-default limit-small layout-xlarge app-interactive\" xmlns:og=\"http://opengraphprotocol.org/schema/\"> <![endif]-->\\n<!--[if (lt IE 8)]> <html lang=\"en\" class=\"no-js lt-ie10 lt-ie9 lt-ie8 page-interactive section-opinion page-theme-standard tone-opinion page-interactive-default limit-small layout-xlarge app-interactive\" xmlns:og=\"http://opengraphprotocol.org/schema/\"> <![endif]-->\\n<head>\\n<script>\\nif (document.location.search.indexOf(\\'nytapp=true\\') > -1) document.documentElement.classList.add(\\'nyt-hide-shell\\');\\nvar userAgent = window.navigator.userAgent || window.navigator.vendor || window.opera;\\nvar inAndroid = userAgent.indexOf(\\'nyt_android\\') !== -1;\\nvar iniOS = userAgent.indexOf(\\'nytios\\') !== -1;\\nif (inAndroid || iniOS) document.documentElement.classList.add(\\'nyt-hide-shell\\');\\n</script>\\n<meta charset=\"utf-8\" />\\n<meta http-equiv=\"X-UA-Compatible\" content=\"IE=edge\" />\\n<meta name=\"viewport\" content=\"width=device-width, initial-scale=1, maximum-scale=1\" />\\n<link rel=\"shortcut icon\" href=\"https://static01.nyt.com/favicon.ico\" />\\n<link rel=\"apple-touch-icon-precomposed\" sizes=\"144×144\" href=\"https://static01.nyt.com/images/icons/ios-ipad-144x144.png\" />\\n<link rel=\"apple-touch-icon-precomposed\" sizes=\"114×114\" href=\"https://static01.nyt.com/images/icons/ios-iphone-114x144.png\" />\\n<link rel=\"apple-touch-icon-precomposed\" href=\"https://static01.nyt.com/images/icons/ios-default-homescreen-57x57.png\" />\\n<meta property=\"fb:app_id\" content=\"9869919170\" />\\n<meta name=\"twitter:site\" value=\"@nytimes\" />\\n<meta name=\"sourceApp\" content=\"nyt-v5\" />\\n<meta name=\"applicationName\" content=\"interactive\" id=\"applicationName\" />\\n<meta name=\"foundation-build-id\" content=\"nyt-v5\" id=\"foundation-build-id\" />\\n<link rel=\"canonical\" href=\"https://www.nytimes.com/interactive/2017/06/23/opinion/trumps-lies.html\" />\\n<meta name=\"PT\" content=\"Multimedia\" />\\n<meta name=\"PST\" content=\"Interactive\" />\\n<meta name=\"tom\" content=\"interactive_feature\" />\\n<meta name=\"hdl\" content=\"President Trump’s Lies, the Definitive List\" />\\n<meta name=\"slug\" content=\"trumps-lies\" />\\n<meta name=\"lp\" content=\"We have catalogued nearly every outright lie the president has told publicly since taking the oath of office.\" />\\n<meta name=\"col\" content=\"\" id=\"column-name\" />\\n<meta name=\"dfp-ad-unit-path\" content=\"opinion\" />\\n\\n<meta name=\"keywords\" content=\"Trump, Donald J,Rumors and Misinformation,United States Politics and Government\" />\\n\\n<meta property=\"article:collection\" content=\"https://static01.nyt.com/services/json/sectionfronts/opinion/index.jsonp\" />\\n<meta name=\"DISPLAYDATE\" content=\"June 23, 2017\" />\\n<meta name=\"dat\" content=\"June 23, 2017\" />\\n<meta name=\"author\" content=\"David Leonhardt\" /><meta name=\"author\" content=\"Stuart A. Thompson\" />\\n<title data-rh=\"true\">Opinion | President Trump’s Lies, the Definitive List - The New York Times</title><meta data-rh=\"true\" property=\"article:modified_time\" content=\"2017-12-14T19:13:05.195Z\"/><meta data-rh=\"true\" http-equiv=\"Content-Language\" content=\"en\"/><meta data-rh=\"true\" name=\"robots\" content=\"noarchive\"/><meta data-rh=\"true\" name=\"articleid\" content=\"100000005182490\"/><meta data-rh=\"true\" name=\"nyt_uri\" content=\"nyt://interactive/89eb77cc-9b68-5318-8115-601b1c9a9eb0\"/><meta data-rh=\"true\" name=\"pubp_event_id\" content=\"pubp://event/02dbe81084f241d1ad69362d176586bb\"/><meta data-rh=\"true\" name=\"description\" content=\"We have catalogued nearly every outright lie the president has told publicly since taking the oath of office.\"/><meta data-rh=\"true\" name=\"image\" content=\"https://static01.nyt.com/images/2018/03/20/opinion/20conversation/trumps-lies-1498195684607-facebookJumbo.jpg\"/><meta data-rh=\"true\" name=\"byl\" content=\"By David Leonhardt and Stuart A. Thompson\"/><meta data-rh=\"true\" name=\"news_keywords\" content=\"Donald Trump,Rumors and Misinformation,US Politics\"/><meta data-rh=\"true\" name=\"pdate\" content=\"20170623\"/><meta data-rh=\"true\" property=\"og:url\" content=\"https://www.nytimes.com/interactive/2017/06/23/opinion/trumps-lies.html\"/><meta data-rh=\"true\" property=\"og:type\" content=\"article\"/><meta data-rh=\"true\" property=\"og:title\" content=\"Opinion | President Trump’s Lies, the Definitive List\"/><meta data-rh=\"true\" property=\"og:image\" content=\"https://static01.nyt.com/images/2018/03/20/opinion/20conversation/trumps-lies-1498195684607-facebookJumbo.jpg\"/><meta data-rh=\"true\" property=\"og:image:alt\" content=\"\"/><meta data-rh=\"true\" property=\"og:description\" content=\"We have catalogued nearly every outright lie the president has told publicly since taking the oath of office.\"/><meta data-rh=\"true\" property=\"twitter:url\" content=\"https://www.nytimes.com/interactive/2017/06/23/opinion/trumps-lies.html\"/><meta data-rh=\"true\" property=\"twitter:title\" content=\"Opinion | President Trump’s Lies, the Definitive List\"/><meta data-rh=\"true\" property=\"twitter:description\" content=\"We have catalogued nearly every outright lie the president has told publicly since taking the oath of office.\"/><meta data-rh=\"true\" property=\"twitter:image\" content=\"https://static01.nyt.com/images/2018/03/20/opinion/20conversation/trumps-lies-1498195684607-videoSixteenByNine3000.jpg\"/><meta data-rh=\"true\" property=\"twitter:image:alt\" content=\"\"/><meta data-rh=\"true\" property=\"twitter:card\" content=\"summary_large_image\"/><meta data-rh=\"true\" property=\"article:section\" content=\"Opinion\"/><meta data-rh=\"true\" property=\"article:author\" content=\"http://www.nytimes.com/by/david-leonhardt\"/><meta data-rh=\"true\" property=\"article:author\" content=\"https://www.nytimes.com/by/stuart-a-thompson\"/><meta data-rh=\"true\" property=\"article:tag\" content=\"Trump, Donald J\"/><meta data-rh=\"true\" property=\"article:tag\" content=\"Rumors and Misinformation\"/><meta data-rh=\"true\" property=\"article:tag\" content=\"United States Politics and Government\"/><meta data-rh=\"true\" property=\"article:opinion\" content=\"true\"/><meta data-rh=\"true\" property=\"article:content_tier\" content=\"metered\"/><meta data-rh=\"true\" name=\"CG\" content=\"opinion\"/><meta data-rh=\"true\" name=\"SCG\" content=\"\"/><meta data-rh=\"true\" name=\"CN\" content=\"\"/><meta data-rh=\"true\" name=\"CT\" content=\"\"/><meta data-rh=\"true\" name=\"hostApp\" content=\"vi\"/><meta data-rh=\"true\" name=\"adtargeting\" content=\"{}\"/><link data-rh=\"true\" rel=\"shortcut icon\" href=\"/vi-assets/static-assets/favicon-d2483f10ef688e6f89e23806b9700298.ico\"/><link data-rh=\"true\" rel=\"apple-touch-icon\" href=\"/vi-assets/static-assets/apple-touch-icon-28865b72953380a40aa43318108876cb.png\"/><link data-rh=\"true\" rel=\"apple-touch-icon-precomposed\" sizes=\"144×144\" href=\"/vi-assets/static-assets/ios-ipad-144x144-28865b72953380a40aa43318108876cb.png\"/><link data-rh=\"true\" rel=\"apple-touch-icon-precomposed\" sizes=\"114×114\" href=\"/vi-assets/static-assets/ios-iphone-114x144-080e7ec6514fdc62bcbb7966d9b257d2.png\"/><link data-rh=\"true\" rel=\"apple-touch-icon-precomposed\" href=\"/vi-assets/static-assets/ios-default-homescreen-57x57-43808a4cd5333b648057a01624d84960.png\"/><link data-rh=\"true\" rel=\"canonical\" href=\"https://www.nytimes.com/interactive/2017/06/23/opinion/trumps-lies.html\"/>\\n<link id=\"legacy-zam5nzz\" rel=\"stylesheet\" type=\"text/css\" href=\"https://typeface.nyt.com/css/zam5nzz.css\" media=\"all\" />\\n<link rel=\"stylesheet\" type=\"text/css\" media=\"screen\" href=\"/vi-assets/static-assets/nyt5/20190823-143533-mbipe/css/styles.css\" />\\n\\n<style>.interactive-graphic > iframe { margin-left: auto !important; margin-right: auto !important; }</style>\\n\\n      <script>\\n      !function(r){var n,t;r=r||self,n=r.Abra,(t=r.Abra=function(){\"use strict\";var r=Array.isArray,n=function(r,n,t){var e=r(t,n),u=e[0],o=e[1];if(null==u||\"\"===u)return n;for(var i=String(u).split(\".\"),a=0;a<i.length&&(n=n[i[a]]);a++);return null==n&&(n=o),null!=n?n:null},t=function(r,n,t){return r(t,n).reduce((function(r,n){return parseFloat(r)+parseFloat(n)}),0)},e=function(r,n,t){var e=r(t,n);return e[0]/e[1]},u=function(r,n,t){var e=r(t,n);return e[0]%e[1]},o=function(r,n,t){return r(t,n).reduce((function(r,n){return parseFloat(r)*parseFloat(n)}),1)},i=function(r,n,t){var e=r(t,n),u=e[0],o=e[1];return void 0===o?-u:u-o};function a(n){return!(r(n)&&0===n.length||!n)}var f=function(r,n,t){for(var e,u=0;u<t.length;u++)if(!a(e=r(t[u],n)))return e;return e},c=function(r,n,t){var e;for(e=0;e<t.length-1;e+=2)if(a(r(t[e],n)))return r(t[e+1],n);return t.length===e+1?r(t[e],n):null},l=function(r,n,t){return!a(r(t,n)[0])},v=function(r,n,t){for(var e,u=0;u<t.length;u++)if(a(e=r(t[u],n)))return e;return e},d=function(r,n,t){var e=r(t,n);return e[0]===e[1]},s=function(r,n,t){var e=r(t,n);return e[0]!==e[1]},h=function(r,n,t){var e=r(t,n),u=e[0],o=e[1];return!(!o||void 0===o.indexOf)&&-1!==o.indexOf(u)},g=function(r,n,t){var e=r(t,n);return e[0]>e[1]},p=function(r,n,t){var e=r(t,n);return e[0]>=e[1]},b=function(r,n,t){var e=r(t,n),u=e[0],o=e[1],i=e[2];return void 0===i?u<o:u<o&&o<i},w=function(r,n,t){var e=r(t,n),u=e[0],o=e[1],i=e[2];return void 0===i?u<=o:u<=o&&o<=i},y=function(r,n,t){var e=t[0],u=t[1],o=t.slice(2),i=r(e,n);if(!i)return null;if(0===o.length)return null;if(1===o.length)return r(o[0],n);if(4294967295===o[0])return r(o[1],n);for(var a=function(r){var n,t,e,u,o,i=[],a=[t=1732584193,e=4023233417,~t,~e,3285377520],f=[],c=unescape(encodeURI(r))+\"\\\\x80\",l=c.length;for(f[r=--l/4+2|15]=8*l;~l;)f[l>>2]|=c.charCodeAt(l)<<8*~l--;for(n=l=0;n<r;n+=16){for(t=a;l<80;t=[t[4]+(i[l]=l<16?~~f[n+l]:2*c|c<0)+1518500249+[e&u|~e&o,c=341275144+(e^u^o),882459459+(e&u|e&o|u&o),c+1535694389][l++/5>>2]+((c=t[0])<<5|c>>>27),c,e<<30|e>>>2,u,o])c=i[l-3]^i[l-8]^i[l-14]^i[l-16],e=t[1],u=t[2],o=t[3];for(l=5;l;)a[--l]+=t[l]}return a[0]>>>0}(i+\" \"+r(u,n));o.length>1;){var f=o.splice(0,2),c=f[0],l=f[1];if(a<=r(c,n))return r(l,n)}return 0===o.length?null:r(o[0],n)},k=function(r,n,t){var e=t[0],u=t[1],o=r(e,n);return null==o?null:new RegExp(u).test(o)};return function(a,m,O,A){void 0===a&&(a={}),void 0===m&&(m={}),void 0===O&&(O={}),void 0===A&&(A=!1);var j=function(){var r={},n=function(n){if(n)for(var t,e=decodeURIComponent(n[1]),u=/(?:^|,)([^,=]+)=([^,]*)/g;t=u.exec(e);){var o=t,i=o[1],a=o[2];r[i]=a||null}};n(document.cookie.match(/(?:^|;) *abra-overrides=([^;]+)/)),n(window.location.search.match(/(?:\\\\?|&)abra-overrides=([^&]+)/));var t=/(?:^|;) *abra-nuke=true(?:;|$)/.test(document.cookie)||/(?:\\\\?|&)abra-nuke=true(?:&|$)/.test(window.location.search);return[r,t]}(),x=j[0],E=j[1];Object.keys(O).forEach((function(r){x[r]=O[r]}));var F,C=A||E,R=(F={var:n,if:c,\"===\":d,\"!==\":s,and:f,or:v,\"!\":l,\">\":g,\">=\":p,\"<\":b,\"<=\":w,\"+\":t,\"-\":i,\"*\":o,\"/\":e,\"%\":u,in:h,abtest_partition:y,regex_match:k,ref:function(r,n,t){var e=r(t,n)[0];return U(e)}},function n(t,e){if(e||(e={}),r(t))return t.map((function(r){return n(r,e)}));if(!function(n){return\"object\"==typeof n&&null!==n&&!r(n)&&1===Object.keys(n).length}(t))return t;var u=function(r){return Object.keys(r)[0]}(t),o=t[u];r(o)||(o=[o]);var i=F[u];if(!i)throw new Error(\"Unrecognized operation \"+u);return i(n,e,o)}),U=function(r){if(!r)return null;var n=x[r];if(void 0===n){if(!C){if(Object.prototype.hasOwnProperty.call(x,r))throw new Error(\"circular logic\");x[r]=void 0,n=R(a[r],m)}void 0===n&&(n=null),x[r]=n}return n};return U}}()).noConflict=function(){return r.Abra=n,t}}(this);\\n\\n      (function () { var NYTD=\"undefined\"!=typeof window&&window.NYTD?window.NYTD:{};var _f=function(t){window.Abra&&\"function\"==typeof window.Abra&&(NYTD.Abra=function(r){var a=(r.document.cookie.match(/(?:^|;) *nyt-a=([^;]*)/)||[])[1],e=[];r.dataLayer=r.dataLayer||[],o.config=t.abraConfig||{},o.reportedAllocations={},o.reportedExposures={};var n=(t.abraURL||\"\").match(/current[/]([a-zA-Z-]+).json/i);o.integration=n&&n.length>1?n[1]:\"\";try{o.version=r.Abra(o.config)(\".ver\")}catch(t){o.version=0}function o(t){return o.getAbraSync(t).variant}return o.getAbraSync=function(t){var e=null,n=!1;try{e=r.Abra(o.config,{agent_id:a})(t),n=!0}catch(t){}return{variant:e,allocated:n}},o.reportExposure=function(t){var a=o.getAbraSync(t).variant;void 0!==o.reportedExposures[t]&&a===o.reportedExposures[t]||(o.reportedExposures[t]=a,r.dataLayer.push({event:\"ab-expose\",abtest:{test:t,variant:a||\"0\",config_ver:o.version,integration:o.integration}}))},Object.keys(o.config).filter(function(t){return!t.includes(\".\")}).forEach(function(t){var r=o.getAbraSync(t);r.allocated&&(o.reportedAllocations[t]=r.variant,e.push({test:t,variant:r.variant}))}),r.dataLayer.push({event:\"ab-alloc\",abtest:{batch:e}}),o}(this))};;_f.apply(null, [{\"abraConfig\":{\".ver\":6558,\"styln-elections-2020-voting\":{\"if\":[{\"and\":[{\"===\":[{\"ref\":\"STYLN_pharmacy_components\"},\"show\"]},{\"===\":[{\"ref\":\"styln-elections-2020\"},\"1_Show\"]}]},{\"abtest_partition\":[{\"var\":\"agent_id\"},\"styln-elections-2020-voting\",429496729,\"0_Control\",4294967295,\"1_Show\"]}]},\"APP_2021H1_SLS\":{\"if\":[{\"and\":[{\"===\":[{\"var\":\"user_type\"},\"sub\"]}]},{\"abtest_partition\":[{\"var\":\"regi_id\"},\"APP_2021H1_SLS\",3865470565,\"0_Control\"]}]},\"FREEX_Regi_Bundle_Sale\":{\"abtest_partition\":[{\"var\":\"agent_id\"},\"FREEX_Regi_Bundle_Sale\",4294967295,\"0_Sale\"]},\"styln-coronavirus-schools-reopening\":{\"if\":[{\"and\":[{\"===\":[{\"ref\":\"STYLN_pharmacy_components\"},\"show\"]},{\"===\":[{\"ref\":\"styln-coronavirus\"},\"1_Show\"]}]},{\"abtest_partition\":[{\"var\":\"agent_id\"},\"styln-coronavirus-schools-reopening\",214748364,\"0_Control\",4294967295,\"1_Show\"]}]},\"ACCT_CTCOfferTest\":{\"abtest_partition\":[{\"var\":\"regi_id\"},\"MKT_CTCOfferTest\",4294967295,\"1_newoffer\"]},\"MKT_first_party_data_survey_subs_inline\":{\"abtest_partition\":[{\"var\":\"agent_id\"},\"MKT_first_party_data_survey_subs_inline\",4080218930,\"0_control\",4294967295,\"1_survey\"]},\"styln-french-language\":{\"if\":[{\"and\":[{\"===\":[{\"ref\":\"STYLN_pharmacy_components\"},\"show\"]}]},{\"abtest_partition\":[{\"var\":\"agent_id\"},\"styln-french-language\",214748364,\"0_Control\",4294967295,\"1_Show\"]}]},\"styln-books-general\":{\"if\":[{\"and\":[{\"===\":[{\"ref\":\"STYLN_pharmacy_components\"},\"show\"]}]},{\"abtest_partition\":[{\"var\":\"agent_id\"},\"styln-books-general\",214748364,\"0_Control\",4294967295,\"1_Show\"]}]},\"styln-nyc-mayor-guide\":{\"if\":[{\"and\":[{\"===\":[{\"ref\":\"STYLN_pharmacy_components\"},\"show\"]}]},{\"abtest_partition\":[{\"var\":\"agent_id\"},\"styln-nyc-mayor-guide\",2147483647,\"0_Control\",4294967295,\"1_Show\"]}]},\"styln-faq-swipe-test\":{\"abtest_partition\":[{\"var\":\"agent_id\"},\"styln-faq-swipe-test\",257698037,\"0_Control\",1689210637,\"1_Show\",2276332666,\"1_Show\",4294967295,\"2_Swipe\"]},\"styln-california\":{\"if\":[{\"and\":[{\"===\":[{\"ref\":\"STYLN_pharmacy_components\"},\"show\"]}]},{\"abtest_partition\":[{\"var\":\"agent_id\"},\"styln-california\",214748364,\"0_Control\",4294967295,\"1_Show\"]}]},\"styln-george-floyd\":{\"if\":[{\"and\":[{\"===\":[{\"ref\":\"STYLN_pharmacy_components\"},\"show\"]}]},{\"abtest_partition\":[{\"var\":\"agent_id\"},\"styln-george-floyd\",214748364,\"0_Control\",4294967295,\"1_Show\"]}]},\"styln-inauguration\":{\"if\":[{\"and\":[{\"===\":[{\"ref\":\"STYLN_pharmacy_components\"},\"show\"]}]},{\"abtest_partition\":[{\"var\":\"agent_id\"},\"styln-inauguration\",214748364,\"0_Control\",4294967295,\"1_Show\"]}]},\"styln-nobel-2020\":{\"if\":[{\"and\":[{\"===\":[{\"ref\":\"STYLN_pharmacy_components\"},\"show\"]}]},{\"abtest_partition\":[{\"var\":\"agent_id\"},\"styln-nobel-2020\",214748364,\"0_Control\",4294967295,\"1_Show\"]}]},\"styln-coronavirus-es\":{\"if\":[{\"and\":[{\"===\":[{\"ref\":\"STYLN_pharmacy_components\"},\"show\"]}]},{\"abtest_partition\":[{\"var\":\"agent_id\"},\"styln-coronavirus-es\",214748364,\"0_Control\",4294967295,\"1_Show\"]}]},\"MKT_CKGiftLPTest_creativeredesign\":{\"abtest_partition\":[{\"var\":\"agent_id\"},\"MKT_CKGiftLPTest_creativeredesign\",1431512599,\"0_control\",2863025199,\"1_ck_gift_shortlp\",4294537798,\"2_ck_gift_longlp\"]},\"MAPS_foryou_optin_0421\":{\"if\":[{\"and\":[{\"in\":[{\"var\":\"user_type\"},[\"regi\"]]},{\"===\":[{\"ref\":\"ON_MAPS_audience_split\"},\"1_maps\"]}]},{\"abtest_partition\":[{\"var\":\"agent_id\"},\"MAPS_foryou_optin_0421\",1431512599,\"0_control\",2863025199,\"1_interests\",4294537798,\"2_auto_optin\"]}]},\"styln-hurricanes\":{\"if\":[{\"and\":[{\"===\":[{\"ref\":\"STYLN_pharmacy_components\"},\"show\"]}]},{\"abtest_partition\":[{\"var\":\"agent_id\"},\"styln-hurricanes\",214748364,\"0_Control\",4294967295,\"1_Show\"]}]},\"SA_Referral_DFP_April2020_Test\":{\"abtest_partition\":[{\"var\":\"agent_id\"},\"SA_Referral_DFP_April2020_Test\",2147483647,\"1_yellow_evergreen\",4294967295,\"2_yellow_moment\"]},\"styln-elections-es\":{\"if\":[{\"and\":[{\"===\":[{\"ref\":\"STYLN_pharmacy_components\"},\"show\"]}]},{\"abtest_partition\":[{\"var\":\"agent_id\"},\"styln-elections-es\",214748364,\"0_Control\",4294967295,\"1_Show\"]}]},\"styln-identity-theft-guide\":{\"if\":[{\"and\":[{\"===\":[{\"ref\":\"STYLN_pharmacy_components\"},\"show\"]}]},{\"abtest_partition\":[{\"var\":\"agent_id\"},\"styln-identity-theft-guide\",2147483647,\"0_Control\",4294967295,\"1_Show\"]}]},\"MAPS_themorning_holdout_2021H1\":{\"if\":[{\"and\":[{\"in\":[{\"var\":\"user_type\"},[\"anon\",\"regi\"]]}]},{\"abtest_partition\":[{\"var\":\"agent_id\"},\"MAPS_themorning_holdout_2021H1\",429496729,\"0_control\",858993458,\"1_no_auto\",4294967295,\"excluded\"]}]},\"STYLN_lb_pinned_video\":{\"abtest_partition\":[{\"var\":\"agent_id\"},\"STYLN_lb_pinned_video\",4294967295,\"1_pin\"]},\"styln-music-guide\":{\"if\":[{\"and\":[{\"===\":[{\"ref\":\"STYLN_pharmacy_components\"},\"show\"]}]},{\"abtest_partition\":[{\"var\":\"agent_id\"},\"styln-music-guide\",2147483647,\"0_Control\",4294967295,\"1_Show\"]}]},\"MKT_anon_ecd_dock\":{\"abtest_partition\":[{\"var\":\"agent_id\"},\"MKT_anon_ecd_dock\",715827882,\"0_control\",1431655764,\"1_dollar_per_week\",2147483647,\"2_help_journalists\",2863311530,\"3_enjoy_digital\",3579139412,\"4_control_w_cancel\",4294967295,\"5_almost_out_articles\"]},\"INBOX_individualpage_redesign\":{\"abtest_partition\":[{\"var\":\"agent_id\"},\"INBOX_individualpage_redesign\",4294967295,\"0_control\"]},\"STYLN_live_updates\":{\"abtest_partition\":[{\"var\":\"agent_id\"},\"STYLN_live_updates\",214748364,\"0_control\",429496729,\"2_live_updates\",4294967295,\"1_live_updates\"]},\"MC_DFP_topbar_bar_anon_1019\":{\"abtest_partition\":[{\"var\":\"agent_id\"},\"MC_DFP_topbar_bar_anon_1019\",4294967295,\"0_control\"]},\"STYLN_liveblog_email\":{\"abtest_partition\":[{\"var\":\"agent_id\"},\"STYLN_liveblog_email\",2147483647,\"0_control\",4294967295,\"1_signup\"]},\"STYLN_live_conventions_push\":{\"abtest_partition\":[{\"var\":\"agent_id\"},\"STYLN_live_conventions_push\",429496729,\"0_hide\",1503238553,\"1_show\",1687492650,\"0_hide\",2147483647,\"1_show\",2761234474,\"0_hide\",4294967295,\"1_show\"]},\"MKT_dfp_hd_paywall_zip\":{\"abtest_partition\":[{\"var\":\"agent_id\"},\"MKT_dfp_hd_paywall_zip\",2147483647,\"0_control\",4294967295,\"1_zip\"]},\"dfp_adslot4v2\":{\"abtest_partition\":[{\"var\":\"agent_id\"},\"dfp_adslot4v2\",4294967295,\"1_external\"]},\"STYLN_feedback_form\":{\"abtest_partition\":[{\"var\":\"agent_id\"},\"STYLN_feedback_form\",3006477106,\"0_control_feedback_form\",4294967295,\"1_feedback_form\"]},\"DFP_als_home\":{\"abtest_partition\":[{\"var\":\"agent_id\"},\"DFP_als_home\",4294967295,\"1_als\"]},\"DFP_mt\":{\"abtest_partition\":[{\"var\":\"agent_id\"},\"DFP_mt\",1932735282,\"0_control\",3865470565,\"1_mt\",4294967295,\"2_hdt\"]},\"STYLN_remove_relatedlinks\":{\"abtest_partition\":[{\"var\":\"agent_id\"},\"STYLN_remove_relatedlinks\",4252017622,\"0_control_STYLN_remove_relatedlinks\",4294967295,\"1_remove_relatedlinks\"]},\"STYLN_live_covid_markets_push\":{\"abtest_partition\":[{\"var\":\"agent_id\"},\"STYLN_live_covid_markets_push\",214748364,\"0_hide\",1288490188,\"1_show\",4294967295,\"1_show\"]},\"MKT_timeout_pw_intl_0620\":{\"abtest_partition\":[{\"var\":\"agent_id\"},\"MKT_timeout_pw_intl_0620\",4294967295,\"1_noreauth\"]},\"SA_Referral_iframe_0520\":{\"abtest_partition\":[{\"var\":\"agent_id\"},\"SA_Referral_iframe_0520\",4294967295,\"1_useiframe\"]},\"STYLN_live_transition_alerts\":{\"abtest_partition\":[{\"var\":\"agent_id\"},\"STYLN_live_transition_alerts\",4294967295,\"1_show\"]},\"MKT_welcome_ad_stp_1120\":{\"abtest_partition\":[{\"var\":\"agent_id\"},\"MKT_welcome_ad_stp_1120\",2147483647,\"0_control\",4294967295,\"1_welcome_stp\"]},\"STYLN_live_newupdates\":{\"abtest_partition\":[{\"var\":\"agent_id\"},\"STYLN_live_newupdates\",214748364,\"control\",4294967295,\"variant\"]},\"STORY_topical_recirc\":{\"abtest_partition\":[{\"var\":\"agent_id\"},\"STORY_topical_recirc\",2147483647,\"0_control\",4294967295,\"1_variant\"]},\"MKT_timeout_pw_0520\":{\"abtest_partition\":[{\"var\":\"agent_id\"},\"MKT_timeout_pw_0520\",4294967295,\"1_noreauth\"]},\"MKT_anon_story_page_offer\":{\"abtest_partition\":[{\"var\":\"agent_id\"},\"MKT_anon_story_page_offer\",3650722201,\"2_offer\"]},\"DFP_amzn\":{\"abtest_partition\":[{\"var\":\"agent_id\"},\"DFP_amzn\",42949672,\"0_control\",429496729,\"0_control\",472446402,\"1_amzn_fast_fetch\",515396075,\"2_adslot_priority\",901943131,\"2_adslot_priority\",944892804,\"3_no_mnet\"]},\"STYLN_live_derek_chauvin_trial_alerts\":{\"if\":[{\"and\":[{\"===\":[{\"ref\":\"STYLN_pharmacy_components\"},\"show\"]}]},{\"abtest_partition\":[{\"var\":\"agent_id\"},\"STYLN_live_derek_chauvin_trial_alerts\",214748364,\"0_hide\",4294967295,\"1_show\"]}]},\"STYLN_live_polling_push\":{\"abtest_partition\":[{\"var\":\"agent_id\"},\"STYLN_live_polling_push\",214748364,\"0_hide\",4294967295,\"1_show\"]},\"SA_sub_onboarding_MVP_0820\":{\"abtest_partition\":[{\"var\":\"agent_id\"},\"SA_sub_onboarding_MVP_0820\",2147483647,\"0_control\",4294967295,\"1_sub_flow\"]},\"dfp_messaging_flexframe_ctr\":{\"abtest_partition\":[{\"var\":\"agent_id\"},\"dfp_messaging_flexframe_ctr\",322122546,\"2_noheadnosummary\",644245093,\"1_msgInv_noCTA\",4294967295,\"0_control\"]},\"DFP_als\":{\"abtest_partition\":[{\"var\":\"agent_id\"},\"DFP_als\",4294967295,\"1_als\"]},\"MC_DFP_topbar_bar_regi_1019\":{\"abtest_partition\":[{\"var\":\"agent_id\"},\"MC_DFP_topbar_bar_regi_1019\",4294967295,\"0_control\"]},\"STYLN_election_2020_alerts\":{\"abtest_partition\":[{\"var\":\"agent_id\"},\"STYLN_election_2020_alerts\",214748364,\"0_hide\",4294967295,\"1_show\"]},\"SEARCH_FACET_DROPDOWN\":{\"abtest_partition\":[{\"var\":\"agent_id\"},\"SEARCH_FACET_DROPDOWN\",2147483647,\"0_FACET_MULTI_SELECT\",4294967295,\"1_DYNAMIC_FACET_SELECT\"]},\"vi-ads-et\":{\"abtest_partition\":[{\"var\":\"agent_id\"},\"vi-ads-et\",257698037,\"2_remainder\"]},\"STYLN_homepage_service_module\":{\"abtest_partition\":[{\"var\":\"agent_id\"},\"STYLN_homepage_service_module\",85899345,\"show\",171798691,\"hide\"]},\"STYLN_elections_notifications\":{\"abtest_partition\":[{\"var\":\"agent_id\"},\"STYLN_elections_notifications\",42949672,\"0_control\",4294967295,\"1_elections_notifications\"]},\"STYLN_lb_newposts\":{\"abtest_partition\":[{\"var\":\"agent_id\"},\"STYLN_lb_newposts\",4080218930,\"0_control\",4294967295,\"1_lb_newposts\"]},\"STORY_intentional_links_v1\":{\"abtest_partition\":[{\"var\":\"agent_id\"},\"STORY_intentional_links_v1\",4294967295,\"0_control\"]},\"STYLN_daily_question_block\":{\"abtest_partition\":[{\"var\":\"agent_id\"},\"STYLN_daily_question_block\",644245093,\"0_control\",1288490188,\"1_variant\"]},\"STYLN_embedded_hub\":{\"abtest_partition\":[{\"var\":\"agent_id\"},\"STYLN_embedded_hub\",3865470565,\"0_control\",4080218930,\"1_modal\",4294967295,\"2_footer\"]},\"STYLN_fr_recirc_quantity_desktop\":{\"abtest_partition\":[{\"var\":\"agent_id\"},\"STYLN_fr_recirc_quantity_desktop\",1073741823,\"0_control_fr_recirc_quantity_desktop\",2147483647,\"1_fr_recirc_quantity_desktop\",3221225471,\"2_fr_recirc_quantity_desktop\",4294967295,\"3_fr_recirc_quantity_desktop\"]},\"STYLN_coronavirus_briefing_alerts\":{\"abtest_partition\":[{\"var\":\"agent_id\"},\"STYLN_coronavirus_briefing_alerts\",1073741823,\"control\",3221225471,\"variant\",3578996247,\"control\",4294967295,\"variant\"]},\"STYLN_pharmacy_components\":{\"abtest_partition\":[{\"var\":\"agent_id\"},\"STYLN_pharmacy_components\",4080218930,\"show\",4123168603,\"hide\",4294967295,\"show\"]},\"MAPS_algorithmicOnboardingInterestCollection_0820\":{\"if\":[{\"and\":[{\"===\":[{\"var\":\"user_type\"},\"regi\"]}]},{\"abtest_partition\":[{\"var\":\"agent_id\"},\"MAPS_algorithmicOnboardingInterestCollection_0820\",858993458,\"0_control\",2576980377,\"0_control\"]}]},\"styln-retirement-guide\":{\"if\":[{\"and\":[{\"===\":[{\"ref\":\"STYLN_pharmacy_components\"},\"show\"]}]},{\"abtest_partition\":[{\"var\":\"agent_id\"},\"styln-retirement-guide\",214748364,\"0_Control\",4294967295,\"1_Show\"]}]},\"MKT_segops_regi_bundle_login_test\":{\"abtest_partition\":[{\"var\":\"agent_id\"},\"MKT_segops_regi_bundle_login_test\",4294967295,\"1_login\"]},\"styln-at-home-guide\":{\"if\":[{\"and\":[{\"===\":[{\"ref\":\"STYLN_pharmacy_components\"},\"show\"]}]},{\"abtest_partition\":[{\"var\":\"agent_id\"},\"styln-at-home-guide\",214748364,\"0_Control\",4294967295,\"1_Show\"]}]},\"FREEX_Time_Bound_Pricing\":{\"abtest_partition\":[{\"var\":\"agent_id\"},\"FREEX_Time_Bound_Pricing\",4294967295,\"4_sale_today\"]},\"styln-coronavirus-vaccines-keepup\":{\"if\":[{\"and\":[{\"===\":[{\"ref\":\"styln-coronavirus-vaccines\"},\"1_Show\"]}]},{\"abtest_partition\":[{\"var\":\"agent_id\"},\"styln-coronavirus-vaccines-keepup\",214748364,\"0_Control\",4294967295,\"1_Show\"]}]},\"MKT_dfp_intl_pricing_med_conv\":{\"abtest_partition\":[{\"var\":\"agent_id\"},\"MKT_dfp_intl_pricing_med_conv\",1431655764,\"0_control\",2863311530,\"1_50cents\",4294967295,\"2_75cents\"]},\"styln-gamestop\":{\"if\":[{\"and\":[{\"===\":[{\"ref\":\"STYLN_pharmacy_components\"},\"show\"]}]},{\"abtest_partition\":[{\"var\":\"agent_id\"},\"styln-gamestop\",214748364,\"0_Control\",4294967295,\"1_Show\"]}]},\"styln-procrastination-guide\":{\"if\":[{\"and\":[{\"===\":[{\"ref\":\"STYLN_pharmacy_components\"},\"show\"]}]},{\"abtest_partition\":[{\"var\":\"agent_id\"},\"styln-procrastination-guide\",214748364,\"0_Control\",4294967295,\"1_Show\"]}]},\"styln-covid-treatments\":{\"if\":[{\"and\":[{\"===\":[{\"ref\":\"STYLN_pharmacy_components\"},\"show\"]}]},{\"abtest_partition\":[{\"var\":\"agent_id\"},\"styln-covid-treatments\",214748364,\"0_Control\",4294967295,\"1_Show\"]}]},\"styln-impeachment2-inline\":{\"if\":[{\"and\":[{\"===\":[{\"ref\":\"STYLN_pharmacy_components\"},\"show\"]},{\"===\":[{\"ref\":\"styln-impeachment2\"},\"1_Show\"]}]},{\"abtest_partition\":[{\"var\":\"agent_id\"},\"styln-impeachment2-inline\",1073741823,\"0_Control\",4294967295,\"1_Show\"]}]},\"styln-gamestop-inline\":{\"if\":[{\"and\":[{\"===\":[{\"ref\":\"styln-gamestop\"},\"1_Show\"]}]},{\"abtest_partition\":[{\"var\":\"agent_id\"},\"styln-gamestop-inline\",214748364,\"0_Control\",4294967295,\"1_Show\"]}]},\"styln-thanksgiving\":{\"if\":[{\"and\":[{\"===\":[{\"ref\":\"STYLN_pharmacy_components\"},\"show\"]}]},{\"abtest_partition\":[{\"var\":\"agent_id\"},\"styln-thanksgiving\",214748364,\"0_Control\",4294967295,\"1_Show\"]}]},\"styln-india-covid-resources\":{\"if\":[{\"and\":[{\"===\":[{\"ref\":\"STYLN_pharmacy_components\"},\"show\"]}]},{\"abtest_partition\":[{\"var\":\"agent_id\"},\"styln-india-covid-resources\",2147483647,\"0_Control\",4294967295,\"1_Show\"]}]},\"DFP_prebid_0521\":{\"abtest_partition\":[{\"var\":\"agent_id\"},\"DFP_Prebid_0521\"]},\"styln-opinion-vaccine\":{\"if\":[{\"and\":[{\"===\":[{\"ref\":\"STYLN_pharmacy_components\"},\"show\"]}]},{\"abtest_partition\":[{\"var\":\"agent_id\"},\"styln-opinion-vaccine\",2147483647,\"0_Control\",4294967295,\"0_Show\"]}]},\"MKT_segops_regi_bundle_test\":{\"abtest_partition\":[{\"var\":\"agent_id\"},\"MKT_segops_regi_bundle_test\",4294967295,\"1_bundle_side_by_side\"]},\"ON_app_dl_mweb_hp_regi_final\":{\"if\":[{\"and\":[{\"!\":{\"in\":[{\"var\":\"user_type\"},[\"sub\"]]}}]},{\"abtest_partition\":[{\"var\":\"regi_id\"},\"ON_app_dl_mweb_hp_regi_final\",214748364,\"0_control\",4294967295,\"0_control\"]}]},\"Games_Welcome_Block\":{\"abtest_partition\":[{\"var\":\"agent_id\"},\"Games_Welcome_Block\",858993458,\"0_control\",1717986917,\"1_SB_editorial\",2576980377,\"2_SB_games\",3435973836,\"3_XW_editorial\",4294967295,\"4_XW_games\"]},\"styln-2021-new-year\":{\"if\":[{\"and\":[{\"===\":[{\"ref\":\"STYLN_pharmacy_components\"},\"show\"]}]},{\"abtest_partition\":[{\"var\":\"agent_id\"},\"styln-2021-new-year\",214748364,\"0_Control\",4294967295,\"1_Show\"]}]},\"STYLN_live_barrett_hearings_alerts\":{\"abtest_partition\":[{\"var\":\"agent_id\"},\"STYLN_live_barrett_hearings_alerts\",214748364,\"0_hide\",2147483647,\"1_show\",2362232012,\"0_hide\",4294967295,\"1_show\"]},\"styln-big-tech-inlines\":{\"if\":[{\"and\":[{\"===\":[{\"ref\":\"STYLN_pharmacy_components\"},\"show\"]}]},{\"abtest_partition\":[{\"var\":\"agent_id\"},\"styln-big-tech-inlines\",214748364,\"0_Control\",4294967295,\"1_Show\"]}]},\"SA_app_step_01_0521\":{\"abtest_partition\":[{\"var\":\"regi_id\"},\"SA_app_step_01_0521\",1431655764,\"0_control\",2863311530,\"1_reading\",4294967295,\"2_alerts\"]},\"styln-best-2020\":{\"if\":[{\"and\":[{\"===\":[{\"ref\":\"STYLN_pharmacy_components\"},\"show\"]}]},{\"abtest_partition\":[{\"var\":\"agent_id\"},\"styln-best-2020\",214748364,\"0_Control\",4294967295,\"1_Show\"]}]},\"styln-elections-2020\":{\"if\":[{\"and\":[{\"===\":[{\"ref\":\"STYLN_pharmacy_components\"},\"show\"]}]},{\"abtest_partition\":[{\"var\":\"agent_id\"},\"styln-elections-2020\",214748364,\"0_Control\",4294967295,\"1_Show\"]}]},\"styln-space-guide\":{\"if\":[{\"and\":[{\"===\":[{\"ref\":\"STYLN_pharmacy_components\"},\"show\"]}]},{\"abtest_partition\":[{\"var\":\"agent_id\"},\"styln-space-guide\",2147483647,\"0_Control\",4294967295,\"1_Show\"]}]},\"styln_coronavirus_reopening_keepup\":{\"abtest_partition\":[{\"var\":\"agent_id\"},\"styln_coronavirus_reopening_keepup\",2147483647,\"0_control_hide_reopening_keepup\",4294967295,\"1_reopening_keepup\"]},\"styln-biden-administration\":{\"if\":[{\"and\":[{\"===\":[{\"ref\":\"STYLN_pharmacy_components\"},\"show\"]}]},{\"abtest_partition\":[{\"var\":\"agent_id\"},\"styln-biden-administration\",214748364,\"0_Control\",4294967295,\"1_Show\"]}]},\"ON_regiwall_copy_0421\":{\"if\":[{\"and\":[{\"===\":[{\"var\":\"geo_country\"},\"US\"]}]},{\"abtest_partition\":[{\"var\":\"agent_id\"},\"ON_regiwall_copy_0421\",858993458,\"0_control\",1717986917,\"1_free\",2576980377,\"2_trymore\",3435973836,\"3_simple\",4294967295,\"4_simple2\"]}]},\"DFP_blockDetect_0221\":{\"abtest_partition\":[{\"var\":\"agent_id\"},\"DFP_blockDetect_0221\",1073741823,\"1_network_detection\",4294967295,null]},\"dfp_1p_ver\":{\"abtest_partition\":[{\"var\":\"agent_id\"},\"dfp_1p_ver\",1431512599,\"0_control\",2863025199,\"1_bk\",4294537798,\"2_fp\"]},\"styln-coronavirus-vaccines\":{\"if\":[{\"and\":[{\"===\":[{\"ref\":\"STYLN_pharmacy_components\"},\"show\"]}]},{\"abtest_partition\":[{\"var\":\"agent_id\"},\"styln-coronavirus-vaccines\",214748364,\"0_Control\",4294967295,\"1_Show\"]}]},\"styln-juneteenth\":{\"if\":[{\"and\":[{\"===\":[{\"ref\":\"STYLN_pharmacy_components\"},\"show\"]}]},{\"abtest_partition\":[{\"var\":\"agent_id\"},\"styln-juneteenth\",214748364,\"0_Control\",4294967295,\"1_Show\"]}]},\"dfp_MWTest\":{\"abtest_partition\":[{\"var\":\"agent_id\"},\"dfp_MWTest\",4294967295,\"2_vendorB\"]},\"styln-digital-privacy\":{\"if\":[{\"and\":[{\"===\":[{\"ref\":\"STYLN_pharmacy_components\"},\"show\"]}]},{\"abtest_partition\":[{\"var\":\"agent_id\"},\"styln-digital-privacy\",214748364,\"0_Control\",4294967295,\"1_Show\"]}]},\"ON_app_dl_mweb_hp_dummy\":{\"if\":[{\"and\":[{\"!\":{\"in\":[{\"var\":\"user_type\"},[\"sub\"]]}}]},{\"abtest_partition\":[{\"var\":\"regi_id\"},\"ON_app_dl_mweb_hp_dummy\",1073741823,\"0_control\",2147483647,\"1_dock_std\",3221225471,\"2_dock_exp\",4294967295,\"3_custom_dock\"]}]},\"MKT_first_party_data_survey_regi_inline\":{\"abtest_partition\":[{\"var\":\"agent_id\"},\"MKT_first_party_data_survey_regi_inline\",4080218930,\"0_control\",4294967295,\"1_survey\"]},\"styln-israel-coalition-level-up\":{\"if\":[{\"and\":[{\"===\":[{\"ref\":\"STYLN_pharmacy_components\"},\"show\"]}]},{\"abtest_partition\":[{\"var\":\"agent_id\"},\"styln-israel-coalition-level-up\",2147483647,\"0_Control\",4294967295,\"1_Show\"]}]},\"styln-opinion-vaccine-b\":{\"if\":[{\"and\":[{\"===\":[{\"ref\":\"styln-opinion-vaccine\"},\"0_Control\"]}]},{\"abtest_partition\":[{\"var\":\"agent_id\"},\"styln-opinion-vaccine-b\",4294967295,\"1_Show\"]}]},\"styln-luxury-condos\":{\"if\":[{\"and\":[{\"===\":[{\"ref\":\"STYLN_pharmacy_components\"},\"show\"]}]},{\"abtest_partition\":[{\"var\":\"agent_id\"},\"styln-luxury-condos\",214748364,\"0_Control\",4294967295,\"1_Show\"]}]},\"styln-beirut\":{\"if\":[{\"and\":[{\"===\":[{\"ref\":\"STYLN_pharmacy_components\"},\"show\"]}]},{\"abtest_partition\":[{\"var\":\"agent_id\"},\"styln-beirut\",214748364,\"0_Control\",4294967295,\"1_Show\"]}]},\"styln-mars\":{\"if\":[{\"and\":[{\"===\":[{\"ref\":\"STYLN_pharmacy_components\"},\"show\"]}]},{\"abtest_partition\":[{\"var\":\"agent_id\"},\"styln-mars\",214748364,\"0_Control\",4294967295,\"1_Show\"]}]},\"styln-vaccine-glossary\":{\"if\":[{\"and\":[{\"===\":[{\"ref\":\"STYLN_pharmacy_components\"},\"show\"]},{\"===\":[{\"ref\":\"styln-coronavirus-vaccines\"},\"1_Show\"]}]},{\"abtest_partition\":[{\"var\":\"agent_id\"},\"styln-vaccine-glossary\",2147483647,\"0_Control\",4294967295,\"1_Show\"]}]},\"styln-nagorno-karabakh\":{\"if\":[{\"and\":[{\"===\":[{\"ref\":\"STYLN_pharmacy_components\"},\"show\"]}]},{\"abtest_partition\":[{\"var\":\"agent_id\"},\"styln-nagorno-karabakh\",214748364,\"0_Control\",4294967295,\"1_Show\"]}]},\"ON_gs_holdout\":{\"if\":[{\"and\":[{\"===\":[{\"var\":\"geo_country\"},\"US\"]},{\"===\":[{\"ref\":\"ON_MAPS_audience_split\"},\"0_onboarding\"]}]},{\"abtest_partition\":[{\"var\":\"agent_id\"},\"ON_gs_holdout\",1073741823,\"0_control\",2147483647,\"1_appOnly\",3221225471,\"2_newslettersOnly\",4294967295,\"3_noOnboarding\"]}]},\"STYLN_more_in_storylines_recirc\":{\"abtest_partition\":[{\"var\":\"agent_id\"},\"STYLN_more_in_storylines_recirc\",42949672,\"0_control\",85899345,\"1_variant\"]},\"styln-marjorie-greene\":{\"if\":[{\"and\":[{\"===\":[{\"ref\":\"STYLN_pharmacy_components\"},\"show\"]}]},{\"abtest_partition\":[{\"var\":\"agent_id\"},\"styln-marjorie-greene\",214748364,\"0_Control\",4294967295,\"1_Show\"]}]},\"STORY_cwv_acm_truncator_0521\":{\"if\":[{\"and\":[{\"in\":[{\"ref\":\"DFP_cwv_deferAd_0521\"},[null]]},{\"in\":[{\"ref\":\"STORY_cwvImgAspectRatio_0421\"},[null]]},{\"in\":[{\"ref\":\"STORY_cwvLazy_0421\"},[null]]},{\"in\":[{\"ref\":\"STORY_cwvPerf_0321\"},[null]]},{\"in\":[{\"ref\":\"STORY_HOME_cwvFonts_0421\"},[null]]},{\"in\":[{\"ref\":\"STORY_cwvLazy_0521\"},[null]]}]},{\"abtest_partition\":[{\"var\":\"agent_id\"},\"STORY_cwv_acm_truncator_0521\",42949672,\"0_Control\",85899345,\"1_suppressed_truncator\",4294967295,null]}]},\"STYLN_elevate_series_collections\":{\"abtest_partition\":[{\"var\":\"agent_id\"},\"STYLN_elevate_series_collections\",2147483647,\"0_Control\",4294967295,\"1_elevate_series_collections\"]},\"styln-stimulus\":{\"if\":[{\"and\":[{\"===\":[{\"ref\":\"STYLN_pharmacy_components\"},\"show\"]}]},{\"abtest_partition\":[{\"var\":\"agent_id\"},\"styln-stimulus\",214748364,\"0_Control\",4294967295,\"1_Show\"]}]},\"styln-menu-homepage-link\":{\"abtest_partition\":[{\"var\":\"agent_id\"},\"styln-menu-homepage-link\",4294967295,\"1_Show\"]},\"styln-watch\":{\"if\":[{\"and\":[{\"===\":[{\"ref\":\"STYLN_pharmacy_components\"},\"show\"]}]},{\"abtest_partition\":[{\"var\":\"agent_id\"},\"styln-watch\",214748364,\"0_Control\",4294967295,\"1_Show\"]}]},\"styln-trumps-taxes-faq\":{\"if\":[{\"and\":[{\"===\":[{\"ref\":\"styln-trumps-taxes\"},\"1_Show\"]}]},{\"abtest_partition\":[{\"var\":\"agent_id\"},\"styln-trumps-taxes-faq\",214748364,\"0_Control\",4294967295,\"1_Show\"]}]},\"styln-pandemic-burnout-guide\":{\"if\":[{\"and\":[{\"===\":[{\"ref\":\"STYLN_pharmacy_components\"},\"show\"]}]},{\"abtest_partition\":[{\"var\":\"agent_id\"},\"styln-pandemic-burnout-guide\",2147483647,\"0_Control\",4294967295,\"1_Show\"]}]},\"styln-opioid\":{\"if\":[{\"and\":[{\"===\":[{\"ref\":\"STYLN_pharmacy_components\"},\"show\"]}]},{\"abtest_partition\":[{\"var\":\"agent_id\"},\"styln-opioid\",214748364,\"0_Control\",4294967295,\"1_Show\"]}]},\"styln-apple-5g-event\":{\"if\":[{\"and\":[{\"===\":[{\"ref\":\"STYLN_pharmacy_components\"},\"show\"]}]},{\"abtest_partition\":[{\"var\":\"agent_id\"},\"styln-apple-5g-event\",214748364,\"0_Control\",4294967295,\"1_Show\"]}]},\"styln-suffrage-at-100\":{\"if\":[{\"and\":[{\"===\":[{\"ref\":\"STYLN_pharmacy_components\"},\"show\"]}]},{\"abtest_partition\":[{\"var\":\"agent_id\"},\"styln-suffrage-at-100\",214748364,\"0_Control\",4294967295,\"1_Show\"]}]},\"FREEX_Native_Gateway_Toggle\":{\"abtest_partition\":[{\"var\":\"agent_id\"},\"FREEX_Native_Gateway_Toggle\",4294967295,\"1_Native_Gateway\"]},\"FREEX_Weekender_Engagement_Subs\":{\"if\":[{\"and\":[{\"===\":[{\"var\":\"user_type\"},\"sub\"]},{\"===\":[{\"var\":\"page_type_edge\"},\"vi-story\"]}]},{\"abtest_partition\":[{\"var\":\"regi_id\"},\"FREEX_Weekender_Engagement_Subs\",1431512599,\"0_Control\",2863025199,\"1_Partial_Takeover\",4294537798,\"2_Full_Takeover\"]}]},\"styln-kobe\":{\"if\":[{\"and\":[{\"===\":[{\"ref\":\"STYLN_pharmacy_components\"},\"show\"]}]},{\"abtest_partition\":[{\"var\":\"agent_id\"},\"styln-kobe\",214748364,\"0_Control\",4294967295,\"1_Show\"]}]},\"styln-google-antitrust\":{\"if\":[{\"and\":[{\"===\":[{\"ref\":\"STYLN_pharmacy_components\"},\"show\"]}]},{\"abtest_partition\":[{\"var\":\"agent_id\"},\"styln-google-antitrust\",214748364,\"0_Control\",4294967295,\"1_Show\"]}]},\"styln-holidays-2020\":{\"if\":[{\"and\":[{\"===\":[{\"ref\":\"STYLN_pharmacy_components\"},\"show\"]}]},{\"abtest_partition\":[{\"var\":\"agent_id\"},\"styln-holidays-2020\",214748364,\"0_Control\",4294967295,\"1_Show\"]}]},\"styln-trump-coronavirus\":{\"if\":[{\"and\":[{\"===\":[{\"ref\":\"STYLN_pharmacy_components\"},\"show\"]}]},{\"abtest_partition\":[{\"var\":\"agent_id\"},\"styln-trump-coronavirus\",85899345,\"0_Control\",4294967295,\"1_Show\"]}]},\"styln-impeachment2\":{\"if\":[{\"and\":[{\"===\":[{\"ref\":\"STYLN_pharmacy_components\"},\"show\"]}]},{\"abtest_partition\":[{\"var\":\"agent_id\"},\"styln-impeachment2\",128849018,\"0_Control\",4294967295,\"1_Show\"]}]},\"styln-transition\":{\"if\":[{\"and\":[{\"===\":[{\"ref\":\"STYLN_pharmacy_components\"},\"show\"]}]},{\"abtest_partition\":[{\"var\":\"agent_id\"},\"styln-transition\",214748364,\"0_Control\",4294967295,\"1_Show\"]}]},\"MAPS_newsletterbuffet_elections\":{\"if\":[{\"and\":[{\"in\":[{\"var\":\"user_type\"},[\"anon\",\"regi\"]]}]},{\"abtest_partition\":[{\"var\":\"agent_id\"},\"MAPS_newsletterbuffet_elections\",214748364,\"0_Control\",1181116005,\"1_bottomofstory_algofirst\",2147483647,\"2_bottomofstory_algolast\",4294967295,null]}]},\"styln-floyd-trial\":{\"if\":[{\"and\":[{\"===\":[{\"ref\":\"STYLN_pharmacy_components\"},\"show\"]}]},{\"abtest_partition\":[{\"var\":\"agent_id\"},\"styln-floyd-trial\",214748364,\"0_Control\",4294967295,\"1_Show\"]}]},\"styln-trumps-taxes\":{\"if\":[{\"and\":[{\"===\":[{\"ref\":\"STYLN_pharmacy_components\"},\"show\"]}]},{\"abtest_partition\":[{\"var\":\"agent_id\"},\"styln-trumps-taxes\",42949672,\"0_Control\",4294967295,\"1_Show\"]}]},\"styln-watch-footer\":{\"if\":[{\"and\":[{\"===\":[{\"ref\":\"styln-watch\"},\"1_Show\"]}]},{\"abtest_partition\":[{\"var\":\"agent_id\"},\"styln-watch-footer\",214748364,\"0_Control\",4294967295,\"1_Show\"]}]},\"styln-jobs-crisis\":{\"if\":[{\"and\":[{\"===\":[{\"ref\":\"STYLN_pharmacy_components\"},\"show\"]}]},{\"abtest_partition\":[{\"var\":\"agent_id\"},\"styln-jobs-crisis\",128849018,\"0_Control\",4294967295,\"1_Show\"]}]},\"styln-sports-reopening\":{\"if\":[{\"and\":[{\"===\":[{\"ref\":\"STYLN_pharmacy_components\"},\"show\"]}]},{\"abtest_partition\":[{\"var\":\"agent_id\"},\"styln-sports-reopening\",214748364,\"0_Control\",4294967295,\"1_Show\"]}]},\"dfp_1p2\":{\"abtest_partition\":[{\"var\":\"agent_id\"},\"dfp_1p2\",1431512599,\"0_control\",2863025199,\"1_bk\",4294537798,\"2_fp\"]},\"SA_breadth_step_01_0421\":{\"abtest_partition\":[{\"var\":\"regi_id\"},\"SA_breadth_step_01_0421\",2147483647,\"0_control\",4294967295,\"1_breadth\"]},\"styln-atlanta-massage-parlor-shootings-levelup\":{\"if\":[{\"and\":[{\"===\":[{\"ref\":\"STYLN_pharmacy_components\"},\"show\"]}]},{\"abtest_partition\":[{\"var\":\"agent_id\"},\"styln-atlanta-massage-parlor-shootings-levelup\",214748364,\"0_Control\",4294967295,\"1_Show\"]}]},\"styln-cuomo\":{\"if\":[{\"and\":[{\"===\":[{\"ref\":\"STYLN_pharmacy_components\"},\"show\"]}]},{\"abtest_partition\":[{\"var\":\"agent_id\"},\"styln-cuomo\",214748364,\"0_Control\",4294967295,\"1_Show\"]}]},\"styln-holidays-122020\":{\"if\":[{\"and\":[{\"===\":[{\"ref\":\"STYLN_pharmacy_components\"},\"show\"]}]},{\"abtest_partition\":[{\"var\":\"agent_id\"},\"styln-holidays-122020\",214748364,\"0_Control\",4294967295,\"1_Show\"]}]},\"styln-business-live\":{\"if\":[{\"and\":[{\"===\":[{\"ref\":\"STYLN_pharmacy_components\"},\"show\"]}]},{\"abtest_partition\":[{\"var\":\"agent_id\"},\"styln-business-live\",214748364,\"0_Control\",4294967295,\"1_Show\"]}]},\"styln-cicadas-guide\":{\"if\":[{\"and\":[{\"===\":[{\"ref\":\"STYLN_pharmacy_components\"},\"show\"]}]},{\"abtest_partition\":[{\"var\":\"agent_id\"},\"styln-cicadas-guide\",2147483647,\"0_Control\",4294967295,\"1_Show\"]}]},\"styln-best-2020-inlines\":{\"if\":[{\"and\":[{\"===\":[{\"ref\":\"styln-best-2020\"},\"1_Show\"]}]},{\"abtest_partition\":[{\"var\":\"agent_id\"},\"styln-best-2020-inlines\",214748364,\"0_Control\",4294967295,\"1_Show\"]}]},\"ON_testIgnoreMe_0902\":{\"if\":[{\"and\":[{\"!\":{\"in\":[{\"var\":\"user_type\"},[\"sub\"]]}}]},{\"abtest_partition\":[{\"var\":\"regi_id\"},\"ON_testIgnoreMe_0902\",2147483647,\"0_Control\",4294967295,\"1_variant\"]}]},\"styln-hamptons-guide\":{\"if\":[{\"and\":[{\"===\":[{\"ref\":\"STYLN_pharmacy_components\"},\"show\"]}]},{\"abtest_partition\":[{\"var\":\"agent_id\"},\"styln-hamptons-guide\",214748364,\"0_Control\",4294967295,\"1_Show\"]}]},\"DFP_EngMetrics\":{\"abtest_partition\":[{\"var\":\"agent_id\"},\"DFP_EngMetrics\",85899345,\"0_control\",171798691,\"1_hover\"]},\"styln-trending-primary-asset\":{\"abtest_partition\":[{\"var\":\"agent_id\"},\"styln-trending-primary-asset\",2147483647,\"0_Control\",4294967295,\"1_Show\"]},\"styln-personal-taxes-faq\":{\"if\":[{\"and\":[{\"===\":[{\"ref\":\"STYLN_pharmacy_components\"},\"show\"]}]},{\"abtest_partition\":[{\"var\":\"agent_id\"},\"styln-personal-taxes-faq\",214748364,\"0_Control\",4294967295,\"1_Show\"]}]},\"MAPS_newsletterbuffet_non_elections\":{\"if\":[{\"and\":[{\"in\":[{\"var\":\"user_type\"},[\"anon\",\"regi\"]]}]},{\"abtest_partition\":[{\"var\":\"agent_id\"},\"MAPS_newsletterbuffet_non_elections\",429496729,\"0_Control\",2362232012,\"1_bottomofstory_algofirst\",4294967295,\"2_bottomofstory_algolast\"]}]},\"MKT_first_party_data_survey\":{\"abtest_partition\":[{\"var\":\"agent_id\"},\"MKT_first_party_data_survey\",3779571219,\"0_control\",4209067949,\"1_survey\",4294967295,\"0_control\"]},\"UXF_cookingstory_0521\":{\"abtest_partition\":[{\"var\":\"agent_id\"},\"UXF_cookingstory_0521\",2147483647,\"0_Control\",4294967295,\"1_cookpromo\"]},\"styln-sleep-guide\":{\"if\":[{\"and\":[{\"===\":[{\"ref\":\"STYLN_pharmacy_components\"},\"show\"]}]},{\"abtest_partition\":[{\"var\":\"agent_id\"},\"styln-sleep-guide\",2147483647,\"0_Control\",4294967295,\"1_Show\"]}]},\"styln-well-fitness\":{\"if\":[{\"and\":[{\"===\":[{\"ref\":\"STYLN_pharmacy_components\"},\"show\"]}]},{\"abtest_partition\":[{\"var\":\"agent_id\"},\"styln-well-fitness\",214748364,\"0_Control\",4294967295,\"1_Show\"]}]},\"InvolChurn_CopyUpdate\":{\"abtest_partition\":[{\"var\":\"agent_id\"},\"InvolChurn_CopyUpdate\",2147483647,\"0_control\",4294967295,\"1_concisemessage\"]},\"MKT_DFP_ods\":{\"abtest_partition\":[{\"var\":\"agent_id\"},\"MKT_DFP_ods\",214748364,\"0_control\",2147483647,\"1_test\",4294967295,\"2_test\"]},\"styln-stimulus-biden-faq\":{\"if\":[{\"and\":[{\"===\":[{\"ref\":\"STYLN_pharmacy_components\"},\"show\"]}]},{\"abtest_partition\":[{\"var\":\"agent_id\"},\"styln-stimulus-biden-faq\",214748364,\"0_Control\",4294967295,\"1_Show\"]}]},\"styln-woody-allen\":{\"if\":[{\"and\":[{\"===\":[{\"ref\":\"STYLN_pharmacy_components\"},\"show\"]}]},{\"abtest_partition\":[{\"var\":\"agent_id\"},\"styln-woody-allen\",214748364,\"0_Control\",4294967295,\"1_Show\"]}]},\"MKT_bar_1_price_1120\":{\"if\":[{\"and\":[{\"===\":[{\"var\":\"geo_country\"},\"US\"]}]},{\"abtest_partition\":[{\"var\":\"agent_id\"},\"MKT_bar_1_price_1120\",613321329,\"0_control\",1226642659,\"1_caps_price\",1839963989,\"2_normal_case\",2453285318,\"3_no_price\",3066606648,\"4_sub_no_week\",3679927978,\"5_sub_no_week\",4293249308,\"6_con_no_login\"]}]},\"styln-climate\":{\"if\":[{\"and\":[{\"===\":[{\"ref\":\"STYLN_pharmacy_components\"},\"show\"]}]},{\"abtest_partition\":[{\"var\":\"agent_id\"},\"styln-climate\",214748364,\"0_Control\",4294967295,\"1_Show\"]}]},\"MKT_dfp_intl_pricing_low_conv\":{\"abtest_partition\":[{\"var\":\"agent_id\"},\"MKT_dfp_intl_pricing_low_conv\",1431655764,\"0_control\",2863311530,\"1_25cents\",4294967295,\"2_50cents\"]},\"styln-rbg\":{\"if\":[{\"and\":[{\"===\":[{\"ref\":\"STYLN_pharmacy_components\"},\"show\"]}]},{\"abtest_partition\":[{\"var\":\"agent_id\"},\"styln-rbg\",85899345,\"0_Control\",4294967295,\"1_Show\"]}]},\"styln-liz-cheney-levelup\":{\"if\":[{\"and\":[{\"===\":[{\"ref\":\"STYLN_pharmacy_components\"},\"show\"]}]},{\"abtest_partition\":[{\"var\":\"agent_id\"},\"styln-liz-cheney-levelup\",2147483647,\"0_Control\",4294967295,\"1_Show\"]}]},\"styln-california-wildfires\":{\"if\":[{\"and\":[{\"===\":[{\"ref\":\"STYLN_pharmacy_components\"},\"show\"]}]},{\"abtest_partition\":[{\"var\":\"agent_id\"},\"styln-california-wildfires\",214748364,\"0_Control\",4294967295,\"1_Show\"]}]},\"MKT_not_ready_to_sub_survey\":{\"abtest_partition\":[{\"var\":\"agent_id\"},\"MKT_not_ready_to_sub_survey\",4123168603,\"0_control\",4294967295,\"1_survey\"]},\"styln-ada-at-30\":{\"if\":[{\"and\":[{\"===\":[{\"ref\":\"STYLN_pharmacy_components\"},\"show\"]}]},{\"abtest_partition\":[{\"var\":\"agent_id\"},\"styln-ada-at-30\",214748364,\"0_Control\",4294967295,\"1_Show\"]}]},\"ON_MAPS_audience_split\":{\"abtest_partition\":[{\"var\":\"agent_id\"},\"ON_MAPS_audience_split\",2147483647,\"0_onboarding\",3435973836,\"1_maps\",4294967295,\"0_onboarding\"]},\"FREEX_Weekender_Engagement_Non_Subs\":{\"if\":[{\"and\":[{\"in\":[{\"var\":\"user_type\"},[\"anon\",\"regi\"]]},{\"===\":[{\"var\":\"page_type_edge\"},\"vi-story\"]},{\"!\":{\"in\":[{\"ref\":\"MKT_anon_story_page_offer\"},[\"0_control\",\"1_support\",\"2_offer\"]]}}]},{\"abtest_partition\":[{\"var\":\"agent_id\"},\"FREEX_Weekender_Engagement_Non_Subs\",1431655764,\"0_Control\",2863311530,\"1_Partial_Takeover\",4294967295,\"2_Full_Takeover\"]}]},\"styln_climate_keepup\":{\"if\":[{\"and\":[{\"===\":[{\"ref\":\"styln-climate\"},\"1_Show\"]},{\"===\":[{\"ref\":\"STYLN_pharmacy_components\"},\"show\"]}]},{\"abtest_partition\":[{\"var\":\"agent_id\"},\"styln_climate_keepup\",1073741823,\"0_control\",4294967295,\"1_variant\"]}]},\"styln-relationships\":{\"if\":[{\"and\":[{\"===\":[{\"ref\":\"STYLN_pharmacy_components\"},\"show\"]}]},{\"abtest_partition\":[{\"var\":\"agent_id\"},\"styln-relationships\",214748364,\"0_Control\",4294967295,\"1_Show\"]}]},\"styln-opinion-biden-100-days\":{\"if\":[{\"and\":[{\"===\":[{\"ref\":\"STYLN_pharmacy_components\"},\"show\"]}]},{\"abtest_partition\":[{\"var\":\"agent_id\"},\"styln-opinion-biden-100-days\",214748364,\"0_Control\",4294967295,\"1_Show\"]}]},\"MAPS_ON_email_alerts_in_grid_0421\":{\"if\":[{\"and\":[{\"===\":[{\"var\":\"user_type\"},\"regi\"]}]},{\"abtest_partition\":[{\"var\":\"agent_id\"},\"MAPS_ON_email_alerts_in_grid_0421\",2147483647,\"0_control\",4294967295,\"1_alerts\"]}]},\"styln-coronavirus-footer\":{\"if\":[{\"and\":[{\"===\":[{\"ref\":\"STYLN_pharmacy_components\"},\"show\"]},{\"===\":[{\"ref\":\"styln-coronavirus\"},\"1_Show\"]}]},{\"abtest_partition\":[{\"var\":\"agent_id\"},\"styln-coronavirus-footer\",1073741823,\"0_Control\",4294967295,\"1_Show\"]}]},\"DFP_delayedAd_0820\":{\"abtest_partition\":[{\"var\":\"agent_id\"},\"DFP_delayedAd_0820\"]},\"styln-primary-assets-block\":{\"abtest_partition\":[{\"var\":\"agent_id\"},\"styln-primary-assets-block\",1073741823,\"0_Control\",4294967295,\"1_Show\"]},\"styln-isaias-storm\":{\"if\":[{\"and\":[{\"===\":[{\"ref\":\"STYLN_pharmacy_components\"},\"show\"]}]},{\"abtest_partition\":[{\"var\":\"agent_id\"},\"styln-isaias-storm\",214748364,\"0_Control\",4294967295,\"1_Show\"]}]},\"MKT_intl_price_exp\":{\"abtest_partition\":[{\"var\":\"agent_id\"},\"MKT_intl_price_exp\",2147483647,\"0_control\",4294967295,\"1_monthly_exp\"]},\"styln-coronavirus\":{\"if\":[{\"and\":[{\"===\":[{\"ref\":\"STYLN_pharmacy_components\"},\"show\"]}]},{\"abtest_partition\":[{\"var\":\"agent_id\"},\"styln-coronavirus\",214748364,\"0_Control\",4294967295,\"1_Show\"]}]},\"styln-climate-guide\":{\"if\":[{\"and\":[{\"===\":[{\"ref\":\"styln-climate\"},\"1_Show\"]}]},{\"abtest_partition\":[{\"var\":\"agent_id\"},\"styln-climate-guide\",214748364,\"0_Control\",4294967295,\"1_Show\"]}]},\"styln-supreme-court-nomination\":{\"if\":[{\"and\":[{\"===\":[{\"ref\":\"STYLN_pharmacy_components\"},\"show\"]}]},{\"abtest_partition\":[{\"var\":\"agent_id\"},\"styln-supreme-court-nomination\",214748364,\"0_Control\",4294967295,\"1_Show\"]}]},\"DFP_covid_msg_0121\":{\"abtest_partition\":[{\"var\":\"agent_id\"},\"DFP_covid_msg_0121\",2147483647,\"0_control\",4294967295,\"1_sub_msg\"]},\"styln-capitol-mob-inline\":{\"if\":[{\"and\":[{\"===\":[{\"ref\":\"STYLN_pharmacy_components\"},\"show\"]}]},{\"abtest_partition\":[{\"var\":\"agent_id\"},\"styln-capitol-mob-inline\",1073741823,\"0_Control\",4294967295,\"1_Show\"]}]},\"STYLN_live_noreaster_alerts\":{\"abtest_partition\":[{\"var\":\"agent_id\"},\"STYLN_live_noreaster_alerts\",214748364,\"0_hide\",4294967295,\"1_show\"]},\"styln-hong-kong\":{\"if\":[{\"and\":[{\"===\":[{\"ref\":\"STYLN_pharmacy_components\"},\"show\"]}]},{\"abtest_partition\":[{\"var\":\"agent_id\"},\"styln-hong-kong\",214748364,\"0_Control\",4294967295,\"1_Show\"]}]},\"styln-awards-season\":{\"if\":[{\"and\":[{\"===\":[{\"ref\":\"STYLN_pharmacy_components\"},\"show\"]}]},{\"abtest_partition\":[{\"var\":\"agent_id\"},\"styln-awards-season\",214748364,\"0_Control\",4294967295,\"1_Show\"]}]},\"DFP_cwv_deferAd_0521\":{\"if\":[{\"and\":[{\"===\":[{\"var\":\"page_type_edge\"},\"vi-story\"]},{\"in\":[{\"ref\":\"STORY_cwvLazy_0521\"},[null]]},{\"in\":[{\"ref\":\"STORY_cwvLazy_0421\"},[null]]},{\"in\":[{\"ref\":\"STORY_cwvImgAspectRatio_0421\"},[null]]},{\"in\":[{\"ref\":\"STORY_cwvPerf_0321\"},[null]]}]},{\"abtest_partition\":[{\"var\":\"agent_id\"},\"DFP_cwv_deferAd_0521\",42949672,\"0_Control\",85899345,\"1_test\"]}]},\"styln-stimulus-faq\":{\"if\":[{\"and\":[{\"===\":[{\"ref\":\"STYLN_pharmacy_components\"},\"show\"]},{\"===\":[{\"ref\":\"styln-stimulus\"},\"1_Show\"]}]},{\"abtest_partition\":[{\"var\":\"agent_id\"},\"styln-stimulus-faq\",2147483647,\"0_Control\",4294967295,\"1_Show\"]}]},\"styln-coronavirus-risk-personalized\":{\"if\":[{\"and\":[{\"===\":[{\"ref\":\"STYLN_pharmacy_components\"},\"show\"]}]},{\"abtest_partition\":[{\"var\":\"agent_id\"},\"styln-coronavirus-risk-personalized\",429496729,\"0_Control\",4294967295,\"1_Show\"]}]},\"STYLN_coronavirus_economy_menu\":{\"if\":[{\"and\":[{\"===\":[{\"ref\":\"STYLN_pharmacy_components\"},\"show\"]}]},{\"abtest_partition\":[{\"var\":\"agent_id\"},\"STYLN_coronavirus_economy_menu\",3221225471,\"0_control_normal_menu\",4294967295,\"1_economy_menu\"]}]},\"styln-travel-return-guide\":{\"if\":[{\"and\":[{\"===\":[{\"ref\":\"STYLN_pharmacy_components\"},\"show\"]}]},{\"abtest_partition\":[{\"var\":\"agent_id\"},\"styln-travel-return-guide\",214748364,\"0_Control\",4294967295,\"1_Show\"]}]}}}]); })();\\n      (function () { var _f=function(e){var r=function(){var r=e.url;try{r+=window.location.search.slice(1).split(\"&\").reduce(function(e,r){return\"ip-override\"===r.split(\"=\")[0]?\"?\"+r:e},\"\")}catch(e){console.warn(e)}var n=new XMLHttpRequest;for(var t in n.withCredentials=!0,n.open(\"POST\",r,!0),n.setRequestHeader(\"Content-Type\",\"application/json\"),e.headers)n.setRequestHeader(t,e.headers[t]);return n.send(e.body),n};window.userXhrObject=r(),window.userXhrRefresh=function(){return window.userXhrObject=r(),window.userXhrObject}};;_f.apply(null, [{\"url\":\"https://samizdat-graphql.nytimes.com/graphql/v2\",\"body\":\"{\\\\\"operationName\\\\\":\\\\\"UserQuery\\\\\",\\\\\"variables\\\\\":{},\\\\\"query\\\\\":\\\\\"   query UserQuery {     user {       __typename       profile {         displayName         email       }       userInfo {         regiId         entitlements         demographics {           emailSubscriptions           wat           bundleSubscriptions {             bundle             inGrace             promotion             source           }         }       }       subscriptionDetails {         bundleType         graceStartDate         graceEndDate         isFreeTrial         hasQueuedSub         startDate         endDate         status         hasActiveEntitlements         entitlements       }     }   } \\\\\"}\",\"headers\":{\"nyt-app-type\":\"project-vi\",\"nyt-app-version\":\"0.0.5\",\"nyt-token\":\"MIIBIjANBgkqhkiG9w0BAQEFAAOCAQ8AMIIBCgKCAQEAs+/oUCTBmD/cLdmcecrnBMHiU/pxQCn2DDyaPKUOXxi4p0uUSZQzsuq1pJ1m5z1i0YGPd1U1OeGHAChWtqoxC7bFMCXcwnE1oyui9G1uobgpm1GdhtwkR7ta7akVTcsF8zxiXx7DNXIPd2nIJFH83rmkZueKrC4JVaNzjvD+Z03piLn5bHWU6+w+rA+kyJtGgZNTXKyPh6EC6o5N+rknNMG5+CdTq35p8f99WjFawSvYgP9V64kgckbTbtdJ6YhVP58TnuYgr12urtwnIqWP9KSJ1e5vmgf3tunMqWNm6+AnsqNj8mCLdCuc5cEB74CwUeQcP2HQQmbCddBy2y0mEwIDAQAB\",\"Accept\":\"application/json\",\"Content-Type\":\"application/json\"}}]); })();\\n      </script>\\n<script id=\"page-config-data\" type=\"text/json\">{\"pageconfig\":{\"collections\":{\"SECTION\":[\"opinion\"]}}}</script>\\n<script id=\"display_overrides\">[]</script>\\n\\n<script>\\n(function() {\\n    var s = document.getElementsByTagName(\\'script\\')[0];\\n    var mediaDotNet = \\'https://contextual.media.net/bidexchange.js?cid=8CU2553YN&amp;https=1\\';\\n    var gptScript = \\'//www.googletagservices.com/tag/js/gpt.js\\';\\n    var timeout = 300;\\n    var abra = window.NYTD && typeof window.NYTD.Abra === \\'function\\' && window.NYTD.Abra || function () { return null; };\\n\\n    function loadScript(tagSrc) {\\n        if (tagSrc.substr(0, 4) !== \\'http\\') {\\n            var isSSL = \\'https:\\' == document.location.protocol;\\n            tagSrc = (isSSL ? \\'https:\\' : \\'\\') + tagSrc;\\n        }\\n        var scriptTag = document.createElement(\\'script\\');\\n        scriptTag.type = \\'text/javascript\\';\\n        scriptTag.async = true;\\n        scriptTag.src = tagSrc;\\n        s.parentNode.insertBefore(scriptTag, s);\\n    }\\n\\n    function loadGPT() {\\n        if (!window.advBidxc.isAdServerLoaded && !window.parent.advBidxc.isAdServerLoaded && !window.parent.googletag) {\\n            loadScript(gptScript);\\n            window.advBidxc.isAdServerLoaded = true;\\n        }\\n    }\\n\\n    function testCookie(name) {\\n      var match = document.cookie.match(new RegExp(name + \\'=([^;]+)\\'));\\n      return match ? match[1] : \\'\\';\\n    }\\n\\n    function isSocratesCheck() {\\n      var socratesCookie = \\'nyt-purr\\';\\n      var socratesCookieValue = testCookie(socratesCookie).substring(1, 2);\\n      return socratesCookieValue === \\'s\\';\\n    }\\n\\n    if (isSocratesCheck()) {\\n      return;\\n    }\\n\\n    if (testCookie(\\'nyt-gdpr\\') === \\'1\\') {\\n        if (testCookie(\\'NYT-T\\') !== \\'out\\') {\\n            loadScript(gptScript);\\n        } else {\\n            document.documentElement.className += \\' no-ads\\';\\n        }\\n        return;\\n    }\\n\\n    window.advBidxc = window.advBidxc || {};\\n    window.advBidxc.renderAd = function () {};\\n    window.advBidxc.startTime = new Date().getTime();\\n    window.advBidxc.customerId = \\'8CU2553YN\\'; //Media.net Customer ID\\n    window.advBidxc.timeout = timeout;\\n    window.advBidxc.loadGPT = setTimeout(loadGPT, window.advBidxc.timeout);\\n\\n    if (window.parent) {\\n      if (!window.parent.advBidxc.isLoaded && abra(\\'medianet_toggle\\') !== \\'1_block\\') {\\n        // append media.net\\n        var b = document.createElement(\\'script\\');\\n        b.type = \\'text/javascript\\';\\n        b.async = true;\\n        b.src = mediaDotNet;\\n        s.parentNode.insertBefore(b, s);\\n      }\\n\\n      if (!window.parent.apstag && abra(\\'amazon_toggle\\') !== \\'1_block\\') {\\n        // Load the ApsTag JavaScript Library\\n        !function(a9,a,p,s,t,A,g){if(a[a9])return;function q(c,r){a[a9]._Q.push([c,r])}a[a9]={init:function(){q(\\'i\\',arguments)},fetchBids:function(){q(\\'f\\',arguments)},setDisplayBids:function(){},targetingKeys:function(){return[]},_Q:[]};A=p.createElement(s);A.async=!0;A.src=t;g=p.getElementsByTagName(s)[0];g.parentNode.insertBefore(A,g)}(\\'apstag\\',window,document,\\'script\\',\\'//c.amazon-adsystem.com/aax2/apstag.js\\');\\n\\n        window.apstag.init({\\n            pubID: \\'3030\\',\\n            adServer: \\'googletag\\'\\n        });\\n      }\\n    }\\n})();\\n</script>\\n<script>\\nvar require = {\\n  baseUrl: \\'/vi-assets/static-assets/nyt5/decom-userinfo/js/\\',\\n  waitSeconds: 20,\\n  paths: {\\n    \\'videoFactory\\': \\'https://static01.nyt.com/js2/build/video/2.0/videofactoryrequire\\',\\n    \\'videoPlaylist\\': \\'https://static01.nyt.com/js2/build/video/players/extended/2.0/appRequire\\',\\n    \\'auth/mtr\\': \\'https://static01.nyt.com/js/mtr\\',\\n    \\'auth/growl\\': \\'https://static01.nyt.com/js/auth/growl/default\\',\\n    \\'vhs\\': \\'https://static01.nyt.com/video/vhs/build/vhs-2.x.min\\',\\n    \\'vhs3\\': \\'https://static01.nyt.com/video-static/vhs3/vhs.min\\'\\n  }\\n};\\n\\nwindow.NYT_PLATFORM = \\'nyt5\\';\\nwindow.NYT_CONTEXT = \\'inline\\';\\nwindow.NYT_ENVIRONMENT = \\'prd\\';\\n\\n</script>\\n\\n<!--[if (gte IE 9)|!(IE)]> <!-->\\n<script data-main=\"foundation/main\" src=\"/vi-assets/static-assets/nyt5/decom-userinfo/js/framework.js\"></script>\\n<!--<![endif]-->\\n<!--[if lt IE 9]>\\n<script>require.map = { \\'*\\': { \\'foundation/main\\': \\'foundation/legacy_main\\' } };</script>\\n<script data-main=\"foundation/legacy_main\" src=\"/vi-assets/static-assets/nyt5/decom-userinfo/js/framework.js\"></script>\\n<![endif]-->\\n<script>\\nrequire([\\'foundation/main\\'], function () {\\n  require([\\'auth/mtr\\']);\\n});\\n</script>\\n<style>\\n.nyt-hide-shell #masthead, .nyt-hide-shell #ribbon, .nyt-hide-shell #TopAd, .nyt-hide-shell #page-footer, .nyt-hide-shell .growl-wrapper, .nyt-hide-shell #Growl_optly { display: none !important;  }\\n.nyt-hide-shell #shell {padding: 0;}\\n.mobile #TopAd {display: none;}\\n</style>\\n<script>var AdSlot4=function(){\"use strict\";function t(t,e){var n,i=Object.keys(t);return Object.getOwnPropertySymbols&&(n=Object.getOwnPropertySymbols(t),e&&(n=n.filter(function(e){return Object.getOwnPropertyDescriptor(t,e).enumerable})),i.push.apply(i,n)),i}function n(i){for(var e=1;e<arguments.length;e++){var o=null!=arguments[e]?arguments[e]:{};e%2?t(Object(o),!0).forEach(function(e){var t,n;t=i,e=o[n=e],n in t?Object.defineProperty(t,n,{value:e,enumerable:!0,configurable:!0,writable:!0}):t[n]=e}):Object.getOwnPropertyDescriptors?Object.defineProperties(i,Object.getOwnPropertyDescriptors(o)):t(Object(o)).forEach(function(e){Object.defineProperty(i,e,Object.getOwnPropertyDescriptor(o,e))})}return i}function j(e,t){return function(e){if(Array.isArray(e))return e}(e)||function(e,t){if(\"undefined\"==typeof Symbol||!(Symbol.iterator in Object(e)))return;var n=[],i=!0,o=!1,a=void 0;try{for(var r,d=e[Symbol.iterator]();!(i=(r=d.next()).done)&&(n.push(r.value),!t||n.length!==t);i=!0);}catch(e){o=!0,a=e}finally{try{i||null==d.return||d.return()}finally{if(o)throw a}}return n}(e,t)||function(e,t){if(!e)return;if(\"string\"==typeof e)return i(e,t);var n=Object.prototype.toString.call(e).slice(8,-1);\"Object\"===n&&e.constructor&&(n=e.constructor.name);if(\"Map\"===n||\"Set\"===n)return Array.from(e);if(\"Arguments\"===n||/^(?:Ui|I)nt(?:8|16|32)(?:Clamped)?Array$/.test(n))return i(e,t)}(e,t)||function(){throw new TypeError(\"Invalid attempt to destructure non-iterable instance.\\nIn order to be iterable, non-array objects must have a [Symbol.iterator]() method.\")}()}function i(e,t){(null==t||t>e.length)&&(t=e.length);for(var n=0,i=new Array(t);n<t;n++)i[n]=e[n];return i}function I(e,t,n,i,o,a){var r=1<arguments.length&&void 0!==t?t:0,d=2<arguments.length&&void 0!==n?n:0,l=3<arguments.length&&void 0!==i?i:0,s=4<arguments.length&&void 0!==o?o:0,u=!(5<arguments.length&&void 0!==a)||a;if(!e||1!==e.nodeType)return!1;var c=e.getBoundingClientRect(),t=c.top-r,n=c.left,i=c.bottom,o=c.right,a=0,e=0,r=window.innerHeight,c=window.innerWidth;return u?a+l*s<=i&&e+d*s<=o&&t<=r-l*s&&n<=c-d*s:a<=t&&i<=r}function L(){return!(\"undefined\"==typeof window||!window.document||!window.document.createElement)&&window.self!==window.top}function R(e){var t=window.location.href,e=e.replace(/[[]]/g,\"\\\\$&\"),t=new RegExp(\"[?&]\".concat(e,\"(=([^&#]*)|&|#|$)\")).exec(t);return t&&t[2]?decodeURIComponent(t[2].replace(/\\\\+/g,\"\")):\"\"}function z(e,t,n){var i=\"\".concat(e,\"-\").concat(t);try{performance.mark(i),performance.measure(i,n,i);var o=performance.getEntriesByName(i).find(function(e){return\"measure\"===e.entryType});return o?Math.round(o.duration):0}catch(e){return 0}}function k(){var e=document.referrer||\"\",t=/([a-zA-Z0-9_\\\\-.]+)(@|%40)([a-zA-Z0-9_\\\\-.]+).([a-zA-Z]{2,5})/;return t.test(e)||t.test(window.location.href)}function C(e){e=document.cookie.match(new RegExp(\"\".concat(e,\"=([^;]+)\")));return e?e[1]:\"\"}var D={adConfigPosition:5,full:\"f\",restrictedDataProcessing:\"r\",nonPersonalized:\"n\",collapsed:\"c\",adLuce:\"a\",socrates:\"s\"};function V(){return C(\"nyt-purr\")[D.adConfigPosition]||\"\"}function x(){return V()===D.socrates}function M(){return V()===D.adLuce}var q=function(e,t){return window&&window.NYTD&&window.NYTD.Abra(e)===t};return function(){var r,d,v=window.AdSlot4||{},t=window.performance&&window.performance.timing&&performance.timing.responseStart,w={},m=[],b=[],i=!1,o=!1,h=!0,y=!1,l=!1,A=V()===D.collapsed;if(v.init)return v;function a(e){e&&t&&e.setTargeting(\"request_time\",(Date.now()-t).toString())}function E(e,t){var n,i;q(\"DFP_Prebid_0521\",\"3_auction_at_call\")?(n=e,i=t,window.pbjs.que.push(function(){window.pbjs.requestBids({timeout:700,adUnitCodes:[n],bidsBackHandler:function(){window.pbjs.setTargetingForGPTAsync([n]),window.googletag.cmd.push(function(){a(i),window.googletag.display(n)})}})})):window.googletag.cmd.push(function(){a(t),window.googletag.display(e)})}function s(e){var t,n,i,o;k()||e?v.events.publish({name:\"AdEmpty\",value:{type:\"AdsDisabled\"}}):(o=function(){var e=window.googletag;e?e.cmd.push(function(){e._loadStarted_?window.advBidxc&&!window.advBidxc.isAdServerLoaded&&(window.advBidxc.isAdServerLoaded=!0):v.events.publish({name:\"AdEmpty\",value:{type:\"AdBlockOn\"}})}):v.events.publish({name:\"AdEmpty\",value:{type:\"GptError\"}})},window.googletag&&window.googletag.apiReady?o():(t=\"https://securepubads.g.doubleclick.net/tag/js/gpt.js\",n=o,i=function(){v.events.publish({name:\"AdEmpty\",value:{type:\"GptError\"}})},e=document.getElementsByTagName(\"head\")[0],o=document.createElement(\"script\"),n&&(o.onload=n),i&&(o.onerror=i),o.src=t,o.async=!0,e.appendChild(o)))}function u(){Object.entries(w).filter(function(e){return j(e,2)[1].displayed}).forEach(function(e){e=j(e,1)[0];v.events.publish({name:\"WindowUnload\",scope:e,vaue:e})})}function c(){\"hidden\"===document.visibilityState?Object.entries(w).filter(function(e){return j(e,2)[1].viewable}).forEach(function(e){var t=j(e,2),e=t[0],t=t[1];clearTimeout(t.viewabilityTimeout),t.viewabilityTimeout=null,t.viewable=!1,v.events.publish({name:\"WindowBlur\",scope:e,value:e})}):\"visible\"===document.visibilityState&&Object.entries(w).filter(function(e){return j(e,2)[1].potentiallyViewable}).forEach(function(e){var e=j(e,2),t=e[0],n=e[1];null!==(e=n.viewabilityTimeout)&&void 0!==e||(n.viewabilityTimeout=setTimeout(function(){n.viewable=!0,v.events.publish({name:\"AdViewableMetric\",scope:t}),n.viewabilityTimeout=null},1e3))})}function S(e,t,n){return window.googletag.defineSlot(e,t,n)}function O(e,t){var n=window.googletag;n.cmd.push(function(){e&&e.forEach(function(e){a(e)}),e&&t?n.pubads().refresh(e,t):e?n.pubads().refresh(e):t?n.pubads().refresh(null,t):n.pubads().refresh()})}function p(e){var t=e.displayed,n=e.id,e=e.slot;v.events.publish({name:\"AdCalled\",value:{id:n,slot:e,timeCalled:z(n,\"timeCalled\",\"responseStart\")},scope:n}),i&&t?(O([e],o?null:{changeCorrelator:!1}),o=!1):(E(n,e),w[n].displayed=!0)}function e(){b=b.filter(function(e){var t=e.AdSlotElement,t=I(t,h?v.props.offset:0,0,0,0,h);return(e.potentiallyViewable=t)&&p(e),!t})}function T(n){var i=n.AdSlotElement,e={root:null,rootMargin:\"\".concat(v.props.offset,\"px\"),threshold:0},e=new IntersectionObserver(function(e,t){e[0].isIntersecting&&(p(n),t.unobserve(i))},e);return e.observe(i),e}function P(n){var e=n.AdSlotElement,i=n.id,t=new IntersectionObserver(function(e){var t=j(e,1)[0];!n.viewable&&.5<=t.intersectionRatio?(n.potentiallyViewable=!0,null!==(e=n.viewabilityTimeout)&&void 0!==e||(n.viewabilityTimeout=setTimeout(function(){v.events.publish({name:\"AdViewableMetric\",scope:i}),n.viewabilityTimeout=null,n.viewable=!0},1e3))):n.viewable&&!t.isIntersecting&&(clearTimeout(n.viewabilityTimeout),n.viewabilityTimeout=null,n.potentiallyViewable=!1,n.viewable=!1,v.events.publish({name:\"AdLeftViewportMetric\",scope:i}))},{root:null,rootMargin:\"0px\",threshold:[0,.5]});return t.observe(e),t}function g(){window.IntersectionObserver?(y=!0,window.IntersectionObserver.prototype.POLL_INTERVAL=1e3):document.addEventListener(\"scroll\",function(i,e){var o=this,a=1<arguments.length&&void 0!==e?e:1e3,r=null;return function(){for(var e=arguments.length,t=new Array(e),n=0;n<e;n++)t[n]=arguments[n];null===r&&(r=setTimeout(function(){i.apply(o,t),r=null},a))}}(e,1e3))}function f(e){if(e.data.exclusive&&e.data.div){var t=e.data.div;switch(e.data.type){case\"only-child\":(n=(n={empty:(i=t,o=[],Object.keys(w).forEach(function(e){i!==e&&o.push(w[e])}),o)})&&n.empty||b).length&&n.forEach(function(e){e.observer&&e.observer.unobserve(e.AdSlotElement),v.events.publish({name:\"AdEmpty\",value:{type:e.id},scope:e.id})}),b=[],A=!0;break;case\"family-plan\":void 0!==(n=w[t]&&w[t].slot&&(w[t].slot.getResponseInformation()||{}).lineItemId)&&v.updateAdReq({adv:n,excl:\"family\"});break;case\"blank\":v.events.publish({name:\"AdEmpty\",value:{type:t},scope:e.data.div})}}var n,i,o}if(v.events=(r={},d={},{publish:function e(t){var n=t.name,i=void 0===n?\"\":n,n=t.value,o=void 0===n?{}:n,t=t.scope,t=void 0===t?\"page\":t;\"all\"!==t&&e({name:i,value:o,scope:\"all\"}),r[i]||(r[i]={}),r[i][t]||(r[i][t]=[]),r[i][t].push(o),d[i]&&d[i][t]&&d[i][t].forEach(function(e){e(o)})},subscribe:function(e){var t=e.name,n=void 0===t?\"\":t,t=e.callback,i=void 0===t?function(){}:t,e=e.scope,o=void 0===e?\"page\":e;d[n]||(d[n]={}),d[n][o]||(d[n][o]=[]);var a=d[n][o].push(i)-1;return r[n]&&r[n][o]&&r[n][o].length&&r[n][o].forEach(function(e){i(e)}),{remove:function(){return d[n][o].splice(a,1)}}},unsubscribeToAll:function(t){Object.keys(d).forEach(function(e){d[e]&&d[e][t]&&delete d[e][t]}),Object.keys(r).forEach(function(e){r[e]&&r[e][t]&&delete r[e][t]})}}),v.initializeAd=function(i,e){var t,n,a,o,r,d,l,s,u,c,p,g,f;v.props?(c=v.props,a=c.adUnitPath,o=c.sizeMapping,r=c.hideTopAd,d=e.id,l=e.position,c=e.sizeKey,s=e.lazyLoad,u=e.truePosition,p=(c=c||l)in o?o[c]:o.default,\"top\"===l&&r||!d||!a||!p||null!=i&&null!==(t=i.classList)&&void 0!==t&&t.contains(\"placed-ad\")||null!=i&&null!==(n=i.parentNode)&&void 0!==n&&null!==(g=n.classList)&&void 0!==g&&g.contains(\"placed-ad\")||m.includes(d)||((g=a.match(/tragedy/i))&&g.length?v.events.publish({name:\"AdEmpty\",value:{type:\"AdsDisabled\"},scope:\"page\"}):M()||k()||x()?v.events.publish({name:\"AdEmpty\",value:{type:\"AdsDisabled\"}}):A?v.events.publish({name:\"AdEmpty\",value:{type:d},scope:d}):((g=d)&&m.push(g),(f=window.googletag).cmd.push(function(){var o,e,t;L()?(o=window.outerWidth,n=p.reduce(function(e,t){var n=Number.isInteger(t[0])?t[0]:null,i=e.prevVp;return n<o&&i<n&&(e.prevVp=n,e.sizes=t[1]),e},{prevVp:-1,sizes:[]}),e=S(a,n.sizes,d)):(e=S(a,[\"fluid\"],d),t=f.sizeMapping(),p.forEach(function(e){t.addSize([e[0],0],e[1])}),e.defineSizeMapping(t.build()));var n=u||l;e.setTargeting(\"div\",d),e.setTargeting(\"pos\",n),e.setCollapseEmptyDiv(!0),e.addService(f.pubads());n={id:d,slot:e,AdSlotElement:i,sizes:p,viewabilityObserver:null,viewable:!1,viewabilityTimeout:null,potentiallyViewable:!1};v.events.publish({name:\"AdDefined\",value:{id:d,sizes:p,truePosition:u,timeDefined:z(d,\"timeDefined\",\"responseStart\"),slot:e},scope:d}),s&&!I(i,0,0,0,0,h)||(v.events.publish({name:\"AdCalled\",value:{id:d,slot:e,timeCalled:z(d,\"timeCalled\",\"responseStart\")},scope:d}),w[d]&&w[d].slot?O([e]):E(d,e),n.displayed=!0),(n=n).displayed||(y&&(n.observer=T(n)),b.push(n)),y&&(n.viewabilityObserver=P(n)),w[n.id]=n})))):v.events.subscribe({name:\"AdSlotReady\",callback:function(){return v.initializeAd(i,e)}})},v.fillPlacements=function(e){var t=document.querySelectorAll(\".place-ad:not(.placed-ad)\");if(t&&0!==t.length)for(var n=0;n<t.length;n++){var i=t[n],o=i.id,a=i.dataset,r=a.position,d=a.sizeKey,l=a.lazyLoad,s=a.slotId,u=\"false\"!==l,c=i,a=r,l=s&&s!==o;(o||s)&&r&&(l&&!e||!l)&&(l&&(a=s,(l=document.createElement(\"div\")).id=s,l.setAttribute(\"style\",\"display: block; text-align: center; height: 100%\"),c=l,i.appendChild(l)),v.initializeAd(c,{id:c.id,position:a,sizeKey:d,lazyLoad:u}),i.classList.add(\"placed-ad\"))}},v.updateAdReq=function(n,i){window.googletag.cmd.push(function(){var t=v.props&&v.props.adTargeting||{};i||Object.keys(n).forEach(function(e){t[e]=n[e],window.googletag.pubads().setTargeting(e,\"\".concat(n[e]))}),w[i]&&Object.keys(n).forEach(function(e){w[i].slot.setTargeting(e,\"\".concat(n[e]))})})},v.getAdReq=function(){return v.props&&v.props.adTargeting||{}},v.refreshAds=function(){h=!(o=i=!0),b=[],m=[],y?Object.keys(w).forEach(function(e){var t=w[e],n=t.observer,i=t.displayed,o=t.AdSlotElement,e=t.viewabilityObserver;b.push(t),i&&(n&&n.unobserve(o),e&&(t.viewable=!1,e.unobserve(o),v.events.publish({name:\"AdLeftViewport\",scope:t.id})),t.observer=T(t),t.viewabilityObserver=P(t))}):(Object.keys(w).forEach(function(e){b.push(w[e])}),e()),setTimeout(function(){h=!0},2e3)},v.removeAdPlacement=function(t){window.googletag.cmd.push(function(){var e=window.googletag.pubads().getSlots().filter(function(e){return e.getSlotElementId()===t});window.googletag.destroySlots(e)})},v.getSlot=function(t){var n=null;return window.googletag.cmd.push(function(){var e=window.googletag.pubads().getSlots().filter(function(e){return e.getSlotElementId()===t});n=e[0]||null}),n},v.init=function(e){var t=e||{},n=t.adTargeting,r=void 0===n?{}:n,i=t.adUnitPath,o=void 0===i?\"\":i,a=t.offset,d=void 0===a?400:a,e=t.haltDFP,n=t.lockdownAds,i=void 0!==n&&n,a=t.hideTopAd,n=void 0!==a&&a,a=t.sizeMapping,t=void 0===a?{}:a,a=void 0!==e&&e||x()||M();l||(r.vp=window.matchMedia(\"(min-width: 970px)\").matches?\"large\":window.matchMedia(\"(min-width: 728px)\").matches?\"medium\":\"small\",r.uap=(e=window.navigator.userAgent).match(/nyt[-_]?ios/i)?\"ios\":e.match(/nyt[-_]?android/i)?\"android\":\"browser\",r.aid=C(\"nyt-a\")||null,V()===D.full&&(r.purr=\"full\"),(e=R(\"ad-keywords\"))&&(r.adv=e),(e=R(\"debugads\"))&&(r.debugAdsQP=e),v.props={adTargeting:r,adUnitPath:o,offset:d,sizeMapping:t,hideTopAd:n},window.googletag=window.googletag||{},window.googletag.cmd=window.googletag.cmd||[],window.googletag.cmd.push(function(){r.gdprUser&&(window.googletag.pubads().setRequestNonPersonalizedAds(1),r.purr=\"npa\"),V()===D.nonPersonalized&&(window.googletag.pubads().setRequestNonPersonalizedAds(1),r.purr=\"npa\"),V()===D.restrictedDataProcessing&&(window.googletag.pubads().setPrivacySettings({restrictDataProcessing:!0}),r.purr=\"rdp\");var n,t,i=(n=r,t=window.googletag.pubads().getTargetingKeys(),Object.keys(n).filter(function(e){return t.indexOf(e)<0}).reduce(function(e,t){return e[t]=n[t],e},{}));Object.keys(i).forEach(function(e){window.googletag.pubads().setTargeting(e,i[e])}),window.googletag.enableServices(),g(),v.fillPlacements(!0);function o(){v.fillPlacements()}function a(){return\"complete\"===document.readyState}a()?o():document.addEventListener(\"readystatechange\",function e(){a()&&(document.removeEventListener(\"readystatechange\",e),o())}),window.addEventListener(\"unload\",u),window.document.addEventListener(\"visibilitychange\",c),window.googletag.pubads().addEventListener(\"slotRequested\",function(e){var t=e.slot.getSlotElementId(),n=z(t,\"timeCallSent\",\"responseStart\");e.timeCallSent=n,v.events.publish({name:\"AdRequestSent\",value:e,scope:t})}),window.googletag.pubads().addEventListener(\"slotResponseReceived\",function(e){var t=e.slot.getSlotElementId();e.timeReceived=z(t,\"timeReceived\",\"\".concat(t,\"-timeCalled\")),v.events.publish({name:\"AdResponse\",value:e,scope:t})}),window.googletag.pubads().addEventListener(\"slotRenderEnded\",function(e){var t=e.slot.getSlotElementId();e.timeRendered=z(t,\"timeRendered\",\"\".concat(t,\"-timeCalled\")),e.isEmpty?v.events.publish({name:\"AdEmpty\",value:{type:t},scope:t}):v.events.publish({name:\"AdRendered\",value:e,scope:t})}),window.googletag.pubads().addEventListener(\"slotOnload\",function(e){var t=e.slot.getSlotElementId();e.timeLoaded=z(t,\"timeLoaded\",\"\".concat(t,\"-timeCalled\")),v.events.publish({name:\"AdLoaded\",value:e,scope:t})}),window.googletag.pubads().addEventListener(\"impressionViewable\",function(e){var t=e.slot.getSlotElementId(),n=e.slot.getResponseInformation(),i=n.sourceAgnosticCreativeId,n=n.sourceAgnosticLineItemId;e.timeViewed=z(t,\"timeViewed\",\"\".concat(t,\"-timeCalled\")),e.creativeId=i,e.lineItemId=n,v.events.publish({name:\"AdViewable\",value:e,scope:t})})}),i?window.googletag.cmd.push(function(){window.googletag.pubads().setForceSafeFrame(!0)}):window.addEventListener(\"message\",function(e){!e.origin.match(/(safeframe|tpc).googlesyndication.com$/)&&e.origin!==window.location.origin||f(e)},!1),s(a),v.events.publish({name:\"AdSlotReady\"}),l=!0)},v.cmd)for(;v.cmd.length;)v.cmd.shift()();return v.cmd={length:0,push:function(e){e()}},window.AdSlot4=n(n({},v),{},{refreshAdsInView:O}),window.AdSlot={placeDynamicAds:v.fillPlacements,getSlot:v.getSlot,setTargeting:function(e,t){var n={};n[e]=t,v.updateAdReq(n)},setSlotTargeting:function(e,t,n){var i={};i[t]=n,v.updateAdReq(i,e.getSlotElementId())},displayAd:E,removeAdPlacement:v.removeAdPlacement,dispatch:function(){},destroyAdSlots:function(){window.googletag.cmd.push(function(){window.googletag.destroySlots()})},checkAdsInViewport:e,refresh:v.refreshAds,AdSlotReady:!0,adTargeting:v.props&&v.props.adTargeting||{}},v}()}();</script>\\n</head>\\n<body>\\n<style>\\n.lt-ie10 .messenger.suggestions {\\n  display: block !important;\\n  height: 50px;\\n}\\n\\n.lt-ie10 .messenger.suggestions .message-bed {\\n  background-color: #f8e9d2;\\n  border-bottom: 1px solid #ccc;\\n}\\n\\n.lt-ie10 .messenger.suggestions .message-container {\\n  padding: 11px 18px 11px 30px;\\n}\\n\\n.lt-ie10 .messenger.suggestions .action-link {\\n  font-family: \"nyt-franklin\", arial, helvetica, sans-serif;\\n  font-size: 10px;\\n  font-weight: bold;\\n  color: #a81817;\\n  text-transform: uppercase;\\n}\\n\\n.lt-ie10 .messenger.suggestions .alert-icon {\\n  background: url(\\'https://static01.nyt.com/images/icons/icon-alert-12x12-a81817.png\\') no-repeat;\\n  width: 12px;\\n  height: 12px;\\n  display: inline-block;\\n  margin-top: -2px;\\n  float: none;\\n}\\n\\n.lt-ie10 .masthead,\\n.lt-ie10 .navigation,\\n.lt-ie10 .comments-panel {\\n  margin-top: 50px !important;\\n}\\n\\n.lt-ie10 .ribbon {\\n  margin-top: 97px !important;\\n}\\n</style>\\n<div id=\"suggestions\" class=\"suggestions messenger nocontent robots-nocontent\" style=\"display:none;\">\\n  <div class=\"message-bed\">\\n    <div class=\"message-container last-message-container\">\\n      <div class=\"message\">\\n        <span class=\"message-content\">\\n          <i class=\"icon alert-icon\"></i><span class=\"message-title\">NYTimes.com no longer supports Internet Explorer 9 or earlier. Please upgrade your browser.</span>\\n          <a href=\"http://www.nytimes.com/content/help/site/ie9-support.html\" class=\"action-link\">LEARN MORE »</a>\\n        </span>\\n      </div>\\n    </div>\\n  </div>\\n</div>\\n<div id=\"shell\" class=\"shell\">\\n  <header id=\"masthead\" class=\"masthead masthead-theme-standard\" role=\"banner\">\\n  <div class=\"container\">\\n    <div class=\"quick-navigation button-group\">\\n      <button class=\"button sections-button\"><i class=\"icon sprite-icon\"></i><span class=\"button-text\">Sections</span></button>\\n      <button class=\"button home-button\" data-href=\"http://www.nytimes.com/\" title=\"Go to the home page to see the latest top stories.\"><i class=\"icon sprite-icon\"></i><span class=\"button-text\">Home</span></button>\\n      <button class=\"button search-button\"><i class=\"icon sprite-icon\"></i><span class=\"button-text\">Search</span></button>\\n    </div>\\n    <div class=\"branding\">\\n      <h2 class=\"branding-heading\">\\n        <a id=\"branding-heading-link\" href=\"http://www.nytimes.com/\">\\n          <span class=\"visually-hidden\">The New York Times</span>\\n        </a>\\n      </h2>\\n      <script>\\n        window.magnum.writeLogo(\\'small\\', \\'/vi-assets/static-assets/nyt5/decom-userinfo/images/foundation/logos/\\', \\'opinion\\', \\'masthead-theme-standard\\', \\'standard\\', \\'branding-heading-link\\', \\'interactive\\');\\n      </script>\\n      \\n    </div>\\n    <div class=\"story-meta\">\\n      <h6 class=\"kicker\">\\n        <span class=\"kicker-label\">\\n          <a href=\"/section/opinion\">Opinion</a>\\n        </span>\\n        <span class=\"pipe\">|</span>President Trump’s Lies, the Definitive List\\n      </h6>\\n    </div>\\n    <div class=\"user-tools\">\\n  <div id=\"sharetools-masthead\"\\n    aria-label=\"tools\" role=\"group\"\\n    class=\"sharetools theme-classic  sharetools-masthead  \"\\n    data-shares=\"facebook,twitter,email,show-all,save\"\\n    data-url=\"https://www.nytimes.com/interactive/2017/06/23/opinion/trumps-lies.html\"\\n    data-title=\"President Trump’s Lies, the Definitive List\"\\n    data-author=\"By David Leonhardt and Stuart A. Thompson\"\\n    data-media=\"https://static01.nyt.com/images/icons/t_logo_291_black.png\"\\n    data-description=\"We have catalogued nearly every outright lie the president has told publicly since taking the oath of office.\"\\n    data-publish-date=\"June 23, 2017\">\\n    <div class=\"ad sharetools-inline-article-ad hidden nocontent robots-nocontent\"></div>\\n  </div>\\n  <div class=\"user-tools-button-group button-group\">\\n    <button class=\"button login-button login-modal-trigger hidden\">Log In</button>\\n    \\n    <button class=\"button notifications-button hidden\"><i class=\"icon sprite-icon\"></i><span class=\"button-text\">0</span></button>\\n    <button class=\"button user-settings-button\"><i class=\"icon sprite-icon\"></i><span class=\"button-text\">Settings</span></button>\\n  </div>\\n</div>\\n  </div>\\n  <div class=\"search-flyout-panel flyout-panel\">\\n  <button class=\"button close-button\" type=\"button\"><i class=\"icon\"></i><span class=\"visually-hidden\">Close search</span></button>\\n  <nav class=\"search-form-control form-control layout-horizontal\">\\n    <h2 class=\"visually-hidden\">Site Search Navigation</h2>\\n    <form class=\"search-form\" role=\"search\">\\n      <div class=\"control\">\\n        <div class=\"label-container visually-hidden\">\\n          <label for=\"search-input\">Search NYTimes.com</label>\\n        </div>\\n        <div class=\"field-container\">\\n          <input id=\"search-input\" name=\"search-input\" type=\"text\" class=\"search-input text\" autocomplete=\"off\" placeholder=\"Search NYTimes.com\" />\\n          <button type=\"button\" class=\"button clear-button\" tabindex=\"-1\" aria-describedby=\"clear-search-input\"><i class=\"icon\"></i><span id=\"clear-search-input\" class=\"visually-hidden\">Clear this text input</span></button>\\n          <div class=\"auto-suggest\" style=\"display: none;\">\\n            <ol></ol>\\n          </div>\\n          <button class=\"button submit-button\" type=\"submit\">Go</button>\\n        </div>\\n      </div>\\n    </form>\\n  </nav>\\n</div>\\n  <div id=\"notification-modals\" class=\"notification-modals\"></div>\\n  <span class=\"story-short-url\"><a href=\"https://nyti.ms/2sZlbZl\">https://nyti.ms/2sZlbZl</a></span>\\n</header>\\n<nav id=\"ribbon\" class=\"ribbon ribbon-start nocontent robots-nocontent\" aria-hidden=\"true\">\\n  <div class=\"nocontent robots-nocontent\">\\n    <ol class=\"ribbon-menu\">\\n      <li class=\"collection ribbon-loader\">\\n        <div class=\"loader loader-t-logo-32x32-ecedeb-ffffff\"><span class=\"visually-hidden\">Loading...</span></div>\\n      </li>\\n    </ol>\\n    <div class=\"ribbon-navigation-container\">\\n      <nav class=\"ribbon-navigation next\">\\n        <span class=\"visually-hidden\">See next articles</span>\\n        <div class=\"arrow arrow-right\">\\n          <div class=\"arrow-conceal\"></div>\\n        </div>\\n      </nav>\\n      <nav class=\"ribbon-navigation previous\">\\n        <span class=\"visually-hidden\">See previous articles</span>\\n        <div class=\"arrow arrow-left\">\\n          <div class=\"arrow-conceal\"></div>\\n        </div>\\n      </nav>\\n    </div>\\n  </div><!-- close nocontent -->\\n</nav>\\n<nav class=\"navigation\" id=\"navigation\">\\n  <h2 class=\"visually-hidden\">Site Navigation</h2>\\n</nav>\\n<nav class=\"mobile-navigation hidden\" id=\"mobile-navigation\">\\n  <h2 class=\"visually-hidden\">Site Mobile Navigation</h2>\\n</nav>\\n<div id=\"navigation-edge\" class=\"navigation-edge\"></div>\\n  <div id=\"page\" class=\"page\">\\n    <div id=\"TopAd\" class=\"ad top-ad nocontent robots-nocontent\">\\n  <div class=\"accessibility-ad-header\">\\n    <p>Advertisement</p>\\n  </div>\\n</div>\\n    <main id=\"main\" class=\"main\" role=\"main\">\\n      <article id=\"story\" class=\"story theme-interactive theme-main\">\\n        \\n        <header class=\"story-header interactive-header\">\\n          <div class=\"story-meta\">\\n            <button class=\"button comments-button theme-kicker\"></button>\\n            <div class=\"kicker-container\">\\n              <h2 class=\"kicker interactive-kicker\">\\n                <span class=\"kicker-label\">\\n                  <a href=\"/section/opinion\">\\n                    Opinion\\n                  </a>\\n                </span>\\n                \\n              </h2>\\n              <div id=\"sharetools-interactive\"\\n                aria-label=\"tools\" role=\"group\"\\n                class=\"sharetools theme-classic sharetools-interactive\"\\n                data-shares=\"show-all|Share\"\\n                data-url=\"https://www.nytimes.com/interactive/2017/06/23/opinion/trumps-lies.html\"\\n                data-title=\"President Trump’s Lies, the Definitive List\"\\n                data-author=\"By David Leonhardt and Stuart A. Thompson\"\\n                data-media=\"https://static01.nyt.com/images/icons/t_logo_291_black.png\"\\n                data-description=\"We have catalogued nearly every outright lie the president has told publicly since taking the oath of office.\"\\n                data-publish-date=\"June 23, 2017\">\\n                <div class=\"ad sharetools-inline-article-ad hidden nocontent robots-nocontent\"></div>\\n              </div>\\n            </div>\\n            <h1 class=\"story-heading interactive-headline\" itemprop=\"headline\">President Trump’s Lies, the Definitive List</h1>\\n            <div class=\"story-meta-footer interactive-meta-footer\">\\n              <div class=\"interactive-byline\">\\n    <p class=\"byline-dateline\">\\n      <span class=\"byline\" itemprop=\"author creator\" itemscope itemtype=\"http://schema.org/Person\" itemid=\"http://www.nytimes.com/by/david-leonhardt\">\\n      By <a href=\"http://www.nytimes.com/by/david-leonhardt\" title=\"More Articles by David Leonhardt\"><span class=\"byline-author\" data-byline-name=\"DAVID LEONHARDT\" itemprop=\"name\">DAVID LEONHARDT</span></a> and \\n    </span><span class=\"byline last-byline\" itemprop=\"author creator\" itemscope itemtype=\"http://schema.org/Person\" itemid=\"https://www.nytimes.com/by/stuart-a-thompson\">\\n      <a href=\"https://www.nytimes.com/by/stuart-a-thompson\" title=\"More Articles by Stuart A. Thompson\"><span class=\"byline-author\" data-byline-name=\"STUART A. THOMPSON\" itemprop=\"name\">STUART A. THOMPSON</span></a>\\n    </span>\\n      <time class=\"dateline\" datetime=\"December 14, 2017\"><span class=\"timestamp\">UPDATED </span>December 14, 2017</time>\\n    </p>\\n  </div>\\n              <p class=\"interactive-leadin summary\">\\n                \\n                \\n                \\n              </p>\\n            </div>\\n          </div>\\n        </header>\\n        <div id=\"trumps-lies\" class=\"interactive-graphic\"><!--\\n\\n======================================================\\n\\nTHIS IS A GENERATED TEMPLATE FILE. DO NOT EDIT.\\n\\n======================================================\\n\\n-->\\n<!-- this file is generated from src/style.less -->\\n<style>/*\\n  SHOW LIBRARY\\n  ===================== */\\n.g-show-xsmall,\\n.g-show-small,\\n.g-show-smallplus,\\n.g-show-submedium,\\n.g-show-sub-medium,\\n.g-show-medium,\\n.g-show-large,\\n.g-show-xlarge {\\n  display: none;\\n}\\n.g-show {\\n  display: block;\\n}\\n.lt-ie10 .g-aiImg {\\n  width: 100%;\\n}\\n/* story top */\\n.story.theme-main .story-header .story-meta .story-heading {\\n  max-width: 720px;\\n  margin: 0 auto 10px;\\n  text-align: center;\\n  line-height: 2.844rem;\\n  font-size: 2.4rem;\\n}\\n@media only screen and (max-width: 1244px) {\\n  .story.theme-main .story-header .story-meta .story-heading {\\n    line-height: 2.5596rem;\\n    font-size: 2.16rem;\\n  }\\n}\\n@media only screen and (max-width: 719px) {\\n  .story.theme-main .story-header .story-meta .story-heading {\\n    line-height: 2.2752rem;\\n    font-size: 1.92rem;\\n  }\\n}\\n.story.theme-main .story-header .story-meta .interactive-leadin.summary {\\n  max-width: 540px;\\n  margin: 0 auto 20px auto;\\n  text-align: left;\\n  font-size: 17px;\\n  line-height: 1.6;\\n}\\n.story.theme-main .story-header .story-meta .byline-dateline {\\n  text-align: center;\\n}\\n/* top asset */\\n.g-top-asset {\\n  margin-left: auto;\\n  margin-right: auto;\\n  margin-bottom: 20px;\\n}\\n.g-top-asset img {\\n  width: 100%;\\n}\\n/* body text */\\n.g-body {\\n  max-width: 540px;\\n  margin-left: auto;\\n  margin-right: auto;\\n  font-size: 17px;\\n  line-height: 1.6;\\n}\\n.g-body b,\\n.g-body strong {\\n  font-family: \\'nyt-franklin\\', arial, sans-serif;\\n  font-size: 16px;\\n}\\n.g-body a {\\n  text-decoration: underline;\\n}\\n/* subhed */\\n.g-subhed h2 {\\n  max-width: 540px;\\n  margin: 2em auto 1em auto;\\n  font: 700 1.2em/1.3em \\'nyt-franklin\\', arial, sans-serif;\\n  text-align: center;\\n}\\n.viewport-small-10 .g-subhed h2 {\\n  font-size: 1.5em;\\n}\\n/* images */\\n.g-item-image {\\n  margin: 25px auto;\\n}\\n.g-item-image img {\\n  width: 100%;\\n}\\n/* video */\\n.g-item-video {\\n  margin: 25px auto;\\n}\\n/* sources and credits */\\n.g-asset-source {\\n  padding-top: 3px;\\n}\\n.g-asset-source .g-source {\\n  font: 400 12px/15px \\'nyt-franklin\\', arial, sans-serif;\\n  color: #999;\\n}\\n.g-asset-source .g-pipe {\\n  margin: 0 6px 0 3px;\\n  font: 400 12px/12px \\'nyt-franklin\\', arial, sans-serif;\\n  color: #999;\\n}\\n.g-asset-source .g-caption {\\n  font: 300 14px/17px georgia, \\'times new roman\\', times, serif;\\n}\\n.g-asset-source .g-credit {\\n  font: 400 12px/17px \\'nyt-franklin\\', arial, sans-serif;\\n  display: inline-block;\\n  color: #999;\\n}\\n/* graphics */\\n.g-item-ai2html {\\n  margin: 25px auto;\\n}\\np.g-asset-hed {\\n  font: 700 16px/18px \\'nyt-franklin\\', arial, sans-serif;\\n  margin-bottom: 0;\\n}\\n.g-map-key {\\n  float: none;\\n  clear: both;\\n  overflow: hidden;\\n  margin: 10px auto 4px auto;\\n}\\n.g-map-key .g-key-row {\\n  margin-bottom: 5px;\\n  margin-right: 15px;\\n  float: left;\\n}\\n.viewport-small .g-map-key .g-key-row {\\n  width: auto;\\n  margin-bottom: 0;\\n}\\n.viewport-small-20 .g-map-key .g-key-row {\\n  width: auto;\\n}\\n.g-map-key .g-key-row .g-key-rect,\\n.g-map-key .g-key-row .g-key-circle {\\n  display: inline-block;\\n  vertical-align: middle;\\n  margin-right: 8px;\\n  float: left;\\n}\\n.g-map-key .g-key-row p {\\n  font: 500 0.9em/1.6 \\'nyt-franklin\\', arial, sans-serif;\\n  float: left;\\n  vertical-align: middle;\\n  margin: -2px 0 0 0;\\n}\\n.viewport-small .g-map-key .g-key-row p {\\n  max-width: 92%;\\n}\\n.viewport-small-20 .g-map-key .g-key-row p {\\n  width: auto;\\n  max-width: none;\\n}\\n.g-map-key .g-key-row .g-key-rect {\\n  width: 22px;\\n  height: 10px;\\n  margin-top: 4px;\\n}\\n.g-map-key .g-key-row .g-key-circle {\\n  width: 9px;\\n  height: 9px;\\n  border-radius: 50%;\\n  margin-top: 4px;\\n}\\n.g-map-key .g-key-row .g-key-custom {\\n  width: 20px;\\n  height: 20px;\\n  background-size: 100%;\\n  display: block;\\n  float: left;\\n  width: 24px;\\n  height: 24px;\\n  margin: -4px 2px 0 0;\\n}\\n.viewport-small .g-map-key .g-key-row-title p {\\n  width: 100%;\\n  max-width: none;\\n}\\n.g-red-dot,\\n.g-black-dot {\\n  display: inline-block;\\n  background: #d00;\\n  color: white;\\n  font-weight: bold;\\n  width: 20px;\\n  height: 20px;\\n  font: 700 14px/1.4 \\'nyt-franklin\\', arial, sans-serif;\\n  text-align: center;\\n  border-radius: 10px;\\n  line-height: 20px;\\n}\\n.g-black-dot {\\n  background: #222;\\n}\\n/* column text */\\n.g-column-container {\\n  max-width: 540px;\\n  margin: 20px auto 0 auto;\\n}\\n.viewport-medium .g-column-container {\\n  max-width: 1050px;\\n}\\n.viewport-large .g-column-container {\\n  margin-bottom: 30px;\\n}\\n.g-column-container .g-column-hed {\\n  font-family: \\'nyt-franklin\\', arial, sans-serif;\\n  font-weight: 700;\\n  margin-bottom: 2px;\\n}\\n.g-column-container .g-column-col {\\n  vertical-align: top;\\n}\\n.viewport-small .g-column-container .g-column-col {\\n  display: block;\\n  min-width: 100%;\\n}\\n.viewport-medium .g-column-container .g-column-col {\\n  min-width: 0;\\n  display: inline-block;\\n  margin-right: 15px;\\n}\\n.viewport-medium .g-column-container .g-column-col:last-child {\\n  margin-right: 0;\\n}\\n.g-column-container .g-column-asset,\\n.g-column-container .g-column-image {\\n  margin-bottom: 8px;\\n}\\n.g-column-container .g-column-image img {\\n  width: 100%;\\n}\\n/* tables */\\n.g-table {\\n  margin: 0 auto;\\n  margin-bottom: 25px;\\n}\\n.g-table tr {\\n  border-bottom: 1px solid #ececec;\\n}\\n.g-table p {\\n  font: 500 14px/1.4 \\'nyt-franklin\\', arial, sans-serif;\\n  text-align: left;\\n  margin: 6px 0;\\n}\\n/* grid */\\n.g-grid {\\n  margin-bottom: 15px;\\n}\\n.g-grid .g-grid-item {\\n  position: relative;\\n  display: inline-block;\\n  min-width: calc(50% - 5px);\\n}\\n.viewport-small-20 .g-grid .g-grid-item {\\n  min-width: calc(33% - 5px);\\n}\\n.viewport-medium .g-grid .g-grid-item {\\n  min-width: 0;\\n}\\n.g-grid .g-grid-item p {\\n  font: 500 15px/1.4 \\'nyt-franklin\\', arial, sans-serif;\\n  position: absolute;\\n  bottom: 10px;\\n  left: 10px;\\n  color: #fff;\\n  margin-bottom: 0;\\n}\\n/* Mobile issues */\\n/* Get rid of border under intro and share tools on mobile */\\n.story-header.interactive-header {\\n  border-bottom: none !important;\\n}\\n/* Share tools issues */\\n/* Pad out the kicker/sharetool space */\\n.story.theme-main .story-header .story-meta .kicker-container {\\n  margin-bottom: 12px;\\n}\\n/* Override the moving sharetools on mobile */\\n.story.theme-main .story-header .story-meta .kicker-container .sharetools {\\n  position: relative;\\n  float: right;\\n  /*right: 0px;*/\\n  bottom: auto;\\n  left: auto;\\n  width: auto;\\n  margin-top: -6px;\\n  clear: none;\\n}\\n/* Maintain the proper space with the section name and kicker next to share tools */\\n.story.theme-main .story-header .story-meta .interactive-kicker {\\n  float: left;\\n  width: 70%;\\n  display: inline-block;\\n}\\n.g-graphic.g-graphic-freebird .g-ad-wrapper {\\n  margin: 30px auto;\\n  max-width: 1050px;\\n}\\n.viewport-medium .g-graphic.g-graphic-freebird .g-ad-wrapper {\\n  margin: 50px auto;\\n}\\n.g-graphic.g-graphic-freebird .g-ad-wrapper .ad {\\n  border-top: 1px solid #e2e2e2 !important;\\n  border-bottom: 1px solid #e2e2e2 !important;\\n  margin: 0 auto;\\n  padding: 10px 0;\\n  overflow: hidden;\\n  max-width: 100%;\\n}\\n.g-graphic.g-graphic-freebird .g-ad-wrapper .ad div {\\n  margin: 0 auto;\\n  display: block !important;\\n}\\n.g-graphic.g-graphic-freebird .g-ad-wrapper iframe {\\n  margin: 0 auto;\\n  display: block;\\n}\\n.g-graphic.g-graphic-freebird .g-ad-wrapper .g-ad-text {\\n  text-align: center;\\n  font: 500 12px/1.2 \"nyt-franklin\", arial, sans-serif;\\n  color: #bfbfbf;\\n  text-transform: uppercase;\\n  margin-bottom: 7px;\\n}\\n.ad.top-ad {\\n  border: none;\\n  margin-left: auto;\\n  margin-right: auto;\\n}\\n/* Center headlines for standalone and embedded interactives */\\n/* @import (inline) \"nyt5/centered-headline.css\"; */\\n/* Fullbleed interactive-graphic container */\\n/* For use with LaziestLoader */\\n/* @import (inline) \"nyt5/laziestloader.css\"; */\\n.g-subhed.post-grid h2 {\\n  margin-bottom: 0 !important;\\n}\\n.g-item-ai2html {\\n  margin-top: 10px !important;\\n}\\n.g-column-container .g-column-hed {\\n  text-align: center;\\n}\\n.g-column-container .g-column-text {\\n  font-size: 22px;\\n  line-height: 1.5;\\n  color: #bfbfbf;\\n  font-family: \"Georgia\", sans-serif;\\n  background-color: black;\\n  padding: 65px 45px;\\n}\\n.g-column-container .g-column-text span {\\n  color: #d8c944;\\n}\\n.g-top-asset {\\n  padding-top: 15px;\\n}\\n/* Fix spacing at top of story */\\n.has-top-ad .story.theme-interactive,\\n.has-ribbon .story.theme-interactive {\\n  margin-top: 10px;\\n}\\n\\n/* Fix comments button margin */\\n.story.theme-interactive .comments-button.theme-kicker {\\n  margin-top: 0;\\n}\\n\\n/* Get rid of border under intro and share tools on mobile */\\n.page-interactive-default .story.theme-main .story-header {\\n  border-bottom: none;\\n}\\n\\n/* Pad out the kicker/sharetool space */\\n.story.theme-interactive .story-meta .kicker {\\n  margin-bottom: 22px;\\n}\\n\\n.viewport-medium-10 .story.theme-interactive .story-meta .kicker {\\n  margin-bottom: 24px;\\n}\\n\\n/* Override the moving sharetools on mobile */\\n.story.theme-interactive .story-header .story-meta .kicker-container .sharetools {\\n  position: relative;\\n  left: auto;\\n  bottom: auto;\\n  width: auto;\\n  margin-top: -6px;\\n  float: right;\\n  clear: none;\\n}\\n\\n/* Maintain the proper space with the section name and kicker next to share tools */\\n.story.theme-interactive .story-header .story-meta .interactive-kicker {\\n  float: left;\\n  width: 65%;\\n  display: inline-block;\\n}\\n\\n/* Gets rid of the extra space under the intro that puts too much space there in mobile and desktop */\\n.page-interactive-default .story.theme-main .story-header {\\n  margin-bottom: 0;\\n}\\n\\n.page-interactive-default .story.theme-main .story-header .story-meta {\\n  margin-bottom: 10px;\\n}\\n\\n/*Fixes styling on share tools at bottom of minimal interactives*/\\n.story.theme-minimal .sharetools.layout-horizontal{\\n  width:auto;\\n  margin-top:11px;\\n}\\n.story.theme-minimal .sharetools.layout-horizontal .sharetool {\\n  display: inline-block;\\n  border-top: 0;\\n}\\n.story.theme-minimal .sharetools.layout-horizontal .sharetool:first-child a {\\n  margin-left: 0;\\n  padding-left: 0;\\n  border-left: none;\\n}\\n.story.theme-minimal .sharetools.layout-horizontal .sharetool a {\\n  padding-left: 15px;\\n  padding-right: 5px;\\n  height: 20px;\\n  border-left: 1px solid #e2e2e2;\\n}\\n.story.theme-minimal .sharetools.layout-horizontal .sharetool a:hover {\\n  background-color: transparent;  \\n}\\n\\n/* uncomment to fix related content and footer layout on max_width: 720 pages */\\n/*\\n.related-coverage {\\n  max-width: 720px;\\n}\\n\\n.viewport-medium-30 .page-footer nav ul,\\n.viewport-medium-50 .page-footer nav ul {\\n  margin-left: 28px;\\n}\\n\\n.viewport-medium-30 .page-footer nav.last-nav {\\n  float: none;\\n}\\n\\n.viewport-medium-30 .page-footer nav.last-nav ul {\\n  margin-left: 239px;\\n}\\n*/\\n\\n.story-heading.interactive-headline[itemprop=\"headline\"],\\n.byline-dateline,\\n.story-meta {\\n  display: none;\\n  text-align: center;\\n}\\n.story-heading.interactive-headline[itemprop=\"headline\"].showing,\\n.byline-dateline.showing,\\n.story-meta.showing {\\n  display: block;\\n  padding-bottom: 10px 0;\\n}\\n.byline-dateline.showing {\\n  padding: 10px 0;\\n}\\n.story.theme-main .story-header .story-meta .story-heading,\\nh1.story-heading {\\n  text-align: center;\\n  font-size: 8rem;\\n  line-height: 1;\\n  font-family: \"NYTCheltenham\";\\n  font-weight: 100;\\n  margin: 40px 0 10px 0;\\n  width: 100%;\\n  max-width: 100%;\\n}\\n.g-container-intro p.g-body {\\n  text-align: justify;\\n  font-size: 19px;\\n  max-width: 558px;\\n  font-weight: 300;\\n  font-family: \\'nyt-franklin\\', Arial, sans-serif;\\n  line-height: 1.6;\\n  -webkit-font-smoothing: antialiased;\\n  font-smoothing: antialiased;\\n  margin-top: 1rem;\\n}\\n@media only screen and (max-width: 985px) {\\n  .g-container-intro p.g-body {\\n    font-size: 18px;\\n    max-width: 441px;\\n    text-align: justify;\\n    letter-spacing: 0.15px;\\n    line-height: 1.7;\\n  }\\n}\\n@media only screen and (max-width: 719px) {\\n  .g-container-intro p.g-body {\\n    font-size: 14px;\\n    max-width: 276px;\\n    text-align: justify;\\n    letter-spacing: -0.15px;\\n    line-height: 1.75;\\n    -webkit-font-smoothing: initial;\\n    margin-top: 0;\\n    font-smoothing: initial;\\n  }\\n}\\n.g-container-intro a {\\n  text-transform: uppercase;\\n  font-size: 12px;\\n  font-weight: 600;\\n  color: #333;\\n}\\n.g-subhed.center h2 {\\n  text-align: center;\\n  font-size: 18px;\\n}\\n.quote-wrap {\\n  width: 100%;\\n  margin-bottom: 40px;\\n  text-align: center;\\n}\\n.quotebox {\\n  display: inline-block;\\n  width: 30%;\\n  text-align: center;\\n  vertical-align: top;\\n  margin-bottom: 10px;\\n}\\n.quotebox.wide {\\n  width: 66%;\\n}\\n.quotebox .quotebox-inner {\\n  padding-top: 10px;\\n  border-top: 1px solid #cecece;\\n  margin: 10px;\\n}\\n.quotebox .quote {\\n  font-family: \\'nyt-franklin\\', Arial, sans-serif;\\n  font-weight: 100;\\n  font-size: 22px;\\n}\\n.quotebox .quote-date {\\n  margin-bottom: 10px;\\n  font-size: 14px;\\n  color: #aaa;\\n  font-family: \\'nyt-franklin\\', Arial, sans-serif;\\n}\\n.opinion-strap {\\n  text-align: center;\\n  border-top: 1px solid #555;\\n  padding-top: 1rem;\\n  text-transform: uppercase;\\n  letter-spacing: 2px;\\n  font-size: 0.75rem;\\n  margin-bottom: 3.5rem;\\n}\\n.g-graphic.g-graphic-freebird {\\n  display: -webkit-box;\\n  display: -ms-flexbox;\\n  display: flex;\\n  -webkit-box-orient: vertical;\\n  -webkit-box-direction: normal;\\n      -ms-flex-direction: column;\\n          flex-direction: column;\\n}\\n.g-item {\\n  -webkit-box-ordinal-group: 4;\\n      -ms-flex-order: 3;\\n          order: 3;\\n}\\n.lie-grid {\\n  font-family: \\'nyt-franklin\\', Arial, sans-serif;\\n  line-height: 1.5;\\n  text-align: justify;\\n  max-width: 100%;\\n  margin: 2.25rem auto;\\n}\\n.lie-grid h2 {\\n  margin-bottom: 5px !important;\\n}\\n.lie-grid .lie-continue {\\n  position: fixed;\\n  bottom: 0;\\n  width: 100%;\\n  text-align: center;\\n  left: 0;\\n  background-color: white;\\n  background: linear-gradient(to bottom, rgba(255, 255, 255, 0) 0%, #ffffff 55%, #ffffff 100%);\\n  padding-top: 60px;\\n  padding-bottom: 15px;\\n  text-transform: uppercase;\\n  font-size: 11px;\\n  color: #aaa;\\n  opacity: 0;\\n  transition: all 0.25s;\\n}\\n.lie-grid .lie-continue.show {\\n  opacity: 1;\\n}\\n.lie-grid .lie-continue a:link {\\n  color: #555;\\n  text-transform: uppercase;\\n  letter-spacing: 1.5px;\\n}\\n.lie-grid .short-desc {\\n  font-size: 14px;\\n  font-weight: 100;\\n  padding: 5px 10px 5px 0;\\n}\\n@media only screen and (max-width: 719px) {\\n  .lie-grid .short-desc {\\n    font-size: 13px;\\n  }\\n}\\n.lie-grid .short-truth {\\n  color: #bbb;\\n}\\n.lie-grid .short-truth a {\\n  color: #999;\\n  text-shadow: 0.03em 0 #ffffff, -0.03em 0 #ffffff, 0 0.03em #ffffff, 0 -0.03em #ffffff, 0.06em 0 #ffffff, -0.06em 0 #ffffff, 0.09em 0 #ffffff, -0.09em 0 #ffffff, 0.12em 0 #ffffff, -0.12em 0 #ffffff, 0.15em 0 #ffffff, -0.15em 0 #ffffff;\\n  text-decoration: none;\\n  background-image: linear-gradient(to bottom, #d1d1d1 50%, rgba(0, 0, 0, 0) 50%);\\n  background-repeat: repeat-x;\\n  background-size: 2px .15em;\\n  background-position: 0 bottom;\\n  transition: all 0.15s;\\n}\\n.lie-grid .short-truth a:hover {\\n  color: #666;\\n  background-image: linear-gradient(to bottom, #999999 50%, rgba(0, 0, 0, 0) 50%);\\n  transition: all 0.15s;\\n}\\n.lie-grid strong {\\n  color: #f55824;\\n}\\n.lie-grid {\\n  -webkit-font-smoothing: antialiased;\\n  line-height: 1.8;\\n}\\n@media only screen and (max-width: 719px) {\\n  .lie-grid {\\n    line-height: 1.47;\\n  }\\n}\\n.lie-grid strong {\\n  font: 600 13px/1 nyt-franklin;\\n  letter-spacing: 1.25px;\\n  text-transform: uppercase;\\n}\\n.lie-grid .short-desc {\\n  font: 300 14px/1 nyt-cheltenham-sh;\\n}\\n.lie-grid .short-truth {\\n  color: #999;\\n  font-style: italic;\\n  font-weight: 100;\\n}\\n.story.theme-main .story-header .story-meta .story-heading,\\nh1.story-heading {\\n  font: 300 15.5rem \"nyt-cheltenham-extra-cn-bd\";\\n  line-height: 1;\\n  letter-spacing: -3px;\\n  font-size: 0;\\n}\\n@media only screen and (max-width: 719px) {\\n  .story.theme-main .story-header .story-meta .story-heading,\\n  h1.story-heading {\\n    letter-spacing: -2px;\\n  }\\n}\\nspan.custom-hed-letter {\\n  font-size: 12rem;\\n}\\n@media only screen and (max-width: 985px) {\\n  span.custom-hed-letter {\\n    font-size: 9.5rem;\\n  }\\n}\\n@media only screen and (max-width: 765px) {\\n  span.custom-hed-letter {\\n    font-size: 10rem;\\n  }\\n}\\n@media only screen and (max-width: 719px) {\\n  span.custom-hed-letter {\\n    font-size: 5.8rem;\\n  }\\n}\\nspan.custom-hed-letter.one {\\n  margin-right: -12px;\\n}\\n@media only screen and (max-width: 719px) {\\n  span.custom-hed-letter.one {\\n    margin-right: -5px;\\n  }\\n}\\nspan.custom-hed-letter.three {\\n  margin-right: 2.5px;\\n}\\nspan.custom-hed-letter.six {\\n  margin-left: -3px;\\n  margin-right: -18px;\\n}\\n@media only screen and (max-width: 719px) {\\n  span.custom-hed-letter.six {\\n    margin-left: 0;\\n    margin-right: -8px;\\n  }\\n}\\nspan.custom-hed-letter.eight {\\n  margin: 0 5px;\\n}\\n@media only screen and (max-width: 719px) {\\n  span.custom-hed-letter.eight {\\n    margin: 0 0px;\\n  }\\n}\\nspan.custom-hed-letter.nine {\\n  margin-right: 4px;\\n  margin-left: 4px;\\n}\\nspan.custom-hed-letter.eleven {\\n  margin-right: 2px;\\n}\\n.story.theme-main {\\n  margin-top: 2rem;\\n}\\n.story.theme-main .byline-dateline {\\n  margin-right: 0;\\n}\\n@media only screen and (max-width: 719px) {\\n  .story.theme-main .byline-dateline {\\n    margin-bottom: 1rem;\\n  }\\n}\\n@media only screen and (max-width: 719px) {\\n  .story.theme-main .byline + .dateline {\\n    display: block;\\n  }\\n}\\n</style>\\n\\n\\n\\n\\n<div class=\"opinion-strap\">Opinion</div>\\n\\n<h1 class=\"custom-hed story-heading interactive-headline\">\\n  <span class=\"custom-hed-letter one\">T</span>\\n  <span class=\"custom-hed-letter two\">r</span>\\n  <span class=\"custom-hed-letter three\">u</span>\\n  <span class=\"custom-hed-letter four\">m</span>\\n  <span class=\"custom-hed-letter five\">p</span>\\n  <span class=\"custom-hed-letter six\">’</span>\\n  <span class=\"custom-hed-letter seven\">s</span>\\n  <span class=\"custom-hed-letter eight\">&nbsp;</span>\\n  <span class=\"custom-hed-letter nine\">L</span>\\n  <span class=\"custom-hed-letter ten\">i</span>\\n  <span class=\"custom-hed-letter eleven\">e</span>\\n  <span class=\"custom-hed-letter twelve\">s</span>\\n</h1>\\n<div class=\"g-graphic g-graphic-freebird\" id=\"basic-waypoint\" data-preview-slug=\"2017-05-18-opinion-trump-lies\">\\n\\n  \\n\\n    \\n\\n    <div class=\"g-item g-container-intro\">\\n\\n      \\n\\n    \\n\\n    \\n\\n    \\n      <div class=\"g-item g-text \">\\n    \\n\\n      <p class=\"g-body\">Many Americans have become accustomed to President Trump’s lies. But as regular as they have become, the country should not allow itself to become numb to them. So we have catalogued nearly every outright lie he has told publicly since taking the oath of office. <strong>Updated</strong>: The president is still lying, so we\\'ve added to this list, taking it through Nov. 11, and provided links to the facts in each case.</p>\\n\\n\\n    </div>\\n\\n    \\n\\n    \\n\\n      \\n\\n    </div>\\n\\n    \\n\\n    \\n      <div class=\"g-item g-lie-grid \">\\n    \\n\\n      <div class=\"lie-grid\">\\n<div class=\"lie-continue\"><a href=\"#skip\">Jump to story below</a></div>\\n<div class=\"lie-offset\"></div>\\n\\n<span class=\"short-desc\"><strong>Jan. 21&nbsp;</strong>“I wasn\\'t a fan of Iraq. I didn\\'t want to go into Iraq.” <span class=\"short-truth\"><a href=\"https://www.buzzfeed.com/andrewkaczynski/in-2002-donald-trump-said-he-supported-invading-iraq-on-the\" target=\"_blank\">(He was for an invasion before he was against it.)</a></span></span>&nbsp;&nbsp;<span class=\"short-desc\"><strong>Jan. 21&nbsp;</strong>“A reporter for Time magazine — and I have been on their cover 14 or 15 times. I think we have the all-time record in the history of Time magazine.” <span class=\"short-truth\"><a href=\"http://nation.time.com/2013/11/06/10-things-you-didnt-know-about-time/\" target=\"_blank\">(Trump was on the cover 11 times and Nixon appeared 55 times.)</a></span></span>&nbsp;&nbsp;<span class=\"short-desc\"><strong>Jan. 23&nbsp;</strong>“Between 3 million and 5 million illegal votes caused me to lose the popular vote.” <span class=\"short-truth\"><a href=\"https://www.nytimes.com/2017/01/23/us/politics/donald-trump-congress-democrats.html\" target=\"_blank\">(There\\'s no evidence of illegal voting.)</a></span></span>&nbsp;&nbsp;<span class=\"short-desc\"><strong>Jan. 25&nbsp;</strong>“Now, the audience was the biggest ever. But this crowd was massive. Look how far back it goes. This crowd was massive.” <span class=\"short-truth\"><a href=\"https://www.nytimes.com/2017/01/21/us/politics/trump-white-house-briefing-inauguration-crowd-size.html\" target=\"_blank\">(Official aerial photos show Obama\\'s 2009 inauguration was much more heavily attended.)</a></span></span>&nbsp;&nbsp;<span class=\"short-desc\"><strong>Jan. 25&nbsp;</strong>“Take a look at the Pew reports (which show voter fraud.)” <span class=\"short-truth\"><a href=\"https://www.nytimes.com/2017/01/24/us/politics/unauthorized-immigrant-voting-trump-lie.html\" target=\"_blank\">(The report never mentioned voter fraud.)</a></span></span>&nbsp;&nbsp;<span class=\"short-desc\"><strong>Jan. 25&nbsp;</strong>“You had millions of people that now aren\\'t insured anymore.” <span class=\"short-truth\"><a href=\"https://www.nytimes.com/2017/03/13/us/politics/fact-check-trump-obamacare-health-care.html\" target=\"_blank\">(The real number is less than 1 million, according to the Urban Institute.)</a></span></span>&nbsp;&nbsp;<span class=\"short-desc\"><strong>Jan. 25&nbsp;</strong>“So, look, when President Obama was there two weeks ago making a speech, very nice speech. Two people were shot and killed during his speech. You can\\'t have that.” <span class=\"short-truth\"><a href=\"https://www.dnainfo.com/chicago/2017-chicago-murders/timeline?mon=1\" target=\"_blank\">(There were no gun homicide victims in Chicago that day.)</a></span></span>&nbsp;&nbsp;<span class=\"short-desc\"><strong>Jan. 26&nbsp;</strong>“We\\'ve taken in tens of thousands of people. We know nothing about them. They can say they vet them. They didn\\'t vet them. They have no papers. How can you vet somebody when you don\\'t know anything about them and you have no papers? How do you vet them? You can\\'t.” <span class=\"short-truth\"><a href=\"https://www.nytimes.com/interactive/2017/01/29/us/refugee-vetting-process.html\" target=\"_blank\">(Vetting lasts up to two years.)</a></span></span>&nbsp;&nbsp;<span class=\"short-desc\"><strong>Jan. 26&nbsp;</strong>“I cut off hundreds of millions of dollars off one particular plane, hundreds of millions of dollars in a short period of time. It wasn\\'t like I spent, like, weeks, hours, less than hours, and many, many hundreds of millions of dollars. And the plane\\'s going to be better.” <span class=\"short-truth\"><a href=\"https://www.washingtonpost.com/news/fact-checker/wp/2017/01/31/trumps-claim-taking-credit-for-cutting-600-million-from-the-f-35-program/\" target=\"_blank\">(Most of the cuts were already planned.)</a></span></span>&nbsp;&nbsp;<span class=\"short-desc\"><strong>Jan. 28&nbsp;</strong>“The coverage about me in the @nytimes and the @washingtonpost has been so false and angry that the Times actually apologized to its dwindling subscribers and readers.” <span class=\"short-truth\"><a href=\"https://www.nytimes.com/2016/11/13/us/elections/to-our-readers-from-the-publisher-and-executive-editor.html\" target=\"_blank\">(It never apologized.)</a></span></span>&nbsp;&nbsp;<span class=\"short-desc\"><strong>Jan. 29&nbsp;</strong>“The Cuban-Americans, I got 84 percent of that vote.” <span class=\"short-truth\"><a href=\"http://www.pewresearch.org/fact-tank/2016/11/15/unlike-other-latinos-about-half-of-cuban-voters-in-florida-backed-trump/\" target=\"_blank\">(There is no support for this.)</a></span></span>&nbsp;&nbsp;<span class=\"short-desc\"><strong>Jan. 30&nbsp;</strong>“Only 109 people out of 325,000 were detained and held for questioning. Big problems at airports were caused by Delta computer outage.” <span class=\"short-truth\"><a href=\"http://markets.on.nytimes.com/research/stocks/news/press_release.asp?docTag=201701300400PR_NEWS_USPRX____CL99370&amp;feedID=600&amp;press_symbol=7311173\" target=\"_blank\">(At least 746 people were detained and processed, and the Delta outage happened two days later.)</a></span></span>&nbsp;&nbsp;<span class=\"short-desc\"><strong>Feb. 3&nbsp;</strong>“Professional anarchists, thugs and paid protesters are proving the point of the millions of people who voted to MAKE AMERICA GREAT AGAIN!” <span class=\"short-truth\"><a href=\"https://www.nytimes.com/2017/01/28/nyregion/jfk-protests-trump-refugee-ban.html\" target=\"_blank\">(There is no evidence of paid protesters.)</a></span></span>&nbsp;&nbsp;<span class=\"short-desc\"><strong>Feb. 4&nbsp;</strong>“After being forced to apologize for its bad and inaccurate coverage of me after winning the election, the FAKE NEWS @nytimes is still lost!” <span class=\"short-truth\"><a href=\"https://www.nytimes.com/2016/11/13/us/elections/to-our-readers-from-the-publisher-and-executive-editor.html\" target=\"_blank\">(It never apologized.)</a></span></span>&nbsp;&nbsp;<span class=\"short-desc\"><strong>Feb. 5&nbsp;</strong>“We had 109 people out of hundreds of thousands of travelers and all we did was vet those people very, very carefully.” <span class=\"short-truth\"><a href=\"http://www.politifact.com/truth-o-meter/statements/2017/feb/06/donald-trump/president-trump-says-109-people-were-affected-trav/\" target=\"_blank\">(About 60,000 people were affected.)</a></span></span>&nbsp;&nbsp;<span class=\"short-desc\"><strong>Feb. 6&nbsp;</strong>“I have already saved more than $700 million when I got involved in the negotiation on the F-35.” <span class=\"short-truth\"><a href=\"https://www.washingtonpost.com/news/fact-checker/wp/2017/01/31/trumps-claim-taking-credit-for-cutting-600-million-from-the-f-35-program/\" target=\"_blank\">(Much of the price drop was projected before Trump took office.)</a></span></span>&nbsp;&nbsp;<span class=\"short-desc\"><strong>Feb. 6&nbsp;</strong>“It\\'s gotten to a point where it is not even being reported. And in many cases, the very, very dishonest press doesn\\'t want to report it.” <span class=\"short-truth\"><a href=\"https://www.nytimes.com/2017/02/07/us/politics/the-white-house-list-of-terror-attacks-underreported-by-media.html\" target=\"_blank\">(Terrorism has been reported on, often in detail.)</a></span></span>&nbsp;&nbsp;<span class=\"short-desc\"><strong>Feb. 6&nbsp;</strong>“The failing @nytimes was forced to apologize to its subscribers for the poor reporting it did on my election win. Now they are worse!” <span class=\"short-truth\"><a href=\"https://www.nytimes.com/2016/11/13/us/elections/to-our-readers-from-the-publisher-and-executive-editor.html\" target=\"_blank\">(It didn\\'t apologize.)</a></span></span>&nbsp;&nbsp;<span class=\"short-desc\"><strong>Feb. 6&nbsp;</strong>“And the previous administration allowed it to happen because we shouldn\\'t have been in Iraq, but we shouldn\\'t have gotten out the way we got out. It created a vacuum, ISIS was formed.” <span class=\"short-truth\"><a href=\"https://www.nytimes.com/2015/11/19/world/middleeast/in-rise-of-isis-no-single-missed-key-but-many-strands-of-blame.html\" target=\"_blank\">(The group’s origins date to 2004.)</a></span></span>&nbsp;&nbsp;<span class=\"short-desc\"><strong>Feb. 7&nbsp;</strong>“And yet the murder rate in our country is the highest it’s been in 47 years, right? Did you know that? Forty-seven years.” <span class=\"short-truth\"><a href=\"http://www.politifact.com/truth-o-meter/statements/2017/feb/08/donald-trump/donald-trump-wrong-murder-rate-highest-47-years/\" target=\"_blank\">(It was higher in the 1980s and \\'90s.)</a></span></span>&nbsp;&nbsp;<span class=\"short-desc\"><strong>Feb. 7&nbsp;</strong>“I saved more than $600 million. I got involved in negotiation on a fighter jet, the F-35.” <span class=\"short-truth\"><a href=\"https://www.washingtonpost.com/news/fact-checker/wp/2017/01/31/trumps-claim-taking-credit-for-cutting-600-million-from-the-f-35-program/\" target=\"_blank\">(The Defense Department projected this price drop before Trump took office.)</a></span></span>&nbsp;&nbsp;<span class=\"short-desc\"><strong>Feb. 9&nbsp;</strong>“Chris Cuomo, in his interview with Sen. Blumenthal, never asked him about his long-term lie about his brave ‘service’ in Vietnam. FAKE NEWS!” <span class=\"short-truth\"><a href=\"http://transcripts.cnn.com/TRANSCRIPTS/1702/09/nday.05.html\" target=\"_blank\">(It was part of Cuomo\\'s first question.)</a></span></span>&nbsp;&nbsp;<span class=\"short-desc\"><strong>Feb. 9&nbsp;</strong>“Sen. Richard Blumenthal now misrepresents what Judge Gorsuch told him?” <span class=\"short-truth\"><a href=\"https://www.washingtonpost.com/news/fact-checker/wp/2017/02/10/heres-what-trump-got-wrong-on-twitter-this-week-5/?utm_term=.6fbfc4abc6e0\" target=\"_blank\">(The Gorsuch comments were later corroborated.)</a></span></span>&nbsp;&nbsp;<span class=\"short-desc\"><strong>Feb. 10&nbsp;</strong>“I don’t know about it. I haven’t seen it. What report is that?” <span class=\"short-truth\"><a href=\"http://www.factcheck.org/2017/02/trump-spins-flynn-facts/\" target=\"_blank\">(Trump knew about Flynn\\'s actions for weeks.)</a></span></span>&nbsp;&nbsp;<span class=\"short-desc\"><strong>Feb. 12&nbsp;</strong>“Just leaving Florida. Big crowds of enthusiastic supporters lining the road that the FAKE NEWS media refuses to mention. Very dishonest!” <span class=\"short-truth\"><a href=\"http://www.palmbeachpost.com/news/national-govt--politics/trump-heads-back-protesters-supporters-gather/CQXPE9NRk807XKWiDwefWK/\" target=\"_blank\">(The media did cover it.)</a></span></span>&nbsp;&nbsp;<span class=\"short-desc\"><strong>Feb. 16&nbsp;</strong>“We got 306 because people came out and voted like they\\'ve never seen before so that\\'s the way it goes. I guess it was the biggest Electoral College win since Ronald Reagan.” <span class=\"short-truth\"><a href=\"https://www.nytimes.com/2017/02/16/us/politics/trump-fact-check.html\" target=\"_blank\">(George H.W. Bush, Bill Clinton and Barack Obama all won bigger margins in the Electoral College.)</a></span></span>&nbsp;&nbsp;<span class=\"short-desc\"><strong>Feb. 16&nbsp;</strong>“That’s the other thing that was wrong with the travel ban. You had Delta with a massive problem with their computer system at the airports.” <span class=\"short-truth\"><a href=\"https://www.washingtonpost.com/news/fact-checker/wp/2017/02/03/what-trump-got-wrong-on-twitter-this-week-4/\" target=\"_blank\">(Delta\\'s problems happened two days later.)</a></span></span>&nbsp;&nbsp;<span class=\"short-desc\"><strong>Feb. 16&nbsp;</strong>“Walmart announced it will create 10,000 jobs in the United States just this year because of our various plans and initiatives.” <span class=\"short-truth\"><a href=\"https://www.nytimes.com/interactive/2017/business/economy/trump-jobs.html\" target=\"_blank\">(The jobs are a result of its investment plans announced in Oct. 2016.)</a></span></span>&nbsp;&nbsp;<span class=\"short-desc\"><strong>Feb. 16&nbsp;</strong>“When WikiLeaks, which I had nothing to do with, comes out and happens to give, they’re not giving classified information.” <span class=\"short-truth\"><a href=\"http://www.politifact.com/truth-o-meter/article/2017/feb/16/fact-checking-donald-trumps-press-conference/\" target=\"_blank\">(Not always. They have released classified information in the past.)</a></span></span>&nbsp;&nbsp;<span class=\"short-desc\"><strong>Feb. 16&nbsp;</strong>“We had a very smooth rollout of the travel ban. But we had a bad court. Got a bad decision.” <span class=\"short-truth\"><a href=\"https://www.washingtonpost.com/news/fact-checker/wp/2017/02/16/fact-checking-president-trumps-news-conference/?utm_term=.517d64230dcf\" target=\"_blank\">(The rollout was chaotic.)</a></span></span>&nbsp;&nbsp;<span class=\"short-desc\"><strong>Feb. 16&nbsp;</strong>“They’re giving stuff — what was said at an office about Hillary cheating on the debates. Which, by the way, nobody mentions. Nobody mentions that Hillary received the questions to the debates.” <span class=\"short-truth\"><a href=\"http://www.politifact.com/truth-o-meter/article/2017/feb/16/fact-checking-donald-trumps-press-conference/\" target=\"_blank\">(It was widely covered.)</a></span></span>&nbsp;&nbsp;<span class=\"short-desc\"><strong>Feb. 18&nbsp;</strong>“And there was no way to vet those people. There was no documentation. There was no nothing.” <span class=\"short-truth\"><a href=\"https://www.nytimes.com/interactive/2017/01/29/us/refugee-vetting-process.html\" target=\"_blank\">(Refugees receive multiple background checks, taking up to two years.)</a></span></span>&nbsp;&nbsp;<span class=\"short-desc\"><strong>Feb. 18&nbsp;</strong>“You look at what\\'s happening in Germany, you look at what\\'s happening last night in Sweden. Sweden, who would believe this?” <span class=\"short-truth\"><a href=\"https://www.nytimes.com/2017/02/19/world/europe/last-night-in-sweden-trumps-remark-baffles-a-nation.html?rref=collection%2Ftimestopic%2FSweden&amp;action=click&amp;contentCollection=world&amp;region=stream&amp;module=stream_unit&amp;version=latest&amp;contentPlacement=7&amp;pgtype=collection\" target=\"_blank\">(Trump implied there was a terror attack in Sweden, but there was no such attack.)</a></span></span>&nbsp;&nbsp;<span class=\"short-desc\"><strong>Feb. 24&nbsp;</strong>“By the way, you folks are in here — this place is packed, there are lines that go back six blocks.” <span class=\"short-truth\"><a href=\"http://thehill.com/homenews/administration/320988-trump-falsely-claims-lines-go-back-6-blocks-for-cpac-speech\" target=\"_blank\">(There was no evidence of long lines.)</a></span></span>&nbsp;&nbsp;<span class=\"short-desc\"><strong>Feb. 24&nbsp;</strong>“ICE came and endorsed me.” <span class=\"short-truth\"><a href=\"http://www.politifact.com/truth-o-meter/statements/2016/oct/10/donald-trump/trump-says-ice-endorsed-him/\" target=\"_blank\">(Only its union did.)</a></span></span>&nbsp;&nbsp;<span class=\"short-desc\"><strong>Feb. 24&nbsp;</strong>“Obamacare covers very few people — and remember, deduct from the number all of the people that had great health care that they loved that was taken away from them — it was taken away from them.” <span class=\"short-truth\"><a href=\"https://www.nytimes.com/2017/02/24/us/politics/fact-check-trump-blasts-fake-news-and-repeats-inaccurate-claims-at-cpac.html\" target=\"_blank\">(Obamacare increased coverage by a net of about 20 million.)</a></span></span>&nbsp;&nbsp;<span class=\"short-desc\"><strong>Feb. 27&nbsp;</strong>“Since Obamacare went into effect, nearly half of the insurers are stopped and have stopped from participating in the Obamacare exchanges.” <span class=\"short-truth\"><a href=\"http://www.heritage.org/health-care-reform/report/the-2017-health-insurance-exchanges-major-decrease-competition-and-choice\" target=\"_blank\">(Many fewer pulled out.)</a></span></span>&nbsp;&nbsp;<span class=\"short-desc\"><strong>Feb. 27&nbsp;</strong>“On one plane, on a small order of one plane, I saved $725 million. And I would say I devoted about, if I added it up, all those calls, probably about an hour. So I think that might be my highest and best use.” <span class=\"short-truth\"><a href=\"https://www.washingtonpost.com/news/fact-checker/wp/2017/01/31/trumps-claim-taking-credit-for-cutting-600-million-from-the-f-35-program/\" target=\"_blank\">(Much of the price cut was already projected.)</a></span></span>&nbsp;&nbsp;<span class=\"short-desc\"><strong>Feb. 28&nbsp;</strong>“And now, based on our very strong and frank discussions, they are beginning to do just that.” <span class=\"short-truth\"><a href=\"https://www.nytimes.com/2017/03/01/us/politics/fact-check-trump-military.html\" target=\"_blank\">(NATO countries agreed to meet defense spending requirements in 2014.)</a></span></span>&nbsp;&nbsp;<span class=\"short-desc\"><strong>Feb. 28&nbsp;</strong>“The E.P.A.’s regulators were putting people out of jobs by the hundreds of thousands.” <span class=\"short-truth\"><a href=\"http://www.nytimes.com/2011/09/05/business/economy/a-debate-arises-on-job-creation-vs-environmental-regulation.html\" target=\"_blank\">(There\\'s no evidence that the Waters of the United States rule caused severe job losses.)</a></span></span>&nbsp;&nbsp;<span class=\"short-desc\"><strong>Feb. 28&nbsp;</strong>“We have begun to drain the swamp of government corruption by imposing a five-year ban on lobbying by executive branch officials.” <span class=\"short-truth\"><a href=\"https://www.washingtonpost.com/politics/2017/live-updates/trump-white-house/real-time-fact-checking-and-analysis-of-trumps-address-to-congress/fact-check-bans-on-lobbying/?utm_term=.ce1370a2b78d\" target=\"_blank\">(They can\\'t lobby their former agency but can still become lobbyists.)</a></span></span>&nbsp;&nbsp;<span class=\"short-desc\"><strong>March 3&nbsp;</strong>“It is so pathetic that the Dems have still not approved my full Cabinet.” <span class=\"short-truth\"><a href=\"https://www.washingtonpost.com/news/politics/wp/2017/03/03/trump-is-blaming-the-democrats-for-cabinet-delays-that-are-normal-and-his-own-fault/?utm_term=.68b1395b9ff1\" target=\"_blank\">(Paperwork for the last two candidates was still not submitted to the Senate.)</a></span></span>&nbsp;&nbsp;<span class=\"short-desc\"><strong>March 4&nbsp;</strong>“Terrible! Just found out that Obama had my ‘wires tapped’ in Trump Tower just before the victory. Nothing found. This is McCarthyism!” <span class=\"short-truth\"><a href=\"https://www.nytimes.com/2017/03/04/us/politics/trump-obama-tap-phones.html\" target=\"_blank\">(There\\'s no evidence of a wiretap.)</a></span></span>&nbsp;&nbsp;<span class=\"short-desc\"><strong>March 4&nbsp;</strong>“How low has President Obama gone to tap my phones during the very sacred election process. This is Nixon/Watergate. Bad (or sick) guy!” <span class=\"short-truth\"><a href=\"https://www.nytimes.com/2017/03/04/us/politics/trump-obama-tap-phones.html\" target=\"_blank\">(There\\'s no evidence of a wiretap.)</a></span></span>&nbsp;&nbsp;<span class=\"short-desc\"><strong>March 7&nbsp;</strong>“122 vicious prisoners, released by the Obama Administration from Gitmo, have returned to the battlefield. Just another terrible decision!” <span class=\"short-truth\"><a href=\"https://www.nytimes.com/2017/03/07/us/politics/guantanamo-bay-trump.html\" target=\"_blank\">(113 of them were released by President George W. Bush.)</a></span></span>&nbsp;&nbsp;<span class=\"short-desc\"><strong>March 13&nbsp;</strong>“I saved a lot of money on those jets, didn\\'t I? Did I do a good job? More than $725 million on them.” <span class=\"short-truth\"><a href=\"https://www.washingtonpost.com/news/fact-checker/wp/2017/01/31/trumps-claim-taking-credit-for-cutting-600-million-from-the-f-35-program/\" target=\"_blank\">(Much of the cost cuts were planned before Trump.)</a></span></span>&nbsp;&nbsp;<span class=\"short-desc\"><strong>March 13&nbsp;</strong>“First of all, it covers very few people.” <span class=\"short-truth\"><a href=\"https://www.nytimes.com/2017/03/13/us/politics/fact-check-trump-obamacare-health-care.html\" target=\"_blank\">(About 20 million people gained insurance under Obamacare.)</a></span></span>&nbsp;&nbsp;<span class=\"short-desc\"><strong>March 15&nbsp;</strong>“On the airplanes, I saved $725 million. Probably took me a half an hour if you added up all of the times.” <span class=\"short-truth\"><a href=\"https://www.washingtonpost.com/news/fact-checker/wp/2017/01/31/trumps-claim-taking-credit-for-cutting-600-million-from-the-f-35-program/\" target=\"_blank\">(Much of the cost cuts were planned before Trump.)</a></span></span>&nbsp;&nbsp;<span class=\"short-desc\"><strong>March 17&nbsp;</strong>“I was in Tennessee — I was just telling the folks — and half of the state has no insurance company, and the other half is going to lose the insurance company.” <span class=\"short-truth\"><a href=\"https://public.tableau.com/profile/kaiser.family.foundation#!/vizhome/InsurerParticipationinthe2017IndividualMarketplace/2017InsurerParticipation\" target=\"_blank\">(There\\'s at least one insurer in every Tennessee county.)</a></span></span>&nbsp;&nbsp;<span class=\"short-desc\"><strong>March 20&nbsp;</strong>“With just one negotiation on one set of airplanes, I saved the taxpayers of our country over $700 million.” <span class=\"short-truth\"><a href=\"https://www.washingtonpost.com/news/fact-checker/wp/2017/01/31/trumps-claim-taking-credit-for-cutting-600-million-from-the-f-35-program/\" target=\"_blank\">(Much of the cost cuts were planned before Trump.)</a></span></span>&nbsp;&nbsp;<span class=\"short-desc\"><strong>March 21&nbsp;</strong>“To save taxpayer dollars, I’ve already begun negotiating better contracts for the federal government — saving over $700 million on just one set of airplanes of which there are many sets.” <span class=\"short-truth\"><a href=\"https://www.washingtonpost.com/news/fact-checker/wp/2017/01/31/trumps-claim-taking-credit-for-cutting-600-million-from-the-f-35-program/\" target=\"_blank\">(Much of the cost cuts were planned before Trump.)</a></span></span>&nbsp;&nbsp;<span class=\"short-desc\"><strong>March 22&nbsp;</strong>“I make the statement, everyone goes crazy. The next day they have a massive riot, and death, and problems.” <span class=\"short-truth\"><a href=\"https://www.nytimes.com/2017/02/19/world/europe/last-night-in-sweden-trumps-remark-baffles-a-nation.html\" target=\"_blank\">(Riots in Sweden broke out two days later and there were no deaths.)</a></span></span>&nbsp;&nbsp;<span class=\"short-desc\"><strong>March 22&nbsp;</strong>“NATO, obsolete, because it doesn’t cover terrorism. They fixed that.” <span class=\"short-truth\"><a href=\"http://www.politifact.com/truth-o-meter/statements/2016/sep/27/donald-trump/donald-trump-wrong-again-about-nato-increasing-ter/\" target=\"_blank\">(It has fought terrorism since the 1980s.)</a></span></span>&nbsp;&nbsp;<span class=\"short-desc\"><strong>March 22&nbsp;</strong>“Well, now, if you take a look at the votes, when I say that, I mean mostly they register wrong — in other words, for the votes, they register incorrectly and/or illegally. And they then vote. You have tremendous numbers of people.” <span class=\"short-truth\"><a href=\"https://www.nytimes.com/2017/01/24/us/politics/unauthorized-immigrant-voting-trump-lie.html\" target=\"_blank\">(There\\'s no evidence of widespread voter fraud.)</a></span></span>&nbsp;&nbsp;<span class=\"short-desc\"><strong>March 29&nbsp;</strong>“Remember when the failing @nytimes apologized to its subscribers, right after the election, because their coverage was so wrong. Now worse!” <span class=\"short-truth\"><a href=\"https://www.nytimes.com/2016/11/13/us/elections/to-our-readers-from-the-publisher-and-executive-editor.html\" target=\"_blank\">(It didn\\'t apologize.)</a></span></span>&nbsp;&nbsp;<span class=\"short-desc\"><strong>March 31&nbsp;</strong>“We have a lot of plants going up now in Michigan that were never going to be there if I — if I didn’t win this election, those plants would never even think about going back. They were gone.” <span class=\"short-truth\"><a href=\"https://www.nytimes.com/interactive/2017/business/economy/trump-jobs.html\" target=\"_blank\">(These investments were already planned.)</a></span></span>&nbsp;&nbsp;<span class=\"short-desc\"><strong>April 2&nbsp;</strong>“And I was totally opposed to the war in the Middle East which I think finally has been proven, people tried very hard to say I wasn’t but you’ve seen that it is now improving.” <span class=\"short-truth\"><a href=\"https://www.buzzfeed.com/andrewkaczynski/in-2002-donald-trump-said-he-supported-invading-iraq-on-the\" target=\"_blank\">(He was for an invasion before he was against it.)</a></span></span>&nbsp;&nbsp;<span class=\"short-desc\"><strong>April 2&nbsp;</strong>“Now, my last tweet — you know, the one that you are talking about, perhaps — was the one about being, in quotes, wiretapped, meaning surveilled. Guess what, it is turning out to be true.” <span class=\"short-truth\"><a href=\"https://www.nytimes.com/2017/03/04/us/politics/trump-obama-tap-phones.html\" target=\"_blank\">(There is still no evidence.)</a></span></span>&nbsp;&nbsp;<span class=\"short-desc\"><strong>April 5&nbsp;</strong>“You have many states coming up where they’re going to have no insurance company. O.K.? It’s already happened in Tennessee. It’s happening in Kentucky. Tennessee only has half coverage. Half the state is gone. They left.” <span class=\"short-truth\"><a href=\"https://www.nytimes.com/2017/03/24/us/politics/fact-check-trumps-misleading-claims-in-health-bill-failure.html\" target=\"_blank\">(Every marketplace region in Tennessee had at least one insurer.)</a></span></span>&nbsp;&nbsp;<span class=\"short-desc\"><strong>April 6&nbsp;</strong>“If you look at the kind of cost-cutting we’ve been able to achieve with the military and at the same time ordering vast amounts of equipment — saved hundreds of millions of dollars on airplanes, and really billions, because if you take that out over a period of years it’s many billions of dollars — I think we’ve had a tremendous success.” <span class=\"short-truth\"><a href=\"https://www.washingtonpost.com/news/fact-checker/wp/2017/01/31/trumps-claim-taking-credit-for-cutting-600-million-from-the-f-35-program/\" target=\"_blank\">(Much of the price cuts were already projected.)</a></span></span>&nbsp;&nbsp;<span class=\"short-desc\"><strong>April 11&nbsp;</strong>“I like Steve, but you have to remember he was not involved in my campaign until very late. I had already beaten all the senators and all the governors, and I didn’t know Steve.” <span class=\"short-truth\"><a href=\"https://www.nytimes.com/2017/04/12/us/politics/trump-steven-bannon-fox-business-news-interview.html?ref=politics\" target=\"_blank\">(He knew Steve Bannon since 2011.)</a></span></span>&nbsp;&nbsp;<span class=\"short-desc\"><strong>April 12&nbsp;</strong>“You can\\'t do it faster, because they\\'re obstructing. They\\'re obstructionists. So I have people — hundreds of people that we\\'re trying to get through. I mean you have — you see the backlog. We can\\'t get them through.” <span class=\"short-truth\"><a href=\"https://www.nytimes.com/2017/04/12/us/politics/trump-steven-bannon-fox-business-news-interview.html?ref=politics\" target=\"_blank\">(At this point, he had not nominated anyone for hundreds of positions.)</a></span></span>&nbsp;&nbsp;<span class=\"short-desc\"><strong>April 12&nbsp;</strong>“The New York Times said the word wiretapped in the headline of the first edition. Then they took it out of there fast when they realized.” <span class=\"short-truth\"><a href=\"https://www.nytimes.com/2017/03/23/us/politics/fact-check-trump-misleads-surveillance-wiretapping.html\" target=\"_blank\">(There were separate headlines for print and web, but neither were altered.)</a></span></span>&nbsp;&nbsp;<span class=\"short-desc\"><strong>April 12&nbsp;</strong>“The secretary general and I had a productive discussion about what more NATO can do in the fight against terrorism. I complained about that a long time ago and they made a change, and now they do fight terrorism.” <span class=\"short-truth\"><a href=\"https://www.nytimes.com/2017/04/12/us/politics/trump-steven-bannon-fox-business-news-interview.html?ref=politics\" target=\"_blank\">(NATO has been engaged in counterterrorism efforts since the 1980s.)</a></span></span>&nbsp;&nbsp;<span class=\"short-desc\"><strong>April 12&nbsp;</strong>“Mosul was supposed to last for a week and now they’ve been fighting it for many months and so many more people died.” <span class=\"short-truth\"><a href=\"https://www.washingtonpost.com/news/the-fix/wp/2017/04/12/president-trumps-throughly-confusing-fox-business-interview-annotated/\" target=\"_blank\">(The campaign was expected to take months.)</a></span></span>&nbsp;&nbsp;<span class=\"short-desc\"><strong>April 16&nbsp;</strong>“Someone should look into who paid for the small organized rallies yesterday. The election is over!” <span class=\"short-truth\"><a href=\"https://www.nytimes.com/2017/04/15/us/politics/tax-day-march.html\" target=\"_blank\">(There\\'s no evidence of paid protesters.)</a></span></span>&nbsp;&nbsp;<span class=\"short-desc\"><strong>April 18&nbsp;</strong>“The fake media goes, ‘Donald Trump changed his stance on China.’ I haven’t changed my stance.” <span class=\"short-truth\"><a href=\"https://www.nytimes.com/2017/04/14/business/china-currency-manipulation-trump.html\" target=\"_blank\">(He did.)</a></span></span>&nbsp;&nbsp;<span class=\"short-desc\"><strong>April 21&nbsp;</strong>“On 90 planes I saved $725 million. It\\'s actually a little bit more than that, but it\\'s $725 million.” <span class=\"short-truth\"><a href=\"https://www.washingtonpost.com/news/fact-checker/wp/2017/01/31/trumps-claim-taking-credit-for-cutting-600-million-from-the-f-35-program/\" target=\"_blank\">(Much of the price cuts were already projected.)</a></span></span>&nbsp;&nbsp;<span class=\"short-desc\"><strong>April 21&nbsp;</strong>“When WikiLeaks came out ... never heard of WikiLeaks, never heard of it.” <span class=\"short-truth\"><a href=\"https://www.washingtonpost.com/news/fact-checker/wp/2017/04/25/fact-checking-president-trumps-pinocchio-laden-associated-press-interview/?utm_term=.33ae871d0c9c\" target=\"_blank\">(He criticized it as early as 2010.)</a></span></span>&nbsp;&nbsp;<span class=\"short-desc\"><strong>April 27&nbsp;</strong>“I want to help our miners while the Democrats are blocking their healthcare.” <span class=\"short-truth\"><a href=\"http://www.pbs.org/newshour/rundown/retired-coal-miners-get-health-care-fix-pension-problems-remain/\" target=\"_blank\">(The bill to extend health benefits for certain coal miners was introduced by a Democrat and was co-sponsored by mostly Democrats.)</a></span></span>&nbsp;&nbsp;<span class=\"short-desc\"><strong>April 28&nbsp;</strong>“The trade deficit with Mexico is close to $70 billion, even with Canada it’s $17 billion trade deficit with Canada.” <span class=\"short-truth\"><a href=\"http://www.factcheck.org/2017/05/trumps-100-day-boasts/\" target=\"_blank\">(The U.S. had an $8.1 billion trade surplus, not deficit, with Canada in 2016.)</a></span></span>&nbsp;&nbsp;<span class=\"short-desc\"><strong>April 28&nbsp;</strong>“She\\'s running against someone who\\'s going to raise your taxes to the sky, destroy your health care, and he\\'s for open borders — lots of crime.” <span class=\"short-truth\"><a href=\"http://www.mdjonline.com/opinion/jon-ossoff-voters-too-smart-to-believe-attack-ads/article_d6c9dafa-1e5a-11e7-a93c-c7e0b4d4f985.html\" target=\"_blank\">(Those are not Jon Ossoff\\'s positions.)</a></span></span>&nbsp;&nbsp;<span class=\"short-desc\"><strong>April 28&nbsp;</strong>“The F-35 fighter jet program — it was way over budget. I’ve saved $725 million plus, just by getting involved in the negotiation.” <span class=\"short-truth\"><a href=\"https://www.washingtonpost.com/news/fact-checker/wp/2017/01/31/trumps-claim-taking-credit-for-cutting-600-million-from-the-f-35-program/\" target=\"_blank\">(Much of the price cuts were planned before Trump.)</a></span></span>&nbsp;&nbsp;<span class=\"short-desc\"><strong>April 29&nbsp;</strong>“As you know, I\\'ve been a big critic of China, and I\\'ve been talking about currency manipulation for a long time. But I have to tell you that during the election, number one, they stopped.” <span class=\"short-truth\"><a href=\"https://www.nytimes.com/2017/04/07/world/asia/fact-check-trump-china-trade.html\" target=\"_blank\">(China stopped years ago.)</a></span></span>&nbsp;&nbsp;<span class=\"short-desc\"><strong>April 29&nbsp;</strong>“I\\'ve already saved more than $725 million on a simple order of F-35 planes. I got involved in the negotiation.” <span class=\"short-truth\"><a href=\"https://www.washingtonpost.com/news/fact-checker/wp/2017/01/31/trumps-claim-taking-credit-for-cutting-600-million-from-the-f-35-program/\" target=\"_blank\">(Much of the price cuts were planned before Trump.)</a></span></span>&nbsp;&nbsp;<span class=\"short-desc\"><strong>April 29&nbsp;</strong>“We\\'re also getting NATO countries to finally step up and contribute their fair share. They\\'ve begun to increase their contributions by billions of dollars, but we are not going to be satisfied until everyone pays what they owe.” <span class=\"short-truth\"><a href=\"https://www.nytimes.com/2017/03/01/us/politics/fact-check-trump-military.html\" target=\"_blank\">(The deal was struck in 2014.)</a></span></span>&nbsp;&nbsp;<span class=\"short-desc\"><strong>April 29&nbsp;</strong>“When they talk about currency manipulation, and I did say I would call China, if they were, a currency manipulator, early in my tenure. And then I get there. Number one, they — as soon as I got elected, they stopped.” <span class=\"short-truth\"><a href=\"https://www.nytimes.com/2017/04/07/world/asia/fact-check-trump-china-trade.html\" target=\"_blank\">(China stopped in 2014.)</a></span></span>&nbsp;&nbsp;<span class=\"short-desc\"><strong>April 29&nbsp;</strong>“I was negotiating to reduce the price of the big fighter jet contract, the F-35, which was totally out of control. I will save billions and billions and billions of dollars.” <span class=\"short-truth\"><a href=\"https://www.washingtonpost.com/news/fact-checker/wp/2017/01/31/trumps-claim-taking-credit-for-cutting-600-million-from-the-f-35-program/\" target=\"_blank\">(Most of the cuts were planned before Trump.)</a></span></span>&nbsp;&nbsp;<span class=\"short-desc\"><strong>April 29&nbsp;</strong>“I think our side\\'s been proven very strongly. And everybody\\'s talking about it.” <span class=\"short-truth\"><a href=\"https://www.nytimes.com/2017/03/20/us/politics/intelligence-committee-russia-donald-trump.html\" target=\"_blank\">(There\\'s still no evidence Trump\\'s phones were tapped.)</a></span></span>&nbsp;&nbsp;<span class=\"short-desc\"><strong>May 1&nbsp;</strong>“Well, we are protecting pre-existing conditions. And it\\'ll be every good — bit as good on pre-existing conditions as Obamacare.” <span class=\"short-truth\"><a href=\"https://www.nytimes.com/2017/04/26/upshot/what-changed-in-the-health-repeal-plan-to-win-over-the-freedom-caucus.html\" target=\"_blank\">(The bill weakens protections for people with pre-existing conditions.)</a></span></span>&nbsp;&nbsp;<span class=\"short-desc\"><strong>May 1&nbsp;</strong>“The F-35 fighter jet — I saved — I got involved in the negotiation. It\\'s 2,500 jets. I negotiated for 90 planes, lot 10. I got $725 million off the price.” <span class=\"short-truth\"><a href=\"https://www.washingtonpost.com/news/fact-checker/wp/2017/01/31/trumps-claim-taking-credit-for-cutting-600-million-from-the-f-35-program/\" target=\"_blank\">(Much of the price cuts were planned before Trump.)</a></span></span>&nbsp;&nbsp;<span class=\"short-desc\"><strong>May 1&nbsp;</strong>“First of all, since I started running, they haven\\'t increased their — you know, they have not manipulated their currency. I think that was out of respect to me and the campaign.” <span class=\"short-truth\"><a href=\"https://www.nytimes.com/2017/04/07/world/asia/fact-check-trump-china-trade.html\" target=\"_blank\">(China stopped years ago.)</a></span></span>&nbsp;&nbsp;<span class=\"short-desc\"><strong>May 2&nbsp;</strong>“I love buying those planes at a reduced price. I have been really — I have cut billions — I have to tell you this, and they can check, right, Martha? I have cut billions and billions of dollars off plane contracts sitting here.” <span class=\"short-truth\"><a href=\"https://www.washingtonpost.com/news/fact-checker/wp/2017/01/31/trumps-claim-taking-credit-for-cutting-600-million-from-the-f-35-program/\" target=\"_blank\">(Much of the cost cuts were planned before Trump.)</a></span></span>&nbsp;&nbsp;<span class=\"short-desc\"><strong>May 4&nbsp;</strong>“Number two, they’re actually not a currency [manipulator]. You know, since I’ve been talking about currency manipulation with respect to them and other countries, they stopped.” <span class=\"short-truth\"><a href=\"https://www.nytimes.com/2017/04/07/world/asia/fact-check-trump-china-trade.html\" target=\"_blank\">(China stopped years ago.)</a></span></span>&nbsp;&nbsp;<span class=\"short-desc\"><strong>May 4&nbsp;</strong>“We’re the highest-taxed nation in the world.” <span class=\"short-truth\"><a href=\"http://www.politifact.com/truth-o-meter/statements/2016/may/08/donald-trump/donald-trump-us-not-highest-taxed-nation-in-world/\" target=\"_blank\">(We\\'re not.)</a></span></span>&nbsp;&nbsp;<span class=\"short-desc\"><strong>May 4&nbsp;</strong>“Nobody cares about my tax return except for the reporters.” <span class=\"short-truth\"><a href=\"http://time.com/money/4732925/trump-tax-returns-released-poll/\" target=\"_blank\">(Polls show most Americans do care.)</a></span></span>&nbsp;&nbsp;<span class=\"short-desc\"><strong>May 8&nbsp;</strong>“You know we’ve gotten billions of dollars more in NATO than we’re getting. All because of me.” <span class=\"short-truth\"><a href=\"https://www.nytimes.com/2017/03/01/us/politics/fact-check-trump-military.html\" target=\"_blank\">(The deal was struck in 2014.)</a></span></span>&nbsp;&nbsp;<span class=\"short-desc\"><strong>May 8&nbsp;</strong>“But when I did his show, which by the way was very highly rated. It was high — highest rating. The highest rating he’s ever had.” <span class=\"short-truth\"><a href=\"http://money.cnn.com/2017/05/11/media/stephen-colbert-trump-no-talent-comment/\" target=\"_blank\">(Colbert\\'s Late Show debut had nearly two million more viewers.)</a></span></span>&nbsp;&nbsp;<span class=\"short-desc\"><strong>May 8&nbsp;</strong>“Director Clapper reiterated what everybody, including the fake media already knows — there is ‘no evidence’ of collusion w/ Russia and Trump.” <span class=\"short-truth\"><a href=\"https://www.nytimes.com/2017/05/10/us/politics/fact-check-fbi-james-comey-sarah-huckabee-sanders.html\" target=\"_blank\">(Clapper only said he wasn\\'t aware of an investigation.)</a></span></span>&nbsp;&nbsp;<span class=\"short-desc\"><strong>May 12&nbsp;</strong>“Again, the story that there was collusion between the Russians &amp; Trump campaign was fabricated by Dems as an excuse for losing the election.” <span class=\"short-truth\"><a href=\"https://www.nytimes.com/interactive/2017/05/10/us/politics/fbi-congress-trump-russia-investigations.html\" target=\"_blank\">(The F.B.I. was investigating before the election.)</a></span></span>&nbsp;&nbsp;<span class=\"short-desc\"><strong>May 12&nbsp;</strong>“When James Clapper himself, and virtually everyone else with knowledge of the witch hunt, says there is no collusion, when does it end?” <span class=\"short-truth\"><a href=\"https://www.nytimes.com/2017/05/10/us/politics/fact-check-fbi-james-comey-sarah-huckabee-sanders.html\" target=\"_blank\">(Clapper said he wouldn\\'t have been told of an investigation into collusion.)</a></span></span>&nbsp;&nbsp;<span class=\"short-desc\"><strong>May 13&nbsp;</strong>“I\\'m cutting the price of airplanes with Lockheed.” <span class=\"short-truth\"><a href=\"https://www.washingtonpost.com/news/fact-checker/wp/2017/01/31/trumps-claim-taking-credit-for-cutting-600-million-from-the-f-35-program/\" target=\"_blank\">(The cost cuts were planned before he became president.)</a></span></span>&nbsp;&nbsp;<span class=\"short-desc\"><strong>May 26&nbsp;</strong>“Just arrived in Italy for the G7. Trip has been very successful. We made and saved the USA many billions of dollars and millions of jobs.” <span class=\"short-truth\"><a href=\"https://www.washingtonpost.com/news/fact-checker/wp/2017/05/26/president-trumps-claim-that-hes-already-saved-millions-of-jobs-on-his-foreign-trip/?utm_term=.820dd5955428\" target=\"_blank\">(He\\'s referencing an arms deal that\\'s not enacted and other apparent deals that weren\\'t announced on the trip.)</a></span></span>&nbsp;&nbsp;<span class=\"short-desc\"><strong>June 1&nbsp;</strong>“China will be allowed to build hundreds of additional coal plants. So, we can’t build the plants, but they can, according to this agreement. India will be allowed to double its coal production by 2020.” <span class=\"short-truth\"><a href=\"https://www.washingtonpost.com/news/the-fix/wp/2017/06/01/transcript-president-trumps-remarks-on-leaving-the-paris-climate-deal-annotated/?utm_term=.7f974232c4ba\" target=\"_blank\">(The agreement doesn’t allow or disallow building coal plants.)</a></span></span>&nbsp;&nbsp;<span class=\"short-desc\"><strong>June 1&nbsp;</strong>“I’ve just returned from a trip overseas where we concluded nearly $350 billion of military and economic development for the United States, creating hundreds of thousands of jobs.” <span class=\"short-truth\"><a href=\"https://www.washingtonpost.com/news/fact-checker/wp/2017/06/08/the-trump-administrations-tally-of-350-billion-plus-in-deals-with-saudi-arabia/?utm_term=.142db3117855\" target=\"_blank\">(Trump’s figures are inflated and premature.)</a></span></span>&nbsp;&nbsp;<span class=\"short-desc\"><strong>June 4&nbsp;</strong>“At least 7 dead and 48 wounded in terror attack and Mayor of London says there is ‘no reason to be alarmed!’” <span class=\"short-truth\"><a href=\"http://www.snopes.com/2017/06/04/london-mayor-sadiq-khan-no-reason-to-be-alarmed-trump/\" target=\"_blank\">(The mayor was specifically talking about the enlarged police presence on the streets.)</a></span></span>&nbsp;&nbsp;<span class=\"short-desc\"><strong>June 5&nbsp;</strong>“The Justice Dept. should have stayed with the original Travel Ban, not the watered down, politically correct version they submitted to S.C.” <span class=\"short-truth\"><a href=\"http://www.factcheck.org/2017/06/trumps-tweets-twist-facts/\" target=\"_blank\">(Trump signed this version of the travel ban, not the Justice Department.)</a></span></span>&nbsp;&nbsp;<span class=\"short-desc\"><strong>June 20&nbsp;</strong>“Well, the Special Elections are over and those that want to MAKE AMERICA GREAT AGAIN are 5 and O!” <span class=\"short-truth\"><a href=\"https://www.washingtonpost.com/news/the-fix/wp/2017/06/21/republicans-claim-a-big-victory-and-trump-promptly-exaggerates-it/?utm_term=.ce22a6dade36\" target=\"_blank\">(Republicans have won four special elections this year, while a Democrat won one.)</a></span></span>&nbsp;&nbsp;<span class=\"short-desc\"><strong>June 21&nbsp;</strong>“They all say it\\'s \\'nonbinding.\\' Like hell it\\'s nonbinding.” <span class=\"short-truth\"><a href=\"https://www.nytimes.com/2017/06/21/us/politics/trump-iowa-rally-venting-session.html\" target=\"_blank\">(The Paris climate agreement is nonbinding — and Trump said so in his speech announcing the withdrawal.)</a></span></span>&nbsp;&nbsp;<span class=\"short-desc\"><strong>June 21&nbsp;</strong>“Right now, we are one of the highest-taxed nations in the world.” <span class=\"short-truth\"><a href=\"http://www.politifact.com/truth-o-meter/article/2017/jun/22/fact-checking-nine-things-trump-overstated-got-wro/\" target=\"_blank\">(We\\'re not.)</a></span></span>&nbsp;&nbsp;<span class=\"short-desc\"><strong>June 21&nbsp;</strong>“You have a gang called MS-13. ... We are moving them out of the country by the thousands, by the thousands.” <span class=\"short-truth\"><a href=\"http://www.factcheck.org/2017/06/factchecking-trumps-iowa-rally\" target=\"_blank\">(The real number of gang members deported is smaller.)</a></span></span>&nbsp;&nbsp;<span class=\"short-desc\"><strong>June 21&nbsp;</strong>“Your insurance companies have all fled the state of Iowa.” <span class=\"short-truth\"><a href=\"http://www.factcheck.org/2017/06/factchecking-trumps-iowa-rally/\" target=\"_blank\">(They haven\\'t.)</a></span></span>&nbsp;&nbsp;<span class=\"short-desc\"><strong>June 21&nbsp;</strong>“If [farmers] have a puddle in the middle of their field ... it\\'s considered a lake and you can\\'t touch it. ... We got rid of that one, too, O.K.?” <span class=\"short-truth\"><a href=\"https://www.nytimes.com/2017/06/22/us/politics/factcheck-donald-trump-iowa-rally.html\" target=\"_blank\">(The Obama environmental rule to limit pollution in the country’s waters explicitly excludes puddles.)</a></span></span>&nbsp;&nbsp;<span class=\"short-desc\"><strong>June 21&nbsp;</strong>“Gary Cohn just paid $200 million in tax in order to take this job, by the way.” <span class=\"short-truth\"><a href=\"https://www.nytimes.com/2017/06/22/us/politics/factcheck-donald-trump-iowa-rally.html\" target=\"_blank\">(Cohn sold Goldman Sachs stock worth $220 million.)</a></span></span>&nbsp;&nbsp;<span class=\"short-desc\"><strong>June 21&nbsp;</strong>“We’re 5 and 0.” <span class=\"short-truth\"><a href=\"https://www.washingtonpost.com/graphics/politics/trump-claims-database/?utm_term=.60ce71155f60\" target=\"_blank\">(Republicans have won four special elections this year, while a Democrat won one.)</a></span></span>&nbsp;&nbsp;<span class=\"short-desc\"><strong>June 21&nbsp;</strong>“Last week a brand-new coal mine just opened in the state of Pennsylvania, first time in decades, decades.” <span class=\"short-truth\"><a href=\"https://www.washingtonpost.com/graphics/politics/trump-claims-database/?utm_term=.60ce71155f60\" target=\"_blank\">(Another coal mine opened in 2014.)</a></span></span>&nbsp;&nbsp;<span class=\"short-desc\"><strong>June 22&nbsp;</strong>“Former Homeland Security Advisor Jeh Johnson is latest top intelligence official to state there was no grand scheme between Trump &amp; Russia.” <span class=\"short-truth\"><a href=\"http://talkingpointsmemo.com/livewire/trump-claims-johnson-testimony-clears-him\" target=\"_blank\">(Johnson, who had a different title, didn\\'t say that.)</a></span></span>&nbsp;&nbsp;<span class=\"short-desc\"><strong>June 23&nbsp;</strong>“We are 5 and 0 ... in these special elections.” <span class=\"short-truth\"><a href=\"http://www.chicagotribune.com/news/nationworld/politics/factcheck/ct-fact-check-trump-missions-20170624-story.html\" target=\"_blank\">(Republicans have won four special elections this year, while a Democrat won one.)</a></span></span>&nbsp;&nbsp;<span class=\"short-desc\"><strong>June 27&nbsp;</strong>“Ratings way down!” <span class=\"short-truth\"><a href=\"http://www.politifact.com/truth-o-meter/statements/2017/jul/03/donald-trump/trumps-pants-fire-claim-cnn-ratings-are-way-down/\" target=\"_blank\">(CNN\\'s ratings were at a five-year high at the time.)</a></span></span>&nbsp;&nbsp;<span class=\"short-desc\"><strong>June 28&nbsp;</strong>“Democrats purposely misstated Medicaid under new Senate bill — actually goes up.” <span class=\"short-truth\"><a href=\"https://www.washingtonpost.com/news/fact-checker/wp/2017/06/30/president-trumps-claim-medicaid-spending-in-senate-health-bill-actually-goes-up/?utm_term=.a319dee54870\" target=\"_blank\">(Senate bill would have cut the program deeply.)</a></span></span>&nbsp;&nbsp;<span class=\"short-desc\"><strong>June 29&nbsp;</strong>“General Kelly and his whole group — they’ve gotten rid of 6,000 so far.” <span class=\"short-truth\"><a href=\"https://www.washingtonpost.com/graphics/politics/trump-claims-database/?utm_term=.aa961e129167\" target=\"_blank\">(The real number of MS-13 gang members who have been deported is smaller.)</a></span></span>&nbsp;&nbsp;<span class=\"short-desc\"><strong>July 6&nbsp;</strong>“As a result of this insistence, billions of dollars more have begun to pour into NATO.” <span class=\"short-truth\"><a href=\"http://www.nbcnews.com/politics/donald-trump/fact-check-long-trump-took-credit-nato-spending-was-n780241\" target=\"_blank\">(NATO countries agreed to meet defense spending requirements in 2014.)</a></span></span>&nbsp;&nbsp;<span class=\"short-desc\"><strong>July 17&nbsp;</strong>“We’ve signed more bills — and I’m talking about through the legislature — than any president, ever.” <span class=\"short-truth\"><a href=\"https://www.nytimes.com/2017/07/17/us/politics/trump-laws-bills.html\" target=\"_blank\">(Clinton, Carter, Truman, and F.D.R. had signed more at the same point.)</a></span></span>&nbsp;&nbsp;<span class=\"short-desc\"><strong>July 19&nbsp;</strong>“Um, the Russian investigation — it’s not an investigation, it’s not on me — you know, they’re looking at a lot of things.” <span class=\"short-truth\"><a href=\"http://time.com/4823514/donald-trump-investigation-jay-sekulow/\" target=\"_blank\">(It is.)</a></span></span>&nbsp;&nbsp;<span class=\"short-desc\"><strong>July 19&nbsp;</strong>“I heard that Harry Truman was first, and then we beat him. These are approved by Congress. These are not just executive orders.” <span class=\"short-truth\"><a href=\"https://www.nytimes.com/2017/07/17/us/politics/trump-laws-bills.html\" target=\"_blank\">(Presidents Clinton, Carter, Truman, and F.D.R. each had signed more legislation than Trump at the same point in their terms.)</a></span></span>&nbsp;&nbsp;<span class=\"short-desc\"><strong>July 19&nbsp;</strong>“But the F.B.I. person really reports directly to the president of the United States, which is interesting.” <span class=\"short-truth\"><a href=\"https://www.usatoday.com/story/news/politics/onpolitics/2017/07/20/fbi-director-reports-justice-department-not-president/495094001/\" target=\"_blank\">(He reports directly to the attorney general.)</a></span></span>&nbsp;&nbsp;<span class=\"short-desc\"><strong>July 19&nbsp;</strong>“She did the uranium deal, which is a horrible thing, while she was secretary of state, and got a lot of money.” <span class=\"short-truth\"><a href=\"http://www.factcheck.org/2017/10/facts-uranium-one/\" target=\"_blank\">(There\\'s no evidence Hillary Clinton was actively involved or benefited from the deal.)</a></span></span>&nbsp;&nbsp;<span class=\"short-desc\"><strong>July 24&nbsp;</strong>“It looks like about 45,000 people. You set a record today.” <span class=\"short-truth\"><a href=\"https://www.washingtonpost.com/news/fact-checker/wp/2017/07/26/26-hours-29-trumpian-false-or-misleading-claims/?utm_term=.2e4b2407199f\" target=\"_blank\">(Many fewer than 45,000 were there, and the attendance was not a record.)</a></span></span>&nbsp;&nbsp;<span class=\"short-desc\"><strong>July 25&nbsp;</strong>“We have the highest taxes anywhere in the world, and this will really bring them down to one of the lowest.” <span class=\"short-truth\"><a href=\"http://www.politifact.com/truth-o-meter/statements/2017/oct/18/donald-trump/once-again-trump-overstates-us-tax-ranking/\" target=\"_blank\">(Tax rates in the United States are below average, overall and for an industrialized country.)</a></span></span>&nbsp;&nbsp;<span class=\"short-desc\"><strong>July 25&nbsp;</strong>“We’re the highest-taxed nation in the world” <span class=\"short-truth\"><a href=\"http://www.politifact.com/truth-o-meter/statements/2017/oct/18/donald-trump/once-again-trump-overstates-us-tax-ranking/\" target=\"_blank\">(We\\'re not.)</a></span></span>&nbsp;&nbsp;<span class=\"short-desc\"><strong>July 25&nbsp;</strong>“We have nearly doubled the number of veterans given approvals to see the doctor of their choice.” <span class=\"short-truth\"><a href=\"https://www.usatoday.com/story/opinion/2017/07/24/veterans-health-care-will-not-be-privatized-david-shulkin-column/499417001/\" target=\"_blank\">(The increase was 26 percent.)</a></span></span>&nbsp;&nbsp;<span class=\"short-desc\"><strong>July 25&nbsp;</strong>“Since I took office we have cut illegal immigration on our southern border by record numbers. 78 percent.” <span class=\"short-truth\"><a href=\"https://www.nytimes.com/interactive/2017/10/12/us/politics/trump-border-claim-factcheck.html?_r=0\" target=\"_blank\">(The decline began before Trump\\'s inauguration.)</a></span></span>&nbsp;&nbsp;<span class=\"short-desc\"><strong>July 28&nbsp;</strong>“The previous administration enacted an open-door policy to illegal migrants from Central America.  \"Welcome in. Come in, please, please.” <span class=\"short-truth\"><a href=\"http://www.politifact.com/truth-o-meter/article/2017/jul/28/fact-checking-donald-trumps-ny-speech-law-enforcem/\" target=\"_blank\">(Obama deported millions.)</a></span></span>&nbsp;&nbsp;<span class=\"short-desc\"><strong>July 28&nbsp;</strong>“We have trade deficits with almost every country because we had a lot of really bad negotiators making deals with other countries.” <span class=\"short-truth\"><a href=\"https://www.bea.gov/newsreleases/international/trade/2017/trad0917.htm\" target=\"_blank\">(The U.S. has a trade surplus with more than 100 countries.)</a></span></span>&nbsp;&nbsp;<span class=\"short-desc\"><strong>July 31&nbsp;</strong>“2.6 is a number that nobody thought they’d see for a long period of time.” <span class=\"short-truth\"><a href=\"http://www.factcheck.org/2017/08/trumps-gdp-puffery/\" target=\"_blank\">(Many experts predicted economic growth at least this high.)</a></span></span>&nbsp;&nbsp;<span class=\"short-desc\"><strong>July 31&nbsp;</strong>“And even the President of Mexico called me  – they said their southern border, very few people are coming because they know they’re not going to get through our border, which is the ultimate compliment.” <span class=\"short-truth\"><a href=\"http://www.cnn.com/2017/08/02/politics/trump-phone-calls/index.html\" target=\"_blank\">(Mexico\\'s president says he didn\\'t call Trump.)</a></span></span>&nbsp;&nbsp;<span class=\"short-desc\"><strong>Aug. 1&nbsp;</strong>“And I think to me, maybe the biggest is that GDP for the quarter just released at 2.6 percent. So that\\'s so much higher than anticipated.” <span class=\"short-truth\"><a href=\"http://www.factcheck.org/2017/08/trumps-gdp-puffery/\" target=\"_blank\">(It wasn\\'t.)</a></span></span>&nbsp;&nbsp;<span class=\"short-desc\"><strong>Aug. 3&nbsp;</strong>“Economic growth has surged to 2.6% nationwide. You have to understand what that means. Nobody thought that number was going to happen.” <span class=\"short-truth\"><a href=\"https://www.usatoday.com/story/news/politics/2017/08/04/fact-checking-donald-trumps-west-virginia-rally/541318001/\" target=\"_blank\">(Many experts predicted that.)</a></span></span>&nbsp;&nbsp;<span class=\"short-desc\"><strong>Aug. 3&nbsp;</strong>“The Russia story is a total fabrication.” <span class=\"short-truth\"><a href=\"https://www.washingtonpost.com/news/fact-checker/wp/2017/08/03/fact-checking-the-trump-russia-investigation/?utm_term=.1404a36076a6\" target=\"_blank\">(It\\'s not.)</a></span></span>&nbsp;&nbsp;<span class=\"short-desc\"><strong>Aug. 3&nbsp;</strong>“Or let them look at the uranium she sold that is now in the hands of very angry Russians.” <span class=\"short-truth\"><a href=\"http://www.factcheck.org/2017/08/factchecking-trumps-west-virginia-rally/\" target=\"_blank\">(There\\'s no evidence Hillary Clinton was actively involved in the sale.)</a></span></span>&nbsp;&nbsp;<span class=\"short-desc\"><strong>Aug. 15&nbsp;</strong>“We want products made in the country. Now, I have to tell you, some of the folks that will leave, they\\'re leaving out of embarrassment because they make their products outside.” <span class=\"short-truth\"><a href=\"http://money.cnn.com/2017/08/16/news/trump-manufacturing-council-ceos/index.html\" target=\"_blank\">(People resigned from Trump\\'s business councils over his Charlottesville comments.)</a></span></span>&nbsp;&nbsp;<span class=\"short-desc\"><strong>Aug. 22&nbsp;</strong>“Remember, everybody said you won’t bring it up to 1 percent. You won’t bring it up to 1.2 percent.” <span class=\"short-truth\"><a href=\"https://washingtonmonthly.com/2017/08/23/quick-takes-how-many-lies-did-trump-tell-last-night/\" target=\"_blank\">(Many experts predicted economic growth at least this high.)</a></span></span>&nbsp;&nbsp;<span class=\"short-desc\"><strong>Aug. 22&nbsp;</strong>“I mean truly dishonest people in the media and the fake media, they make up stories. They have no sources in many cases. They say \\'a source says\\'  – there is no such thing.” <span class=\"short-truth\"><a href=\"http://www.factcheck.org/2017/02/factchecking-trumps-cpac-speech/\" target=\"_blank\">(The media does not make up sources.)</a></span></span>&nbsp;&nbsp;<span class=\"short-desc\"><strong>Aug. 22&nbsp;</strong>“As everybody here remembers, this was the scene of my first rally speech, right?” <span class=\"short-truth\"><a href=\"https://www.realclearpolitics.com/articles/2015/06/18/at_trumps_nh_rally_true_believers_and_big_fans_127030.html\" target=\"_blank\">(Trump\\'s first rally was in New Hampshire)</a></span></span>&nbsp;&nbsp;<span class=\"short-desc\"><strong>Aug. 22&nbsp;</strong>“We have become an energy exporter for the first time ever just recently.” <span class=\"short-truth\"><a href=\"http://www.politifact.com/truth-o-meter/statements/2017/aug/23/donald-trump/donald-trump-wrongly-says-us-net-energy-exporte/\" target=\"_blank\">(The U.S. isn\\'t projected to become a net energy exporter until 2026.)</a></span></span>&nbsp;&nbsp;<span class=\"short-desc\"><strong>Aug. 22&nbsp;</strong>“Look back there, the live red lights. They\\'re turning those suckers off fast out there. They\\'re turning those lights off fast. Like CNN.” <span class=\"short-truth\"><a href=\"http://www.cnn.com/2017/08/23/politics/phoenix-rally-things-trump-got-wrong/index.html\" target=\"_blank\">(CNN didn\\'t turn off its cameras.)</a></span></span>&nbsp;&nbsp;<span class=\"short-desc\"><strong>Sept. 6&nbsp;</strong>“The taxes are crazy  – the highest-taxed nation in the world.” <span class=\"short-truth\"><a href=\"http://www.politifact.com/truth-o-meter/statements/2016/may/08/donald-trump/donald-trump-us-not-highest-taxed-nation-in-world/\" target=\"_blank\">(We\\'re not.)</a></span></span>&nbsp;&nbsp;<span class=\"short-desc\"><strong>Sept. 6&nbsp;</strong>“We are the highest taxed nation in the world - that will change.” <span class=\"short-truth\"><a href=\"http://www.politifact.com/truth-o-meter/statements/2016/may/08/donald-trump/donald-trump-us-not-highest-taxed-nation-in-world/\" target=\"_blank\">(We\\'re not.)</a></span></span>&nbsp;&nbsp;<span class=\"short-desc\"><strong>Sept. 8&nbsp;</strong>“Our incredible U.S. Coast Guard saved more than 15,000 lives last week with Harvey.” <span class=\"short-truth\"><a href=\"https://content.govdelivery.com/accounts/USDHSCG/bulletins/1b5ace3\" target=\"_blank\">(The real number is 11,022.)</a></span></span>&nbsp;&nbsp;<span class=\"short-desc\"><strong>Sept. 14&nbsp;</strong>“Also with the fact that I know in the case of FEMA and the case of Coast Guard, the job you\\'ve done in saving people, saving lives.  As an example, in Harvey in Texas, we talked  – over 16,000 lives.” <span class=\"short-truth\"><a href=\"https://content.govdelivery.com/accounts/USDHSCG/bulletins/1b5ace3\" target=\"_blank\">(The real number is smaller.)</a></span></span>&nbsp;&nbsp;<span class=\"short-desc\"><strong>Sept. 14&nbsp;</strong>“And in Florida you got hit with the strongest winds ever recorded.” <span class=\"short-truth\"><a href=\"https://www.washingtonpost.com/news/post-nation/wp/2017/09/09/destructive-winds-rain-hit-florida-as-hurricane-irma-approaches/\" target=\"_blank\">(They weren\\'t the strongest ever recorded.)</a></span></span>&nbsp;&nbsp;<span class=\"short-desc\"><strong>Sept. 22&nbsp;</strong>“We\\'ve been dealing with ICE, we\\'ve been dealing with the Border Patrol. They both endorsed me.” <span class=\"short-truth\"><a href=\"http://www.politifact.com/truth-o-meter/statements/2016/oct/10/donald-trump/trump-says-ice-endorsed-him/\" target=\"_blank\">(Neither agency endorsed him; only their unions did.)</a></span></span>&nbsp;&nbsp;<span class=\"short-desc\"><strong>Sept. 22&nbsp;</strong>“So he started off here, he was in third or fourth, he went to third, second, and now it\\'s like almost pretty even.” <span class=\"short-truth\"><a href=\"https://www.realclearpolitics.com/epolls/2017/senate/al/alabama_senate_special_election_republican_primary-6220.html#polls\" target=\"_blank\">(Strange consistently polled first or second in the Alabama Republican primary.)</a></span></span>&nbsp;&nbsp;<span class=\"short-desc\"><strong>Sept. 29&nbsp;</strong>“With the F-35 fighter plane  – me, myself  – I\\'ve saved hundreds of millions of dollars in negotiating.” <span class=\"short-truth\"><a href=\"https://www.washingtonpost.com/news/fact-checker/wp/2017/01/31/trumps-claim-taking-credit-for-cutting-600-million-from-the-f-35-program/?utm_term=.ef182851faef\" target=\"_blank\">(The cost cuts were planned before he became president.)</a></span></span>&nbsp;&nbsp;<span class=\"short-desc\"><strong>Sept. 27&nbsp;</strong>“I’m doing the right thing, and it’s not good for me.” <span class=\"short-truth\"><a href=\"https://www.washingtonpost.com/news/fact-checker/wp/2017/09/28/fact-checking-president-trumps-tax-speech-in-indianapolis/?utm_term=.1c2a17457496\" target=\"_blank\">(All available evidence suggests he would benefit.)</a></span></span>&nbsp;&nbsp;<span class=\"short-desc\"><strong>Sept. 27&nbsp;</strong>“To protect millions of small businesses and the American farmer, we are finally ending the crushing, the horrible, the unfair estate tax.” <span class=\"short-truth\"><a href=\"http://www.politifact.com/truth-o-meter/statements/2017/sep/28/donald-trump/donald-trumps-pants-fire-claim-about-estate-tax-sm/\" target=\"_blank\">(The real number of small businesses and farmers is vastly smaller.)</a></span></span>&nbsp;&nbsp;<span class=\"short-desc\"><strong>Sept. 27&nbsp;</strong>“No, I don\\'t benefit. I don\\'t benefit. In fact, very very strongly, as you see, I think there\\'s very little benefit for people of wealth.” <span class=\"short-truth\"><a href=\"http://www.politifact.com/truth-o-meter/statements/2017/sep/28/donald-trump/donald-trumps-dubious-claim-his-tax-plan-wont-bene/\" target=\"_blank\">(The tax plan would personally benefit Trump&nbsp;and other wealthy individuals.)</a></span></span>&nbsp;&nbsp;<span class=\"short-desc\"><strong>Sept. 27&nbsp;</strong>“Facebook was always anti-Trump.The Networks were always anti-Trump hence,Fake News, @nytimes(apologized) &amp; @WaPo were anti-Trump.” <span class=\"short-truth\"><a href=\"https://www.nytimes.com/2016/11/13/us/elections/to-our-readers-from-the-publisher-and-executive-editor.html\" target=\"_blank\">(The Times did not apologize for its Trump coverage.)</a></span></span>&nbsp;&nbsp;<span class=\"short-desc\"><strong>Sept. 28&nbsp;</strong>“I mean right now, we\\'re the highest-taxed nation in the world.” <span class=\"short-truth\"><a href=\"http://www.politifact.com/truth-o-meter/statements/2016/may/08/donald-trump/donald-trump-us-not-highest-taxed-nation-in-world/\" target=\"_blank\">(We\\'re not.)</a></span></span>&nbsp;&nbsp;<span class=\"short-desc\"><strong>Oct. 3&nbsp;</strong>“But the Coast Guard itself saved in Texas 16,000 lives, and they went right through that hurricane.” <span class=\"short-truth\"><a href=\"https://content.govdelivery.com/accounts/USDHSCG/bulletins/1b5ace3\" target=\"_blank\">(The real number is smaller.)</a></span></span>&nbsp;&nbsp;<span class=\"short-desc\"><strong>Oct. 3&nbsp;</strong>“But that\\'s an expensive plane that you can\\'t see. And as you probably heard, we cut the price very substantially  – something that other administrations would never have done, that I can tell you.” <span class=\"short-truth\"><a href=\"https://www.washingtonpost.com/news/fact-checker/wp/2017/01/31/trumps-claim-taking-credit-for-cutting-600-million-from-the-f-35-program/?utm_term=.ef182851faef\" target=\"_blank\">(The cost cuts were planned before he became president.)</a></span></span>&nbsp;&nbsp;<span class=\"short-desc\"><strong>Oct. 6&nbsp;</strong>“I was able to reduce the price of the Lockheed by billions of dollars.” <span class=\"short-truth\"><a href=\"https://www.washingtonpost.com/news/fact-checker/wp/2017/01/31/trumps-claim-taking-credit-for-cutting-600-million-from-the-f-35-program/?utm_term=.ef182851faef\" target=\"_blank\">(The cost cuts were planned before he became president.)</a></span></span>&nbsp;&nbsp;<span class=\"short-desc\"><strong>Oct. 6&nbsp;</strong>“We\\'re the highest-taxed developed nation in the world, probably the highest-taxed nation in the world.” <span class=\"short-truth\"><a href=\"http://www.politifact.com/truth-o-meter/statements/2016/may/08/donald-trump/donald-trump-us-not-highest-taxed-nation-in-world/\" target=\"_blank\">(We\\'re not.)</a></span></span>&nbsp;&nbsp;<span class=\"short-desc\"><strong>Oct. 6&nbsp;</strong>“They also just said that there has been absolutely no collusion. They just said that. Yesterday. Two days ago. Senate. There has been no collusion.” <span class=\"short-truth\"><a href=\"http://www.cnn.com/TRANSCRIPTS/1710/04/ip.02.html\" target=\"_blank\">(The Senate didn\\'t say that.)</a></span></span>&nbsp;&nbsp;<span class=\"short-desc\"><strong>Oct. 6&nbsp;</strong>“This tax cut and tax reform is going very well, and it\\'s going to be a tremendous boost for our country, including the fact that we\\'re the highest-taxed nation in the world.” <span class=\"short-truth\"><a href=\"http://www.politifact.com/truth-o-meter/statements/2016/may/08/donald-trump/donald-trump-us-not-highest-taxed-nation-in-world/\" target=\"_blank\">(We\\'re not.)</a></span></span>&nbsp;&nbsp;<span class=\"short-desc\"><strong>Oct. 7&nbsp;</strong>“We\\'re the highest-taxed nation in the world.” <span class=\"short-truth\"><a href=\"http://www.politifact.com/truth-o-meter/statements/2016/may/08/donald-trump/donald-trump-us-not-highest-taxed-nation-in-world/\" target=\"_blank\">(We\\'re not.)</a></span></span>&nbsp;&nbsp;<span class=\"short-desc\"><strong>Oct. 7&nbsp;</strong>“The Coast Guard, in Texas, and all over, but with the job they did in Texas, I saw, they saved 16,000 lives.” <span class=\"short-truth\"><a href=\"https://content.govdelivery.com/accounts/USDHSCG/bulletins/1b5ace3\" target=\"_blank\">(The real number is smaller.)</a></span></span>&nbsp;&nbsp;<span class=\"short-desc\"><strong>Oct. 7&nbsp;</strong>“Obama should have never gotten out the way he got out. That\\'s how ISIS formed.” <span class=\"short-truth\"><a href=\"https://www.nytimes.com/2015/11/19/world/middleeast/in-rise-of-isis-no-single-missed-key-but-many-strands-of-blame.html\" target=\"_blank\">(The group’s origins date to 2004.)</a></span></span>&nbsp;&nbsp;<span class=\"short-desc\"><strong>Oct. 10&nbsp;</strong>“The Failing @nytimes set Liddle\\' Bob Corker up by recording his conversation. Was made to sound a fool, and that\\'s what I am dealing with!” <span class=\"short-truth\"><a href=\"https://www.nytimes.com/2017/10/10/reader-center/trump-claims-we-tricked-bob-corker-heres-the-truth.html?_r=0\" target=\"_blank\">(Corker asked the Times reporter to record the call; his aides recorded it too.)</a></span></span>&nbsp;&nbsp;<span class=\"short-desc\"><strong>Oct. 10&nbsp;</strong>“We\\'re the highest-taxed nation in the world.” <span class=\"short-truth\"><a href=\"http://www.politifact.com/truth-o-meter/statements/2016/may/08/donald-trump/donald-trump-us-not-highest-taxed-nation-in-world/\" target=\"_blank\">(We\\'re not.)</a></span></span>&nbsp;&nbsp;<span class=\"short-desc\"><strong>Oct. 11&nbsp;</strong>“We have missiles that can knock out a missile in the air. Ninety seven per cent of the time. If you send two of them, it\\'s going to get knocked out.” <span class=\"short-truth\"><a href=\"https://warontherocks.com/2017/10/deadly-overconfidence-trump-thinks-missile-defenses-work-against-north-korea-and-that-should-scare-you/\" target=\"_blank\">(The effectiveness rate is about 60 percent.)</a></span></span>&nbsp;&nbsp;<span class=\"short-desc\"><strong>Oct. 16&nbsp;</strong>“We\\'re the highest-taxed country in the world.” <span class=\"short-truth\"><a href=\"http://www.politifact.com/truth-o-meter/statements/2016/may/08/donald-trump/donald-trump-us-not-highest-taxed-nation-in-world/\" target=\"_blank\">(We\\'re not.)</a></span></span>&nbsp;&nbsp;<span class=\"short-desc\"><strong>Oct. 16&nbsp;</strong>“I hear that Ireland is going to be reducing their corporate rates down to 8 percent from 12.” <span class=\"short-truth\"><a href=\"https://www.snopes.com/trump-ireland-tax/\" target=\"_blank\">(Ireland has no plans to cut its tax rate.)</a></span></span>&nbsp;&nbsp;<span class=\"short-desc\"><strong>Oct. 16&nbsp;</strong>“If you look at President Obama and other presidents, most of them didn’t make calls.” <span class=\"short-truth\"><a href=\"https://www.nytimes.com/2017/10/16/us/politics/trump-obama-killed-soldiers.html\" target=\"_blank\">(They did call families of soldiers killed in action.)</a></span></span>&nbsp;&nbsp;<span class=\"short-desc\"><strong>Oct. 16&nbsp;</strong>“All I can say is it\\'s totally fake news, just fake. It\\'s fake. It\\'s made-up stuff, and it\\'s disgraceful what happens, but that happens in the world of politics.” <span class=\"short-truth\"><a href=\"https://www.washingtonpost.com/news/fact-checker/wp/2017/10/27/trump-says-sex-harassment-claims-are-fake-news-but-there-are-corroborators/?utm_term=.23c3b28384e2\" target=\"_blank\">(Trump himself has bragged about groping women.)</a></span></span>&nbsp;&nbsp;<span class=\"short-desc\"><strong>Oct. 17&nbsp;</strong>“We\\'re the highest taxed nation in the world.” <span class=\"short-truth\"><a href=\"http://www.politifact.com/truth-o-meter/statements/2016/may/08/donald-trump/donald-trump-us-not-highest-taxed-nation-in-world/\" target=\"_blank\">(We\\'re not.)</a></span></span>&nbsp;&nbsp;<span class=\"short-desc\"><strong>Oct. 17&nbsp;</strong>“Right now, we are the highest-taxed nation anywhere in the world. You can even say developed or undeveloped.” <span class=\"short-truth\"><a href=\"http://www.politifact.com/truth-o-meter/statements/2016/may/08/donald-trump/donald-trump-us-not-highest-taxed-nation-in-world/\" target=\"_blank\">(We\\'re not.)</a></span></span>&nbsp;&nbsp;<span class=\"short-desc\"><strong>Oct. 17&nbsp;</strong>“As far as I\\'m concerned, I think we\\'re really essentially the highest. But if you\\'d like to add the developed nation, you can say that, too.” <span class=\"short-truth\"><a href=\"http://www.politifact.com/truth-o-meter/statements/2016/may/08/donald-trump/donald-trump-us-not-highest-taxed-nation-in-world/\" target=\"_blank\">(Taxes in the U.S. are lower than in most developed countries.)</a></span></span>&nbsp;&nbsp;<span class=\"short-desc\"><strong>Oct. 17&nbsp;</strong>“We\\'re the highest-taxed nation in the world. We are taxed beyond belief.” <span class=\"short-truth\"><a href=\"http://www.politifact.com/truth-o-meter/statements/2016/may/08/donald-trump/donald-trump-us-not-highest-taxed-nation-in-world/\" target=\"_blank\">(We\\'re not.)</a></span></span>&nbsp;&nbsp;<span class=\"short-desc\"><strong>Oct. 17&nbsp;</strong>“Well, we\\'re the highest-taxed nation in the world.” <span class=\"short-truth\"><a href=\"http://www.politifact.com/truth-o-meter/statements/2016/may/08/donald-trump/donald-trump-us-not-highest-taxed-nation-in-world/\" target=\"_blank\">(We\\'re not.)</a></span></span>&nbsp;&nbsp;<span class=\"short-desc\"><strong>Oct. 17&nbsp;</strong>“I wish President Obama didn\\'t get out the way he got out. Because that left a vacuum and ISIS was formed.” <span class=\"short-truth\"><a href=\"https://www.nytimes.com/2015/11/19/world/middleeast/in-rise-of-isis-no-single-missed-key-but-many-strands-of-blame.html\" target=\"_blank\">(The group’s origins date to 2004.)</a></span></span>&nbsp;&nbsp;<span class=\"short-desc\"><strong>Oct. 18&nbsp;</strong>“Democrat Congresswoman totally fabricated what I said to the wife of a soldier who died in action (and I have proof).” <span class=\"short-truth\"><a href=\"http://time.com/4993045/myeshia-johnson-donald-trump-frederica-wilson/\" target=\"_blank\">(The wife confirmed Representative Frederica Wilson\\'s account.)</a></span></span>&nbsp;&nbsp;<span class=\"short-desc\"><strong>Oct. 18&nbsp;</strong>“The Coast Guard in Texas saved 16,000 lives.” <span class=\"short-truth\"><a href=\"https://content.govdelivery.com/accounts/USDHSCG/bulletins/1b5ace3\" target=\"_blank\">(The real number was smaller.)</a></span></span>&nbsp;&nbsp;<span class=\"short-desc\"><strong>Oct. 18&nbsp;</strong>“Nobody has ever heard of a five hitting land.” <span class=\"short-truth\"><a href=\"http://www.cnn.com/2017/09/07/us/three-category-5-hurricanes-landfall-trnd/index.html\" target=\"_blank\">(Category 5 storms have hit land before.)</a></span></span>&nbsp;&nbsp;<span class=\"short-desc\"><strong>Oct. 24&nbsp;</strong>“Under our plan, more than 30 million Americans who own small businesses will get a 40 per cent cut to their top marginal tax rate.” <span class=\"short-truth\"><a href=\"http://www.businessinsider.com/trump-small-business-tax-cut-pass-through-s-corporations-2017-10\" target=\"_blank\">(The real number is estimated to be less than 1 million.)</a></span></span>&nbsp;&nbsp;<span class=\"short-desc\"><strong>Oct. 25&nbsp;</strong>“We have trade deficits with almost everybody.” <span class=\"short-truth\"><a href=\"https://www.bea.gov/newsreleases/international/trade/2017/trad0917.htm\" target=\"_blank\">(We have trade surpluses with more than 100 countries.)</a></span></span>&nbsp;&nbsp;<span class=\"short-desc\"><strong>Oct. 27&nbsp;</strong>“Wacky &amp; totally unhinged Tom Steyer, who has been fighting me and my Make America Great Again agenda from beginning, never wins elections!” <span class=\"short-truth\"><a href=\"https://www.opensecrets.org/donor-lookup/results?name=Thomas+Steyer\" target=\"_blank\">(Steyer has financially supported many winning candidates.)</a></span></span>&nbsp;&nbsp;<span class=\"short-desc\"><strong>Nov. 1&nbsp;</strong>“Again, we\\'re the highest-taxed nation, just about, in the world.” <span class=\"short-truth\"><a href=\"http://www.politifact.com/truth-o-meter/statements/2016/may/08/donald-trump/donald-trump-us-not-highest-taxed-nation-in-world/\" target=\"_blank\">(We\\'re not.)</a></span></span>&nbsp;&nbsp;<span class=\"short-desc\"><strong>Nov. 7&nbsp;</strong>“When you look at the city with the strongest gun laws in our nation, it\\'s Chicago.” <span class=\"short-truth\"><a href=\"http://www.politifact.com/truth-o-meter/statements/2017/nov/07/donald-trump/trump-wrongly-repeats-chicago-has-strongest-gun-la/\" target=\"_blank\">(Several other cities, including New York and Los Angeles, have stronger gun laws.)</a></span></span>&nbsp;&nbsp;<span class=\"short-desc\"><strong>Nov. 11&nbsp;</strong>“I\\'d rather have him  – you know, work with him on the Ukraine than standing and arguing about whether or not  – because that whole thing was set up by the Democrats.” <span class=\"short-truth\"><a href=\"https://www.nytimes.com/interactive/2017/12/10/us/politics/trump-and-russia.html\" target=\"_blank\">(There is no evidence that Democrats \"set up\" Russian interference in the election.)</a></span></span>\\n\\n</div>\\n\\n\\n    </div>\\n\\n    \\n\\n    \\n      <div class=\"g-item g-subhed post-grid\">\\n    \\n\\n      <h2><span class=\"g-doc-bold\">All the President’s Lies</span></h2>\\n\\n\\n    </div>\\n\\n    \\n\\n    \\n      <div class=\"g-item g-graphic \">\\n    \\n\\n      <div class=\"g-item-ai2html\" style=\"\">\\n\\n\\n\\n\\n\\n<!-- SCOOP CSS -->\\n<!-- Generated by ai2html v0.65.4 - 2017-12-13 13:24 -->\\n<!-- ai file: calendar-header.ai -->\\n<!-- preview: 2017-05-18-opinion-trump-lies -->\\n<!-- scoop: trumps-lies -->\\n<style type=\\'text/css\\' media=\\'screen,print\\'>\\n\\t#g-calendar-header-box .g-artboard {\\n\\t\\tmargin:0 auto;\\n\\t}\\n\\t#g-calendar-header-box .g-artboard p {\\n\\t\\tmargin:0;\\n\\t}\\n\\t.g-aiAbs {\\n\\t\\tposition:absolute;\\n\\t}\\n\\t.g-aiImg {\\n\\t\\tdisplay:block;\\n\\t\\twidth:100% !important;\\n\\t}\\n\\t.g-aiPointText p { white-space: nowrap; }\\n\\t#g-calendar-header-Artboard_1 {\\n\\t\\tposition:relative;\\n\\t\\toverflow:hidden;\\n\\t\\twidth:500px;\\n\\t}\\n\\t#g-calendar-header-Artboard_1 p {\\n\\t\\tfont-family:nyt-franklin,arial,helvetica,sans-serif;\\n\\t\\tfont-weight:500;\\n\\t\\tfont-size:15px;\\n\\t\\tline-height:13px;\\n\\t\\tfilter:alpha(opacity=100);\\n\\t\\t-ms-filter:progid:DXImageTransform.Microsoft.Alpha(Opacity=100);\\n\\t\\topacity:1;\\n\\t\\tletter-spacing:0.1em;\\n\\t\\ttext-align:left;\\n\\t\\ttext-transform:none;\\n\\t\\tcolor:rgb(0,0,0);\\n\\t\\tpadding-bottom:0;\\n\\t\\tpadding-top:0;\\n\\t\\tmix-blend-mode:normal;\\n\\t\\tfont-style:normal;\\n\\t}\\n\\t#g-calendar-header-Artboard_1 .g-pstyle0 {\\n\\t\\tfont-weight:600;\\n\\t\\tfont-size:13px;\\n\\t\\tline-height:16px;\\n\\t\\tletter-spacing:0em;\\n\\t}\\n\\t#g-calendar-header-Artboard_1 .g-pstyle1 {\\n\\t\\ttext-align:center;\\n\\t\\ttext-transform:uppercase;\\n\\t}\\n\\t#g-calendar-header-Artboard_1 .g-pstyle2 {\\n\\t\\tfont-weight:300;\\n\\t\\tfont-size:12px;\\n\\t\\tline-height:15px;\\n\\t\\tletter-spacing:0em;\\n\\t\\ttext-align:center;\\n\\t}\\n\\t#g-calendar-header-Artboard_2 {\\n\\t\\tposition:relative;\\n\\t\\toverflow:hidden;\\n\\t\\twidth:300px;\\n\\t}\\n\\t#g-calendar-header-Artboard_2 p {\\n\\t\\tfont-family:nyt-franklin,arial,helvetica,sans-serif;\\n\\t\\tfont-weight:500;\\n\\t\\tfont-size:10px;\\n\\t\\tline-height:9px;\\n\\t\\tfilter:alpha(opacity=100);\\n\\t\\t-ms-filter:progid:DXImageTransform.Microsoft.Alpha(Opacity=100);\\n\\t\\topacity:1;\\n\\t\\tletter-spacing:0.1em;\\n\\t\\ttext-align:left;\\n\\t\\ttext-transform:none;\\n\\t\\tcolor:rgb(0,0,0);\\n\\t\\tpadding-bottom:0;\\n\\t\\tpadding-top:0;\\n\\t\\tmix-blend-mode:normal;\\n\\t\\tfont-style:normal;\\n\\t}\\n\\t#g-calendar-header-Artboard_2 .g-pstyle0 {\\n\\t\\tfont-weight:600;\\n\\t\\tfont-size:13px;\\n\\t\\tline-height:16px;\\n\\t\\tletter-spacing:0em;\\n\\t}\\n\\t#g-calendar-header-Artboard_2 .g-pstyle1 {\\n\\t\\ttext-align:center;\\n\\t\\ttext-transform:uppercase;\\n\\t}\\n\\t#g-calendar-header-Artboard_2 .g-pstyle2 {\\n\\t\\tfont-weight:300;\\n\\t\\tfont-size:12px;\\n\\t\\tline-height:15px;\\n\\t\\tletter-spacing:0em;\\n\\t\\ttext-align:center;\\n\\t}\\n\\n</style>\\n\\n<!-- SCOOP HTML -->\\n<!-- Generated by ai2html v0.65.4 - 2017-12-13 13:24 -->\\n<!-- ai file: calendar-header.ai -->\\n<!-- preview: 2017-05-18-opinion-trump-lies -->\\n<!-- scoop: trumps-lies -->\\n<div id=\"g-calendar-header-box\" class=\"ai2html\">\\n\\n\\t<!-- Artboard: Artboard_1 -->\\n\\t<div id=\"g-calendar-header-Artboard_1\" class=\"g-artboard g-artboard-v3\" data-min-width=\\'500\\'>\\n\\t\\t<img id=\"g-ai0-0\" class=\"g-aiImg\" data-src=\"https://static01.nyt.com/newsgraphics/2017/05/18/opinion-trump-lies/368b0bb8fea312b755ab259f5d7385117b2fd009/calendar-header-Artboard_1.png\" src=\"data:image/gif;base64,R0lGODlhCgAKAIAAAB8fHwAAACH5BAEAAAAALAAAAAAKAAoAAAIIhI+py+0PYysAOw==\"/>\\n\\t\\t<div id=\"g-ai0-1\" class=\"g-Layer_1 g-aiAbs g-aiPointText\" style=\"top:2.6333%;margin-top:-8.2px;left:25.3983%;width:126px;\">\\n\\t\\t\\t<p class=\"g-pstyle0\">Trump told a public lie</p>\\n\\t\\t</div>\\n\\t\\t<div id=\"g-ai0-2\" class=\"g-Layer_1 g-aiAbs g-aiPointText\" style=\"top:2.6333%;margin-top:-8.2px;left:56.9768%;width:119px;\">\\n\\t\\t\\t<p class=\"g-pstyle0\">Didn&rsquo;t tell a public lie</p>\\n\\t\\t</div>\\n\\t\\t<div id=\"g-ai0-3\" class=\"g-ai2html-settings g-aiAbs g-aiPointText\" style=\"top:12.1177%;margin-top:-6.7px;left:12.7175%;margin-left:-7.9%;width:81px;\">\\n\\t\\t\\t<p class=\"g-pstyle1\">JaN. 2017</p>\\n\\t\\t</div>\\n\\t\\t<div id=\"g-ai0-4\" class=\"g-ai2html-settings g-aiAbs g-aiPointText\" style=\"top:12.1177%;margin-top:-6.7px;left:38.1185%;margin-left:-3.6%;width:38px;\">\\n\\t\\t\\t<p class=\"g-pstyle1\">Feb.</p>\\n\\t\\t</div>\\n\\t\\t<div id=\"g-ai0-5\" class=\"g-ai2html-settings g-aiAbs g-aiPointText\" style=\"top:12.1177%;margin-top:-6.7px;left:62.7391%;margin-left:-5.7%;width:59px;\">\\n\\t\\t\\t<p class=\"g-pstyle1\">March</p>\\n\\t\\t</div>\\n\\t\\t<div id=\"g-ai0-6\" class=\"g-ai2html-settings g-aiAbs g-aiPointText\" style=\"top:12.1177%;margin-top:-6.7px;left:87.8453%;margin-left:-4.5%;width:47px;\">\\n\\t\\t\\t<p class=\"g-pstyle1\">April</p>\\n\\t\\t</div>\\n\\t\\t<div id=\"g-ai0-7\" class=\"g-ai2html-settings g-aiAbs g-aiPointText\" style=\"top:21.0442%;margin-top:-7.7px;left:13.1079%;margin-left:-6.3%;width:65px;\">\\n\\t\\t\\t<p class=\"g-pstyle2\">Inauguration</p>\\n\\t\\t</div>\\n\\t\\t<div id=\"g-ai0-8\" class=\"g-ai2html-settings g-aiAbs g-aiPointText\" style=\"top:43.7817%;margin-top:-6.7px;left:12.7143%;margin-left:-3.3%;width:35px;\">\\n\\t\\t\\t<p class=\"g-pstyle1\">May</p>\\n\\t\\t</div>\\n\\t\\t<div id=\"g-ai0-9\" class=\"g-ai2html-settings g-aiAbs g-aiPointText\" style=\"top:43.7817%;margin-top:-6.7px;left:38.136%;margin-left:-4%;width:42px;\">\\n\\t\\t\\t<p class=\"g-pstyle1\">June</p>\\n\\t\\t</div>\\n\\t\\t<div id=\"g-ai0-10\" class=\"g-ai2html-settings g-aiAbs g-aiPointText\" style=\"top:43.7817%;margin-top:-6.7px;left:62.7389%;margin-left:-3.6%;width:38px;\">\\n\\t\\t\\t<p class=\"g-pstyle1\">July</p>\\n\\t\\t</div>\\n\\t\\t<div id=\"g-ai0-11\" class=\"g-ai2html-settings g-aiAbs g-aiPointText\" style=\"top:43.7817%;margin-top:-6.7px;left:87.9102%;margin-left:-3.8%;width:40px;\">\\n\\t\\t\\t<p class=\"g-pstyle1\">AuG.</p>\\n\\t\\t</div>\\n\\t\\t<div id=\"g-ai0-12\" class=\"g-ai2html-settings g-aiAbs g-aiPointText\" style=\"top:75.4458%;margin-top:-6.7px;left:25.4512%;margin-left:-4.3%;width:45px;\">\\n\\t\\t\\t<p class=\"g-pstyle1\">Sept.</p>\\n\\t\\t</div>\\n\\t\\t<div id=\"g-ai0-13\" class=\"g-ai2html-settings g-aiAbs g-aiPointText\" style=\"top:75.4458%;margin-top:-6.7px;left:50.8865%;margin-left:-3.5%;width:37px;\">\\n\\t\\t\\t<p class=\"g-pstyle1\">Oct.</p>\\n\\t\\t</div>\\n\\t\\t<div id=\"g-ai0-14\" class=\"g-ai2html-settings g-aiAbs g-aiPointText\" style=\"top:75.4458%;margin-top:-6.7px;left:75.4373%;margin-left:-3.6%;width:38px;\">\\n\\t\\t\\t<p class=\"g-pstyle1\">Nov.</p>\\n\\t\\t</div>\\n\\t</div>\\n\\n\\t<!-- Artboard: Artboard_2 -->\\n\\t<div id=\"g-calendar-header-Artboard_2\" class=\"g-artboard g-artboard-v3\" data-min-width=\\'300\\' data-max-width=\\'499\\'>\\n\\t\\t<img id=\"g-ai1-0\" class=\"g-aiImg\" data-src=\"https://static01.nyt.com/newsgraphics/2017/05/18/opinion-trump-lies/368b0bb8fea312b755ab259f5d7385117b2fd009/calendar-header-Artboard_2.png\" src=\"data:image/gif;base64,R0lGODlhCgAKAIAAAB8fHwAAACH5BAEAAAAALAAAAAAKAAoAAAIIhI+py+0PYysAOw==\"/>\\n\\t\\t<div id=\"g-ai1-1\" class=\"g-Layer_1 g-aiAbs g-aiPointText\" style=\"top:2.7793%;margin-top:-8.2px;left:7.0088%;width:126px;\">\\n\\t\\t\\t<p class=\"g-pstyle0\">Trump told a public lie</p>\\n\\t\\t</div>\\n\\t\\t<div id=\"g-ai1-2\" class=\"g-Layer_1 g-aiAbs g-aiPointText\" style=\"top:2.7793%;margin-top:-8.2px;left:59.306%;width:119px;\">\\n\\t\\t\\t<p class=\"g-pstyle0\">Didn&rsquo;t tell a public lie</p>\\n\\t\\t</div>\\n\\t\\t<div id=\"g-ai1-3\" class=\"g-ai2html-settings g-aiAbs g-aiPointText\" style=\"top:8.3398%;margin-top:-4.7px;left:16.7005%;margin-left:-8.8333%;width:55px;\">\\n\\t\\t\\t<p class=\"g-pstyle1\">Jan. 2017</p>\\n\\t\\t</div>\\n\\t\\t<div id=\"g-ai1-4\" class=\"g-ai2html-settings g-aiAbs g-aiPointText\" style=\"top:8.3398%;margin-top:-4.7px;left:50.8441%;margin-left:-4%;width:26px;\">\\n\\t\\t\\t<p class=\"g-pstyle1\">Feb.</p>\\n\\t\\t</div>\\n\\t\\t<div id=\"g-ai1-5\" class=\"g-ai2html-settings g-aiAbs g-aiPointText\" style=\"top:8.3398%;margin-top:-4.7px;left:83.8809%;margin-left:-6.3333%;width:40px;\">\\n\\t\\t\\t<p class=\"g-pstyle1\">March</p>\\n\\t\\t</div>\\n\\t\\t<div id=\"g-ai1-6\" class=\"g-ai2html-settings g-aiAbs g-aiPointText\" style=\"top:14.9389%;margin-top:-7.7px;left:17.3328%;margin-left:-10.5%;width:65px;\">\\n\\t\\t\\t<p class=\"g-pstyle2\">Inauguration</p>\\n\\t\\t</div>\\n\\t\\t<div id=\"g-ai1-7\" class=\"g-ai2html-settings g-aiAbs g-aiPointText\" style=\"top:32.8886%;margin-top:-4.7px;left:16.7012%;margin-left:-5.1667%;width:33px;\">\\n\\t\\t\\t<p class=\"g-pstyle1\">April</p>\\n\\t\\t</div>\\n\\t\\t<div id=\"g-ai1-8\" class=\"g-ai2html-settings g-aiAbs g-aiPointText\" style=\"top:33.1159%;margin-top:-4.7px;left:50.7148%;margin-left:-3.6667%;width:24px;\">\\n\\t\\t\\t<p class=\"g-pstyle1\">May</p>\\n\\t\\t</div>\\n\\t\\t<div id=\"g-ai1-9\" class=\"g-ai2html-settings g-aiAbs g-aiPointText\" style=\"top:33.1159%;margin-top:-4.7px;left:84.9053%;margin-left:-4.5%;width:29px;\">\\n\\t\\t\\t<p class=\"g-pstyle1\">June</p>\\n\\t\\t</div>\\n\\t\\t<div id=\"g-ai1-10\" class=\"g-ai2html-settings g-aiAbs g-aiPointText\" style=\"top:56.7555%;margin-top:-4.7px;left:16.7944%;margin-left:-4%;width:26px;\">\\n\\t\\t\\t<p class=\"g-pstyle1\">July</p>\\n\\t\\t</div>\\n\\t\\t<div id=\"g-ai1-11\" class=\"g-ai2html-settings g-aiAbs g-aiPointText\" style=\"top:56.7555%;margin-top:-4.7px;left:50.6631%;margin-left:-4.3333%;width:28px;\">\\n\\t\\t\\t<p class=\"g-pstyle1\">Aug.</p>\\n\\t\\t</div>\\n\\t\\t<div id=\"g-ai1-12\" class=\"g-ai2html-settings g-aiAbs g-aiPointText\" style=\"top:56.7555%;margin-top:-4.7px;left:84.292%;margin-left:-4.8333%;width:31px;\">\\n\\t\\t\\t<p class=\"g-pstyle1\">Sept.</p>\\n\\t\\t</div>\\n\\t\\t<div id=\"g-ai1-13\" class=\"g-ai2html-settings g-aiAbs g-aiPointText\" style=\"top:80.1678%;margin-top:-4.7px;left:33.1196%;margin-left:-4%;width:26px;\">\\n\\t\\t\\t<p class=\"g-pstyle1\">Oct.</p>\\n\\t\\t</div>\\n\\t\\t<div id=\"g-ai1-14\" class=\"g-ai2html-settings g-aiAbs g-aiPointText\" style=\"top:80.1678%;margin-top:-4.7px;left:66.1686%;margin-left:-4.1667%;width:27px;\">\\n\\t\\t\\t<p class=\"g-pstyle1\">Nov.</p>\\n\\t\\t</div>\\n\\t</div>\\n\\n</div>\\n\\n<!-- SCOOP JS -->\\n<!-- Generated by ai2html v0.65.4 - 2017-12-13 13:24 -->\\n<!-- ai file: calendar-header.ai -->\\n<!-- preview: 2017-05-18-opinion-trump-lies -->\\n<!-- scoop: trumps-lies -->\\n<script type=\"text/javascript\">\\n\\t(function (scriptEnvironment, nameSpace) {\\n\\t\\t// only want one resizer on the page\\n\\t\\tif (document.documentElement.className.indexOf(nameSpace + \"resizer-v3-init\") > -1) return;\\n\\t\\tdocument.documentElement.className += \" \" + nameSpace + \"resizer-v3-init\";\\n\\t\\t// require IE9+\\n\\t\\tif (!(\"querySelector\" in document)) return;\\n\\t\\tfunction updateSize() {\\n\\t\\t\\tvar elements = Array.prototype.slice.call(document.querySelectorAll(\".\" + nameSpace + \"artboard-v3[data-min-width]\")),\\n\\t\\t\\t\\t\\twidthById = {};\\n\\t\\t\\telements.forEach(function(el) {\\n\\t\\t\\t\\tvar parent = el.parentNode,\\n\\t\\t\\t\\t\\t\\twidth = widthById[parent.id] || Math.round(parent.getBoundingClientRect().width),\\n\\t\\t\\t\\t\\t\\tminwidth = el.getAttribute(\"data-min-width\"),\\n\\t\\t\\t\\t\\t\\tmaxwidth = el.getAttribute(\"data-max-width\");\\n\\t\\t\\t\\tif (parent.id) widthById[parent.id] = width; // only if parent.id is set\\n\\t\\t\\t\\tif (+minwidth <= width && (+maxwidth >= width || maxwidth === null)) {\\n\\t\\t\\t\\t\\tvar img = el.querySelector(\".\" + nameSpace + \"aiImg\");\\n\\t\\t\\t\\t\\tif (img.getAttribute(\"data-src\") && img.getAttribute(\"src\") != img.getAttribute(\"data-src\")) {\\n\\t\\t\\t\\t\\t\\timg.setAttribute(\"src\", img.getAttribute(\"data-src\"));\\n\\t\\t\\t\\t\\t}\\n\\t\\t\\t\\t\\tel.style.display = \"block\";\\n\\t\\t\\t\\t} else {\\n\\t\\t\\t\\t\\tel.style.display = \"none\";\\n\\t\\t\\t\\t}\\n\\t\\t\\t});\\n\\n\\t\\t\\tif (scriptEnvironment==\"nyt\") {\\n\\t\\t\\t\\ttry {\\n\\t\\t\\t\\t\\tif (window.parent && window.parent.$) {\\n\\t\\t\\t\\t\\t\\twindow.parent.$(\"body\").trigger(\"resizedcontent\", [window]);\\n\\t\\t\\t\\t\\t}\\n\\t\\t\\t\\t\\tdocument.documentElement.dispatchEvent(new Event(\"resizedcontent\"));\\n\\t\\t\\t\\t\\tif (window.require && document.querySelector(\"meta[name=sourceApp]\") && document.querySelector(\"meta[name=sourceApp]\").content == \"nyt-v5\") {\\n\\t\\t\\t\\t\\t\\trequire([\"foundation/main\"], function() {\\n\\t\\t\\t\\t\\t\\t\\trequire([\"shared/interactive/instances/app-communicator\"], function(AppCommunicator) {\\n\\t\\t\\t\\t\\t\\t\\t\\tAppCommunicator.triggerResize();\\n\\t\\t\\t\\t\\t\\t\\t});\\n\\t\\t\\t\\t\\t\\t});\\n\\t\\t\\t\\t\\t}\\n\\t\\t\\t\\t} catch(e) { console.log(e); }\\n\\t\\t\\t}\\n\\t\\t}\\n\\n\\t\\tupdateSize();\\n\\n\\t\\twindow.addEventListener(\\'nyt:embed:load\\', updateSize); // for nyt vi compatibility\\n\\t\\tdocument.addEventListener(\"DOMContentLoaded\", updateSize);\\n\\n\\t\\twindow.addEventListener(\"resize\", throttle(updateSize, 200));\\n\\n\\t\\t// based on underscore.js\\n\\t\\tfunction throttle(func, wait) {\\n\\t\\t\\tvar _now = Date.now || function() { return +new Date(); },\\n\\t\\t\\t\\t\\ttimeout = null, previous = 0;\\n\\t\\t\\tvar run = function() {\\n\\t\\t\\t\\t\\tprevious = _now();\\n\\t\\t\\t\\t\\ttimeout = null;\\n\\t\\t\\t\\t\\tfunc();\\n\\t\\t\\t};\\n\\t\\t\\treturn function() {\\n\\t\\t\\t\\tvar remaining = wait - (_now() - previous);\\n\\t\\t\\t\\tif (remaining <= 0 || remaining > wait) {\\n\\t\\t\\t\\t\\tif (timeout) {\\n\\t\\t\\t\\t\\t\\tclearTimeout(timeout);\\n\\t\\t\\t\\t\\t}\\n\\t\\t\\t\\t\\trun();\\n\\t\\t\\t\\t} else if (!timeout) {\\n\\t\\t\\t\\t\\ttimeout = setTimeout(run, remaining);\\n\\t\\t\\t\\t}\\n\\t\\t\\t};\\n\\t\\t}\\n\\t})(\"nyt\", \"g-\");\\n</script>\\n \\n\\n\\n\\n</div>\\n\\n\\n    </div>\\n\\n    \\n\\n    \\n      <div class=\"g-item g-text \">\\n    \\n\\n      <p class=\"g-body\">President Trump’s political rise was built on a lie (about Barack Obama\\'s birthplace). His lack of truthfulness has also become central to the Russia investigation, with James Comey, the former director of the F.B.I., testifying under oath about Trump\\'s “lies, plain and simple.”</p>\\n\\n\\n    </div>\\n\\n    \\n\\n    \\n      <div class=\"g-item g-text \">\\n    \\n\\n      <p class=\"g-body\">There is <a href=\"https://www.nytimes.com/interactive/2017/12/14/opinion/sunday/trump-lies-obama-who-is-worse.html\">simply no precedent</a> for an American president to spend so much time telling untruths. Every president has shaded the truth or told occasional whoppers. No other president — of either party — has behaved as Trump is behaving. He is trying to create an atmosphere in which reality is irrelevant.</p>\\n\\n\\n    </div>\\n\\n    \\n\\n    \\n      <div class=\"g-item g-text \">\\n    \\n\\n      <p class=\"g-body\">We have set a conservative standard here, leaving out many dubious statements (like the claim that the tax bill his administration supports is “the biggest tax cut in U.S. history.”). Some people may still take issue with this standard, arguing that the president wasn\\'t speaking literally. But we believe his long pattern of using untruths to serve his purposes, as a businessman and politician, means that his statements are not simply careless errors.</p>\\n\\n\\n    </div>\\n\\n    \\n\\n    \\n      <div class=\"g-item g-text \">\\n    \\n\\n      <p class=\"g-body\">We are using the word “lie” deliberately. Not every falsehood is deliberate on Trump\\'s part. But it would be the height of naïveté to imagine he is merely making honest mistakes. He is lying.</p>\\n\\n\\n    </div>\\n\\n    \\n\\n    \\n      <div class=\"g-item g-subhed \">\\n    \\n\\n      <h2>Trump Told Public Lies or Falsehoods Every Day for His First 40 Days</h2>\\n\\n\\n    </div>\\n\\n    \\n\\n    \\n      <div class=\"g-item g-text \">\\n    \\n\\n      <p class=\"g-body\">The list above uses the conservative standard of demonstrably false statements. By that standard, Trump told a public lie on at least 20 of his first 40 days as president. But based on a broader standard — one that includes his many misleading statements (like exaggerating military spending in the Middle East) — Trump achieved something remarkable: He said something untrue, in public, every day for the first 40 days of his presidency. The streak didn’t end until March 1.</p>\\n\\n\\n    </div>\\n\\n    \\n\\n    \\n      <div class=\"g-item g-graphic \">\\n    \\n\\n      <div class=\"g-item-ai2html\" style=\"\">\\n\\n\\n\\n\\n\\n<div id=\"g-calendar-all-box\" class=\"ai2html\">\\n\\t<!-- Generated by ai2html v0.64 - 2017-07-19 - 21:25 -->\\n\\t<!-- ai file: calendar-all.ai -->\\n\\t<!-- preview: 2017-05-18-opinion-trump-lies -->\\n\\t<!-- scoop  : trumps-lies -->\\n\\n\\t<style type=\\'text/css\\' media=\\'screen,print\\'>\\n\\t\\t#g-calendar-all-box .g-artboard {\\n\\t\\t\\tmargin:0 auto;\\n\\t\\t}\\n\\t\\t#g-calendar-all-box .g-artboard p {\\n\\t\\t\\tmargin:0;\\n\\t\\t}\\n\\t\\t.g-aiAbs {\\n\\t\\t\\tposition:absolute;\\n\\t\\t}\\n\\t\\t.g-aiImg {\\n\\t\\t\\tdisplay:block;\\n\\t\\t\\twidth:100% !important;\\n\\t\\t}\\n\\t\\t.g-aiPointText p { white-space: nowrap; }\\n\\t</style>\\n\\n\\t<!-- Artboard: Artboard_1 -->\\n\\t<div id=\"g-calendar-all-Artboard_1\" class=\"g-artboard g-artboard-v3\" data-min-width=\\'500\\'>\\n\\t\\t<style type=\\'text/css\\' media=\\'screen,print\\'>\\n\\t\\t\\t#g-calendar-all-Artboard_1 {\\n\\t\\t\\t\\tposition:relative;\\n\\t\\t\\t\\toverflow:hidden;\\n\\t\\t\\t\\twidth:500px;\\n\\t\\t\\t}\\n\\t\\t\\t#g-calendar-all-Artboard_1 p {\\n\\t\\t\\t\\tfont-family:nyt-franklin,arial,helvetica,sans-serif;\\n\\t\\t\\t\\tfont-weight:600;\\n\\t\\t\\t\\tfont-size:13px;\\n\\t\\t\\t\\tline-height:16px;\\n\\t\\t\\t\\tfilter:alpha(opacity=100);\\n\\t\\t\\t\\t-ms-filter:progid:DXImageTransform.Microsoft.Alpha(Opacity=100);\\n\\t\\t\\t\\topacity:1;\\n\\t\\t\\t\\tletter-spacing:0em;\\n\\t\\t\\t\\ttext-align:left;\\n\\t\\t\\t\\tcolor:rgb(0,0,0);\\n\\t\\t\\t\\ttext-transform:none;\\n\\t\\t\\t\\tpadding-bottom:0;\\n\\t\\t\\t\\tpadding-top:0;\\n\\t\\t\\t\\tmix-blend-mode:normal;\\n\\t\\t\\t\\tfont-style:normal;\\n\\t\\t\\t}\\n\\t\\t\\t#g-calendar-all-Artboard_1 .g-pstyle0 {\\n\\t\\t\\t\\tfont-weight:300;\\n\\t\\t\\t\\tfont-size:12px;\\n\\t\\t\\t\\tline-height:15px;\\n\\t\\t\\t}\\n\\t\\t\\t#g-calendar-all-Artboard_1 .g-pstyle1 {\\n\\t\\t\\t\\tfont-weight:500;\\n\\t\\t\\t\\tfont-size:10px;\\n\\t\\t\\t\\tline-height:9px;\\n\\t\\t\\t\\tletter-spacing:0.1em;\\n\\t\\t\\t\\ttext-align:center;\\n\\t\\t\\t\\ttext-transform:uppercase;\\n\\t\\t\\t}\\n\\t\\t</style>\\n\\t\\t<img id=\"g-ai0-0\" class=\"g-aiImg\" src=\"https://static01.nyt.com/newsgraphics/2017/05/18/opinion-trump-lies/368b0bb8fea312b755ab259f5d7385117b2fd009/calendar-all-Artboard_1.png\"/>\\n\\t\\t<div id=\"g-ai0-1\" class=\"g-ai2html-settings g-aiAbs g-aiPointText\" style=\"top:3.6292%;left:4.774%;width:88px;\">\\n\\t\\t\\t<p>Told a public lie</p>\\n\\t\\t</div>\\n\\t\\t<div id=\"g-ai0-2\" class=\"g-ai2html-settings g-aiAbs g-aiPointText\" style=\"top:3.6292%;left:28.8558%;width:129px;\">\\n\\t\\t\\t<p>Told a public falsehood</p>\\n\\t\\t</div>\\n\\t\\t<div id=\"g-ai0-3\" class=\"g-ai2html-settings g-aiAbs g-aiPointText\" style=\"top:3.6292%;left:60.2334%;width:192px;\">\\n\\t\\t\\t<p>Didn&rsquo;t tell a public lie or falsehood</p>\\n\\t\\t</div>\\n\\t\\t<div id=\"g-ai0-4\" class=\"g-ai2html-settings g-aiAbs g-aiPointText\" style=\"top:15.5538%;left:67.251%;width:85px;\">\\n\\t\\t\\t<p class=\"g-pstyle0\">First day without</p>\\n\\t\\t\\t<p class=\"g-pstyle0\">a public lie</p>\\n\\t\\t\\t<p class=\"g-pstyle0\">or falsehood</p>\\n\\t\\t</div>\\n\\t\\t<div id=\"g-ai0-5\" class=\"g-ai2html-settings g-aiAbs g-aiPointText\" style=\"top:31.1077%;left:14.8322%;margin-left:-5.3%;width:55px;\">\\n\\t\\t\\t<p class=\"g-pstyle1\">Jan. 2017</p>\\n\\t\\t</div>\\n\\t\\t<div id=\"g-ai0-6\" class=\"g-ai2html-settings g-aiAbs g-aiPointText\" style=\"top:31.1077%;left:49.9368%;margin-left:-2.4%;width:26px;\">\\n\\t\\t\\t<p class=\"g-pstyle1\">Feb.</p>\\n\\t\\t</div>\\n\\t\\t<div id=\"g-ai0-7\" class=\"g-ai2html-settings g-aiAbs g-aiPointText\" style=\"top:31.1077%;left:85.0117%;margin-left:-3.8%;width:40px;\">\\n\\t\\t\\t<p class=\"g-pstyle1\">March</p>\\n\\t\\t</div>\\n\\t</div>\\n\\n\\t<!-- Artboard: Artboard_2 -->\\n\\t<div id=\"g-calendar-all-Artboard_2\" class=\"g-artboard g-artboard-v3\" data-min-width=\\'300\\' data-max-width=\\'499\\'>\\n\\t\\t<style type=\\'text/css\\' media=\\'screen,print\\'>\\n\\t\\t\\t#g-calendar-all-Artboard_2 {\\n\\t\\t\\t\\tposition:relative;\\n\\t\\t\\t\\toverflow:hidden;\\n\\t\\t\\t\\twidth:300px;\\n\\t\\t\\t}\\n\\t\\t\\t#g-calendar-all-Artboard_2 p {\\n\\t\\t\\t\\tfont-family:nyt-franklin,arial,helvetica,sans-serif;\\n\\t\\t\\t\\tfont-weight:600;\\n\\t\\t\\t\\tfont-size:13px;\\n\\t\\t\\t\\tline-height:16px;\\n\\t\\t\\t\\tfilter:alpha(opacity=100);\\n\\t\\t\\t\\t-ms-filter:progid:DXImageTransform.Microsoft.Alpha(Opacity=100);\\n\\t\\t\\t\\topacity:1;\\n\\t\\t\\t\\tletter-spacing:0em;\\n\\t\\t\\t\\ttext-align:left;\\n\\t\\t\\t\\tcolor:rgb(0,0,0);\\n\\t\\t\\t\\ttext-transform:none;\\n\\t\\t\\t\\tpadding-bottom:0;\\n\\t\\t\\t\\tpadding-top:0;\\n\\t\\t\\t\\tmix-blend-mode:normal;\\n\\t\\t\\t\\tfont-style:normal;\\n\\t\\t\\t}\\n\\t\\t\\t#g-calendar-all-Artboard_2 .g-pstyle0 {\\n\\t\\t\\t\\tfont-weight:300;\\n\\t\\t\\t\\tfont-size:12px;\\n\\t\\t\\t\\tline-height:15px;\\n\\t\\t\\t\\ttext-align:center;\\n\\t\\t\\t}\\n\\t\\t\\t#g-calendar-all-Artboard_2 .g-pstyle1 {\\n\\t\\t\\t\\tfont-weight:500;\\n\\t\\t\\t\\tfont-size:10px;\\n\\t\\t\\t\\tline-height:9px;\\n\\t\\t\\t\\tletter-spacing:0.1em;\\n\\t\\t\\t\\ttext-align:center;\\n\\t\\t\\t\\ttext-transform:uppercase;\\n\\t\\t\\t}\\n\\t\\t</style>\\n\\t\\t<img id=\"g-ai1-0\" class=\"g-aiImg\" src=\"https://static01.nyt.com/newsgraphics/2017/05/18/opinion-trump-lies/368b0bb8fea312b755ab259f5d7385117b2fd009/calendar-all-Artboard_2.png\"/>\\n\\t\\t<div id=\"g-ai1-1\" class=\"g-ai2html-settings g-aiAbs g-aiPointText\" style=\"top:1.057%;left:13.7505%;width:88px;\">\\n\\t\\t\\t<p>Told a public lie</p>\\n\\t\\t</div>\\n\\t\\t<div id=\"g-ai1-2\" class=\"g-ai2html-settings g-aiAbs g-aiPointText\" style=\"top:1.057%;left:51.4172%;width:129px;\">\\n\\t\\t\\t<p>Told a public falsehood</p>\\n\\t\\t</div>\\n\\t\\t<div id=\"g-ai1-3\" class=\"g-ai2html-settings g-aiAbs g-aiPointText\" style=\"top:13.7412%;left:21.7118%;width:192px;\">\\n\\t\\t\\t<p>Didn&rsquo;t tell a public lie or falsehood</p>\\n\\t\\t</div>\\n\\t\\t<div id=\"g-ai1-4\" class=\"g-ai2html-settings g-aiAbs g-aiPointText\" style=\"top:27.4825%;left:71.4538%;margin-left:-13.8333%;width:85px;\">\\n\\t\\t\\t<p class=\"g-pstyle0\">First day without</p>\\n\\t\\t\\t<p class=\"g-pstyle0\">a public lie</p>\\n\\t\\t\\t<p class=\"g-pstyle0\">or falsehood</p>\\n\\t\\t</div>\\n\\t\\t<div id=\"g-ai1-5\" class=\"g-ai2html-settings g-aiAbs g-aiPointText\" style=\"top:56.5505%;left:15.1214%;margin-left:-8.8333%;width:55px;\">\\n\\t\\t\\t<p class=\"g-pstyle1\">Jan. 2017</p>\\n\\t\\t</div>\\n\\t\\t<div id=\"g-ai1-6\" class=\"g-ai2html-settings g-aiAbs g-aiPointText\" style=\"top:56.5505%;left:50.0713%;margin-left:-4%;width:26px;\">\\n\\t\\t\\t<p class=\"g-pstyle1\">Feb.</p>\\n\\t\\t</div>\\n\\t\\t<div id=\"g-ai1-7\" class=\"g-ai2html-settings g-aiAbs g-aiPointText\" style=\"top:56.5505%;left:84.9717%;margin-left:-6.3333%;width:40px;\">\\n\\t\\t\\t<p class=\"g-pstyle1\">March</p>\\n\\t\\t</div>\\n\\t</div>\\n\\t<script type=\"text/javascript\">\\n\\t(function (scriptEnvironment) {\\n\\t\\t// only want one resizer on the page\\n\\t\\tif (document.documentElement.className.indexOf(\"g-resizer-v3-init\") > -1) return;\\n\\t\\tdocument.documentElement.className += \" g-resizer-v3-init\";\\n\\t\\t// require IE9+\\n\\t\\tif (!(\"querySelector\" in document)) return;\\n\\t\\tfunction updateSize() {\\n\\t\\t\\tvar elements = Array.prototype.slice.call(document.querySelectorAll(\".g-artboard-v3[data-min-width]\")),\\n\\t\\t\\t\\t\\twidthById = {};\\n\\t\\t\\telements.forEach(function(el) {\\n\\t\\t\\t\\tvar parent = el.parentNode,\\n\\t\\t\\t\\t\\t\\twidth = widthById[parent.id] || Math.round(parent.getBoundingClientRect().width),\\n\\t\\t\\t\\t\\t\\tminwidth = el.getAttribute(\"data-min-width\"),\\n\\t\\t\\t\\t\\t\\tmaxwidth = el.getAttribute(\"data-max-width\");\\n\\t\\t\\t\\tif (parent.id) widthById[parent.id] = width; // only if parent.id is set\\n\\n\\t\\t\\t\\tif (+minwidth <= width && (+maxwidth >= width || maxwidth === null)) {\\n\\t\\t\\t\\t\\tvar img = el.querySelector(\".g-aiImg\");\\n\\t\\t\\t\\t\\tif (img.getAttribute(\"data-src\") && img.getAttribute(\"src\") != img.getAttribute(\"data-src\")) {\\n\\t\\t\\t\\t\\t\\timg.setAttribute(\"src\", img.getAttribute(\"data-src\"));\\n\\t\\t\\t\\t\\t}\\n\\t\\t\\t\\t\\tel.style.display = \"block\";\\n\\t\\t\\t\\t} else {\\n\\t\\t\\t\\t\\tel.style.display = \"none\";\\n\\t\\t\\t\\t}\\n\\t\\t\\t});\\n\\n\\t\\t\\tif (scriptEnvironment==\"nyt\") {\\n\\t\\t\\t\\ttry {\\n\\t\\t\\t\\t\\tif (window.parent && window.parent.$) {\\n\\t\\t\\t\\t\\t\\twindow.parent.$(\"body\").trigger(\"resizedcontent\", [window]);\\n\\t\\t\\t\\t\\t}\\n\\t\\t\\t\\t\\tdocument.documentElement.dispatchEvent(new Event(\"resizedcontent\"));\\n\\t\\t\\t\\t\\tif (window.require && document.querySelector(\"meta[name=sourceApp]\") && document.querySelector(\"meta[name=sourceApp]\").content == \"nyt-v5\") {\\n\\t\\t\\t\\t\\t\\trequire([\"foundation/main\"], function() {\\n\\t\\t\\t\\t\\t\\t\\trequire([\"shared/interactive/instances/app-communicator\"], function(AppCommunicator) {\\n\\t\\t\\t\\t\\t\\t\\t\\tAppCommunicator.triggerResize();\\n\\t\\t\\t\\t\\t\\t\\t});\\n\\t\\t\\t\\t\\t\\t});\\n\\t\\t\\t\\t\\t}\\n\\t\\t\\t\\t} catch(e) { console.log(e); }\\n\\t\\t\\t}\\n\\t\\t}\\n\\n\\t\\tupdateSize();\\n\\t\\tdocument.addEventListener(\"DOMContentLoaded\", updateSize);\\n\\t\\t// feel free to replace throttle with _.throttle, if available\\n\\t\\twindow.addEventListener(\"resize\", throttle(updateSize, 200));\\n\\n\\t\\tfunction throttle(func, wait) {\\n\\t\\t\\t// from underscore.js\\n\\t\\t\\tvar _now = Date.now || function() { return new Date().getTime(); },\\n\\t\\t\\t\\t\\tcontext, args, result, timeout = null, previous = 0;\\n\\t\\t\\tvar later = function() {\\n\\t\\t\\t\\t\\tprevious = _now();\\n\\t\\t\\t\\t\\ttimeout = null;\\n\\t\\t\\t\\t\\tresult = func.apply(context, args);\\n\\t\\t\\t\\t\\tif (!timeout) context = args = null;\\n\\t\\t\\t};\\n\\t\\t\\treturn function() {\\n\\t\\t\\t\\tvar now = _now(), remaining = wait - (now - previous);\\n\\t\\t\\t\\tcontext = this;\\n\\t\\t\\t\\targs = arguments;\\n\\t\\t\\t\\tif (remaining <= 0 || remaining > wait) {\\n\\t\\t\\t\\t\\tif (timeout) {\\n\\t\\t\\t\\t\\t\\tclearTimeout(timeout);\\n\\t\\t\\t\\t\\t\\ttimeout = null;\\n\\t\\t\\t\\t\\t}\\n\\t\\t\\t\\t\\tprevious = now;\\n\\t\\t\\t\\t\\tresult = func.apply(context, args);\\n\\t\\t\\t\\t\\tif (!timeout) context = args = null;\\n\\t\\t\\t\\t} else if (!timeout) {\\n\\t\\t\\t\\t\\ttimeout = setTimeout(later, remaining);\\n\\t\\t\\t\\t}\\n\\t\\t\\t\\treturn result;\\n\\t\\t\\t};\\n\\t\\t}\\n\\t})(\"nyt\");\\n\\t</script>\\n\\n\\n\\t<!-- End ai2html - 2017-07-19 - 21:25 -->\\n</div>\\n \\n\\n\\n\\n</div>\\n\\n\\n    </div>\\n\\n    \\n\\n    \\n      <div class=\"g-item g-text \">\\n    \\n\\n      <p class=\"g-body\">On days without an untrue statement, he is often absent from Twitter, vacationing at Mar-a-Lago in Florida, or busy golfing.</p>\\n\\n\\n    </div>\\n\\n    \\n\\n    \\n      <div class=\"g-item g-text \">\\n    \\n\\n      <p class=\"g-body\">The end of May was another period of relative public veracity — or at least public quiet — for the president. He seems to have been otherwise occupied, dealing with internal discussions about the Russia investigation and then embarking on a trip through the Middle East and Europe.</p>\\n\\n\\n    </div>\\n\\n    \\n\\n    \\n      <div class=\"g-item g-graphic \">\\n    \\n\\n      <div class=\"g-item-ai2html\" style=\"\">\\n\\n\\n\\n\\n\\n<div id=\\'g-calendar-may-box\\' class=\\'ai2html\\'>\\n\\t<!-- Generated by ai2html v0.64 - 2017-06-23 - 11:10 -->\\n\\t<!-- ai file: calendar-may -->\\n\\t<!-- preview: 2017-05-18-opinion-trump-lies -->\\n\\t<!-- scoop  : \"trumps-lies\" -->\\n\\n\\t<style type=\\'text/css\\' media=\\'screen,print\\'>\\n\\t\\t.g-artboard {\\n\\t\\t\\tmargin:0 auto;\\n\\t\\t}\\n\\t</style>\\n\\n\\n\\t<!-- Artboard: Artboard_1 -->\\n\\t<div id=\\'g-calendar-may-Artboard_1\\' class=\\'g-artboard g-artboard-v3 \\' data-min-width=\\'460\\'>\\n\\t\\t<style type=\\'text/css\\' media=\\'screen,print\\'>\\n\\t\\t\\t#g-calendar-may-Artboard_1{\\n\\t\\t\\t\\tposition:relative;\\n\\t\\t\\t\\toverflow:hidden;\\n\\t\\t\\t\\twidth:460px;\\n\\t\\t\\t}\\n\\t\\t\\t.g-aiAbs{\\n\\t\\t\\t\\tposition:absolute;\\n\\t\\t\\t}\\n\\t\\t\\t.g-aiImg{\\n\\t\\t\\t\\tdisplay:block;\\n\\t\\t\\t\\twidth:100% !important;\\n\\t\\t\\t}\\n\\t\\t\\t#g-calendar-may-Artboard_1 p{\\n\\t\\t\\t\\tfont-family:nyt-franklin,arial,helvetica,sans-serif;\\n\\t\\t\\t\\tfont-size:13px;\\n\\t\\t\\t\\tline-height:18px;\\n\\t\\t\\t\\tmargin:0;\\n\\t\\t\\t}\\n\\t\\t\\t#g-calendar-may-Artboard_1 .g-aiPstyle0 {\\n\\t\\t\\t\\tfont-size:12px;\\n\\t\\t\\t\\tline-height:15px;\\n\\t\\t\\t\\tfont-weight:300;\\n\\t\\t\\t\\tcolor:#000000;\\n\\t\\t\\t}\\n\\t\\t\\t#g-calendar-may-Artboard_1 .g-aiPstyle1 {\\n\\t\\t\\t\\tfont-size:18px;\\n\\t\\t\\t\\tfont-weight:700;\\n\\t\\t\\t\\ttext-transform:uppercase;\\n\\t\\t\\t\\ttext-align:center;\\n\\t\\t\\t\\tletter-spacing:0.08333333333333em;\\n\\t\\t\\t\\tcolor:#000000;\\n\\t\\t\\t}\\n\\t\\t\\t#g-calendar-may-Artboard_1 .g-aiPstyle2 {\\n\\t\\t\\t\\tfont-size:10px;\\n\\t\\t\\t\\tline-height:12px;\\n\\t\\t\\t\\tfont-weight:300;\\n\\t\\t\\t\\tcolor:#000000;\\n\\t\\t\\t}\\n\\t\\t\\t.g-aiPtransformed p { white-space: nowrap; }\\n\\t\\t</style>\\n\\t\\t<div id=\\'g-calendar-may-Artboard_1-graphic\\'>\\n\\t\\t\\t<img id=\\'g-ai0-0\\'\\n\\t\\t\\t\\tclass=\\'g-aiImg\\'\\n\\t\\t\\t\\tsrc=\\'https://static01.nyt.com/newsgraphics/2017/05/18/opinion-trump-lies/368b0bb8fea312b755ab259f5d7385117b2fd009/calendar-may-Artboard_1.png\\'\\n\\t\\t\\t\\t/>\\n\\t\\t\\t<div id=\\'g-ai0-1\\' class=\\'g-Layer_1 g-aiAbs\\' style=\\'top:1.0274%;left:74.3052%;\\'>\\n\\t\\t\\t\\t<p class=\\'g-aiPstyle0\\'>Visited a Trump </p>\\n\\t\\t\\t\\t<p class=\\'g-aiPstyle0\\'>property and told</p>\\n\\t\\t\\t\\t<p class=\\'g-aiPstyle0\\'>no public lies</p>\\n\\t\\t\\t\\t<p class=\\'g-aiPstyle0\\'>or falsehoods</p>\\n\\t\\t\\t</div>\\n\\t\\t\\t<div id=\\'g-ai0-2\\' class=\\'g-Layer_1 g-aiAbs\\' style=\\'top:7.8767%;left:49.314%;width:18.2424%;margin-left:-9.1212%;\\'>\\n\\t\\t\\t\\t<p class=\\'g-aiPstyle1\\'>May</p>\\n\\t\\t\\t</div>\\n\\t\\t\\t<div id=\\'g-ai0-3\\' class=\\'g-Layer_1 g-aiAbs\\' style=\\'top:14.8973%;left:26.9565%;\\'>\\n\\t\\t\\t\\t<p class=\\'g-aiPstyle2\\'>1</p>\\n\\t\\t\\t</div>\\n\\t\\t\\t<div id=\\'g-ai0-4\\' class=\\'g-Layer_1 g-aiAbs\\' style=\\'top:14.8973%;left:36.2174%;\\'>\\n\\t\\t\\t\\t<p class=\\'g-aiPstyle2\\'>2</p>\\n\\t\\t\\t</div>\\n\\t\\t\\t<div id=\\'g-ai0-5\\' class=\\'g-Layer_1 g-aiAbs\\' style=\\'top:14.8973%;left:45.4783%;\\'>\\n\\t\\t\\t\\t<p class=\\'g-aiPstyle2\\'>3</p>\\n\\t\\t\\t</div>\\n\\t\\t\\t<div id=\\'g-ai0-6\\' class=\\'g-Layer_1 g-aiAbs\\' style=\\'top:14.8973%;left:54.7391%;\\'>\\n\\t\\t\\t\\t<p class=\\'g-aiPstyle2\\'>4</p>\\n\\t\\t\\t</div>\\n\\t\\t\\t<div id=\\'g-ai0-7\\' class=\\'g-Layer_1 g-aiAbs\\' style=\\'top:14.8973%;left:64.0001%;\\'>\\n\\t\\t\\t\\t<p class=\\'g-aiPstyle2\\'>5</p>\\n\\t\\t\\t</div>\\n\\t\\t\\t<div id=\\'g-ai0-8\\' class=\\'g-Layer_1 g-aiAbs\\' style=\\'top:14.8973%;left:73.2609%;\\'>\\n\\t\\t\\t\\t<p class=\\'g-aiPstyle2\\'>6</p>\\n\\t\\t\\t</div>\\n\\t\\t\\t<div id=\\'g-ai0-9\\' class=\\'g-Layer_1 g-aiAbs\\' style=\\'top:22.6027%;left:17.6087%;\\'>\\n\\t\\t\\t\\t<p class=\\'g-aiPstyle2\\'>7</p>\\n\\t\\t\\t</div>\\n\\t\\t\\t<div id=\\'g-ai0-10\\' class=\\'g-Layer_1 g-aiAbs\\' style=\\'top:22.6027%;left:26.8696%;\\'>\\n\\t\\t\\t\\t<p class=\\'g-aiPstyle2\\'>8</p>\\n\\t\\t\\t</div>\\n\\t\\t\\t<div id=\\'g-ai0-11\\' class=\\'g-Layer_1 g-aiAbs\\' style=\\'top:22.6027%;left:36.1305%;\\'>\\n\\t\\t\\t\\t<p class=\\'g-aiPstyle2\\'>9</p>\\n\\t\\t\\t</div>\\n\\t\\t\\t<div id=\\'g-ai0-12\\' class=\\'g-Layer_1 g-aiAbs\\' style=\\'top:22.6027%;left:45.3913%;\\'>\\n\\t\\t\\t\\t<p class=\\'g-aiPstyle2\\'>10</p>\\n\\t\\t\\t</div>\\n\\t\\t\\t<div id=\\'g-ai0-13\\' class=\\'g-Layer_1 g-aiAbs\\' style=\\'top:22.6027%;left:54.6523%;\\'>\\n\\t\\t\\t\\t<p class=\\'g-aiPstyle2\\'>11</p>\\n\\t\\t\\t</div>\\n\\t\\t\\t<div id=\\'g-ai0-14\\' class=\\'g-Layer_1 g-aiAbs\\' style=\\'top:22.6027%;left:63.913%;\\'>\\n\\t\\t\\t\\t<p class=\\'g-aiPstyle2\\'>12</p>\\n\\t\\t\\t</div>\\n\\t\\t\\t<div id=\\'g-ai0-15\\' class=\\'g-Layer_1 g-aiAbs\\' style=\\'top:22.6027%;left:73.2609%;\\'>\\n\\t\\t\\t\\t<p class=\\'g-aiPstyle2\\'>13</p>\\n\\t\\t\\t</div>\\n\\t\\t\\t<div id=\\'g-ai0-16\\' class=\\'g-Layer_1 g-aiAbs\\' style=\\'top:30.137%;left:17.6087%;\\'>\\n\\t\\t\\t\\t<p class=\\'g-aiPstyle2\\'>14</p>\\n\\t\\t\\t</div>\\n\\t\\t\\t<div id=\\'g-ai0-17\\' class=\\'g-Layer_1 g-aiAbs\\' style=\\'top:32.1918%;left:37.2279%;width:26.9025%;\\'>\\n\\t\\t\\t\\t<p class=\\'g-aiPstyle0\\'>Washington Post reports Trump shared highly classified intelligence with Russians</p>\\n\\t\\t\\t</div>\\n\\t\\t\\t<div id=\\'g-ai0-18\\' class=\\'g-Layer_1 g-aiAbs\\' style=\\'top:48.2877%;left:27.3044%;\\'>\\n\\t\\t\\t\\t<p class=\\'g-aiPstyle2\\'>15</p>\\n\\t\\t\\t</div>\\n\\t\\t\\t<div id=\\'g-ai0-19\\' class=\\'g-Layer_1 g-aiAbs\\' style=\\'top:48.2877%;left:36.5653%;\\'>\\n\\t\\t\\t\\t<p class=\\'g-aiPstyle2\\'>16</p>\\n\\t\\t\\t</div>\\n\\t\\t\\t<div id=\\'g-ai0-20\\' class=\\'g-Layer_1 g-aiAbs\\' style=\\'top:48.2877%;left:45.826%;\\'>\\n\\t\\t\\t\\t<p class=\\'g-aiPstyle2\\'>17</p>\\n\\t\\t\\t</div>\\n\\t\\t\\t<div id=\\'g-ai0-21\\' class=\\'g-Layer_1 g-aiAbs\\' style=\\'top:56.3356%;left:9.7826%;width:26.7391%;\\'>\\n\\t\\t\\t\\t<p class=\\'g-aiPstyle0\\'>New York Times reports Trump hoped Comey would &ldquo;let this go,&rdquo; referring to the Flynn investigation</p>\\n\\t\\t\\t</div>\\n\\t\\t\\t<div id=\\'g-ai0-22\\' class=\\'g-Layer_1 g-aiAbs\\' style=\\'top:57.0205%;left:58.1519%;width:31.4134%;\\'>\\n\\t\\t\\t\\t<p class=\\'g-aiPstyle0\\'>Special counsel appointed in investigation of Russia&rsquo;s ties to the Trump campaign</p>\\n\\t\\t\\t</div>\\n\\t\\t\\t<div id=\\'g-ai0-23\\' class=\\'g-Layer_1 g-aiAbs\\' style=\\'top:72.774%;left:54.6523%;\\'>\\n\\t\\t\\t\\t<p class=\\'g-aiPstyle2\\'>18</p>\\n\\t\\t\\t</div>\\n\\t\\t\\t<div id=\\'g-ai0-24\\' class=\\'g-Layer_1 g-aiAbs\\' style=\\'top:72.774%;left:63.913%;\\'>\\n\\t\\t\\t\\t<p class=\\'g-aiPstyle2\\'>19</p>\\n\\t\\t\\t</div>\\n\\t\\t\\t<div id=\\'g-ai0-25\\' class=\\'g-Layer_1 g-aiAbs\\' style=\\'top:72.774%;left:73.2609%;\\'>\\n\\t\\t\\t\\t<p class=\\'g-aiPstyle2\\'>20</p>\\n\\t\\t\\t</div>\\n\\t\\t\\t<div id=\\'g-ai0-26\\' class=\\'g-Layer_1 g-aiAbs\\' style=\\'top:79.7945%;left:17.6087%;\\'>\\n\\t\\t\\t\\t<p class=\\'g-aiPstyle2\\'>21</p>\\n\\t\\t\\t</div>\\n\\t\\t\\t<div id=\\'g-ai0-27\\' class=\\'g-Layer_1 g-aiAbs\\' style=\\'top:79.7945%;left:26.8696%;\\'>\\n\\t\\t\\t\\t<p class=\\'g-aiPstyle2\\'>22</p>\\n\\t\\t\\t</div>\\n\\t\\t\\t<div id=\\'g-ai0-28\\' class=\\'g-Layer_1 g-aiAbs\\' style=\\'top:79.7945%;left:36.1305%;\\'>\\n\\t\\t\\t\\t<p class=\\'g-aiPstyle2\\'>23</p>\\n\\t\\t\\t</div>\\n\\t\\t\\t<div id=\\'g-ai0-29\\' class=\\'g-Layer_1 g-aiAbs\\' style=\\'top:79.7945%;left:45.3913%;\\'>\\n\\t\\t\\t\\t<p class=\\'g-aiPstyle2\\'>24</p>\\n\\t\\t\\t</div>\\n\\t\\t\\t<div id=\\'g-ai0-30\\' class=\\'g-Layer_1 g-aiAbs\\' style=\\'top:79.7945%;left:54.6523%;\\'>\\n\\t\\t\\t\\t<p class=\\'g-aiPstyle2\\'>25</p>\\n\\t\\t\\t</div>\\n\\t\\t\\t<div id=\\'g-ai0-31\\' class=\\'g-Layer_1 g-aiAbs\\' style=\\'top:79.7945%;left:63.913%;\\'>\\n\\t\\t\\t\\t<p class=\\'g-aiPstyle2\\'>26</p>\\n\\t\\t\\t</div>\\n\\t\\t\\t<div id=\\'g-ai0-32\\' class=\\'g-Layer_1 g-aiAbs\\' style=\\'top:79.7945%;left:73.2609%;\\'>\\n\\t\\t\\t\\t<p class=\\'g-aiPstyle2\\'>27</p>\\n\\t\\t\\t</div>\\n\\t\\t\\t<div id=\\'g-ai0-33\\' class=\\'g-Layer_1 g-aiAbs\\' style=\\'top:87.5%;left:17.6087%;\\'>\\n\\t\\t\\t\\t<p class=\\'g-aiPstyle2\\'>28</p>\\n\\t\\t\\t</div>\\n\\t\\t\\t<div id=\\'g-ai0-34\\' class=\\'g-Layer_1 g-aiAbs\\' style=\\'top:87.5%;left:26.8696%;\\'>\\n\\t\\t\\t\\t<p class=\\'g-aiPstyle2\\'>29</p>\\n\\t\\t\\t</div>\\n\\t\\t\\t<div id=\\'g-ai0-35\\' class=\\'g-Layer_1 g-aiAbs\\' style=\\'top:87.5%;left:36.1305%;\\'>\\n\\t\\t\\t\\t<p class=\\'g-aiPstyle2\\'>30</p>\\n\\t\\t\\t</div>\\n\\t\\t\\t<div id=\\'g-ai0-36\\' class=\\'g-Layer_1 g-aiAbs\\' style=\\'top:87.5%;left:45.3913%;\\'>\\n\\t\\t\\t\\t<p class=\\'g-aiPstyle2\\'>31</p>\\n\\t\\t\\t</div>\\n\\t\\t\\t<div id=\\'g-ai0-37\\' class=\\'g-Layer_1 g-aiAbs\\' style=\\'top:89.726%;left:63.4356%;\\'>\\n\\t\\t\\t\\t<p class=\\'g-aiPstyle0\\'>Trump&rsquo;s trip</p>\\n\\t\\t\\t\\t<p class=\\'g-aiPstyle0\\'>overseas</p>\\n\\t\\t\\t</div>\\n\\t\\t</div>\\n\\t</div>\\n\\n\\t<!-- Artboard: Artboard_2 -->\\n\\t<div id=\\'g-calendar-may-Artboard_2\\' class=\\'g-artboard g-artboard-v3 \\' data-min-width=\\'300\\' data-max-width=\\'459\\'>\\n\\t\\t<style type=\\'text/css\\' media=\\'screen,print\\'>\\n\\t\\t\\t#g-calendar-may-Artboard_2{\\n\\t\\t\\t\\tposition:relative;\\n\\t\\t\\t\\toverflow:hidden;\\n\\t\\t\\t\\twidth:300px;\\n\\t\\t\\t}\\n\\t\\t\\t.g-aiAbs{\\n\\t\\t\\t\\tposition:absolute;\\n\\t\\t\\t}\\n\\t\\t\\t.g-aiImg{\\n\\t\\t\\t\\tdisplay:block;\\n\\t\\t\\t\\twidth:100% !important;\\n\\t\\t\\t}\\n\\t\\t\\t#g-calendar-may-Artboard_2 p{\\n\\t\\t\\t\\tfont-family:nyt-franklin,arial,helvetica,sans-serif;\\n\\t\\t\\t\\tfont-size:13px;\\n\\t\\t\\t\\tline-height:18px;\\n\\t\\t\\t\\tmargin:0;\\n\\t\\t\\t}\\n\\t\\t\\t#g-calendar-may-Artboard_2 .g-aiPstyle0 {\\n\\t\\t\\t\\tfont-size:14px;\\n\\t\\t\\t\\tline-height:16px;\\n\\t\\t\\t\\tfont-weight:300;\\n\\t\\t\\t\\tcolor:#000000;\\n\\t\\t\\t}\\n\\t\\t\\t#g-calendar-may-Artboard_2 .g-aiPstyle1 {\\n\\t\\t\\t\\tfont-size:18px;\\n\\t\\t\\t\\tfont-weight:700;\\n\\t\\t\\t\\ttext-transform:uppercase;\\n\\t\\t\\t\\ttext-align:center;\\n\\t\\t\\t\\tletter-spacing:0.08333333333333em;\\n\\t\\t\\t\\tcolor:#000000;\\n\\t\\t\\t}\\n\\t\\t\\t#g-calendar-may-Artboard_2 .g-aiPstyle2 {\\n\\t\\t\\t\\tfont-size:10px;\\n\\t\\t\\t\\tline-height:12px;\\n\\t\\t\\t\\tfont-weight:300;\\n\\t\\t\\t\\tcolor:#000000;\\n\\t\\t\\t}\\n\\t\\t\\t.g-aiPtransformed p { white-space: nowrap; }\\n\\t\\t</style>\\n\\t\\t<div id=\\'g-calendar-may-Artboard_2-graphic\\'>\\n\\t\\t\\t<img id=\\'g-ai1-0\\'\\n\\t\\t\\t\\tclass=\\'g-aiImg\\'\\n\\t\\t\\t\\tsrc=\\'https://static01.nyt.com/newsgraphics/2017/05/18/opinion-trump-lies/368b0bb8fea312b755ab259f5d7385117b2fd009/calendar-may-Artboard_2.png\\'\\n\\t\\t\\t\\t/>\\n\\t\\t\\t<div id=\\'g-ai1-1\\' class=\\'g-Layer_1 g-aiAbs\\' style=\\'top:0.5146%;left:65.8581%;\\'>\\n\\t\\t\\t\\t<p class=\\'g-aiPstyle0\\'>Visited a Trump</p>\\n\\t\\t\\t\\t<p class=\\'g-aiPstyle0\\'>property and told</p>\\n\\t\\t\\t\\t<p class=\\'g-aiPstyle0\\'>no public lies</p>\\n\\t\\t\\t\\t<p class=\\'g-aiPstyle0\\'>or falsehoods</p>\\n\\t\\t\\t</div>\\n\\t\\t\\t<div id=\\'g-ai1-2\\' class=\\'g-Layer_1 g-aiAbs\\' style=\\'top:10.6346%;left:50.4244%;width:27.9717%;margin-left:-13.9858%;\\'>\\n\\t\\t\\t\\t<p class=\\'g-aiPstyle1\\'>May</p>\\n\\t\\t\\t</div>\\n\\t\\t\\t<div id=\\'g-ai1-3\\' class=\\'g-Layer_1 g-aiAbs\\' style=\\'top:17.3242%;left:17.216%;\\'>\\n\\t\\t\\t\\t<p class=\\'g-aiPstyle2\\'>1</p>\\n\\t\\t\\t</div>\\n\\t\\t\\t<div id=\\'g-ai1-4\\' class=\\'g-Layer_1 g-aiAbs\\' style=\\'top:17.3242%;left:30.9678%;\\'>\\n\\t\\t\\t\\t<p class=\\'g-aiPstyle2\\'>2</p>\\n\\t\\t\\t</div>\\n\\t\\t\\t<div id=\\'g-ai1-5\\' class=\\'g-Layer_1 g-aiAbs\\' style=\\'top:17.3242%;left:44.7194%;\\'>\\n\\t\\t\\t\\t<p class=\\'g-aiPstyle2\\'>3</p>\\n\\t\\t\\t</div>\\n\\t\\t\\t<div id=\\'g-ai1-6\\' class=\\'g-Layer_1 g-aiAbs\\' style=\\'top:17.3242%;left:58.4707%;\\'>\\n\\t\\t\\t\\t<p class=\\'g-aiPstyle2\\'>4</p>\\n\\t\\t\\t</div>\\n\\t\\t\\t<div id=\\'g-ai1-7\\' class=\\'g-Layer_1 g-aiAbs\\' style=\\'top:17.3242%;left:72.2227%;\\'>\\n\\t\\t\\t\\t<p class=\\'g-aiPstyle2\\'>5</p>\\n\\t\\t\\t</div>\\n\\t\\t\\t<div id=\\'g-ai1-8\\' class=\\'g-Layer_1 g-aiAbs\\' style=\\'top:17.3242%;left:85.974%;\\'>\\n\\t\\t\\t\\t<p class=\\'g-aiPstyle2\\'>6</p>\\n\\t\\t\\t</div>\\n\\t\\t\\t<div id=\\'g-ai1-9\\' class=\\'g-Layer_1 g-aiAbs\\' style=\\'top:24.1852%;left:44.5902%;\\'>\\n\\t\\t\\t\\t<p class=\\'g-aiPstyle0\\'>10</p>\\n\\t\\t\\t</div>\\n\\t\\t\\t<div id=\\'g-ai1-10\\' class=\\'g-Layer_1 g-aiAbs\\' style=\\'top:24.6998%;left:3.3354%;\\'>\\n\\t\\t\\t\\t<p class=\\'g-aiPstyle2\\'>7</p>\\n\\t\\t\\t</div>\\n\\t\\t\\t<div id=\\'g-ai1-11\\' class=\\'g-Layer_1 g-aiAbs\\' style=\\'top:24.6998%;left:17.0871%;\\'>\\n\\t\\t\\t\\t<p class=\\'g-aiPstyle2\\'>8</p>\\n\\t\\t\\t</div>\\n\\t\\t\\t<div id=\\'g-ai1-12\\' class=\\'g-Layer_1 g-aiAbs\\' style=\\'top:24.6998%;left:30.8387%;\\'>\\n\\t\\t\\t\\t<p class=\\'g-aiPstyle2\\'>9</p>\\n\\t\\t\\t</div>\\n\\t\\t\\t<div id=\\'g-ai1-13\\' class=\\'g-Layer_1 g-aiAbs\\' style=\\'top:24.6998%;left:58.3415%;\\'>\\n\\t\\t\\t\\t<p class=\\'g-aiPstyle2\\'>11</p>\\n\\t\\t\\t</div>\\n\\t\\t\\t<div id=\\'g-ai1-14\\' class=\\'g-Layer_1 g-aiAbs\\' style=\\'top:24.6998%;left:72.0934%;\\'>\\n\\t\\t\\t\\t<p class=\\'g-aiPstyle2\\'>12</p>\\n\\t\\t\\t</div>\\n\\t\\t\\t<div id=\\'g-ai1-15\\' class=\\'g-Layer_1 g-aiAbs\\' style=\\'top:24.6998%;left:85.974%;\\'>\\n\\t\\t\\t\\t<p class=\\'g-aiPstyle2\\'>13</p>\\n\\t\\t\\t</div>\\n\\t\\t\\t<div id=\\'g-ai1-16\\' class=\\'g-Layer_1 g-aiAbs\\' style=\\'top:32.0755%;left:3.3354%;\\'>\\n\\t\\t\\t\\t<p class=\\'g-aiPstyle2\\'>14</p>\\n\\t\\t\\t</div>\\n\\t\\t\\t<div id=\\'g-ai1-17\\' class=\\'g-Layer_1 g-aiAbs\\' style=\\'top:34.8199%;left:32.4683%;width:47.5317%;\\'>\\n\\t\\t\\t\\t<p class=\\'g-aiPstyle0\\'>Washington Post reports Trump shared highly classified intelligence with Russians</p>\\n\\t\\t\\t</div>\\n\\t\\t\\t<div id=\\'g-ai1-18\\' class=\\'g-Layer_1 g-aiAbs\\' style=\\'top:49.5712%;left:17.7327%;\\'>\\n\\t\\t\\t\\t<p class=\\'g-aiPstyle2\\'>15</p>\\n\\t\\t\\t</div>\\n\\t\\t\\t<div id=\\'g-ai1-19\\' class=\\'g-Layer_1 g-aiAbs\\' style=\\'top:49.5712%;left:31.4842%;\\'>\\n\\t\\t\\t\\t<p class=\\'g-aiPstyle2\\'>16</p>\\n\\t\\t\\t</div>\\n\\t\\t\\t<div id=\\'g-ai1-20\\' class=\\'g-Layer_1 g-aiAbs\\' style=\\'top:49.5712%;left:45.2357%;\\'>\\n\\t\\t\\t\\t<p class=\\'g-aiPstyle2\\'>17</p>\\n\\t\\t\\t</div>\\n\\t\\t\\t<div id=\\'g-ai1-21\\' class=\\'g-Layer_1 g-aiAbs\\' style=\\'top:52.3156%;left:63.8717%;width:32.4615%;\\'>\\n\\t\\t\\t\\t<p class=\\'g-aiPstyle0\\'>Special counsel appointed in investigation of Russia&rsquo;s ties to the Trump campaign</p>\\n\\t\\t\\t</div>\\n\\t\\t\\t<div id=\\'g-ai1-22\\' class=\\'g-Layer_1 g-aiAbs\\' style=\\'top:62.0926%;left:7.6667%;width:49.8793%;\\'>\\n\\t\\t\\t\\t<p class=\\'g-aiPstyle0\\'>New York Times reports Trump hoped Comey would &ldquo;let this go,&rdquo; referring to the Flynn investigation</p>\\n\\t\\t\\t</div>\\n\\t\\t\\t<div id=\\'g-ai1-23\\' class=\\'g-Layer_1 g-aiAbs\\' style=\\'top:73.4134%;left:58.3415%;\\'>\\n\\t\\t\\t\\t<p class=\\'g-aiPstyle2\\'>18</p>\\n\\t\\t\\t</div>\\n\\t\\t\\t<div id=\\'g-ai1-24\\' class=\\'g-Layer_1 g-aiAbs\\' style=\\'top:73.4134%;left:72.0934%;\\'>\\n\\t\\t\\t\\t<p class=\\'g-aiPstyle2\\'>19</p>\\n\\t\\t\\t</div>\\n\\t\\t\\t<div id=\\'g-ai1-25\\' class=\\'g-Layer_1 g-aiAbs\\' style=\\'top:73.4134%;left:85.974%;\\'>\\n\\t\\t\\t\\t<p class=\\'g-aiPstyle2\\'>20</p>\\n\\t\\t\\t</div>\\n\\t\\t\\t<div id=\\'g-ai1-26\\' class=\\'g-Layer_1 g-aiAbs\\' style=\\'top:80.2744%;left:3.3354%;\\'>\\n\\t\\t\\t\\t<p class=\\'g-aiPstyle2\\'>21</p>\\n\\t\\t\\t</div>\\n\\t\\t\\t<div id=\\'g-ai1-27\\' class=\\'g-Layer_1 g-aiAbs\\' style=\\'top:80.2744%;left:17.0871%;\\'>\\n\\t\\t\\t\\t<p class=\\'g-aiPstyle2\\'>22</p>\\n\\t\\t\\t</div>\\n\\t\\t\\t<div id=\\'g-ai1-28\\' class=\\'g-Layer_1 g-aiAbs\\' style=\\'top:80.2744%;left:30.8387%;\\'>\\n\\t\\t\\t\\t<p class=\\'g-aiPstyle2\\'>23</p>\\n\\t\\t\\t</div>\\n\\t\\t\\t<div id=\\'g-ai1-29\\' class=\\'g-Layer_1 g-aiAbs\\' style=\\'top:80.2744%;left:44.5902%;\\'>\\n\\t\\t\\t\\t<p class=\\'g-aiPstyle2\\'>24</p>\\n\\t\\t\\t</div>\\n\\t\\t\\t<div id=\\'g-ai1-30\\' class=\\'g-Layer_1 g-aiAbs\\' style=\\'top:80.2744%;left:58.3415%;\\'>\\n\\t\\t\\t\\t<p class=\\'g-aiPstyle2\\'>25</p>\\n\\t\\t\\t</div>\\n\\t\\t\\t<div id=\\'g-ai1-31\\' class=\\'g-Layer_1 g-aiAbs\\' style=\\'top:80.2744%;left:72.0934%;\\'>\\n\\t\\t\\t\\t<p class=\\'g-aiPstyle2\\'>26</p>\\n\\t\\t\\t</div>\\n\\t\\t\\t<div id=\\'g-ai1-32\\' class=\\'g-Layer_1 g-aiAbs\\' style=\\'top:80.2744%;left:85.974%;\\'>\\n\\t\\t\\t\\t<p class=\\'g-aiPstyle2\\'>27</p>\\n\\t\\t\\t</div>\\n\\t\\t\\t<div id=\\'g-ai1-33\\' class=\\'g-Layer_1 g-aiAbs\\' style=\\'top:87.6501%;left:3.3354%;\\'>\\n\\t\\t\\t\\t<p class=\\'g-aiPstyle2\\'>28</p>\\n\\t\\t\\t</div>\\n\\t\\t\\t<div id=\\'g-ai1-34\\' class=\\'g-Layer_1 g-aiAbs\\' style=\\'top:87.6501%;left:17.0871%;\\'>\\n\\t\\t\\t\\t<p class=\\'g-aiPstyle2\\'>29</p>\\n\\t\\t\\t</div>\\n\\t\\t\\t<div id=\\'g-ai1-35\\' class=\\'g-Layer_1 g-aiAbs\\' style=\\'top:87.6501%;left:30.8387%;\\'>\\n\\t\\t\\t\\t<p class=\\'g-aiPstyle2\\'>30</p>\\n\\t\\t\\t</div>\\n\\t\\t\\t<div id=\\'g-ai1-36\\' class=\\'g-Layer_1 g-aiAbs\\' style=\\'top:87.6501%;left:44.5902%;\\'>\\n\\t\\t\\t\\t<p class=\\'g-aiPstyle2\\'>31</p>\\n\\t\\t\\t</div>\\n\\t\\t\\t<div id=\\'g-ai1-37\\' class=\\'g-Layer_1 g-aiAbs\\' style=\\'top:89.7084%;left:71.3844%;\\'>\\n\\t\\t\\t\\t<p class=\\'g-aiPstyle0\\'>Trump&rsquo;s trip</p>\\n\\t\\t\\t\\t<p class=\\'g-aiPstyle0\\'>overseas</p>\\n\\t\\t\\t</div>\\n\\t\\t</div>\\n\\t</div>\\n\\n\\n\\t\\n<script type=\"text/javascript\">\\n    (function() {\\n        // only want one resizer on the page\\n        if (document.documentElement.className.indexOf(\"g-resizer-v3-init\") > -1) return;\\n        document.documentElement.className += \" g-resizer-v3-init\";\\n        // require IE9+\\n        if (!(\"querySelector\" in document)) return;\\n        function resizer() {\\n            var elements = Array.prototype.slice.call(document.querySelectorAll(\".g-artboard-v3[data-min-width]\")),\\n                widthById = {};\\n            elements.forEach(function(el) {\\n                var parent = el.parentNode,\\n                    width = Math.round(widthById[parent.id]) || Math.round(parent.getBoundingClientRect().width),\\n                    minwidth = el.getAttribute(\"data-min-width\"),\\n                    maxwidth = el.getAttribute(\"data-max-width\");\\n                widthById[parent.id] = width;\\n\\n                if (+minwidth <= width && (+maxwidth >= width || maxwidth === null)) {\\n                    var img = el.querySelector(\\'.g-aiImg\\');\\n                    if (img.getAttribute(\\'data-src\\') && img.getAttribute(\\'src\\') != img.getAttribute(\\'data-src\\')) {\\n                        img.setAttribute(\\'src\\', img.getAttribute(\\'data-src\\'));\\n                    }\\n                    el.style.display = \"block\";\\n                } else {\\n                    el.style.display = \"none\";\\n                }\\n            });\\n            try {\\n                if (window.parent && window.parent.$) {\\n                    window.parent.$(\"body\").trigger(\"resizedcontent\", [window]);\\n                }\\n                document.documentElement.dispatchEvent(new Event(\\'resizedcontent\\'));\\n                if (window.require && document.querySelector(\\'meta[name=sourceApp]\\') && document.querySelector(\\'meta[name=sourceApp]\\').content == \\'nyt-v5\\') {\\n                    require([\\'foundation/main\\'], function() {\\n                        require([\\'shared/interactive/instances/app-communicator\\'], function(AppCommunicator) {\\n                            AppCommunicator.triggerResize();\\n                        });\\n                    });\\n                }\\n            } catch(e) { console.log(e); }\\n        }\\n\\n        resizer();\\n        document.addEventListener(\\'DOMContentLoaded\\', resizer);\\n        // feel free to replace throttle with _.throttle, if available\\n        window.addEventListener(\\'resize\\', throttle(resizer, 200));        \\n\\n        function throttle(func, wait) {\\n            // from underscore.js\\n            var _now = Date.now || function() { return new Date().getTime(); },\\n                context, args, result, timeout = null, previous = 0;\\n            var later = function() {\\n                previous = _now();\\n                timeout = null;\\n                result = func.apply(context, args);\\n                if (!timeout) context = args = null;\\n            };\\n            return function() {\\n                var now = _now(), remaining = wait - (now - previous);\\n                context = this;\\n                args = arguments;\\n                if (remaining <= 0 || remaining > wait) {\\n                    if (timeout) {\\n                        clearTimeout(timeout);\\n                        timeout = null;\\n                    }\\n                    previous = now;\\n                    result = func.apply(context, args);\\n                    if (!timeout) context = args = null;\\n                } else if (!timeout) {\\n                    timeout = setTimeout(later, remaining);\\n                }\\n                return result;\\n            };\\n        }\\n\\n       \\n    })();\\n</script>\\n\\n\\t<!-- End ai2html - 2017-06-23 - 11:10 -->\\n</div>\\n \\n\\n\\n\\n</div>\\n\\n\\n    </div>\\n\\n    \\n\\n    \\n      <div class=\"g-item g-subhed \">\\n    \\n\\n      <h2>Trump’s Public Lies Sometimes Changed With Repetition</h2>\\n\\n\\n    </div>\\n\\n    \\n\\n    \\n      <div class=\"g-item g-text \">\\n    \\n\\n      <p class=\"g-body\">Sometimes, Trump can’t even keep his untruths straight. After he reversed a campaign pledge and declined to label China a currency manipulator, he kept changing his description of when China had stopped the bad behavior. Initially, he said it stopped once he took office.  He then changed the turning point to the election, then to since he started talking about it, and then to some uncertain point in the distant past.</p>\\n\\n\\n    </div>\\n\\n    \\n\\n    \\n      <div class=\"g-item g-subhed center\">\\n    \\n\\n      <h2>When Trump said China stopped manipulating its currency</h2>\\n\\n\\n    </div>\\n\\n    \\n\\n    \\n      <div class=\"g-item g-graphic \">\\n    \\n\\n      <div class=\"g-item-ai2html\" style=\"\">\\n\\n\\n\\n\\n\\n<div id=\\'g-timeline-box\\' class=\\'ai2html\\'>\\n\\t<!-- Generated by ai2html v0.64 - 2017-06-23 - 10:33 -->\\n\\t<!-- ai file: timeline -->\\n\\t<!-- preview: 2017-05-18-opinion-trump-lies -->\\n\\t<!-- scoop  : \"trumps-lies\" -->\\n\\n\\t<style type=\\'text/css\\' media=\\'screen,print\\'>\\n\\t\\t.g-artboard {\\n\\t\\t\\tmargin:0 auto;\\n\\t\\t}\\n\\t</style>\\n\\n\\n\\t<!-- Artboard: Artboard_1 -->\\n\\t<div id=\\'g-timeline-Artboard_1\\' class=\\'g-artboard g-artboard-v3 \\' data-min-width=\\'300\\'>\\n\\t\\t<style type=\\'text/css\\' media=\\'screen,print\\'>\\n\\t\\t\\t#g-timeline-Artboard_1{\\n\\t\\t\\t\\tposition:relative;\\n\\t\\t\\t\\toverflow:hidden;\\n\\t\\t\\t\\twidth:300px;\\n\\t\\t\\t}\\n\\t\\t\\t.g-aiAbs{\\n\\t\\t\\t\\tposition:absolute;\\n\\t\\t\\t}\\n\\t\\t\\t.g-aiImg{\\n\\t\\t\\t\\tdisplay:block;\\n\\t\\t\\t\\twidth:100% !important;\\n\\t\\t\\t}\\n\\t\\t\\t#g-timeline-Artboard_1 p{\\n\\t\\t\\t\\tfont-family:nyt-franklin,arial,helvetica,sans-serif;\\n\\t\\t\\t\\tfont-size:13px;\\n\\t\\t\\t\\tline-height:18px;\\n\\t\\t\\t\\tmargin:0;\\n\\t\\t\\t}\\n\\t\\t\\t#g-timeline-Artboard_1 .g-aiPstyle0 {\\n\\t\\t\\t\\tfont-size:12px;\\n\\t\\t\\t\\tline-height:14px;\\n\\t\\t\\t\\tfont-weight:700;\\n\\t\\t\\t\\ttext-transform:uppercase;\\n\\t\\t\\t\\tletter-spacing:0.08333333333333em;\\n\\t\\t\\t\\tcolor:#000000;\\n\\t\\t\\t}\\n\\t\\t\\t#g-timeline-Artboard_1 .g-aiPstyle1 {\\n\\t\\t\\t\\tfont-size:20px;\\n\\t\\t\\t\\tline-height:24px;\\n\\t\\t\\t\\tfont-weight:300;\\n\\t\\t\\t\\tcolor:#000000;\\n\\t\\t\\t}\\n\\t\\t\\t.g-aiPtransformed p { white-space: nowrap; }\\n\\t\\t</style>\\n\\t\\t<div id=\\'g-timeline-Artboard_1-graphic\\'>\\n\\t\\t\\t<img id=\\'g-ai0-0\\'\\n\\t\\t\\t\\tclass=\\'g-aiImg\\'\\n\\t\\t\\t\\tsrc=\\'https://static01.nyt.com/newsgraphics/2017/05/18/opinion-trump-lies/368b0bb8fea312b755ab259f5d7385117b2fd009/timeline-Artboard_1.png\\'\\n\\t\\t\\t\\t/>\\n\\t\\t\\t<div id=\\'g-ai0-1\\' class=\\'g-Layer_1 g-aiAbs\\' style=\\'top:1.4458%;left:8.3174%;width:91.6667%;\\'>\\n\\t\\t\\t\\t<p class=\\'g-aiPstyle0\\'>April 21</p>\\n\\t\\t\\t\\t<p class=\\'g-aiPstyle1\\'>&ldquo;from the time I took office&rdquo;</p>\\n\\t\\t\\t\\t<p>&nbsp;</p>\\n\\t\\t\\t\\t<p>&nbsp;</p>\\n\\t\\t\\t\\t<p>&nbsp;</p>\\n\\t\\t\\t\\t<p>&nbsp;</p>\\n\\t\\t\\t\\t<p>&nbsp;</p>\\n\\t\\t\\t</div>\\n\\t\\t\\t<div id=\\'g-ai0-2\\' class=\\'g-Layer_1 g-aiAbs\\' style=\\'top:16.8675%;left:8.3014%;\\'>\\n\\t\\t\\t\\t<p>&nbsp;</p>\\n\\t\\t\\t\\t<p class=\\'g-aiPstyle0\\'>April 29</p>\\n\\t\\t\\t\\t<p class=\\'g-aiPstyle1\\'>&ldquo;during the election&rdquo;</p>\\n\\t\\t\\t</div>\\n\\t\\t\\t<div id=\\'g-ai0-3\\' class=\\'g-Layer_1 g-aiAbs\\' style=\\'top:40.7229%;left:7.984%;width:84.3333%;\\'>\\n\\t\\t\\t\\t<p class=\\'g-aiPstyle0\\'>April 30</p>\\n\\t\\t\\t\\t<p class=\\'g-aiPstyle1\\'>&ldquo;as soon as I got elected&rdquo;</p>\\n\\t\\t\\t\\t<p>&nbsp;</p>\\n\\t\\t\\t</div>\\n\\t\\t\\t<div id=\\'g-ai0-4\\' class=\\'g-Layer_1 g-aiAbs\\' style=\\'top:56.1446%;left:7.8888%;width:81.4444%;\\'>\\n\\t\\t\\t\\t<p>&nbsp;</p>\\n\\t\\t\\t\\t<p class=\\'g-aiPstyle0\\'>May 1</p>\\n\\t\\t\\t\\t<p class=\\'g-aiPstyle1\\'>&ldquo;since I started running&rdquo;</p>\\n\\t\\t\\t\\t<p>&nbsp;</p>\\n\\t\\t\\t</div>\\n\\t\\t\\t<div id=\\'g-ai0-5\\' class=\\'g-Layer_1 g-aiAbs\\' style=\\'top:80%;left:7.7778%;width:92.2222%;\\'>\\n\\t\\t\\t\\t<p class=\\'g-aiPstyle0\\'>MAY 4</p>\\n\\t\\t\\t\\t<p class=\\'g-aiPstyle1\\'>&ldquo;since I&rsquo;ve been talking about</p>\\n\\t\\t\\t\\t<p class=\\'g-aiPstyle1\\'>currency manipulation&rdquo;</p>\\n\\t\\t\\t</div>\\n\\t\\t</div>\\n\\t</div>\\n\\n\\n\\t\\n<script type=\"text/javascript\">\\n    (function() {\\n        // only want one resizer on the page\\n        if (document.documentElement.className.indexOf(\"g-resizer-v3-init\") > -1) return;\\n        document.documentElement.className += \" g-resizer-v3-init\";\\n        // require IE9+\\n        if (!(\"querySelector\" in document)) return;\\n        function resizer() {\\n            var elements = Array.prototype.slice.call(document.querySelectorAll(\".g-artboard-v3[data-min-width]\")),\\n                widthById = {};\\n            elements.forEach(function(el) {\\n                var parent = el.parentNode,\\n                    width = Math.round(widthById[parent.id]) || Math.round(parent.getBoundingClientRect().width),\\n                    minwidth = el.getAttribute(\"data-min-width\"),\\n                    maxwidth = el.getAttribute(\"data-max-width\");\\n                widthById[parent.id] = width;\\n\\n                if (+minwidth <= width && (+maxwidth >= width || maxwidth === null)) {\\n                    var img = el.querySelector(\\'.g-aiImg\\');\\n                    if (img.getAttribute(\\'data-src\\') && img.getAttribute(\\'src\\') != img.getAttribute(\\'data-src\\')) {\\n                        img.setAttribute(\\'src\\', img.getAttribute(\\'data-src\\'));\\n                    }\\n                    el.style.display = \"block\";\\n                } else {\\n                    el.style.display = \"none\";\\n                }\\n            });\\n            try {\\n                if (window.parent && window.parent.$) {\\n                    window.parent.$(\"body\").trigger(\"resizedcontent\", [window]);\\n                }\\n                document.documentElement.dispatchEvent(new Event(\\'resizedcontent\\'));\\n                if (window.require && document.querySelector(\\'meta[name=sourceApp]\\') && document.querySelector(\\'meta[name=sourceApp]\\').content == \\'nyt-v5\\') {\\n                    require([\\'foundation/main\\'], function() {\\n                        require([\\'shared/interactive/instances/app-communicator\\'], function(AppCommunicator) {\\n                            AppCommunicator.triggerResize();\\n                        });\\n                    });\\n                }\\n            } catch(e) { console.log(e); }\\n        }\\n\\n        resizer();\\n        document.addEventListener(\\'DOMContentLoaded\\', resizer);\\n        // feel free to replace throttle with _.throttle, if available\\n        window.addEventListener(\\'resize\\', throttle(resizer, 200));        \\n\\n        function throttle(func, wait) {\\n            // from underscore.js\\n            var _now = Date.now || function() { return new Date().getTime(); },\\n                context, args, result, timeout = null, previous = 0;\\n            var later = function() {\\n                previous = _now();\\n                timeout = null;\\n                result = func.apply(context, args);\\n                if (!timeout) context = args = null;\\n            };\\n            return function() {\\n                var now = _now(), remaining = wait - (now - previous);\\n                context = this;\\n                args = arguments;\\n                if (remaining <= 0 || remaining > wait) {\\n                    if (timeout) {\\n                        clearTimeout(timeout);\\n                        timeout = null;\\n                    }\\n                    previous = now;\\n                    result = func.apply(context, args);\\n                    if (!timeout) context = args = null;\\n                } else if (!timeout) {\\n                    timeout = setTimeout(later, remaining);\\n                }\\n                return result;\\n            };\\n        }\\n\\n       \\n    })();\\n</script>\\n\\n\\t<!-- End ai2html - 2017-06-23 - 10:33 -->\\n</div>\\n \\n\\n\\n\\n</div>\\n\\n\\n    </div>\\n\\n    \\n\\n    \\n      <div class=\"g-item g-subhed \">\\n    \\n\\n      <h2>The Public’s Mistrust of Trump Grows</h2>\\n\\n\\n    </div>\\n\\n    \\n\\n    \\n      <div class=\"g-item g-text \">\\n    \\n\\n      <p class=\"g-body\">Trump has retained the support of most of his voters as well as the Republican leadership in Congress. But he has still paid some price for his lies.  Nearly 60 percent of Americans say the president is not honest, polls show, up from about 53 percent when he took office.</p>\\n\\n\\n    </div>\\n\\n    \\n\\n    \\n      <div class=\"g-item g-graphic \">\\n    \\n\\n      <div class=\"g-item-ai2html\" style=\"\">\\n\\n\\n\\n\\n\\n<!-- SCOOP CSS -->\\n<!-- Generated by ai2html v0.65.4 - 2017-12-13 16:26 -->\\n<!-- ai file: trustworthiness.ai -->\\n<!-- preview: 2017-05-18-opinion-trump-lies -->\\n<!-- scoop: trumps-lies -->\\n<style type=\\'text/css\\' media=\\'screen,print\\'>\\n\\t#g-trustworthiness-box .g-artboard {\\n\\t\\tmargin:0 auto;\\n\\t}\\n\\t#g-trustworthiness-box .g-artboard p {\\n\\t\\tmargin:0;\\n\\t}\\n\\t.g-aiAbs {\\n\\t\\tposition:absolute;\\n\\t}\\n\\t.g-aiImg {\\n\\t\\tdisplay:block;\\n\\t\\twidth:100% !important;\\n\\t}\\n\\t.g-aiPointText p { white-space: nowrap; }\\n\\t#g-trustworthiness-Artboard_1 {\\n\\t\\tposition:relative;\\n\\t\\toverflow:hidden;\\n\\t\\twidth:540px;\\n\\t}\\n\\t#g-trustworthiness-Artboard_1 p {\\n\\t\\tfont-family:nyt-franklin,arial,helvetica,sans-serif;\\n\\t\\tfont-weight:500;\\n\\t\\tfont-size:10px;\\n\\t\\tline-height:12px;\\n\\t\\tfilter:alpha(opacity=100);\\n\\t\\t-ms-filter:progid:DXImageTransform.Microsoft.Alpha(Opacity=100);\\n\\t\\topacity:1;\\n\\t\\tletter-spacing:0.025em;\\n\\t\\ttext-align:left;\\n\\t\\ttext-transform:none;\\n\\t\\tcolor:rgb(115,115,115);\\n\\t\\tpadding-bottom:0;\\n\\t\\tpadding-top:0;\\n\\t\\tmix-blend-mode:normal;\\n\\t\\tfont-style:normal;\\n\\t}\\n\\t#g-trustworthiness-Artboard_1 .g-pstyle0 {\\n\\t\\tfont-family:nyt-cheltenham,georgia,\\'times new roman\\',times,serif;\\n\\t\\tfont-weight:700;\\n\\t\\tfont-size:18px;\\n\\t\\tline-height:20px;\\n\\t\\tletter-spacing:0em;\\n\\t\\tcolor:rgb(26,26,26);\\n\\t}\\n\\t#g-trustworthiness-Artboard_1 .g-pstyle1 {\\n\\t\\ttext-align:right;\\n\\t\\ttext-transform:uppercase;\\n\\t}\\n\\t#g-trustworthiness-Artboard_1 .g-pstyle2 {\\n\\t\\tfont-weight:300;\\n\\t\\tfont-size:12px;\\n\\t\\tline-height:14px;\\n\\t\\tletter-spacing:0em;\\n\\t\\tcolor:rgb(0,0,0);\\n\\t}\\n\\t#g-trustworthiness-Artboard_1 .g-pstyle3 {\\n\\t\\ttext-align:center;\\n\\t\\ttext-transform:uppercase;\\n\\t}\\n\\t#g-trustworthiness-Artboard_1 .g-pstyle4 {\\n\\t\\tfont-weight:300;\\n\\t\\tfont-size:12px;\\n\\t\\tline-height:15px;\\n\\t\\tletter-spacing:0em;\\n\\t\\tcolor:rgb(94,95,94);\\n\\t}\\n\\t#g-trustworthiness-Artboard_2 {\\n\\t\\tposition:relative;\\n\\t\\toverflow:hidden;\\n\\t\\twidth:300px;\\n\\t}\\n\\t#g-trustworthiness-Artboard_2 p {\\n\\t\\tfont-family:nyt-cheltenham,georgia,\\'times new roman\\',times,serif;\\n\\t\\tfont-weight:700;\\n\\t\\tfont-size:18px;\\n\\t\\tline-height:20px;\\n\\t\\tfilter:alpha(opacity=100);\\n\\t\\t-ms-filter:progid:DXImageTransform.Microsoft.Alpha(Opacity=100);\\n\\t\\topacity:1;\\n\\t\\tletter-spacing:0em;\\n\\t\\ttext-align:left;\\n\\t\\tcolor:rgb(26,26,26);\\n\\t\\ttext-transform:none;\\n\\t\\tpadding-bottom:0;\\n\\t\\tpadding-top:0;\\n\\t\\tmix-blend-mode:normal;\\n\\t\\tfont-style:normal;\\n\\t}\\n\\t#g-trustworthiness-Artboard_2 .g-pstyle0 {\\n\\t\\tfont-family:nyt-franklin,arial,helvetica,sans-serif;\\n\\t\\tfont-weight:500;\\n\\t\\tfont-size:10px;\\n\\t\\tline-height:12px;\\n\\t\\tletter-spacing:0.025em;\\n\\t\\ttext-align:right;\\n\\t\\ttext-transform:uppercase;\\n\\t\\tcolor:rgb(115,115,115);\\n\\t}\\n\\t#g-trustworthiness-Artboard_2 .g-pstyle1 {\\n\\t\\tfont-family:nyt-franklin,arial,helvetica,sans-serif;\\n\\t\\tfont-weight:300;\\n\\t\\tfont-size:12px;\\n\\t\\tline-height:14px;\\n\\t\\tcolor:rgb(0,0,0);\\n\\t}\\n\\t#g-trustworthiness-Artboard_2 .g-pstyle2 {\\n\\t\\tfont-family:nyt-franklin,arial,helvetica,sans-serif;\\n\\t\\tfont-weight:500;\\n\\t\\tfont-size:10px;\\n\\t\\tline-height:12px;\\n\\t\\tletter-spacing:0.025em;\\n\\t\\ttext-align:center;\\n\\t\\ttext-transform:uppercase;\\n\\t\\tcolor:rgb(115,115,115);\\n\\t}\\n\\t#g-trustworthiness-Artboard_2 .g-pstyle3 {\\n\\t\\tfont-family:nyt-franklin,arial,helvetica,sans-serif;\\n\\t\\tfont-weight:300;\\n\\t\\tfont-size:12px;\\n\\t\\tline-height:15px;\\n\\t\\tcolor:rgb(94,95,94);\\n\\t}\\n\\n</style>\\n\\n<!-- SCOOP HTML -->\\n<!-- Generated by ai2html v0.65.4 - 2017-12-13 16:26 -->\\n<!-- ai file: trustworthiness.ai -->\\n<!-- preview: 2017-05-18-opinion-trump-lies -->\\n<!-- scoop: trumps-lies -->\\n<div id=\"g-trustworthiness-box\" class=\"ai2html\">\\n\\n\\t<!-- Artboard: Artboard_1 -->\\n\\t<div id=\"g-trustworthiness-Artboard_1\" class=\"g-artboard g-artboard-v3\" data-min-width=\\'540\\'>\\n\\t\\t<img id=\"g-ai0-0\" class=\"g-aiImg\" data-src=\"https://static01.nyt.com/newsgraphics/2017/05/18/opinion-trump-lies/368b0bb8fea312b755ab259f5d7385117b2fd009/trustworthiness-Artboard_1.png\" src=\"data:image/gif;base64,R0lGODlhCgAKAIAAAB8fHwAAACH5BAEAAAAALAAAAAAKAAoAAAIIhI+py+0PYysAOw==\"/>\\n\\t\\t<div id=\"g-ai0-1\" class=\"g-Layer_1 g-aiAbs\" style=\"top:0.2876%;left:-0.0059%;width:98.7037%;\">\\n\\t\\t\\t<p class=\"g-pstyle0\">Would you say Donald Trump is honest?</p>\\n\\t\\t</div>\\n\\t\\t<div id=\"g-ai0-2\" class=\"g-ai2html-settings g-aiAbs g-aiPointText\" style=\"top:12.9949%;margin-top:-6.2px;right:95.3106%;width:23px;\">\\n\\t\\t\\t<p class=\"g-pstyle1\">60%</p>\\n\\t\\t</div>\\n\\t\\t<div id=\"g-ai0-3\" class=\"g-ai2html-settings g-aiAbs g-aiPointText\" style=\"top:16.4566%;margin-top:-7.2px;left:95.8979%;width:16px;\">\\n\\t\\t\\t<p class=\"g-pstyle2\">No</p>\\n\\t\\t</div>\\n\\t\\t<div id=\"g-ai0-4\" class=\"g-ai2html-settings g-aiAbs g-aiPointText\" style=\"top:30.5363%;margin-top:-6.2px;right:95.3477%;width:14px;\">\\n\\t\\t\\t<p class=\"g-pstyle1\">50</p>\\n\\t\\t</div>\\n\\t\\t<div id=\"g-ai0-5\" class=\"g-Layer_1 g-aiAbs g-aiPointText\" style=\"top:35.7233%;margin-top:-7.2px;left:25.9511%;width:65px;\">\\n\\t\\t\\t<p class=\"g-pstyle2\">Inauguration</p>\\n\\t\\t</div>\\n\\t\\t<div id=\"g-ai0-6\" class=\"g-ai2html-settings g-aiAbs g-aiPointText\" style=\"top:48.0776%;margin-top:-6.2px;right:95.3477%;width:14px;\">\\n\\t\\t\\t<p class=\"g-pstyle1\">40</p>\\n\\t\\t</div>\\n\\t\\t<div id=\"g-ai0-7\" class=\"g-ai2html-settings g-aiAbs g-aiPointText\" style=\"top:53.2646%;margin-top:-7.2px;left:95.8957%;width:20px;\">\\n\\t\\t\\t<p class=\"g-pstyle2\">Yes</p>\\n\\t\\t</div>\\n\\t\\t<div id=\"g-ai0-8\" class=\"g-ai2html-settings g-aiAbs g-aiPointText\" style=\"top:65.619%;margin-top:-6.2px;right:95.3477%;width:14px;\">\\n\\t\\t\\t<p class=\"g-pstyle1\">30</p>\\n\\t\\t</div>\\n\\t\\t<div id=\"g-ai0-9\" class=\"g-ai2html-settings g-aiAbs g-aiPointText\" style=\"top:83.1603%;margin-top:-6.2px;right:95.3477%;width:14px;\">\\n\\t\\t\\t<p class=\"g-pstyle1\">20</p>\\n\\t\\t</div>\\n\\t\\t<div id=\"g-ai0-10\" class=\"g-ai2html-settings g-aiAbs g-aiPointText\" style=\"top:88.0489%;margin-top:-6.2px;left:8.1113%;margin-left:-2.037%;width:24px;\">\\n\\t\\t\\t<p class=\"g-pstyle3\">Dec.</p>\\n\\t\\t</div>\\n\\t\\t<div id=\"g-ai0-11\" class=\"g-ai2html-settings g-aiAbs g-aiPointText\" style=\"top:88.0489%;margin-top:-6.2px;left:15.4653%;margin-left:-2.2222%;width:26px;\">\\n\\t\\t\\t<p class=\"g-pstyle3\">2017</p>\\n\\t\\t</div>\\n\\t\\t<div id=\"g-ai0-12\" class=\"g-ai2html-settings g-aiAbs g-aiPointText\" style=\"top:88.0489%;margin-top:-6.2px;left:23.7262%;margin-left:-1.9444%;width:23px;\">\\n\\t\\t\\t<p class=\"g-pstyle3\">Feb.</p>\\n\\t\\t</div>\\n\\t\\t<div id=\"g-ai0-13\" class=\"g-ai2html-settings g-aiAbs g-aiPointText\" style=\"top:88.0489%;margin-top:-6.2px;left:30.5507%;margin-left:-2.2222%;width:26px;\">\\n\\t\\t\\t<p class=\"g-pstyle3\">Mar.</p>\\n\\t\\t</div>\\n\\t\\t<div id=\"g-ai0-14\" class=\"g-ai2html-settings g-aiAbs g-aiPointText\" style=\"top:88.0489%;margin-top:-6.2px;left:38.3143%;margin-left:-2.5%;width:29px;\">\\n\\t\\t\\t<p class=\"g-pstyle3\">April</p>\\n\\t\\t</div>\\n\\t\\t<div id=\"g-ai0-15\" class=\"g-ai2html-settings g-aiAbs g-aiPointText\" style=\"top:88.0489%;margin-top:-6.2px;left:45.9075%;margin-left:-1.8519%;width:22px;\">\\n\\t\\t\\t<p class=\"g-pstyle3\">May</p>\\n\\t\\t</div>\\n\\t\\t<div id=\"g-ai0-16\" class=\"g-ai2html-settings g-aiAbs g-aiPointText\" style=\"top:88.0489%;margin-top:-6.2px;left:53.4225%;margin-left:-2.2222%;width:26px;\">\\n\\t\\t\\t<p class=\"g-pstyle3\">June</p>\\n\\t\\t</div>\\n\\t\\t<div id=\"g-ai0-17\" class=\"g-ai2html-settings g-aiAbs g-aiPointText\" style=\"top:88.0489%;margin-top:-6.2px;left:61.3256%;margin-left:-1.9444%;width:23px;\">\\n\\t\\t\\t<p class=\"g-pstyle3\">July</p>\\n\\t\\t</div>\\n\\t\\t<div id=\"g-ai0-18\" class=\"g-ai2html-settings g-aiAbs g-aiPointText\" style=\"top:88.0489%;margin-top:-6.2px;left:68.733%;margin-left:-2.1296%;width:25px;\">\\n\\t\\t\\t<p class=\"g-pstyle3\">Aug.</p>\\n\\t\\t</div>\\n\\t\\t<div id=\"g-ai0-19\" class=\"g-ai2html-settings g-aiAbs g-aiPointText\" style=\"top:88.0489%;margin-top:-6.2px;left:76.3419%;margin-left:-1.7593%;width:21px;\">\\n\\t\\t\\t<p class=\"g-pstyle3\">Sep.</p>\\n\\t\\t</div>\\n\\t\\t<div id=\"g-ai0-20\" class=\"g-ai2html-settings g-aiAbs g-aiPointText\" style=\"top:88.0489%;margin-top:-6.2px;left:84.0898%;margin-left:-1.9444%;width:23px;\">\\n\\t\\t\\t<p class=\"g-pstyle3\">Oct.</p>\\n\\t\\t</div>\\n\\t\\t<div id=\"g-ai0-21\" class=\"g-ai2html-settings g-aiAbs g-aiPointText\" style=\"top:88.0489%;margin-top:-6.2px;left:91.6746%;margin-left:-2.037%;width:24px;\">\\n\\t\\t\\t<p class=\"g-pstyle3\">Nov.</p>\\n\\t\\t</div>\\n\\t\\t<div id=\"g-ai0-22\" class=\"g-Layer_1 g-aiAbs\" style=\"top:96.046%;left:0.169%;width:81.1111%;\">\\n\\t\\t\\t<p class=\"g-pstyle4\">Source: Quinnipiac</p>\\n\\t\\t</div>\\n\\t</div>\\n\\n\\t<!-- Artboard: Artboard_2 -->\\n\\t<div id=\"g-trustworthiness-Artboard_2\" class=\"g-artboard g-artboard-v3\" data-min-width=\\'300\\' data-max-width=\\'539\\'>\\n\\t\\t<img id=\"g-ai1-0\" class=\"g-aiImg\" data-src=\"https://static01.nyt.com/newsgraphics/2017/05/18/opinion-trump-lies/368b0bb8fea312b755ab259f5d7385117b2fd009/trustworthiness-Artboard_2.png\" src=\"data:image/gif;base64,R0lGODlhCgAKAIAAAB8fHwAAACH5BAEAAAAALAAAAAAKAAoAAAIIhI+py+0PYysAOw==\"/>\\n\\t\\t<div id=\"g-ai1-1\" class=\"g-Layer_1 g-aiAbs\" style=\"top:0.2641%;left:0.064%;width:99.3333%;\">\\n\\t\\t\\t<p>Would you say Donald Trump is honest?</p>\\n\\t\\t</div>\\n\\t\\t<div id=\"g-ai1-2\" class=\"g-ai2html-settings g-aiAbs g-aiPointText\" style=\"top:12.198%;margin-top:-6.2px;right:93.1152%;width:23px;\">\\n\\t\\t\\t<p class=\"g-pstyle0\">60%</p>\\n\\t\\t</div>\\n\\t\\t<div id=\"g-ai1-3\" class=\"g-ai2html-settings g-aiAbs g-aiPointText\" style=\"top:15.113%;margin-top:-7.2px;left:93.5521%;width:16px;\">\\n\\t\\t\\t<p class=\"g-pstyle1\">No</p>\\n\\t\\t</div>\\n\\t\\t<div id=\"g-ai1-4\" class=\"g-ai2html-settings g-aiAbs g-aiPointText\" style=\"top:28.3072%;margin-top:-6.2px;right:93.182%;width:14px;\">\\n\\t\\t\\t<p class=\"g-pstyle0\">50</p>\\n\\t\\t</div>\\n\\t\\t<div id=\"g-ai1-5\" class=\"g-Layer_1 g-aiAbs g-aiPointText\" style=\"top:33.0708%;margin-top:-7.2px;left:30.8696%;width:65px;\">\\n\\t\\t\\t<p class=\"g-pstyle1\">Inauguration</p>\\n\\t\\t</div>\\n\\t\\t<div id=\"g-ai1-6\" class=\"g-ai2html-settings g-aiAbs g-aiPointText\" style=\"top:44.4164%;margin-top:-6.2px;right:93.182%;width:14px;\">\\n\\t\\t\\t<p class=\"g-pstyle0\">40</p>\\n\\t\\t</div>\\n\\t\\t<div id=\"g-ai1-7\" class=\"g-ai2html-settings g-aiAbs g-aiPointText\" style=\"top:49.1799%;margin-top:-7.2px;left:93.2145%;width:20px;\">\\n\\t\\t\\t<p class=\"g-pstyle1\">Yes</p>\\n\\t\\t</div>\\n\\t\\t<div id=\"g-ai1-8\" class=\"g-ai2html-settings g-aiAbs g-aiPointText\" style=\"top:60.5255%;margin-top:-6.2px;right:93.182%;width:14px;\">\\n\\t\\t\\t<p class=\"g-pstyle0\">30</p>\\n\\t\\t</div>\\n\\t\\t<div id=\"g-ai1-9\" class=\"g-ai2html-settings g-aiAbs g-aiPointText\" style=\"top:76.6347%;margin-top:-6.2px;right:93.182%;width:14px;\">\\n\\t\\t\\t<p class=\"g-pstyle0\">20</p>\\n\\t\\t</div>\\n\\t\\t<div id=\"g-ai1-10\" class=\"g-ai2html-settings g-aiAbs g-aiPointText\" style=\"top:82.4445%;margin-top:-12.2px;left:16.9248%;margin-left:-4%;width:26px;\">\\n\\t\\t\\t<p class=\"g-pstyle2\">JAN.</p>\\n\\t\\t\\t<p class=\"g-pstyle2\">2017</p>\\n\\t\\t</div>\\n\\t\\t<div id=\"g-ai1-11\" class=\"g-ai2html-settings g-aiAbs g-aiPointText\" style=\"top:80.86%;margin-top:-6.2px;left:31.0267%;margin-left:-4%;width:26px;\">\\n\\t\\t\\t<p class=\"g-pstyle2\">Mar.</p>\\n\\t\\t</div>\\n\\t\\t<div id=\"g-ai1-12\" class=\"g-ai2html-settings g-aiAbs g-aiPointText\" style=\"top:80.86%;margin-top:-6.2px;left:45.4202%;margin-left:-3.3333%;width:22px;\">\\n\\t\\t\\t<p class=\"g-pstyle2\">May</p>\\n\\t\\t</div>\\n\\t\\t<div id=\"g-ai1-13\" class=\"g-ai2html-settings g-aiAbs g-aiPointText\" style=\"top:80.86%;margin-top:-6.2px;left:59.8535%;margin-left:-3.5%;width:23px;\">\\n\\t\\t\\t<p class=\"g-pstyle2\">July</p>\\n\\t\\t</div>\\n\\t\\t<div id=\"g-ai1-14\" class=\"g-ai2html-settings g-aiAbs g-aiPointText\" style=\"top:80.86%;margin-top:-6.2px;left:73.8949%;margin-left:-3.1667%;width:21px;\">\\n\\t\\t\\t<p class=\"g-pstyle2\">Sep.</p>\\n\\t\\t</div>\\n\\t\\t<div id=\"g-ai1-15\" class=\"g-ai2html-settings g-aiAbs g-aiPointText\" style=\"top:80.86%;margin-top:-6.2px;left:88.3118%;margin-left:-3.6667%;width:24px;\">\\n\\t\\t\\t<p class=\"g-pstyle2\">Nov.</p>\\n\\t\\t</div>\\n\\t\\t<div id=\"g-ai1-16\" class=\"g-Layer_1 g-aiAbs\" style=\"top:90.8451%;left:0.5547%;width:80%;\">\\n\\t\\t\\t<p class=\"g-pstyle3\">Source: Quinnipiac</p>\\n\\t\\t</div>\\n\\t</div>\\n\\n</div>\\n\\n<!-- SCOOP JS -->\\n<!-- Generated by ai2html v0.65.4 - 2017-12-13 16:26 -->\\n<!-- ai file: trustworthiness.ai -->\\n<!-- preview: 2017-05-18-opinion-trump-lies -->\\n<!-- scoop: trumps-lies -->\\n<script type=\"text/javascript\">\\n\\t(function (scriptEnvironment, nameSpace) {\\n\\t\\t// only want one resizer on the page\\n\\t\\tif (document.documentElement.className.indexOf(nameSpace + \"resizer-v3-init\") > -1) return;\\n\\t\\tdocument.documentElement.className += \" \" + nameSpace + \"resizer-v3-init\";\\n\\t\\t// require IE9+\\n\\t\\tif (!(\"querySelector\" in document)) return;\\n\\t\\tfunction updateSize() {\\n\\t\\t\\tvar elements = Array.prototype.slice.call(document.querySelectorAll(\".\" + nameSpace + \"artboard-v3[data-min-width]\")),\\n\\t\\t\\t\\t\\twidthById = {};\\n\\t\\t\\telements.forEach(function(el) {\\n\\t\\t\\t\\tvar parent = el.parentNode,\\n\\t\\t\\t\\t\\t\\twidth = widthById[parent.id] || Math.round(parent.getBoundingClientRect().width),\\n\\t\\t\\t\\t\\t\\tminwidth = el.getAttribute(\"data-min-width\"),\\n\\t\\t\\t\\t\\t\\tmaxwidth = el.getAttribute(\"data-max-width\");\\n\\t\\t\\t\\tif (parent.id) widthById[parent.id] = width; // only if parent.id is set\\n\\t\\t\\t\\tif (+minwidth <= width && (+maxwidth >= width || maxwidth === null)) {\\n\\t\\t\\t\\t\\tvar img = el.querySelector(\".\" + nameSpace + \"aiImg\");\\n\\t\\t\\t\\t\\tif (img.getAttribute(\"data-src\") && img.getAttribute(\"src\") != img.getAttribute(\"data-src\")) {\\n\\t\\t\\t\\t\\t\\timg.setAttribute(\"src\", img.getAttribute(\"data-src\"));\\n\\t\\t\\t\\t\\t}\\n\\t\\t\\t\\t\\tel.style.display = \"block\";\\n\\t\\t\\t\\t} else {\\n\\t\\t\\t\\t\\tel.style.display = \"none\";\\n\\t\\t\\t\\t}\\n\\t\\t\\t});\\n\\n\\t\\t\\tif (scriptEnvironment==\"nyt\") {\\n\\t\\t\\t\\ttry {\\n\\t\\t\\t\\t\\tif (window.parent && window.parent.$) {\\n\\t\\t\\t\\t\\t\\twindow.parent.$(\"body\").trigger(\"resizedcontent\", [window]);\\n\\t\\t\\t\\t\\t}\\n\\t\\t\\t\\t\\tdocument.documentElement.dispatchEvent(new Event(\"resizedcontent\"));\\n\\t\\t\\t\\t\\tif (window.require && document.querySelector(\"meta[name=sourceApp]\") && document.querySelector(\"meta[name=sourceApp]\").content == \"nyt-v5\") {\\n\\t\\t\\t\\t\\t\\trequire([\"foundation/main\"], function() {\\n\\t\\t\\t\\t\\t\\t\\trequire([\"shared/interactive/instances/app-communicator\"], function(AppCommunicator) {\\n\\t\\t\\t\\t\\t\\t\\t\\tAppCommunicator.triggerResize();\\n\\t\\t\\t\\t\\t\\t\\t});\\n\\t\\t\\t\\t\\t\\t});\\n\\t\\t\\t\\t\\t}\\n\\t\\t\\t\\t} catch(e) { console.log(e); }\\n\\t\\t\\t}\\n\\t\\t}\\n\\n\\t\\tupdateSize();\\n\\n\\t\\twindow.addEventListener(\\'nyt:embed:load\\', updateSize); // for nyt vi compatibility\\n\\t\\tdocument.addEventListener(\"DOMContentLoaded\", updateSize);\\n\\n\\t\\twindow.addEventListener(\"resize\", throttle(updateSize, 200));\\n\\n\\t\\t// based on underscore.js\\n\\t\\tfunction throttle(func, wait) {\\n\\t\\t\\tvar _now = Date.now || function() { return +new Date(); },\\n\\t\\t\\t\\t\\ttimeout = null, previous = 0;\\n\\t\\t\\tvar run = function() {\\n\\t\\t\\t\\t\\tprevious = _now();\\n\\t\\t\\t\\t\\ttimeout = null;\\n\\t\\t\\t\\t\\tfunc();\\n\\t\\t\\t};\\n\\t\\t\\treturn function() {\\n\\t\\t\\t\\tvar remaining = wait - (_now() - previous);\\n\\t\\t\\t\\tif (remaining <= 0 || remaining > wait) {\\n\\t\\t\\t\\t\\tif (timeout) {\\n\\t\\t\\t\\t\\t\\tclearTimeout(timeout);\\n\\t\\t\\t\\t\\t}\\n\\t\\t\\t\\t\\trun();\\n\\t\\t\\t\\t} else if (!timeout) {\\n\\t\\t\\t\\t\\ttimeout = setTimeout(run, remaining);\\n\\t\\t\\t\\t}\\n\\t\\t\\t};\\n\\t\\t}\\n\\t})(\"nyt\", \"g-\");\\n</script>\\n \\n\\n\\n\\n</div>\\n\\n\\n    </div>\\n\\n    \\n\\n  \\n\\n</div>\\n\\n<script>\\n  var _gaq = _gaq || [];\\n  define(\\'_nytg/2017-05-18-opinion-trump-lies/assets\\', function() { return \\'https://static01.nyt.com/newsgraphics/2017/05/18/opinion-trump-lies/368b0bb8fea312b755ab259f5d7385117b2fd009/\\'; });\\n  define(\\'_nytg/2017-05-18-opinion-trump-lies/big-assets\\', function() { return \\'https://static01.nyt.com/newsgraphics/2017/05/18/opinion-trump-lies/assets/\\'; });\\n\\n  require([\\'foundation/main\\'], function() {\\n    require([\\'https://static01.nyt.com/newsgraphics/2017/05/18/opinion-trump-lies/368b0bb8fea312b755ab259f5d7385117b2fd009/build.js\\']); // generated from src/script.js\\n  });\\n</script>\\n<!-- Pipeline: 2017-05-18-opinion-trump-lies | December 14, 2017, 02:12PM | 368b0bb8fea312b755ab259f5d7385117b2fd009 -->\\n</div>\\n        <footer class=\"story-footer\">\\n          <div class=\"story-notes interactive-notes\"><p>David Leonhardt is a New York Times columnist. Stuart A. Thompson is the graphics director for the Opinion section.</p></div>\\n          <div class=\"story-info interactive-source\"><p>Sources: Politifact; Factcheck.org; The Washington Post Fact Checker; The Toronto Star</p></div>\\n          \\n          <div class=\"story-info interactive-credit\"><p>Ian Prasad Philbrick contributed reporting.</p></div>\\n          <div class=\"interactive-corrections\">\\n      <div id=\"addendums\" class=\"addendums\">\\n        <div class=\"story-addendum story-content theme-correction\">\\n          <strong> Correction: June 23, 2017 </strong> <br/>\\n          <p>An earlier version of this graphic included an incorrect total for the number of days Donald Trump told a lie during his first two months as president. It was 20, not 25.</p>\\n      </div>\\n      </div>\\n    </div>\\n          <div id=\"sharetools-footer\" aria-label=\"tools\" role=\"group\" class=\"sharetools theme-classic  sharetools-footer   layout-horizontal\"\\n            data-shares=\"email|,facebook|,twitter|,show-all|More\"\\n            data-url=\"https://www.nytimes.com/interactive/2017/06/23/opinion/trumps-lies.html\"\\n            data-title=\"President Trump’s Lies, the Definitive List\"\\n            data-author=\"By David Leonhardt and Stuart A. Thompson\"\\n            data-media=\"https://static01.nyt.com/images/icons/t_logo_291_black.png\"\\n            data-description=\"We have catalogued nearly every outright lie the president has told publicly since taking the oath of office.\"\\n            data-publish-date=\"June 23, 2017\">\\n            <div class=\"ad sharetools-inline-article-ad hidden nocontent robots-nocontent\"></div>\\n          </div>\\n        </footer>\\n        <section id=\"related-coverage\" class=\"related-coverage nocontent robots-nocontent\">\\n  <div class=\"nocontent robots-nocontent\">\\n    <header>\\n      <h2 class=\"section-heading\">More on NYTimes.com</h2>\\n    </header>\\n    <ul class=\"menu layout-horizontal theme-story\">\\n      \\n    </ul>\\n  </div>\\n</section>\\n        <div id=\"BottomAd\" class=\"ad bottom-ad nocontent robots-nocontent\">\\n  <div class=\"accessibility-ad-header\">\\n    <p>Advertisement</p>\\n  </div>\\n</div>\\n      </article>\\n    </main>\\n    <footer id=\"page-footer\" class=\"page-footer\" role=\"contentinfo\">\\n  <nav>\\n    <h2 class=\"visually-hidden\">Site Information Navigation</h2>\\n    <ul>\\n      <li>\\n        <a href=\"https://help.nytimes.com/hc/en-us/articles/115014792127-Copyright-notice\" itemprop=\"copyrightNotice\">\\n            &copy; <span itemprop=\"copyrightYear\">2021</span><span itemprop=\"copyrightHolder provider sourceOrganization\" itemscope itemtype=\"http://schema.org/Organization\" itemid=\"http://www.nytimes.com\"><span itemprop=\"name\"> The New York Times Company</span><meta itemprop=\"tickerSymbol\" content=\"NYSE NYT\"/></span>\\n        </a>\\n      </li>\\n      <li class=\"visually-hidden\">\\n        <a href=\"https://www.nytimes.com\">Home</a>\\n      </li>\\n      <li class=\"visually-hidden\">\\n        <a href=\"https://www.nytimes.com/search/\">Search</a>\\n      </li>\\n      <li class=\"visually-hidden\">Accessibility concerns? Email us at <a href=\"mailto:accessibility@nytimes.com\">accessibility@nytimes.com</a>. We would love to hear from you.</li>\\n      <li class=\"wide-viewport-item\">\\n        <a href=\"https://help.nytimes.com/hc/en-us/articles/115015385887-Contact-Us\">Contact Us</a>\\n      </li>\\n      <li class=\"wide-viewport-item\">\\n        <a href=\"https://www.nytco.com/careers/\">Work with us</a>\\n      </li>\\n      <li class=\"wide-viewport-item\">\\n        <a href=\"https://nytmediakit.com/\">Advertise</a>\\n      </li>\\n      <li class=\"wide-viewport-item\">\\n        <a href=\"https://help.nytimes.com/hc/en-us/articles/115014892108-Privacy-policy#pp\">Your Ad Choices</a>\\n      </li>\\n      <li>\\n        <a href=\"https://help.nytimes.com/hc/en-us/articles/115014892108-Privacy-policy\">Privacy</a>\\n      </li>\\n      <li>\\n        <a href=\"https://help.nytimes.com/hc/en-us/articles/115014893428-Terms-of-service\" itemprop=\"usageTerms\">Terms of Service</a>\\n      </li>\\n      <li class=\"wide-viewport-item last-item\">\\n        <a href=\"https://help.nytimes.com/hc/en-us/articles/115014893968-Terms-of-sale\">Terms of Sale</a>\\n      </li>\\n    </ul>\\n  </nav>\\n  <nav class=\"last-nav\">\\n    <h2 class=\"visually-hidden\">Site Information Navigation</h2>\\n    <ul>\\n      <li>\\n        <a href=\"https://spiderbites.nytimes.com\">Site Map</a>\\n      </li>\\n      <li>\\n        <a href=\"https://help.nytimes.com/hc/en-us\">Help</a>\\n      </li>\\n      <li>\\n        <a href=\"https://help.nytimes.com/hc/en-us/articles/115015385887-Contact-Us?redir=myacc\">Site Feedback</a>\\n      </li>\\n      <li class=\"wide-viewport-item last-item\">\\n        <a href=\"https://www.nytimes.com/subscription?campaignId=37WXW\">Subscriptions</a>\\n      </li>\\n    </ul>\\n  </nav>\\n</footer>\\n  </div>\\n</div>\\n<script>\\nrequire([\\'foundation/main\\'], function () {\\n  require([\\'interactive/main\\']);\\n  require([\\'jquery/nyt\\', \\'foundation/views/page-manager\\'], function ($, pageManager) {\\n    if (window.location.search.indexOf(\\'disable_tagx\\') > 0) {\\n        return;\\n    }\\n    $(document).ready(function () {\\n        require([\\'https://a1.nyt.com/analytics/json-kidd.min.js\\'], function () {\\n            pageManager.trackingFireEventQueue();\\n        });\\n    });\\n  });\\n});\\n</script>\\n<script>\\n(function (w, d){\\n    try {\\n      if (w && w.parent && w.parent.location.search.match(/disableIframeResize/)) {\\n        return;\\n      }\\n    } catch (error) {\\n      // window.parent is not available\\n    }\\n\\n    // scoped state\\n    var MutationObserver = w.MutationObserver || w.WebKitMutationObserver || w.MozMutationObserver;\\n    var hasResized = false;\\n    var resizeFallbackDelay = 1500;\\n    var resizeInterval = 3000;\\n    var interactive = {\\n        id: \\'100000005182490\\',\\n        slug: \\'trumps-lies\\',\\n    };\\n    var resizeIntervalId;\\n    // vanilla JS $(document).ready()\\n    function ready(fn) {\\n        if (d.readyState != \\'loading\\'){\\n            fn();\\n        } else {\\n            d.addEventListener(\\'DOMContentLoaded\\', fn);\\n        }\\n    }\\n    // send resize message to parent\\n    function sendResizeMessage(opts){\\n        if (!(w.parent && w.parent.postMessage)) { return; }\\n        var rect, width, height, message;\\n        rect = d.documentElement.getBoundingClientRect();\\n        width = Math.ceil(rect.width);\\n        height = Math.ceil(rect.height);\\n        message = {\\n            type: \\'resize\\',\\n            id: interactive.id,\\n            width: width,\\n            height: height\\n        };\\n        w.parent.postMessage(message, \\'*\\');\\n        // don\\'t update hasResized if this message was forced\\n        if (opts && opts.forced) { return; }\\n        hasResized = true;\\n    }\\n    // send message to parent to indicate that this interactive is listening for messages\\n    function sendListeningMessage(){\\n        if (!(w.parent && w.parent.postMessage)) { return; }\\n        var message = {\\n            type: \\'listening\\',\\n            id: interactive.id,\\n        };\\n        w.parent.postMessage(message, \\'*\\');\\n    }\\n    // observe mutations to the interactive graphics node and send resize message\\n    function initializeMutationObservers(){\\n        if (!MutationObserver) { return; }\\n\\n        // select the target node\\n        var target = d.getElementById(interactive.slug);\\n        if (!target) { return; }\\n        // create an observer instance\\n        var observer = new MutationObserver(sendResizeMessage.bind(null, null));\\n        // configuration of the observer\\n        var config = {\\n            attributes: true,\\n            childList: true,\\n            characterData: true,\\n            subtree: true,\\n        };\\n        // pass in the target node, as well as the observer options\\n        observer.observe(target, config);\\n    }\\n    // update theme in response to message from parent\\n    function updateTheme(previous, current){\\n        var root = d.documentElement;\\n        if (!(previous && current && root)) { return; }\\n        root.classList.remove(previous);\\n        root.classList.add(current);\\n    }\\n    // handle messages from parent\\n    function onMessage(event) {\\n        var data = event.data;\\n        var type = data.type;\\n        if (type === \\'themechange\\') {\\n            if (data.previous && data.current) {\\n                updateTheme(data.previous, data.current);\\n            }\\n        }\\n    }\\n    // hook into the resizedcontent event that some embedded interactives dispatch\\n    function attachEventListeners(){\\n        d.documentElement.addEventListener(\\'resizedcontent\\', sendResizeMessage.bind(null, null));\\n    }\\n    // always resize at least once\\n    // @see https://a1.nyt.com/assets/interactive/20170123-034410/js/shared/interactive/views/app-communicator.js\\n    function initializeResizeFallback(){\\n        if (!hasResized) {\\n            setTimeout(sendResizeMessage.bind(null, null), resizeFallbackDelay);\\n        }\\n    }\\n    // try to resize every resizeInterval ms\\n    function initializeResizeInterval() {\\n      return setInterval(sendResizeMessage.bind(null, { forced: true }), resizeInterval);\\n    }\\n    // initialize the interactive if it has been embedded\\n    function init() {\\n        if (w.parent) {\\n            sendResizeMessage({ forced: true });\\n            attachEventListeners();\\n            initializeMutationObservers();\\n            initializeResizeFallback();\\n            resizeIntervalId = initializeResizeInterval();\\n        }\\n    }\\n    // initialization that should occur before DOMContentLoaded\\n    function preReady() {\\n        if (w.parent) {\\n            w.addEventListener(\\'load\\', sendResizeMessage.bind(null, { forced: true }));\\n            w.addEventListener(\\'message\\', onMessage, false);\\n            sendListeningMessage();\\n            w.addEventListener(\\'unload\\', function (){ if (resizeIntervalId) { clearInterval(resizeIntervalId); } });\\n        }\\n    }\\n    preReady();\\n    ready(init);\\n})(window, document);\\n</script>\\n<script>\\n(function () {\\n  var isBadSafari = (function () {\\n    var ua = navigator.userAgent;\\n    if (!/.*(iphone|ipad|ipod|silk).*$/i.test(ua)) {\\n      var match = /Mac\\\\ OS\\\\ X\\\\ (\\\\d+)[_\\\\.](\\\\d+)([_\\\\.](\\\\d+))?/.exec(ua);\\n      if (match && match.length >= 5) {\\n        var maj = parseInt(match[1], 10);\\n        return (maj < 10 || (maj === 10 && parseInt(match[2], 10) <= 9)) ? 1 : 0;\\n      }\\n    }\\n    return 0;\\n  })();\\n  if (!isBadSafari) {\\n    var s = document.createElement(\\'script\\');\\n    s.type = \\'text/javascript\\';\\n    s.async = true;\\n    s.src = \\'https://tags.bluekai.com/site/50550?ret=js&limit=1\\';\\n    if (!/NYT-T=out/.test(document.cookie)) {\\n      document.getElementsByTagName(\\'script\\')[0].appendChild(s);\\n    }\\n  }\\n})();\\n</script>\\n<script src=\"https://cdn.optimizely.com/public/3013110282/s/article_prod.js\" type=\"text/javascript\" async></script>\\n<div id=\"Inv1\" class=\"ad inv1-ad hidden\"></div>\\n<div id=\"Inv2\" class=\"ad inv2-ad hidden\"></div>\\n<div id=\"Inv3\" class=\"ad inv3-ad hidden\"></div>\\n<div id=\"ab1\" class=\"ad ab1-ad hidden\"></div>\\n<div id=\"ab2\" class=\"ad ab2-ad hidden\"></div>\\n<div id=\"ab3\" class=\"ad ab3-ad hidden\"></div>\\n<div id=\"prop1\" class=\"ad prop1-ad hidden\"></div>\\n<div id=\"prop2\" class=\"ad prop2-ad hidden\"></div>\\n<div id=\"Anchor\" class=\"ad anchor-ad hidden\"></div>\\n<div id=\"ADX_CLIENTSIDE\" class=\"ad adx-clientside-ad hidden\"></div>\\n</body>\\n</html>'"
      ]
     },
     "execution_count": 161,
     "metadata": {},
     "output_type": "execute_result"
    }
   ],
   "source": [
    "r.text"
   ]
  },
  {
   "cell_type": "markdown",
   "metadata": {},
   "source": [
    "#### Parsing the HTML using library called Beautiful Soup"
   ]
  },
  {
   "cell_type": "code",
   "execution_count": 162,
   "metadata": {},
   "outputs": [],
   "source": [
    "from bs4 import BeautifulSoup # is reading the html elements and making sense out of it.\n",
    "#it contains methods which lets us directly find and manipulate with html elements like tags"
   ]
  },
  {
   "cell_type": "code",
   "execution_count": 163,
   "metadata": {},
   "outputs": [],
   "source": [
    "obj = BeautifulSoup(r.text,'html.parser')"
   ]
  },
  {
   "cell_type": "code",
   "execution_count": null,
   "metadata": {},
   "outputs": [],
   "source": [
    "# <span class=\"short-desc\"><strong> DATE </strong> LIE <span class=\"short-truth\"> <a href URL>\n",
    "# EXPLANATION\n",
    "# </a>\n",
    "# </span>\n",
    "# </span>"
   ]
  },
  {
   "cell_type": "code",
   "execution_count": 176,
   "metadata": {},
   "outputs": [],
   "source": [
    "#results = obj.find_all('span',attrs={'class':'short-desc'})\n",
    "results = obj.find_all('span',attrs={'class':'short-desc'})"
   ]
  },
  {
   "cell_type": "code",
   "execution_count": 174,
   "metadata": {
    "collapsed": true
   },
   "outputs": [
    {
     "data": {
      "text/plain": [
       "<span class=\"short-desc\"><strong>Jan. 21 </strong>“I wasn't a fan of Iraq. I didn't want to go into Iraq.” <span class=\"short-truth\"><a href=\"https://www.buzzfeed.com/andrewkaczynski/in-2002-donald-trump-said-he-supported-invading-iraq-on-the\" target=\"_blank\">(He was for an invasion before he was against it.)</a></span></span>"
      ]
     },
     "execution_count": 174,
     "metadata": {},
     "output_type": "execute_result"
    }
   ],
   "source": [
    "results[0]"
   ]
  },
  {
   "cell_type": "code",
   "execution_count": 177,
   "metadata": {},
   "outputs": [],
   "source": [
    "first_block = results[0]"
   ]
  },
  {
   "cell_type": "code",
   "execution_count": 178,
   "metadata": {},
   "outputs": [
    {
     "data": {
      "text/plain": [
       "<span class=\"short-desc\"><strong>Jan. 21 </strong>“I wasn't a fan of Iraq. I didn't want to go into Iraq.” <span class=\"short-truth\"><a href=\"https://www.buzzfeed.com/andrewkaczynski/in-2002-donald-trump-said-he-supported-invading-iraq-on-the\" target=\"_blank\">(He was for an invasion before he was against it.)</a></span></span>"
      ]
     },
     "execution_count": 178,
     "metadata": {},
     "output_type": "execute_result"
    }
   ],
   "source": [
    "first_block"
   ]
  },
  {
   "cell_type": "code",
   "execution_count": 179,
   "metadata": {
    "scrolled": true
   },
   "outputs": [
    {
     "data": {
      "text/plain": [
       "bs4.element.Tag"
      ]
     },
     "execution_count": 179,
     "metadata": {},
     "output_type": "execute_result"
    }
   ],
   "source": [
    "type(first_block)"
   ]
  },
  {
   "cell_type": "markdown",
   "metadata": {},
   "source": [
    "#### Extracting the Date"
   ]
  },
  {
   "cell_type": "code",
   "execution_count": 180,
   "metadata": {},
   "outputs": [
    {
     "data": {
      "text/plain": [
       "<strong>Jan. 21 </strong>"
      ]
     },
     "execution_count": 180,
     "metadata": {},
     "output_type": "execute_result"
    }
   ],
   "source": [
    "first_block.find('strong')"
   ]
  },
  {
   "cell_type": "code",
   "execution_count": 181,
   "metadata": {},
   "outputs": [
    {
     "data": {
      "text/plain": [
       "'Jan. 21\\xa0'"
      ]
     },
     "execution_count": 181,
     "metadata": {},
     "output_type": "execute_result"
    }
   ],
   "source": [
    "first_block.find('strong').text"
   ]
  },
  {
   "cell_type": "code",
   "execution_count": 182,
   "metadata": {},
   "outputs": [
    {
     "data": {
      "text/plain": [
       "'Jan. 21'"
      ]
     },
     "execution_count": 182,
     "metadata": {},
     "output_type": "execute_result"
    }
   ],
   "source": [
    "first_block.find('strong').text[:-1]"
   ]
  },
  {
   "cell_type": "markdown",
   "metadata": {},
   "source": [
    "#### Extracting the lie"
   ]
  },
  {
   "cell_type": "code",
   "execution_count": 183,
   "metadata": {},
   "outputs": [
    {
     "data": {
      "text/plain": [
       "<span class=\"short-desc\"><strong>Jan. 21 </strong>“I wasn't a fan of Iraq. I didn't want to go into Iraq.” <span class=\"short-truth\"><a href=\"https://www.buzzfeed.com/andrewkaczynski/in-2002-donald-trump-said-he-supported-invading-iraq-on-the\" target=\"_blank\">(He was for an invasion before he was against it.)</a></span></span>"
      ]
     },
     "execution_count": 183,
     "metadata": {},
     "output_type": "execute_result"
    }
   ],
   "source": [
    "first_block"
   ]
  },
  {
   "cell_type": "code",
   "execution_count": 184,
   "metadata": {
    "collapsed": true
   },
   "outputs": [
    {
     "data": {
      "text/plain": [
       "[<strong>Jan. 21 </strong>,\n",
       " \"“I wasn't a fan of Iraq. I didn't want to go into Iraq.” \",\n",
       " <span class=\"short-truth\"><a href=\"https://www.buzzfeed.com/andrewkaczynski/in-2002-donald-trump-said-he-supported-invading-iraq-on-the\" target=\"_blank\">(He was for an invasion before he was against it.)</a></span>]"
      ]
     },
     "execution_count": 184,
     "metadata": {},
     "output_type": "execute_result"
    }
   ],
   "source": [
    "first_block.contents"
   ]
  },
  {
   "cell_type": "code",
   "execution_count": null,
   "metadata": {},
   "outputs": [],
   "source": [
    "children - things which are nested inside a tag"
   ]
  },
  {
   "cell_type": "code",
   "execution_count": 185,
   "metadata": {},
   "outputs": [
    {
     "data": {
      "text/plain": [
       "\"“I wasn't a fan of Iraq. I didn't want to go into Iraq.” \""
      ]
     },
     "execution_count": 185,
     "metadata": {},
     "output_type": "execute_result"
    }
   ],
   "source": [
    "first_block.contents[1]"
   ]
  },
  {
   "cell_type": "code",
   "execution_count": 186,
   "metadata": {},
   "outputs": [
    {
     "data": {
      "text/plain": [
       "\"I wasn't a fan of Iraq. I didn't want to go into Iraq.\""
      ]
     },
     "execution_count": 186,
     "metadata": {},
     "output_type": "execute_result"
    }
   ],
   "source": [
    "first_block.contents[1][1:-2]"
   ]
  },
  {
   "cell_type": "markdown",
   "metadata": {},
   "source": [
    "#### Extracting the Explanation"
   ]
  },
  {
   "cell_type": "code",
   "execution_count": 187,
   "metadata": {
    "collapsed": true
   },
   "outputs": [
    {
     "data": {
      "text/plain": [
       "<a href=\"https://www.buzzfeed.com/andrewkaczynski/in-2002-donald-trump-said-he-supported-invading-iraq-on-the\" target=\"_blank\">(He was for an invasion before he was against it.)</a>"
      ]
     },
     "execution_count": 187,
     "metadata": {},
     "output_type": "execute_result"
    }
   ],
   "source": [
    "first_block.find('a')"
   ]
  },
  {
   "cell_type": "code",
   "execution_count": 188,
   "metadata": {
    "collapsed": true
   },
   "outputs": [
    {
     "data": {
      "text/plain": [
       "'(He was for an invasion before he was against it.)'"
      ]
     },
     "execution_count": 188,
     "metadata": {},
     "output_type": "execute_result"
    }
   ],
   "source": [
    "first_block.find('a').text"
   ]
  },
  {
   "cell_type": "code",
   "execution_count": 189,
   "metadata": {
    "collapsed": true
   },
   "outputs": [
    {
     "data": {
      "text/plain": [
       "'He was for an invasion before he was against it.'"
      ]
     },
     "execution_count": 189,
     "metadata": {},
     "output_type": "execute_result"
    }
   ],
   "source": [
    "first_block.find('a').text[1:-1]"
   ]
  },
  {
   "cell_type": "markdown",
   "metadata": {},
   "source": [
    "#### Extracting the URL"
   ]
  },
  {
   "cell_type": "code",
   "execution_count": 191,
   "metadata": {
    "collapsed": true
   },
   "outputs": [
    {
     "data": {
      "text/plain": [
       "<a href=\"https://www.buzzfeed.com/andrewkaczynski/in-2002-donald-trump-said-he-supported-invading-iraq-on-the\" target=\"_blank\">(He was for an invasion before he was against it.)</a>"
      ]
     },
     "execution_count": 191,
     "metadata": {},
     "output_type": "execute_result"
    }
   ],
   "source": [
    "first_block.find('a')"
   ]
  },
  {
   "cell_type": "code",
   "execution_count": 192,
   "metadata": {
    "collapsed": true
   },
   "outputs": [
    {
     "data": {
      "text/plain": [
       "'https://www.buzzfeed.com/andrewkaczynski/in-2002-donald-trump-said-he-supported-invading-iraq-on-the'"
      ]
     },
     "execution_count": 192,
     "metadata": {},
     "output_type": "execute_result"
    }
   ],
   "source": [
    "first_block.find('a')['href']"
   ]
  },
  {
   "cell_type": "code",
   "execution_count": 194,
   "metadata": {
    "collapsed": true
   },
   "outputs": [
    {
     "data": {
      "text/plain": [
       "[<span class=\"short-desc\"><strong>Jan. 21 </strong>“I wasn't a fan of Iraq. I didn't want to go into Iraq.” <span class=\"short-truth\"><a href=\"https://www.buzzfeed.com/andrewkaczynski/in-2002-donald-trump-said-he-supported-invading-iraq-on-the\" target=\"_blank\">(He was for an invasion before he was against it.)</a></span></span>,\n",
       " <span class=\"short-desc\"><strong>Jan. 21 </strong>“A reporter for Time magazine — and I have been on their cover 14 or 15 times. I think we have the all-time record in the history of Time magazine.” <span class=\"short-truth\"><a href=\"http://nation.time.com/2013/11/06/10-things-you-didnt-know-about-time/\" target=\"_blank\">(Trump was on the cover 11 times and Nixon appeared 55 times.)</a></span></span>,\n",
       " <span class=\"short-desc\"><strong>Jan. 23 </strong>“Between 3 million and 5 million illegal votes caused me to lose the popular vote.” <span class=\"short-truth\"><a href=\"https://www.nytimes.com/2017/01/23/us/politics/donald-trump-congress-democrats.html\" target=\"_blank\">(There's no evidence of illegal voting.)</a></span></span>,\n",
       " <span class=\"short-desc\"><strong>Jan. 25 </strong>“Now, the audience was the biggest ever. But this crowd was massive. Look how far back it goes. This crowd was massive.” <span class=\"short-truth\"><a href=\"https://www.nytimes.com/2017/01/21/us/politics/trump-white-house-briefing-inauguration-crowd-size.html\" target=\"_blank\">(Official aerial photos show Obama's 2009 inauguration was much more heavily attended.)</a></span></span>,\n",
       " <span class=\"short-desc\"><strong>Jan. 25 </strong>“Take a look at the Pew reports (which show voter fraud.)” <span class=\"short-truth\"><a href=\"https://www.nytimes.com/2017/01/24/us/politics/unauthorized-immigrant-voting-trump-lie.html\" target=\"_blank\">(The report never mentioned voter fraud.)</a></span></span>,\n",
       " <span class=\"short-desc\"><strong>Jan. 25 </strong>“You had millions of people that now aren't insured anymore.” <span class=\"short-truth\"><a href=\"https://www.nytimes.com/2017/03/13/us/politics/fact-check-trump-obamacare-health-care.html\" target=\"_blank\">(The real number is less than 1 million, according to the Urban Institute.)</a></span></span>,\n",
       " <span class=\"short-desc\"><strong>Jan. 25 </strong>“So, look, when President Obama was there two weeks ago making a speech, very nice speech. Two people were shot and killed during his speech. You can't have that.” <span class=\"short-truth\"><a href=\"https://www.dnainfo.com/chicago/2017-chicago-murders/timeline?mon=1\" target=\"_blank\">(There were no gun homicide victims in Chicago that day.)</a></span></span>,\n",
       " <span class=\"short-desc\"><strong>Jan. 26 </strong>“We've taken in tens of thousands of people. We know nothing about them. They can say they vet them. They didn't vet them. They have no papers. How can you vet somebody when you don't know anything about them and you have no papers? How do you vet them? You can't.” <span class=\"short-truth\"><a href=\"https://www.nytimes.com/interactive/2017/01/29/us/refugee-vetting-process.html\" target=\"_blank\">(Vetting lasts up to two years.)</a></span></span>,\n",
       " <span class=\"short-desc\"><strong>Jan. 26 </strong>“I cut off hundreds of millions of dollars off one particular plane, hundreds of millions of dollars in a short period of time. It wasn't like I spent, like, weeks, hours, less than hours, and many, many hundreds of millions of dollars. And the plane's going to be better.” <span class=\"short-truth\"><a href=\"https://www.washingtonpost.com/news/fact-checker/wp/2017/01/31/trumps-claim-taking-credit-for-cutting-600-million-from-the-f-35-program/\" target=\"_blank\">(Most of the cuts were already planned.)</a></span></span>,\n",
       " <span class=\"short-desc\"><strong>Jan. 28 </strong>“The coverage about me in the @nytimes and the @washingtonpost has been so false and angry that the Times actually apologized to its dwindling subscribers and readers.” <span class=\"short-truth\"><a href=\"https://www.nytimes.com/2016/11/13/us/elections/to-our-readers-from-the-publisher-and-executive-editor.html\" target=\"_blank\">(It never apologized.)</a></span></span>,\n",
       " <span class=\"short-desc\"><strong>Jan. 29 </strong>“The Cuban-Americans, I got 84 percent of that vote.” <span class=\"short-truth\"><a href=\"http://www.pewresearch.org/fact-tank/2016/11/15/unlike-other-latinos-about-half-of-cuban-voters-in-florida-backed-trump/\" target=\"_blank\">(There is no support for this.)</a></span></span>,\n",
       " <span class=\"short-desc\"><strong>Jan. 30 </strong>“Only 109 people out of 325,000 were detained and held for questioning. Big problems at airports were caused by Delta computer outage.” <span class=\"short-truth\"><a href=\"http://markets.on.nytimes.com/research/stocks/news/press_release.asp?docTag=201701300400PR_NEWS_USPRX____CL99370&amp;feedID=600&amp;press_symbol=7311173\" target=\"_blank\">(At least 746 people were detained and processed, and the Delta outage happened two days later.)</a></span></span>,\n",
       " <span class=\"short-desc\"><strong>Feb. 3 </strong>“Professional anarchists, thugs and paid protesters are proving the point of the millions of people who voted to MAKE AMERICA GREAT AGAIN!” <span class=\"short-truth\"><a href=\"https://www.nytimes.com/2017/01/28/nyregion/jfk-protests-trump-refugee-ban.html\" target=\"_blank\">(There is no evidence of paid protesters.)</a></span></span>,\n",
       " <span class=\"short-desc\"><strong>Feb. 4 </strong>“After being forced to apologize for its bad and inaccurate coverage of me after winning the election, the FAKE NEWS @nytimes is still lost!” <span class=\"short-truth\"><a href=\"https://www.nytimes.com/2016/11/13/us/elections/to-our-readers-from-the-publisher-and-executive-editor.html\" target=\"_blank\">(It never apologized.)</a></span></span>,\n",
       " <span class=\"short-desc\"><strong>Feb. 5 </strong>“We had 109 people out of hundreds of thousands of travelers and all we did was vet those people very, very carefully.” <span class=\"short-truth\"><a href=\"http://www.politifact.com/truth-o-meter/statements/2017/feb/06/donald-trump/president-trump-says-109-people-were-affected-trav/\" target=\"_blank\">(About 60,000 people were affected.)</a></span></span>,\n",
       " <span class=\"short-desc\"><strong>Feb. 6 </strong>“I have already saved more than $700 million when I got involved in the negotiation on the F-35.” <span class=\"short-truth\"><a href=\"https://www.washingtonpost.com/news/fact-checker/wp/2017/01/31/trumps-claim-taking-credit-for-cutting-600-million-from-the-f-35-program/\" target=\"_blank\">(Much of the price drop was projected before Trump took office.)</a></span></span>,\n",
       " <span class=\"short-desc\"><strong>Feb. 6 </strong>“It's gotten to a point where it is not even being reported. And in many cases, the very, very dishonest press doesn't want to report it.” <span class=\"short-truth\"><a href=\"https://www.nytimes.com/2017/02/07/us/politics/the-white-house-list-of-terror-attacks-underreported-by-media.html\" target=\"_blank\">(Terrorism has been reported on, often in detail.)</a></span></span>,\n",
       " <span class=\"short-desc\"><strong>Feb. 6 </strong>“The failing @nytimes was forced to apologize to its subscribers for the poor reporting it did on my election win. Now they are worse!” <span class=\"short-truth\"><a href=\"https://www.nytimes.com/2016/11/13/us/elections/to-our-readers-from-the-publisher-and-executive-editor.html\" target=\"_blank\">(It didn't apologize.)</a></span></span>,\n",
       " <span class=\"short-desc\"><strong>Feb. 6 </strong>“And the previous administration allowed it to happen because we shouldn't have been in Iraq, but we shouldn't have gotten out the way we got out. It created a vacuum, ISIS was formed.” <span class=\"short-truth\"><a href=\"https://www.nytimes.com/2015/11/19/world/middleeast/in-rise-of-isis-no-single-missed-key-but-many-strands-of-blame.html\" target=\"_blank\">(The group’s origins date to 2004.)</a></span></span>,\n",
       " <span class=\"short-desc\"><strong>Feb. 7 </strong>“And yet the murder rate in our country is the highest it’s been in 47 years, right? Did you know that? Forty-seven years.” <span class=\"short-truth\"><a href=\"http://www.politifact.com/truth-o-meter/statements/2017/feb/08/donald-trump/donald-trump-wrong-murder-rate-highest-47-years/\" target=\"_blank\">(It was higher in the 1980s and '90s.)</a></span></span>,\n",
       " <span class=\"short-desc\"><strong>Feb. 7 </strong>“I saved more than $600 million. I got involved in negotiation on a fighter jet, the F-35.” <span class=\"short-truth\"><a href=\"https://www.washingtonpost.com/news/fact-checker/wp/2017/01/31/trumps-claim-taking-credit-for-cutting-600-million-from-the-f-35-program/\" target=\"_blank\">(The Defense Department projected this price drop before Trump took office.)</a></span></span>,\n",
       " <span class=\"short-desc\"><strong>Feb. 9 </strong>“Chris Cuomo, in his interview with Sen. Blumenthal, never asked him about his long-term lie about his brave ‘service’ in Vietnam. FAKE NEWS!” <span class=\"short-truth\"><a href=\"http://transcripts.cnn.com/TRANSCRIPTS/1702/09/nday.05.html\" target=\"_blank\">(It was part of Cuomo's first question.)</a></span></span>,\n",
       " <span class=\"short-desc\"><strong>Feb. 9 </strong>“Sen. Richard Blumenthal now misrepresents what Judge Gorsuch told him?” <span class=\"short-truth\"><a href=\"https://www.washingtonpost.com/news/fact-checker/wp/2017/02/10/heres-what-trump-got-wrong-on-twitter-this-week-5/?utm_term=.6fbfc4abc6e0\" target=\"_blank\">(The Gorsuch comments were later corroborated.)</a></span></span>,\n",
       " <span class=\"short-desc\"><strong>Feb. 10 </strong>“I don’t know about it. I haven’t seen it. What report is that?” <span class=\"short-truth\"><a href=\"http://www.factcheck.org/2017/02/trump-spins-flynn-facts/\" target=\"_blank\">(Trump knew about Flynn's actions for weeks.)</a></span></span>,\n",
       " <span class=\"short-desc\"><strong>Feb. 12 </strong>“Just leaving Florida. Big crowds of enthusiastic supporters lining the road that the FAKE NEWS media refuses to mention. Very dishonest!” <span class=\"short-truth\"><a href=\"http://www.palmbeachpost.com/news/national-govt--politics/trump-heads-back-protesters-supporters-gather/CQXPE9NRk807XKWiDwefWK/\" target=\"_blank\">(The media did cover it.)</a></span></span>,\n",
       " <span class=\"short-desc\"><strong>Feb. 16 </strong>“We got 306 because people came out and voted like they've never seen before so that's the way it goes. I guess it was the biggest Electoral College win since Ronald Reagan.” <span class=\"short-truth\"><a href=\"https://www.nytimes.com/2017/02/16/us/politics/trump-fact-check.html\" target=\"_blank\">(George H.W. Bush, Bill Clinton and Barack Obama all won bigger margins in the Electoral College.)</a></span></span>,\n",
       " <span class=\"short-desc\"><strong>Feb. 16 </strong>“That’s the other thing that was wrong with the travel ban. You had Delta with a massive problem with their computer system at the airports.” <span class=\"short-truth\"><a href=\"https://www.washingtonpost.com/news/fact-checker/wp/2017/02/03/what-trump-got-wrong-on-twitter-this-week-4/\" target=\"_blank\">(Delta's problems happened two days later.)</a></span></span>,\n",
       " <span class=\"short-desc\"><strong>Feb. 16 </strong>“Walmart announced it will create 10,000 jobs in the United States just this year because of our various plans and initiatives.” <span class=\"short-truth\"><a href=\"https://www.nytimes.com/interactive/2017/business/economy/trump-jobs.html\" target=\"_blank\">(The jobs are a result of its investment plans announced in Oct. 2016.)</a></span></span>,\n",
       " <span class=\"short-desc\"><strong>Feb. 16 </strong>“When WikiLeaks, which I had nothing to do with, comes out and happens to give, they’re not giving classified information.” <span class=\"short-truth\"><a href=\"http://www.politifact.com/truth-o-meter/article/2017/feb/16/fact-checking-donald-trumps-press-conference/\" target=\"_blank\">(Not always. They have released classified information in the past.)</a></span></span>,\n",
       " <span class=\"short-desc\"><strong>Feb. 16 </strong>“We had a very smooth rollout of the travel ban. But we had a bad court. Got a bad decision.” <span class=\"short-truth\"><a href=\"https://www.washingtonpost.com/news/fact-checker/wp/2017/02/16/fact-checking-president-trumps-news-conference/?utm_term=.517d64230dcf\" target=\"_blank\">(The rollout was chaotic.)</a></span></span>,\n",
       " <span class=\"short-desc\"><strong>Feb. 16 </strong>“They’re giving stuff — what was said at an office about Hillary cheating on the debates. Which, by the way, nobody mentions. Nobody mentions that Hillary received the questions to the debates.” <span class=\"short-truth\"><a href=\"http://www.politifact.com/truth-o-meter/article/2017/feb/16/fact-checking-donald-trumps-press-conference/\" target=\"_blank\">(It was widely covered.)</a></span></span>,\n",
       " <span class=\"short-desc\"><strong>Feb. 18 </strong>“And there was no way to vet those people. There was no documentation. There was no nothing.” <span class=\"short-truth\"><a href=\"https://www.nytimes.com/interactive/2017/01/29/us/refugee-vetting-process.html\" target=\"_blank\">(Refugees receive multiple background checks, taking up to two years.)</a></span></span>,\n",
       " <span class=\"short-desc\"><strong>Feb. 18 </strong>“You look at what's happening in Germany, you look at what's happening last night in Sweden. Sweden, who would believe this?” <span class=\"short-truth\"><a href=\"https://www.nytimes.com/2017/02/19/world/europe/last-night-in-sweden-trumps-remark-baffles-a-nation.html?rref=collection%2Ftimestopic%2FSweden&amp;action=click&amp;contentCollection=world&amp;region=stream&amp;module=stream_unit&amp;version=latest&amp;contentPlacement=7&amp;pgtype=collection\" target=\"_blank\">(Trump implied there was a terror attack in Sweden, but there was no such attack.)</a></span></span>,\n",
       " <span class=\"short-desc\"><strong>Feb. 24 </strong>“By the way, you folks are in here — this place is packed, there are lines that go back six blocks.” <span class=\"short-truth\"><a href=\"http://thehill.com/homenews/administration/320988-trump-falsely-claims-lines-go-back-6-blocks-for-cpac-speech\" target=\"_blank\">(There was no evidence of long lines.)</a></span></span>,\n",
       " <span class=\"short-desc\"><strong>Feb. 24 </strong>“ICE came and endorsed me.” <span class=\"short-truth\"><a href=\"http://www.politifact.com/truth-o-meter/statements/2016/oct/10/donald-trump/trump-says-ice-endorsed-him/\" target=\"_blank\">(Only its union did.)</a></span></span>,\n",
       " <span class=\"short-desc\"><strong>Feb. 24 </strong>“Obamacare covers very few people — and remember, deduct from the number all of the people that had great health care that they loved that was taken away from them — it was taken away from them.” <span class=\"short-truth\"><a href=\"https://www.nytimes.com/2017/02/24/us/politics/fact-check-trump-blasts-fake-news-and-repeats-inaccurate-claims-at-cpac.html\" target=\"_blank\">(Obamacare increased coverage by a net of about 20 million.)</a></span></span>,\n",
       " <span class=\"short-desc\"><strong>Feb. 27 </strong>“Since Obamacare went into effect, nearly half of the insurers are stopped and have stopped from participating in the Obamacare exchanges.” <span class=\"short-truth\"><a href=\"http://www.heritage.org/health-care-reform/report/the-2017-health-insurance-exchanges-major-decrease-competition-and-choice\" target=\"_blank\">(Many fewer pulled out.)</a></span></span>,\n",
       " <span class=\"short-desc\"><strong>Feb. 27 </strong>“On one plane, on a small order of one plane, I saved $725 million. And I would say I devoted about, if I added it up, all those calls, probably about an hour. So I think that might be my highest and best use.” <span class=\"short-truth\"><a href=\"https://www.washingtonpost.com/news/fact-checker/wp/2017/01/31/trumps-claim-taking-credit-for-cutting-600-million-from-the-f-35-program/\" target=\"_blank\">(Much of the price cut was already projected.)</a></span></span>,\n",
       " <span class=\"short-desc\"><strong>Feb. 28 </strong>“And now, based on our very strong and frank discussions, they are beginning to do just that.” <span class=\"short-truth\"><a href=\"https://www.nytimes.com/2017/03/01/us/politics/fact-check-trump-military.html\" target=\"_blank\">(NATO countries agreed to meet defense spending requirements in 2014.)</a></span></span>,\n",
       " <span class=\"short-desc\"><strong>Feb. 28 </strong>“The E.P.A.’s regulators were putting people out of jobs by the hundreds of thousands.” <span class=\"short-truth\"><a href=\"http://www.nytimes.com/2011/09/05/business/economy/a-debate-arises-on-job-creation-vs-environmental-regulation.html\" target=\"_blank\">(There's no evidence that the Waters of the United States rule caused severe job losses.)</a></span></span>,\n",
       " <span class=\"short-desc\"><strong>Feb. 28 </strong>“We have begun to drain the swamp of government corruption by imposing a five-year ban on lobbying by executive branch officials.” <span class=\"short-truth\"><a href=\"https://www.washingtonpost.com/politics/2017/live-updates/trump-white-house/real-time-fact-checking-and-analysis-of-trumps-address-to-congress/fact-check-bans-on-lobbying/?utm_term=.ce1370a2b78d\" target=\"_blank\">(They can't lobby their former agency but can still become lobbyists.)</a></span></span>,\n",
       " <span class=\"short-desc\"><strong>March 3 </strong>“It is so pathetic that the Dems have still not approved my full Cabinet.” <span class=\"short-truth\"><a href=\"https://www.washingtonpost.com/news/politics/wp/2017/03/03/trump-is-blaming-the-democrats-for-cabinet-delays-that-are-normal-and-his-own-fault/?utm_term=.68b1395b9ff1\" target=\"_blank\">(Paperwork for the last two candidates was still not submitted to the Senate.)</a></span></span>,\n",
       " <span class=\"short-desc\"><strong>March 4 </strong>“Terrible! Just found out that Obama had my ‘wires tapped’ in Trump Tower just before the victory. Nothing found. This is McCarthyism!” <span class=\"short-truth\"><a href=\"https://www.nytimes.com/2017/03/04/us/politics/trump-obama-tap-phones.html\" target=\"_blank\">(There's no evidence of a wiretap.)</a></span></span>,\n",
       " <span class=\"short-desc\"><strong>March 4 </strong>“How low has President Obama gone to tap my phones during the very sacred election process. This is Nixon/Watergate. Bad (or sick) guy!” <span class=\"short-truth\"><a href=\"https://www.nytimes.com/2017/03/04/us/politics/trump-obama-tap-phones.html\" target=\"_blank\">(There's no evidence of a wiretap.)</a></span></span>,\n",
       " <span class=\"short-desc\"><strong>March 7 </strong>“122 vicious prisoners, released by the Obama Administration from Gitmo, have returned to the battlefield. Just another terrible decision!” <span class=\"short-truth\"><a href=\"https://www.nytimes.com/2017/03/07/us/politics/guantanamo-bay-trump.html\" target=\"_blank\">(113 of them were released by President George W. Bush.)</a></span></span>,\n",
       " <span class=\"short-desc\"><strong>March 13 </strong>“I saved a lot of money on those jets, didn't I? Did I do a good job? More than $725 million on them.” <span class=\"short-truth\"><a href=\"https://www.washingtonpost.com/news/fact-checker/wp/2017/01/31/trumps-claim-taking-credit-for-cutting-600-million-from-the-f-35-program/\" target=\"_blank\">(Much of the cost cuts were planned before Trump.)</a></span></span>,\n",
       " <span class=\"short-desc\"><strong>March 13 </strong>“First of all, it covers very few people.” <span class=\"short-truth\"><a href=\"https://www.nytimes.com/2017/03/13/us/politics/fact-check-trump-obamacare-health-care.html\" target=\"_blank\">(About 20 million people gained insurance under Obamacare.)</a></span></span>,\n",
       " <span class=\"short-desc\"><strong>March 15 </strong>“On the airplanes, I saved $725 million. Probably took me a half an hour if you added up all of the times.” <span class=\"short-truth\"><a href=\"https://www.washingtonpost.com/news/fact-checker/wp/2017/01/31/trumps-claim-taking-credit-for-cutting-600-million-from-the-f-35-program/\" target=\"_blank\">(Much of the cost cuts were planned before Trump.)</a></span></span>,\n",
       " <span class=\"short-desc\"><strong>March 17 </strong>“I was in Tennessee — I was just telling the folks — and half of the state has no insurance company, and the other half is going to lose the insurance company.” <span class=\"short-truth\"><a href=\"https://public.tableau.com/profile/kaiser.family.foundation#!/vizhome/InsurerParticipationinthe2017IndividualMarketplace/2017InsurerParticipation\" target=\"_blank\">(There's at least one insurer in every Tennessee county.)</a></span></span>,\n",
       " <span class=\"short-desc\"><strong>March 20 </strong>“With just one negotiation on one set of airplanes, I saved the taxpayers of our country over $700 million.” <span class=\"short-truth\"><a href=\"https://www.washingtonpost.com/news/fact-checker/wp/2017/01/31/trumps-claim-taking-credit-for-cutting-600-million-from-the-f-35-program/\" target=\"_blank\">(Much of the cost cuts were planned before Trump.)</a></span></span>,\n",
       " <span class=\"short-desc\"><strong>March 21 </strong>“To save taxpayer dollars, I’ve already begun negotiating better contracts for the federal government — saving over $700 million on just one set of airplanes of which there are many sets.” <span class=\"short-truth\"><a href=\"https://www.washingtonpost.com/news/fact-checker/wp/2017/01/31/trumps-claim-taking-credit-for-cutting-600-million-from-the-f-35-program/\" target=\"_blank\">(Much of the cost cuts were planned before Trump.)</a></span></span>,\n",
       " <span class=\"short-desc\"><strong>March 22 </strong>“I make the statement, everyone goes crazy. The next day they have a massive riot, and death, and problems.” <span class=\"short-truth\"><a href=\"https://www.nytimes.com/2017/02/19/world/europe/last-night-in-sweden-trumps-remark-baffles-a-nation.html\" target=\"_blank\">(Riots in Sweden broke out two days later and there were no deaths.)</a></span></span>,\n",
       " <span class=\"short-desc\"><strong>March 22 </strong>“NATO, obsolete, because it doesn’t cover terrorism. They fixed that.” <span class=\"short-truth\"><a href=\"http://www.politifact.com/truth-o-meter/statements/2016/sep/27/donald-trump/donald-trump-wrong-again-about-nato-increasing-ter/\" target=\"_blank\">(It has fought terrorism since the 1980s.)</a></span></span>,\n",
       " <span class=\"short-desc\"><strong>March 22 </strong>“Well, now, if you take a look at the votes, when I say that, I mean mostly they register wrong — in other words, for the votes, they register incorrectly and/or illegally. And they then vote. You have tremendous numbers of people.” <span class=\"short-truth\"><a href=\"https://www.nytimes.com/2017/01/24/us/politics/unauthorized-immigrant-voting-trump-lie.html\" target=\"_blank\">(There's no evidence of widespread voter fraud.)</a></span></span>,\n",
       " <span class=\"short-desc\"><strong>March 29 </strong>“Remember when the failing @nytimes apologized to its subscribers, right after the election, because their coverage was so wrong. Now worse!” <span class=\"short-truth\"><a href=\"https://www.nytimes.com/2016/11/13/us/elections/to-our-readers-from-the-publisher-and-executive-editor.html\" target=\"_blank\">(It didn't apologize.)</a></span></span>,\n",
       " <span class=\"short-desc\"><strong>March 31 </strong>“We have a lot of plants going up now in Michigan that were never going to be there if I — if I didn’t win this election, those plants would never even think about going back. They were gone.” <span class=\"short-truth\"><a href=\"https://www.nytimes.com/interactive/2017/business/economy/trump-jobs.html\" target=\"_blank\">(These investments were already planned.)</a></span></span>,\n",
       " <span class=\"short-desc\"><strong>April 2 </strong>“And I was totally opposed to the war in the Middle East which I think finally has been proven, people tried very hard to say I wasn’t but you’ve seen that it is now improving.” <span class=\"short-truth\"><a href=\"https://www.buzzfeed.com/andrewkaczynski/in-2002-donald-trump-said-he-supported-invading-iraq-on-the\" target=\"_blank\">(He was for an invasion before he was against it.)</a></span></span>,\n",
       " <span class=\"short-desc\"><strong>April 2 </strong>“Now, my last tweet — you know, the one that you are talking about, perhaps — was the one about being, in quotes, wiretapped, meaning surveilled. Guess what, it is turning out to be true.” <span class=\"short-truth\"><a href=\"https://www.nytimes.com/2017/03/04/us/politics/trump-obama-tap-phones.html\" target=\"_blank\">(There is still no evidence.)</a></span></span>,\n",
       " <span class=\"short-desc\"><strong>April 5 </strong>“You have many states coming up where they’re going to have no insurance company. O.K.? It’s already happened in Tennessee. It’s happening in Kentucky. Tennessee only has half coverage. Half the state is gone. They left.” <span class=\"short-truth\"><a href=\"https://www.nytimes.com/2017/03/24/us/politics/fact-check-trumps-misleading-claims-in-health-bill-failure.html\" target=\"_blank\">(Every marketplace region in Tennessee had at least one insurer.)</a></span></span>,\n",
       " <span class=\"short-desc\"><strong>April 6 </strong>“If you look at the kind of cost-cutting we’ve been able to achieve with the military and at the same time ordering vast amounts of equipment — saved hundreds of millions of dollars on airplanes, and really billions, because if you take that out over a period of years it’s many billions of dollars — I think we’ve had a tremendous success.” <span class=\"short-truth\"><a href=\"https://www.washingtonpost.com/news/fact-checker/wp/2017/01/31/trumps-claim-taking-credit-for-cutting-600-million-from-the-f-35-program/\" target=\"_blank\">(Much of the price cuts were already projected.)</a></span></span>,\n",
       " <span class=\"short-desc\"><strong>April 11 </strong>“I like Steve, but you have to remember he was not involved in my campaign until very late. I had already beaten all the senators and all the governors, and I didn’t know Steve.” <span class=\"short-truth\"><a href=\"https://www.nytimes.com/2017/04/12/us/politics/trump-steven-bannon-fox-business-news-interview.html?ref=politics\" target=\"_blank\">(He knew Steve Bannon since 2011.)</a></span></span>,\n",
       " <span class=\"short-desc\"><strong>April 12 </strong>“You can't do it faster, because they're obstructing. They're obstructionists. So I have people — hundreds of people that we're trying to get through. I mean you have — you see the backlog. We can't get them through.” <span class=\"short-truth\"><a href=\"https://www.nytimes.com/2017/04/12/us/politics/trump-steven-bannon-fox-business-news-interview.html?ref=politics\" target=\"_blank\">(At this point, he had not nominated anyone for hundreds of positions.)</a></span></span>,\n",
       " <span class=\"short-desc\"><strong>April 12 </strong>“The New York Times said the word wiretapped in the headline of the first edition. Then they took it out of there fast when they realized.” <span class=\"short-truth\"><a href=\"https://www.nytimes.com/2017/03/23/us/politics/fact-check-trump-misleads-surveillance-wiretapping.html\" target=\"_blank\">(There were separate headlines for print and web, but neither were altered.)</a></span></span>,\n",
       " <span class=\"short-desc\"><strong>April 12 </strong>“The secretary general and I had a productive discussion about what more NATO can do in the fight against terrorism. I complained about that a long time ago and they made a change, and now they do fight terrorism.” <span class=\"short-truth\"><a href=\"https://www.nytimes.com/2017/04/12/us/politics/trump-steven-bannon-fox-business-news-interview.html?ref=politics\" target=\"_blank\">(NATO has been engaged in counterterrorism efforts since the 1980s.)</a></span></span>,\n",
       " <span class=\"short-desc\"><strong>April 12 </strong>“Mosul was supposed to last for a week and now they’ve been fighting it for many months and so many more people died.” <span class=\"short-truth\"><a href=\"https://www.washingtonpost.com/news/the-fix/wp/2017/04/12/president-trumps-throughly-confusing-fox-business-interview-annotated/\" target=\"_blank\">(The campaign was expected to take months.)</a></span></span>,\n",
       " <span class=\"short-desc\"><strong>April 16 </strong>“Someone should look into who paid for the small organized rallies yesterday. The election is over!” <span class=\"short-truth\"><a href=\"https://www.nytimes.com/2017/04/15/us/politics/tax-day-march.html\" target=\"_blank\">(There's no evidence of paid protesters.)</a></span></span>,\n",
       " <span class=\"short-desc\"><strong>April 18 </strong>“The fake media goes, ‘Donald Trump changed his stance on China.’ I haven’t changed my stance.” <span class=\"short-truth\"><a href=\"https://www.nytimes.com/2017/04/14/business/china-currency-manipulation-trump.html\" target=\"_blank\">(He did.)</a></span></span>,\n",
       " <span class=\"short-desc\"><strong>April 21 </strong>“On 90 planes I saved $725 million. It's actually a little bit more than that, but it's $725 million.” <span class=\"short-truth\"><a href=\"https://www.washingtonpost.com/news/fact-checker/wp/2017/01/31/trumps-claim-taking-credit-for-cutting-600-million-from-the-f-35-program/\" target=\"_blank\">(Much of the price cuts were already projected.)</a></span></span>,\n",
       " <span class=\"short-desc\"><strong>April 21 </strong>“When WikiLeaks came out ... never heard of WikiLeaks, never heard of it.” <span class=\"short-truth\"><a href=\"https://www.washingtonpost.com/news/fact-checker/wp/2017/04/25/fact-checking-president-trumps-pinocchio-laden-associated-press-interview/?utm_term=.33ae871d0c9c\" target=\"_blank\">(He criticized it as early as 2010.)</a></span></span>,\n",
       " <span class=\"short-desc\"><strong>April 27 </strong>“I want to help our miners while the Democrats are blocking their healthcare.” <span class=\"short-truth\"><a href=\"http://www.pbs.org/newshour/rundown/retired-coal-miners-get-health-care-fix-pension-problems-remain/\" target=\"_blank\">(The bill to extend health benefits for certain coal miners was introduced by a Democrat and was co-sponsored by mostly Democrats.)</a></span></span>,\n",
       " <span class=\"short-desc\"><strong>April 28 </strong>“The trade deficit with Mexico is close to $70 billion, even with Canada it’s $17 billion trade deficit with Canada.” <span class=\"short-truth\"><a href=\"http://www.factcheck.org/2017/05/trumps-100-day-boasts/\" target=\"_blank\">(The U.S. had an $8.1 billion trade surplus, not deficit, with Canada in 2016.)</a></span></span>,\n",
       " <span class=\"short-desc\"><strong>April 28 </strong>“She's running against someone who's going to raise your taxes to the sky, destroy your health care, and he's for open borders — lots of crime.” <span class=\"short-truth\"><a href=\"http://www.mdjonline.com/opinion/jon-ossoff-voters-too-smart-to-believe-attack-ads/article_d6c9dafa-1e5a-11e7-a93c-c7e0b4d4f985.html\" target=\"_blank\">(Those are not Jon Ossoff's positions.)</a></span></span>,\n",
       " <span class=\"short-desc\"><strong>April 28 </strong>“The F-35 fighter jet program — it was way over budget. I’ve saved $725 million plus, just by getting involved in the negotiation.” <span class=\"short-truth\"><a href=\"https://www.washingtonpost.com/news/fact-checker/wp/2017/01/31/trumps-claim-taking-credit-for-cutting-600-million-from-the-f-35-program/\" target=\"_blank\">(Much of the price cuts were planned before Trump.)</a></span></span>,\n",
       " <span class=\"short-desc\"><strong>April 29 </strong>“As you know, I've been a big critic of China, and I've been talking about currency manipulation for a long time. But I have to tell you that during the election, number one, they stopped.” <span class=\"short-truth\"><a href=\"https://www.nytimes.com/2017/04/07/world/asia/fact-check-trump-china-trade.html\" target=\"_blank\">(China stopped years ago.)</a></span></span>,\n",
       " <span class=\"short-desc\"><strong>April 29 </strong>“I've already saved more than $725 million on a simple order of F-35 planes. I got involved in the negotiation.” <span class=\"short-truth\"><a href=\"https://www.washingtonpost.com/news/fact-checker/wp/2017/01/31/trumps-claim-taking-credit-for-cutting-600-million-from-the-f-35-program/\" target=\"_blank\">(Much of the price cuts were planned before Trump.)</a></span></span>,\n",
       " <span class=\"short-desc\"><strong>April 29 </strong>“We're also getting NATO countries to finally step up and contribute their fair share. They've begun to increase their contributions by billions of dollars, but we are not going to be satisfied until everyone pays what they owe.” <span class=\"short-truth\"><a href=\"https://www.nytimes.com/2017/03/01/us/politics/fact-check-trump-military.html\" target=\"_blank\">(The deal was struck in 2014.)</a></span></span>,\n",
       " <span class=\"short-desc\"><strong>April 29 </strong>“When they talk about currency manipulation, and I did say I would call China, if they were, a currency manipulator, early in my tenure. And then I get there. Number one, they — as soon as I got elected, they stopped.” <span class=\"short-truth\"><a href=\"https://www.nytimes.com/2017/04/07/world/asia/fact-check-trump-china-trade.html\" target=\"_blank\">(China stopped in 2014.)</a></span></span>,\n",
       " <span class=\"short-desc\"><strong>April 29 </strong>“I was negotiating to reduce the price of the big fighter jet contract, the F-35, which was totally out of control. I will save billions and billions and billions of dollars.” <span class=\"short-truth\"><a href=\"https://www.washingtonpost.com/news/fact-checker/wp/2017/01/31/trumps-claim-taking-credit-for-cutting-600-million-from-the-f-35-program/\" target=\"_blank\">(Most of the cuts were planned before Trump.)</a></span></span>,\n",
       " <span class=\"short-desc\"><strong>April 29 </strong>“I think our side's been proven very strongly. And everybody's talking about it.” <span class=\"short-truth\"><a href=\"https://www.nytimes.com/2017/03/20/us/politics/intelligence-committee-russia-donald-trump.html\" target=\"_blank\">(There's still no evidence Trump's phones were tapped.)</a></span></span>,\n",
       " <span class=\"short-desc\"><strong>May 1 </strong>“Well, we are protecting pre-existing conditions. And it'll be every good — bit as good on pre-existing conditions as Obamacare.” <span class=\"short-truth\"><a href=\"https://www.nytimes.com/2017/04/26/upshot/what-changed-in-the-health-repeal-plan-to-win-over-the-freedom-caucus.html\" target=\"_blank\">(The bill weakens protections for people with pre-existing conditions.)</a></span></span>,\n",
       " <span class=\"short-desc\"><strong>May 1 </strong>“The F-35 fighter jet — I saved — I got involved in the negotiation. It's 2,500 jets. I negotiated for 90 planes, lot 10. I got $725 million off the price.” <span class=\"short-truth\"><a href=\"https://www.washingtonpost.com/news/fact-checker/wp/2017/01/31/trumps-claim-taking-credit-for-cutting-600-million-from-the-f-35-program/\" target=\"_blank\">(Much of the price cuts were planned before Trump.)</a></span></span>,\n",
       " <span class=\"short-desc\"><strong>May 1 </strong>“First of all, since I started running, they haven't increased their — you know, they have not manipulated their currency. I think that was out of respect to me and the campaign.” <span class=\"short-truth\"><a href=\"https://www.nytimes.com/2017/04/07/world/asia/fact-check-trump-china-trade.html\" target=\"_blank\">(China stopped years ago.)</a></span></span>,\n",
       " <span class=\"short-desc\"><strong>May 2 </strong>“I love buying those planes at a reduced price. I have been really — I have cut billions — I have to tell you this, and they can check, right, Martha? I have cut billions and billions of dollars off plane contracts sitting here.” <span class=\"short-truth\"><a href=\"https://www.washingtonpost.com/news/fact-checker/wp/2017/01/31/trumps-claim-taking-credit-for-cutting-600-million-from-the-f-35-program/\" target=\"_blank\">(Much of the cost cuts were planned before Trump.)</a></span></span>,\n",
       " <span class=\"short-desc\"><strong>May 4 </strong>“Number two, they’re actually not a currency [manipulator]. You know, since I’ve been talking about currency manipulation with respect to them and other countries, they stopped.” <span class=\"short-truth\"><a href=\"https://www.nytimes.com/2017/04/07/world/asia/fact-check-trump-china-trade.html\" target=\"_blank\">(China stopped years ago.)</a></span></span>,\n",
       " <span class=\"short-desc\"><strong>May 4 </strong>“We’re the highest-taxed nation in the world.” <span class=\"short-truth\"><a href=\"http://www.politifact.com/truth-o-meter/statements/2016/may/08/donald-trump/donald-trump-us-not-highest-taxed-nation-in-world/\" target=\"_blank\">(We're not.)</a></span></span>,\n",
       " <span class=\"short-desc\"><strong>May 4 </strong>“Nobody cares about my tax return except for the reporters.” <span class=\"short-truth\"><a href=\"http://time.com/money/4732925/trump-tax-returns-released-poll/\" target=\"_blank\">(Polls show most Americans do care.)</a></span></span>,\n",
       " <span class=\"short-desc\"><strong>May 8 </strong>“You know we’ve gotten billions of dollars more in NATO than we’re getting. All because of me.” <span class=\"short-truth\"><a href=\"https://www.nytimes.com/2017/03/01/us/politics/fact-check-trump-military.html\" target=\"_blank\">(The deal was struck in 2014.)</a></span></span>,\n",
       " <span class=\"short-desc\"><strong>May 8 </strong>“But when I did his show, which by the way was very highly rated. It was high — highest rating. The highest rating he’s ever had.” <span class=\"short-truth\"><a href=\"http://money.cnn.com/2017/05/11/media/stephen-colbert-trump-no-talent-comment/\" target=\"_blank\">(Colbert's Late Show debut had nearly two million more viewers.)</a></span></span>,\n",
       " <span class=\"short-desc\"><strong>May 8 </strong>“Director Clapper reiterated what everybody, including the fake media already knows — there is ‘no evidence’ of collusion w/ Russia and Trump.” <span class=\"short-truth\"><a href=\"https://www.nytimes.com/2017/05/10/us/politics/fact-check-fbi-james-comey-sarah-huckabee-sanders.html\" target=\"_blank\">(Clapper only said he wasn't aware of an investigation.)</a></span></span>,\n",
       " <span class=\"short-desc\"><strong>May 12 </strong>“Again, the story that there was collusion between the Russians &amp; Trump campaign was fabricated by Dems as an excuse for losing the election.” <span class=\"short-truth\"><a href=\"https://www.nytimes.com/interactive/2017/05/10/us/politics/fbi-congress-trump-russia-investigations.html\" target=\"_blank\">(The F.B.I. was investigating before the election.)</a></span></span>,\n",
       " <span class=\"short-desc\"><strong>May 12 </strong>“When James Clapper himself, and virtually everyone else with knowledge of the witch hunt, says there is no collusion, when does it end?” <span class=\"short-truth\"><a href=\"https://www.nytimes.com/2017/05/10/us/politics/fact-check-fbi-james-comey-sarah-huckabee-sanders.html\" target=\"_blank\">(Clapper said he wouldn't have been told of an investigation into collusion.)</a></span></span>,\n",
       " <span class=\"short-desc\"><strong>May 13 </strong>“I'm cutting the price of airplanes with Lockheed.” <span class=\"short-truth\"><a href=\"https://www.washingtonpost.com/news/fact-checker/wp/2017/01/31/trumps-claim-taking-credit-for-cutting-600-million-from-the-f-35-program/\" target=\"_blank\">(The cost cuts were planned before he became president.)</a></span></span>,\n",
       " <span class=\"short-desc\"><strong>May 26 </strong>“Just arrived in Italy for the G7. Trip has been very successful. We made and saved the USA many billions of dollars and millions of jobs.” <span class=\"short-truth\"><a href=\"https://www.washingtonpost.com/news/fact-checker/wp/2017/05/26/president-trumps-claim-that-hes-already-saved-millions-of-jobs-on-his-foreign-trip/?utm_term=.820dd5955428\" target=\"_blank\">(He's referencing an arms deal that's not enacted and other apparent deals that weren't announced on the trip.)</a></span></span>,\n",
       " <span class=\"short-desc\"><strong>June 1 </strong>“China will be allowed to build hundreds of additional coal plants. So, we can’t build the plants, but they can, according to this agreement. India will be allowed to double its coal production by 2020.” <span class=\"short-truth\"><a href=\"https://www.washingtonpost.com/news/the-fix/wp/2017/06/01/transcript-president-trumps-remarks-on-leaving-the-paris-climate-deal-annotated/?utm_term=.7f974232c4ba\" target=\"_blank\">(The agreement doesn’t allow or disallow building coal plants.)</a></span></span>,\n",
       " <span class=\"short-desc\"><strong>June 1 </strong>“I’ve just returned from a trip overseas where we concluded nearly $350 billion of military and economic development for the United States, creating hundreds of thousands of jobs.” <span class=\"short-truth\"><a href=\"https://www.washingtonpost.com/news/fact-checker/wp/2017/06/08/the-trump-administrations-tally-of-350-billion-plus-in-deals-with-saudi-arabia/?utm_term=.142db3117855\" target=\"_blank\">(Trump’s figures are inflated and premature.)</a></span></span>,\n",
       " <span class=\"short-desc\"><strong>June 4 </strong>“At least 7 dead and 48 wounded in terror attack and Mayor of London says there is ‘no reason to be alarmed!’” <span class=\"short-truth\"><a href=\"http://www.snopes.com/2017/06/04/london-mayor-sadiq-khan-no-reason-to-be-alarmed-trump/\" target=\"_blank\">(The mayor was specifically talking about the enlarged police presence on the streets.)</a></span></span>,\n",
       " <span class=\"short-desc\"><strong>June 5 </strong>“The Justice Dept. should have stayed with the original Travel Ban, not the watered down, politically correct version they submitted to S.C.” <span class=\"short-truth\"><a href=\"http://www.factcheck.org/2017/06/trumps-tweets-twist-facts/\" target=\"_blank\">(Trump signed this version of the travel ban, not the Justice Department.)</a></span></span>,\n",
       " <span class=\"short-desc\"><strong>June 20 </strong>“Well, the Special Elections are over and those that want to MAKE AMERICA GREAT AGAIN are 5 and O!” <span class=\"short-truth\"><a href=\"https://www.washingtonpost.com/news/the-fix/wp/2017/06/21/republicans-claim-a-big-victory-and-trump-promptly-exaggerates-it/?utm_term=.ce22a6dade36\" target=\"_blank\">(Republicans have won four special elections this year, while a Democrat won one.)</a></span></span>,\n",
       " <span class=\"short-desc\"><strong>June 21 </strong>“They all say it's 'nonbinding.' Like hell it's nonbinding.” <span class=\"short-truth\"><a href=\"https://www.nytimes.com/2017/06/21/us/politics/trump-iowa-rally-venting-session.html\" target=\"_blank\">(The Paris climate agreement is nonbinding — and Trump said so in his speech announcing the withdrawal.)</a></span></span>,\n",
       " <span class=\"short-desc\"><strong>June 21 </strong>“Right now, we are one of the highest-taxed nations in the world.” <span class=\"short-truth\"><a href=\"http://www.politifact.com/truth-o-meter/article/2017/jun/22/fact-checking-nine-things-trump-overstated-got-wro/\" target=\"_blank\">(We're not.)</a></span></span>,\n",
       " <span class=\"short-desc\"><strong>June 21 </strong>“You have a gang called MS-13. ... We are moving them out of the country by the thousands, by the thousands.” <span class=\"short-truth\"><a href=\"http://www.factcheck.org/2017/06/factchecking-trumps-iowa-rally\" target=\"_blank\">(The real number of gang members deported is smaller.)</a></span></span>,\n",
       " <span class=\"short-desc\"><strong>June 21 </strong>“Your insurance companies have all fled the state of Iowa.” <span class=\"short-truth\"><a href=\"http://www.factcheck.org/2017/06/factchecking-trumps-iowa-rally/\" target=\"_blank\">(They haven't.)</a></span></span>,\n",
       " <span class=\"short-desc\"><strong>June 21 </strong>“If [farmers] have a puddle in the middle of their field ... it's considered a lake and you can't touch it. ... We got rid of that one, too, O.K.?” <span class=\"short-truth\"><a href=\"https://www.nytimes.com/2017/06/22/us/politics/factcheck-donald-trump-iowa-rally.html\" target=\"_blank\">(The Obama environmental rule to limit pollution in the country’s waters explicitly excludes puddles.)</a></span></span>,\n",
       " <span class=\"short-desc\"><strong>June 21 </strong>“Gary Cohn just paid $200 million in tax in order to take this job, by the way.” <span class=\"short-truth\"><a href=\"https://www.nytimes.com/2017/06/22/us/politics/factcheck-donald-trump-iowa-rally.html\" target=\"_blank\">(Cohn sold Goldman Sachs stock worth $220 million.)</a></span></span>,\n",
       " <span class=\"short-desc\"><strong>June 21 </strong>“We’re 5 and 0.” <span class=\"short-truth\"><a href=\"https://www.washingtonpost.com/graphics/politics/trump-claims-database/?utm_term=.60ce71155f60\" target=\"_blank\">(Republicans have won four special elections this year, while a Democrat won one.)</a></span></span>,\n",
       " <span class=\"short-desc\"><strong>June 21 </strong>“Last week a brand-new coal mine just opened in the state of Pennsylvania, first time in decades, decades.” <span class=\"short-truth\"><a href=\"https://www.washingtonpost.com/graphics/politics/trump-claims-database/?utm_term=.60ce71155f60\" target=\"_blank\">(Another coal mine opened in 2014.)</a></span></span>,\n",
       " <span class=\"short-desc\"><strong>June 22 </strong>“Former Homeland Security Advisor Jeh Johnson is latest top intelligence official to state there was no grand scheme between Trump &amp; Russia.” <span class=\"short-truth\"><a href=\"http://talkingpointsmemo.com/livewire/trump-claims-johnson-testimony-clears-him\" target=\"_blank\">(Johnson, who had a different title, didn't say that.)</a></span></span>,\n",
       " <span class=\"short-desc\"><strong>June 23 </strong>“We are 5 and 0 ... in these special elections.” <span class=\"short-truth\"><a href=\"http://www.chicagotribune.com/news/nationworld/politics/factcheck/ct-fact-check-trump-missions-20170624-story.html\" target=\"_blank\">(Republicans have won four special elections this year, while a Democrat won one.)</a></span></span>,\n",
       " <span class=\"short-desc\"><strong>June 27 </strong>“Ratings way down!” <span class=\"short-truth\"><a href=\"http://www.politifact.com/truth-o-meter/statements/2017/jul/03/donald-trump/trumps-pants-fire-claim-cnn-ratings-are-way-down/\" target=\"_blank\">(CNN's ratings were at a five-year high at the time.)</a></span></span>,\n",
       " <span class=\"short-desc\"><strong>June 28 </strong>“Democrats purposely misstated Medicaid under new Senate bill — actually goes up.” <span class=\"short-truth\"><a href=\"https://www.washingtonpost.com/news/fact-checker/wp/2017/06/30/president-trumps-claim-medicaid-spending-in-senate-health-bill-actually-goes-up/?utm_term=.a319dee54870\" target=\"_blank\">(Senate bill would have cut the program deeply.)</a></span></span>,\n",
       " <span class=\"short-desc\"><strong>June 29 </strong>“General Kelly and his whole group — they’ve gotten rid of 6,000 so far.” <span class=\"short-truth\"><a href=\"https://www.washingtonpost.com/graphics/politics/trump-claims-database/?utm_term=.aa961e129167\" target=\"_blank\">(The real number of MS-13 gang members who have been deported is smaller.)</a></span></span>,\n",
       " <span class=\"short-desc\"><strong>July 6 </strong>“As a result of this insistence, billions of dollars more have begun to pour into NATO.” <span class=\"short-truth\"><a href=\"http://www.nbcnews.com/politics/donald-trump/fact-check-long-trump-took-credit-nato-spending-was-n780241\" target=\"_blank\">(NATO countries agreed to meet defense spending requirements in 2014.)</a></span></span>,\n",
       " <span class=\"short-desc\"><strong>July 17 </strong>“We’ve signed more bills — and I’m talking about through the legislature — than any president, ever.” <span class=\"short-truth\"><a href=\"https://www.nytimes.com/2017/07/17/us/politics/trump-laws-bills.html\" target=\"_blank\">(Clinton, Carter, Truman, and F.D.R. had signed more at the same point.)</a></span></span>,\n",
       " <span class=\"short-desc\"><strong>July 19 </strong>“Um, the Russian investigation — it’s not an investigation, it’s not on me — you know, they’re looking at a lot of things.” <span class=\"short-truth\"><a href=\"http://time.com/4823514/donald-trump-investigation-jay-sekulow/\" target=\"_blank\">(It is.)</a></span></span>,\n",
       " <span class=\"short-desc\"><strong>July 19 </strong>“I heard that Harry Truman was first, and then we beat him. These are approved by Congress. These are not just executive orders.” <span class=\"short-truth\"><a href=\"https://www.nytimes.com/2017/07/17/us/politics/trump-laws-bills.html\" target=\"_blank\">(Presidents Clinton, Carter, Truman, and F.D.R. each had signed more legislation than Trump at the same point in their terms.)</a></span></span>,\n",
       " <span class=\"short-desc\"><strong>July 19 </strong>“But the F.B.I. person really reports directly to the president of the United States, which is interesting.” <span class=\"short-truth\"><a href=\"https://www.usatoday.com/story/news/politics/onpolitics/2017/07/20/fbi-director-reports-justice-department-not-president/495094001/\" target=\"_blank\">(He reports directly to the attorney general.)</a></span></span>,\n",
       " <span class=\"short-desc\"><strong>July 19 </strong>“She did the uranium deal, which is a horrible thing, while she was secretary of state, and got a lot of money.” <span class=\"short-truth\"><a href=\"http://www.factcheck.org/2017/10/facts-uranium-one/\" target=\"_blank\">(There's no evidence Hillary Clinton was actively involved or benefited from the deal.)</a></span></span>,\n",
       " <span class=\"short-desc\"><strong>July 24 </strong>“It looks like about 45,000 people. You set a record today.” <span class=\"short-truth\"><a href=\"https://www.washingtonpost.com/news/fact-checker/wp/2017/07/26/26-hours-29-trumpian-false-or-misleading-claims/?utm_term=.2e4b2407199f\" target=\"_blank\">(Many fewer than 45,000 were there, and the attendance was not a record.)</a></span></span>,\n",
       " <span class=\"short-desc\"><strong>July 25 </strong>“We have the highest taxes anywhere in the world, and this will really bring them down to one of the lowest.” <span class=\"short-truth\"><a href=\"http://www.politifact.com/truth-o-meter/statements/2017/oct/18/donald-trump/once-again-trump-overstates-us-tax-ranking/\" target=\"_blank\">(Tax rates in the United States are below average, overall and for an industrialized country.)</a></span></span>,\n",
       " <span class=\"short-desc\"><strong>July 25 </strong>“We’re the highest-taxed nation in the world” <span class=\"short-truth\"><a href=\"http://www.politifact.com/truth-o-meter/statements/2017/oct/18/donald-trump/once-again-trump-overstates-us-tax-ranking/\" target=\"_blank\">(We're not.)</a></span></span>,\n",
       " <span class=\"short-desc\"><strong>July 25 </strong>“We have nearly doubled the number of veterans given approvals to see the doctor of their choice.” <span class=\"short-truth\"><a href=\"https://www.usatoday.com/story/opinion/2017/07/24/veterans-health-care-will-not-be-privatized-david-shulkin-column/499417001/\" target=\"_blank\">(The increase was 26 percent.)</a></span></span>,\n",
       " <span class=\"short-desc\"><strong>July 25 </strong>“Since I took office we have cut illegal immigration on our southern border by record numbers. 78 percent.” <span class=\"short-truth\"><a href=\"https://www.nytimes.com/interactive/2017/10/12/us/politics/trump-border-claim-factcheck.html?_r=0\" target=\"_blank\">(The decline began before Trump's inauguration.)</a></span></span>,\n",
       " <span class=\"short-desc\"><strong>July 28 </strong>“The previous administration enacted an open-door policy to illegal migrants from Central America.  \"Welcome in. Come in, please, please.” <span class=\"short-truth\"><a href=\"http://www.politifact.com/truth-o-meter/article/2017/jul/28/fact-checking-donald-trumps-ny-speech-law-enforcem/\" target=\"_blank\">(Obama deported millions.)</a></span></span>,\n",
       " <span class=\"short-desc\"><strong>July 28 </strong>“We have trade deficits with almost every country because we had a lot of really bad negotiators making deals with other countries.” <span class=\"short-truth\"><a href=\"https://www.bea.gov/newsreleases/international/trade/2017/trad0917.htm\" target=\"_blank\">(The U.S. has a trade surplus with more than 100 countries.)</a></span></span>,\n",
       " <span class=\"short-desc\"><strong>July 31 </strong>“2.6 is a number that nobody thought they’d see for a long period of time.” <span class=\"short-truth\"><a href=\"http://www.factcheck.org/2017/08/trumps-gdp-puffery/\" target=\"_blank\">(Many experts predicted economic growth at least this high.)</a></span></span>,\n",
       " <span class=\"short-desc\"><strong>July 31 </strong>“And even the President of Mexico called me  – they said their southern border, very few people are coming because they know they’re not going to get through our border, which is the ultimate compliment.” <span class=\"short-truth\"><a href=\"http://www.cnn.com/2017/08/02/politics/trump-phone-calls/index.html\" target=\"_blank\">(Mexico's president says he didn't call Trump.)</a></span></span>,\n",
       " <span class=\"short-desc\"><strong>Aug. 1 </strong>“And I think to me, maybe the biggest is that GDP for the quarter just released at 2.6 percent. So that's so much higher than anticipated.” <span class=\"short-truth\"><a href=\"http://www.factcheck.org/2017/08/trumps-gdp-puffery/\" target=\"_blank\">(It wasn't.)</a></span></span>,\n",
       " <span class=\"short-desc\"><strong>Aug. 3 </strong>“Economic growth has surged to 2.6% nationwide. You have to understand what that means. Nobody thought that number was going to happen.” <span class=\"short-truth\"><a href=\"https://www.usatoday.com/story/news/politics/2017/08/04/fact-checking-donald-trumps-west-virginia-rally/541318001/\" target=\"_blank\">(Many experts predicted that.)</a></span></span>,\n",
       " <span class=\"short-desc\"><strong>Aug. 3 </strong>“The Russia story is a total fabrication.” <span class=\"short-truth\"><a href=\"https://www.washingtonpost.com/news/fact-checker/wp/2017/08/03/fact-checking-the-trump-russia-investigation/?utm_term=.1404a36076a6\" target=\"_blank\">(It's not.)</a></span></span>,\n",
       " <span class=\"short-desc\"><strong>Aug. 3 </strong>“Or let them look at the uranium she sold that is now in the hands of very angry Russians.” <span class=\"short-truth\"><a href=\"http://www.factcheck.org/2017/08/factchecking-trumps-west-virginia-rally/\" target=\"_blank\">(There's no evidence Hillary Clinton was actively involved in the sale.)</a></span></span>,\n",
       " <span class=\"short-desc\"><strong>Aug. 15 </strong>“We want products made in the country. Now, I have to tell you, some of the folks that will leave, they're leaving out of embarrassment because they make their products outside.” <span class=\"short-truth\"><a href=\"http://money.cnn.com/2017/08/16/news/trump-manufacturing-council-ceos/index.html\" target=\"_blank\">(People resigned from Trump's business councils over his Charlottesville comments.)</a></span></span>,\n",
       " <span class=\"short-desc\"><strong>Aug. 22 </strong>“Remember, everybody said you won’t bring it up to 1 percent. You won’t bring it up to 1.2 percent.” <span class=\"short-truth\"><a href=\"https://washingtonmonthly.com/2017/08/23/quick-takes-how-many-lies-did-trump-tell-last-night/\" target=\"_blank\">(Many experts predicted economic growth at least this high.)</a></span></span>,\n",
       " <span class=\"short-desc\"><strong>Aug. 22 </strong>“I mean truly dishonest people in the media and the fake media, they make up stories. They have no sources in many cases. They say 'a source says'  – there is no such thing.” <span class=\"short-truth\"><a href=\"http://www.factcheck.org/2017/02/factchecking-trumps-cpac-speech/\" target=\"_blank\">(The media does not make up sources.)</a></span></span>,\n",
       " <span class=\"short-desc\"><strong>Aug. 22 </strong>“As everybody here remembers, this was the scene of my first rally speech, right?” <span class=\"short-truth\"><a href=\"https://www.realclearpolitics.com/articles/2015/06/18/at_trumps_nh_rally_true_believers_and_big_fans_127030.html\" target=\"_blank\">(Trump's first rally was in New Hampshire)</a></span></span>,\n",
       " <span class=\"short-desc\"><strong>Aug. 22 </strong>“We have become an energy exporter for the first time ever just recently.” <span class=\"short-truth\"><a href=\"http://www.politifact.com/truth-o-meter/statements/2017/aug/23/donald-trump/donald-trump-wrongly-says-us-net-energy-exporte/\" target=\"_blank\">(The U.S. isn't projected to become a net energy exporter until 2026.)</a></span></span>,\n",
       " <span class=\"short-desc\"><strong>Aug. 22 </strong>“Look back there, the live red lights. They're turning those suckers off fast out there. They're turning those lights off fast. Like CNN.” <span class=\"short-truth\"><a href=\"http://www.cnn.com/2017/08/23/politics/phoenix-rally-things-trump-got-wrong/index.html\" target=\"_blank\">(CNN didn't turn off its cameras.)</a></span></span>,\n",
       " <span class=\"short-desc\"><strong>Sept. 6 </strong>“The taxes are crazy  – the highest-taxed nation in the world.” <span class=\"short-truth\"><a href=\"http://www.politifact.com/truth-o-meter/statements/2016/may/08/donald-trump/donald-trump-us-not-highest-taxed-nation-in-world/\" target=\"_blank\">(We're not.)</a></span></span>,\n",
       " <span class=\"short-desc\"><strong>Sept. 6 </strong>“We are the highest taxed nation in the world - that will change.” <span class=\"short-truth\"><a href=\"http://www.politifact.com/truth-o-meter/statements/2016/may/08/donald-trump/donald-trump-us-not-highest-taxed-nation-in-world/\" target=\"_blank\">(We're not.)</a></span></span>,\n",
       " <span class=\"short-desc\"><strong>Sept. 8 </strong>“Our incredible U.S. Coast Guard saved more than 15,000 lives last week with Harvey.” <span class=\"short-truth\"><a href=\"https://content.govdelivery.com/accounts/USDHSCG/bulletins/1b5ace3\" target=\"_blank\">(The real number is 11,022.)</a></span></span>,\n",
       " <span class=\"short-desc\"><strong>Sept. 14 </strong>“Also with the fact that I know in the case of FEMA and the case of Coast Guard, the job you've done in saving people, saving lives.  As an example, in Harvey in Texas, we talked  – over 16,000 lives.” <span class=\"short-truth\"><a href=\"https://content.govdelivery.com/accounts/USDHSCG/bulletins/1b5ace3\" target=\"_blank\">(The real number is smaller.)</a></span></span>,\n",
       " <span class=\"short-desc\"><strong>Sept. 14 </strong>“And in Florida you got hit with the strongest winds ever recorded.” <span class=\"short-truth\"><a href=\"https://www.washingtonpost.com/news/post-nation/wp/2017/09/09/destructive-winds-rain-hit-florida-as-hurricane-irma-approaches/\" target=\"_blank\">(They weren't the strongest ever recorded.)</a></span></span>,\n",
       " <span class=\"short-desc\"><strong>Sept. 22 </strong>“We've been dealing with ICE, we've been dealing with the Border Patrol. They both endorsed me.” <span class=\"short-truth\"><a href=\"http://www.politifact.com/truth-o-meter/statements/2016/oct/10/donald-trump/trump-says-ice-endorsed-him/\" target=\"_blank\">(Neither agency endorsed him; only their unions did.)</a></span></span>,\n",
       " <span class=\"short-desc\"><strong>Sept. 22 </strong>“So he started off here, he was in third or fourth, he went to third, second, and now it's like almost pretty even.” <span class=\"short-truth\"><a href=\"https://www.realclearpolitics.com/epolls/2017/senate/al/alabama_senate_special_election_republican_primary-6220.html#polls\" target=\"_blank\">(Strange consistently polled first or second in the Alabama Republican primary.)</a></span></span>,\n",
       " <span class=\"short-desc\"><strong>Sept. 29 </strong>“With the F-35 fighter plane  – me, myself  – I've saved hundreds of millions of dollars in negotiating.” <span class=\"short-truth\"><a href=\"https://www.washingtonpost.com/news/fact-checker/wp/2017/01/31/trumps-claim-taking-credit-for-cutting-600-million-from-the-f-35-program/?utm_term=.ef182851faef\" target=\"_blank\">(The cost cuts were planned before he became president.)</a></span></span>,\n",
       " <span class=\"short-desc\"><strong>Sept. 27 </strong>“I’m doing the right thing, and it’s not good for me.” <span class=\"short-truth\"><a href=\"https://www.washingtonpost.com/news/fact-checker/wp/2017/09/28/fact-checking-president-trumps-tax-speech-in-indianapolis/?utm_term=.1c2a17457496\" target=\"_blank\">(All available evidence suggests he would benefit.)</a></span></span>,\n",
       " <span class=\"short-desc\"><strong>Sept. 27 </strong>“To protect millions of small businesses and the American farmer, we are finally ending the crushing, the horrible, the unfair estate tax.” <span class=\"short-truth\"><a href=\"http://www.politifact.com/truth-o-meter/statements/2017/sep/28/donald-trump/donald-trumps-pants-fire-claim-about-estate-tax-sm/\" target=\"_blank\">(The real number of small businesses and farmers is vastly smaller.)</a></span></span>,\n",
       " <span class=\"short-desc\"><strong>Sept. 27 </strong>“No, I don't benefit. I don't benefit. In fact, very very strongly, as you see, I think there's very little benefit for people of wealth.” <span class=\"short-truth\"><a href=\"http://www.politifact.com/truth-o-meter/statements/2017/sep/28/donald-trump/donald-trumps-dubious-claim-his-tax-plan-wont-bene/\" target=\"_blank\">(The tax plan would personally benefit Trump and other wealthy individuals.)</a></span></span>,\n",
       " <span class=\"short-desc\"><strong>Sept. 27 </strong>“Facebook was always anti-Trump.The Networks were always anti-Trump hence,Fake News, @nytimes(apologized) &amp; @WaPo were anti-Trump.” <span class=\"short-truth\"><a href=\"https://www.nytimes.com/2016/11/13/us/elections/to-our-readers-from-the-publisher-and-executive-editor.html\" target=\"_blank\">(The Times did not apologize for its Trump coverage.)</a></span></span>,\n",
       " <span class=\"short-desc\"><strong>Sept. 28 </strong>“I mean right now, we're the highest-taxed nation in the world.” <span class=\"short-truth\"><a href=\"http://www.politifact.com/truth-o-meter/statements/2016/may/08/donald-trump/donald-trump-us-not-highest-taxed-nation-in-world/\" target=\"_blank\">(We're not.)</a></span></span>,\n",
       " <span class=\"short-desc\"><strong>Oct. 3 </strong>“But the Coast Guard itself saved in Texas 16,000 lives, and they went right through that hurricane.” <span class=\"short-truth\"><a href=\"https://content.govdelivery.com/accounts/USDHSCG/bulletins/1b5ace3\" target=\"_blank\">(The real number is smaller.)</a></span></span>,\n",
       " <span class=\"short-desc\"><strong>Oct. 3 </strong>“But that's an expensive plane that you can't see. And as you probably heard, we cut the price very substantially  – something that other administrations would never have done, that I can tell you.” <span class=\"short-truth\"><a href=\"https://www.washingtonpost.com/news/fact-checker/wp/2017/01/31/trumps-claim-taking-credit-for-cutting-600-million-from-the-f-35-program/?utm_term=.ef182851faef\" target=\"_blank\">(The cost cuts were planned before he became president.)</a></span></span>,\n",
       " <span class=\"short-desc\"><strong>Oct. 6 </strong>“I was able to reduce the price of the Lockheed by billions of dollars.” <span class=\"short-truth\"><a href=\"https://www.washingtonpost.com/news/fact-checker/wp/2017/01/31/trumps-claim-taking-credit-for-cutting-600-million-from-the-f-35-program/?utm_term=.ef182851faef\" target=\"_blank\">(The cost cuts were planned before he became president.)</a></span></span>,\n",
       " <span class=\"short-desc\"><strong>Oct. 6 </strong>“We're the highest-taxed developed nation in the world, probably the highest-taxed nation in the world.” <span class=\"short-truth\"><a href=\"http://www.politifact.com/truth-o-meter/statements/2016/may/08/donald-trump/donald-trump-us-not-highest-taxed-nation-in-world/\" target=\"_blank\">(We're not.)</a></span></span>,\n",
       " <span class=\"short-desc\"><strong>Oct. 6 </strong>“They also just said that there has been absolutely no collusion. They just said that. Yesterday. Two days ago. Senate. There has been no collusion.” <span class=\"short-truth\"><a href=\"http://www.cnn.com/TRANSCRIPTS/1710/04/ip.02.html\" target=\"_blank\">(The Senate didn't say that.)</a></span></span>,\n",
       " <span class=\"short-desc\"><strong>Oct. 6 </strong>“This tax cut and tax reform is going very well, and it's going to be a tremendous boost for our country, including the fact that we're the highest-taxed nation in the world.” <span class=\"short-truth\"><a href=\"http://www.politifact.com/truth-o-meter/statements/2016/may/08/donald-trump/donald-trump-us-not-highest-taxed-nation-in-world/\" target=\"_blank\">(We're not.)</a></span></span>,\n",
       " <span class=\"short-desc\"><strong>Oct. 7 </strong>“We're the highest-taxed nation in the world.” <span class=\"short-truth\"><a href=\"http://www.politifact.com/truth-o-meter/statements/2016/may/08/donald-trump/donald-trump-us-not-highest-taxed-nation-in-world/\" target=\"_blank\">(We're not.)</a></span></span>,\n",
       " <span class=\"short-desc\"><strong>Oct. 7 </strong>“The Coast Guard, in Texas, and all over, but with the job they did in Texas, I saw, they saved 16,000 lives.” <span class=\"short-truth\"><a href=\"https://content.govdelivery.com/accounts/USDHSCG/bulletins/1b5ace3\" target=\"_blank\">(The real number is smaller.)</a></span></span>,\n",
       " <span class=\"short-desc\"><strong>Oct. 7 </strong>“Obama should have never gotten out the way he got out. That's how ISIS formed.” <span class=\"short-truth\"><a href=\"https://www.nytimes.com/2015/11/19/world/middleeast/in-rise-of-isis-no-single-missed-key-but-many-strands-of-blame.html\" target=\"_blank\">(The group’s origins date to 2004.)</a></span></span>,\n",
       " <span class=\"short-desc\"><strong>Oct. 10 </strong>“The Failing @nytimes set Liddle' Bob Corker up by recording his conversation. Was made to sound a fool, and that's what I am dealing with!” <span class=\"short-truth\"><a href=\"https://www.nytimes.com/2017/10/10/reader-center/trump-claims-we-tricked-bob-corker-heres-the-truth.html?_r=0\" target=\"_blank\">(Corker asked the Times reporter to record the call; his aides recorded it too.)</a></span></span>,\n",
       " <span class=\"short-desc\"><strong>Oct. 10 </strong>“We're the highest-taxed nation in the world.” <span class=\"short-truth\"><a href=\"http://www.politifact.com/truth-o-meter/statements/2016/may/08/donald-trump/donald-trump-us-not-highest-taxed-nation-in-world/\" target=\"_blank\">(We're not.)</a></span></span>,\n",
       " <span class=\"short-desc\"><strong>Oct. 11 </strong>“We have missiles that can knock out a missile in the air. Ninety seven per cent of the time. If you send two of them, it's going to get knocked out.” <span class=\"short-truth\"><a href=\"https://warontherocks.com/2017/10/deadly-overconfidence-trump-thinks-missile-defenses-work-against-north-korea-and-that-should-scare-you/\" target=\"_blank\">(The effectiveness rate is about 60 percent.)</a></span></span>,\n",
       " <span class=\"short-desc\"><strong>Oct. 16 </strong>“We're the highest-taxed country in the world.” <span class=\"short-truth\"><a href=\"http://www.politifact.com/truth-o-meter/statements/2016/may/08/donald-trump/donald-trump-us-not-highest-taxed-nation-in-world/\" target=\"_blank\">(We're not.)</a></span></span>,\n",
       " <span class=\"short-desc\"><strong>Oct. 16 </strong>“I hear that Ireland is going to be reducing their corporate rates down to 8 percent from 12.” <span class=\"short-truth\"><a href=\"https://www.snopes.com/trump-ireland-tax/\" target=\"_blank\">(Ireland has no plans to cut its tax rate.)</a></span></span>,\n",
       " <span class=\"short-desc\"><strong>Oct. 16 </strong>“If you look at President Obama and other presidents, most of them didn’t make calls.” <span class=\"short-truth\"><a href=\"https://www.nytimes.com/2017/10/16/us/politics/trump-obama-killed-soldiers.html\" target=\"_blank\">(They did call families of soldiers killed in action.)</a></span></span>,\n",
       " <span class=\"short-desc\"><strong>Oct. 16 </strong>“All I can say is it's totally fake news, just fake. It's fake. It's made-up stuff, and it's disgraceful what happens, but that happens in the world of politics.” <span class=\"short-truth\"><a href=\"https://www.washingtonpost.com/news/fact-checker/wp/2017/10/27/trump-says-sex-harassment-claims-are-fake-news-but-there-are-corroborators/?utm_term=.23c3b28384e2\" target=\"_blank\">(Trump himself has bragged about groping women.)</a></span></span>,\n",
       " <span class=\"short-desc\"><strong>Oct. 17 </strong>“We're the highest taxed nation in the world.” <span class=\"short-truth\"><a href=\"http://www.politifact.com/truth-o-meter/statements/2016/may/08/donald-trump/donald-trump-us-not-highest-taxed-nation-in-world/\" target=\"_blank\">(We're not.)</a></span></span>,\n",
       " <span class=\"short-desc\"><strong>Oct. 17 </strong>“Right now, we are the highest-taxed nation anywhere in the world. You can even say developed or undeveloped.” <span class=\"short-truth\"><a href=\"http://www.politifact.com/truth-o-meter/statements/2016/may/08/donald-trump/donald-trump-us-not-highest-taxed-nation-in-world/\" target=\"_blank\">(We're not.)</a></span></span>,\n",
       " <span class=\"short-desc\"><strong>Oct. 17 </strong>“As far as I'm concerned, I think we're really essentially the highest. But if you'd like to add the developed nation, you can say that, too.” <span class=\"short-truth\"><a href=\"http://www.politifact.com/truth-o-meter/statements/2016/may/08/donald-trump/donald-trump-us-not-highest-taxed-nation-in-world/\" target=\"_blank\">(Taxes in the U.S. are lower than in most developed countries.)</a></span></span>,\n",
       " <span class=\"short-desc\"><strong>Oct. 17 </strong>“We're the highest-taxed nation in the world. We are taxed beyond belief.” <span class=\"short-truth\"><a href=\"http://www.politifact.com/truth-o-meter/statements/2016/may/08/donald-trump/donald-trump-us-not-highest-taxed-nation-in-world/\" target=\"_blank\">(We're not.)</a></span></span>,\n",
       " <span class=\"short-desc\"><strong>Oct. 17 </strong>“Well, we're the highest-taxed nation in the world.” <span class=\"short-truth\"><a href=\"http://www.politifact.com/truth-o-meter/statements/2016/may/08/donald-trump/donald-trump-us-not-highest-taxed-nation-in-world/\" target=\"_blank\">(We're not.)</a></span></span>,\n",
       " <span class=\"short-desc\"><strong>Oct. 17 </strong>“I wish President Obama didn't get out the way he got out. Because that left a vacuum and ISIS was formed.” <span class=\"short-truth\"><a href=\"https://www.nytimes.com/2015/11/19/world/middleeast/in-rise-of-isis-no-single-missed-key-but-many-strands-of-blame.html\" target=\"_blank\">(The group’s origins date to 2004.)</a></span></span>,\n",
       " <span class=\"short-desc\"><strong>Oct. 18 </strong>“Democrat Congresswoman totally fabricated what I said to the wife of a soldier who died in action (and I have proof).” <span class=\"short-truth\"><a href=\"http://time.com/4993045/myeshia-johnson-donald-trump-frederica-wilson/\" target=\"_blank\">(The wife confirmed Representative Frederica Wilson's account.)</a></span></span>,\n",
       " <span class=\"short-desc\"><strong>Oct. 18 </strong>“The Coast Guard in Texas saved 16,000 lives.” <span class=\"short-truth\"><a href=\"https://content.govdelivery.com/accounts/USDHSCG/bulletins/1b5ace3\" target=\"_blank\">(The real number was smaller.)</a></span></span>,\n",
       " <span class=\"short-desc\"><strong>Oct. 18 </strong>“Nobody has ever heard of a five hitting land.” <span class=\"short-truth\"><a href=\"http://www.cnn.com/2017/09/07/us/three-category-5-hurricanes-landfall-trnd/index.html\" target=\"_blank\">(Category 5 storms have hit land before.)</a></span></span>,\n",
       " <span class=\"short-desc\"><strong>Oct. 24 </strong>“Under our plan, more than 30 million Americans who own small businesses will get a 40 per cent cut to their top marginal tax rate.” <span class=\"short-truth\"><a href=\"http://www.businessinsider.com/trump-small-business-tax-cut-pass-through-s-corporations-2017-10\" target=\"_blank\">(The real number is estimated to be less than 1 million.)</a></span></span>,\n",
       " <span class=\"short-desc\"><strong>Oct. 25 </strong>“We have trade deficits with almost everybody.” <span class=\"short-truth\"><a href=\"https://www.bea.gov/newsreleases/international/trade/2017/trad0917.htm\" target=\"_blank\">(We have trade surpluses with more than 100 countries.)</a></span></span>,\n",
       " <span class=\"short-desc\"><strong>Oct. 27 </strong>“Wacky &amp; totally unhinged Tom Steyer, who has been fighting me and my Make America Great Again agenda from beginning, never wins elections!” <span class=\"short-truth\"><a href=\"https://www.opensecrets.org/donor-lookup/results?name=Thomas+Steyer\" target=\"_blank\">(Steyer has financially supported many winning candidates.)</a></span></span>,\n",
       " <span class=\"short-desc\"><strong>Nov. 1 </strong>“Again, we're the highest-taxed nation, just about, in the world.” <span class=\"short-truth\"><a href=\"http://www.politifact.com/truth-o-meter/statements/2016/may/08/donald-trump/donald-trump-us-not-highest-taxed-nation-in-world/\" target=\"_blank\">(We're not.)</a></span></span>,\n",
       " <span class=\"short-desc\"><strong>Nov. 7 </strong>“When you look at the city with the strongest gun laws in our nation, it's Chicago.” <span class=\"short-truth\"><a href=\"http://www.politifact.com/truth-o-meter/statements/2017/nov/07/donald-trump/trump-wrongly-repeats-chicago-has-strongest-gun-la/\" target=\"_blank\">(Several other cities, including New York and Los Angeles, have stronger gun laws.)</a></span></span>,\n",
       " <span class=\"short-desc\"><strong>Nov. 11 </strong>“I'd rather have him  – you know, work with him on the Ukraine than standing and arguing about whether or not  – because that whole thing was set up by the Democrats.” <span class=\"short-truth\"><a href=\"https://www.nytimes.com/interactive/2017/12/10/us/politics/trump-and-russia.html\" target=\"_blank\">(There is no evidence that Democrats \"set up\" Russian interference in the election.)</a></span></span>]"
      ]
     },
     "execution_count": 194,
     "metadata": {},
     "output_type": "execute_result"
    }
   ],
   "source": [
    "results"
   ]
  },
  {
   "cell_type": "code",
   "execution_count": 197,
   "metadata": {
    "collapsed": true
   },
   "outputs": [
    {
     "name": "stdout",
     "output_type": "stream",
     "text": [
      "Nov. 11 \n",
      " I'd rather have him  – you know, work with him on the Ukraine than standing and arguing about whether or not  – because that whole thing was set up by the Democrats. \n",
      " There is no evidence that Democrats \"set up\" Russian interference in the election. \n",
      " https://www.nytimes.com/interactive/2017/12/10/us/politics/trump-and-russia.html\n"
     ]
    }
   ],
   "source": [
    "DATE = results[179].find('strong').text[:-1]\n",
    "LIE = results[179].contents[1][1:-2]\n",
    "EXP = results[179].find('a').text[1:-1]\n",
    "URL = results[179].find('a')['href']\n",
    "print(DATE,'\\n',LIE,'\\n',EXP,'\\n',URL)"
   ]
  },
  {
   "cell_type": "code",
   "execution_count": 201,
   "metadata": {},
   "outputs": [],
   "source": [
    "#write a loop and collect all the 180 blocks together\n",
    "l1 = []\n",
    "for i in range(len(results)):\n",
    "    DATE = results[i].find('strong').text[:-1]\n",
    "    LIE = results[i].contents[1][1:-2]\n",
    "    EXP = results[i].find('a').text[1:-1]\n",
    "    URL = results[i].find('a')['href']\n",
    "    l1.append((DATE,LIE,EXP,URL))"
   ]
  },
  {
   "cell_type": "code",
   "execution_count": 205,
   "metadata": {},
   "outputs": [],
   "source": [
    "import pandas as pd"
   ]
  },
  {
   "cell_type": "code",
   "execution_count": 206,
   "metadata": {},
   "outputs": [],
   "source": [
    "df = pd.DataFrame(l1)"
   ]
  },
  {
   "cell_type": "code",
   "execution_count": 209,
   "metadata": {},
   "outputs": [],
   "source": [
    "df.columns = ['Date','Lie','Explanation','URL']"
   ]
  },
  {
   "cell_type": "code",
   "execution_count": 210,
   "metadata": {
    "collapsed": true
   },
   "outputs": [
    {
     "data": {
      "text/html": [
       "<div>\n",
       "<style scoped>\n",
       "    .dataframe tbody tr th:only-of-type {\n",
       "        vertical-align: middle;\n",
       "    }\n",
       "\n",
       "    .dataframe tbody tr th {\n",
       "        vertical-align: top;\n",
       "    }\n",
       "\n",
       "    .dataframe thead th {\n",
       "        text-align: right;\n",
       "    }\n",
       "</style>\n",
       "<table border=\"1\" class=\"dataframe\">\n",
       "  <thead>\n",
       "    <tr style=\"text-align: right;\">\n",
       "      <th></th>\n",
       "      <th>Date</th>\n",
       "      <th>Lie</th>\n",
       "      <th>Explanation</th>\n",
       "      <th>URL</th>\n",
       "    </tr>\n",
       "  </thead>\n",
       "  <tbody>\n",
       "    <tr>\n",
       "      <th>0</th>\n",
       "      <td>Jan. 21</td>\n",
       "      <td>I wasn't a fan of Iraq. I didn't want to go in...</td>\n",
       "      <td>He was for an invasion before he was against it.</td>\n",
       "      <td>https://www.buzzfeed.com/andrewkaczynski/in-20...</td>\n",
       "    </tr>\n",
       "    <tr>\n",
       "      <th>1</th>\n",
       "      <td>Jan. 21</td>\n",
       "      <td>A reporter for Time magazine — and I have been...</td>\n",
       "      <td>Trump was on the cover 11 times and Nixon appe...</td>\n",
       "      <td>http://nation.time.com/2013/11/06/10-things-yo...</td>\n",
       "    </tr>\n",
       "    <tr>\n",
       "      <th>2</th>\n",
       "      <td>Jan. 23</td>\n",
       "      <td>Between 3 million and 5 million illegal votes ...</td>\n",
       "      <td>There's no evidence of illegal voting.</td>\n",
       "      <td>https://www.nytimes.com/2017/01/23/us/politics...</td>\n",
       "    </tr>\n",
       "    <tr>\n",
       "      <th>3</th>\n",
       "      <td>Jan. 25</td>\n",
       "      <td>Now, the audience was the biggest ever. But th...</td>\n",
       "      <td>Official aerial photos show Obama's 2009 inaug...</td>\n",
       "      <td>https://www.nytimes.com/2017/01/21/us/politics...</td>\n",
       "    </tr>\n",
       "    <tr>\n",
       "      <th>4</th>\n",
       "      <td>Jan. 25</td>\n",
       "      <td>Take a look at the Pew reports (which show vot...</td>\n",
       "      <td>The report never mentioned voter fraud.</td>\n",
       "      <td>https://www.nytimes.com/2017/01/24/us/politics...</td>\n",
       "    </tr>\n",
       "    <tr>\n",
       "      <th>...</th>\n",
       "      <td>...</td>\n",
       "      <td>...</td>\n",
       "      <td>...</td>\n",
       "      <td>...</td>\n",
       "    </tr>\n",
       "    <tr>\n",
       "      <th>175</th>\n",
       "      <td>Oct. 25</td>\n",
       "      <td>We have trade deficits with almost everybody.</td>\n",
       "      <td>We have trade surpluses with more than 100 cou...</td>\n",
       "      <td>https://www.bea.gov/newsreleases/international...</td>\n",
       "    </tr>\n",
       "    <tr>\n",
       "      <th>176</th>\n",
       "      <td>Oct. 27</td>\n",
       "      <td>Wacky &amp; totally unhinged Tom Steyer, who has b...</td>\n",
       "      <td>Steyer has financially supported many winning ...</td>\n",
       "      <td>https://www.opensecrets.org/donor-lookup/resul...</td>\n",
       "    </tr>\n",
       "    <tr>\n",
       "      <th>177</th>\n",
       "      <td>Nov. 1</td>\n",
       "      <td>Again, we're the highest-taxed nation, just ab...</td>\n",
       "      <td>We're not.</td>\n",
       "      <td>http://www.politifact.com/truth-o-meter/statem...</td>\n",
       "    </tr>\n",
       "    <tr>\n",
       "      <th>178</th>\n",
       "      <td>Nov. 7</td>\n",
       "      <td>When you look at the city with the strongest g...</td>\n",
       "      <td>Several other cities, including New York and L...</td>\n",
       "      <td>http://www.politifact.com/truth-o-meter/statem...</td>\n",
       "    </tr>\n",
       "    <tr>\n",
       "      <th>179</th>\n",
       "      <td>Nov. 11</td>\n",
       "      <td>I'd rather have him  – you know, work with him...</td>\n",
       "      <td>There is no evidence that Democrats \"set up\" R...</td>\n",
       "      <td>https://www.nytimes.com/interactive/2017/12/10...</td>\n",
       "    </tr>\n",
       "  </tbody>\n",
       "</table>\n",
       "<p>180 rows × 4 columns</p>\n",
       "</div>"
      ],
      "text/plain": [
       "        Date                                                Lie  \\\n",
       "0    Jan. 21  I wasn't a fan of Iraq. I didn't want to go in...   \n",
       "1    Jan. 21  A reporter for Time magazine — and I have been...   \n",
       "2    Jan. 23  Between 3 million and 5 million illegal votes ...   \n",
       "3    Jan. 25  Now, the audience was the biggest ever. But th...   \n",
       "4    Jan. 25  Take a look at the Pew reports (which show vot...   \n",
       "..       ...                                                ...   \n",
       "175  Oct. 25      We have trade deficits with almost everybody.   \n",
       "176  Oct. 27  Wacky & totally unhinged Tom Steyer, who has b...   \n",
       "177   Nov. 1  Again, we're the highest-taxed nation, just ab...   \n",
       "178   Nov. 7  When you look at the city with the strongest g...   \n",
       "179  Nov. 11  I'd rather have him  – you know, work with him...   \n",
       "\n",
       "                                           Explanation  \\\n",
       "0     He was for an invasion before he was against it.   \n",
       "1    Trump was on the cover 11 times and Nixon appe...   \n",
       "2               There's no evidence of illegal voting.   \n",
       "3    Official aerial photos show Obama's 2009 inaug...   \n",
       "4              The report never mentioned voter fraud.   \n",
       "..                                                 ...   \n",
       "175  We have trade surpluses with more than 100 cou...   \n",
       "176  Steyer has financially supported many winning ...   \n",
       "177                                         We're not.   \n",
       "178  Several other cities, including New York and L...   \n",
       "179  There is no evidence that Democrats \"set up\" R...   \n",
       "\n",
       "                                                   URL  \n",
       "0    https://www.buzzfeed.com/andrewkaczynski/in-20...  \n",
       "1    http://nation.time.com/2013/11/06/10-things-yo...  \n",
       "2    https://www.nytimes.com/2017/01/23/us/politics...  \n",
       "3    https://www.nytimes.com/2017/01/21/us/politics...  \n",
       "4    https://www.nytimes.com/2017/01/24/us/politics...  \n",
       "..                                                 ...  \n",
       "175  https://www.bea.gov/newsreleases/international...  \n",
       "176  https://www.opensecrets.org/donor-lookup/resul...  \n",
       "177  http://www.politifact.com/truth-o-meter/statem...  \n",
       "178  http://www.politifact.com/truth-o-meter/statem...  \n",
       "179  https://www.nytimes.com/interactive/2017/12/10...  \n",
       "\n",
       "[180 rows x 4 columns]"
      ]
     },
     "execution_count": 210,
     "metadata": {},
     "output_type": "execute_result"
    }
   ],
   "source": [
    "df"
   ]
  },
  {
   "cell_type": "code",
   "execution_count": 212,
   "metadata": {},
   "outputs": [],
   "source": [
    "#df.to_csv('Trump_Lies.csv',index=False)\n",
    "df.to_excel('Webscrapping.xlsx',sheet_name='Trump',index=False)"
   ]
  },
  {
   "cell_type": "code",
   "execution_count": null,
   "metadata": {},
   "outputs": [],
   "source": []
  }
 ],
 "metadata": {
  "kernelspec": {
   "display_name": "Python 3",
   "language": "python",
   "name": "python3"
  },
  "language_info": {
   "codemirror_mode": {
    "name": "ipython",
    "version": 3
   },
   "file_extension": ".py",
   "mimetype": "text/x-python",
   "name": "python",
   "nbconvert_exporter": "python",
   "pygments_lexer": "ipython3",
   "version": "3.7.7"
  }
 },
 "nbformat": 4,
 "nbformat_minor": 4
}
